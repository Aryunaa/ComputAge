{
 "cells": [
  {
   "cell_type": "code",
   "execution_count": 7,
   "metadata": {},
   "outputs": [
    {
     "name": "stdout",
     "output_type": "stream",
     "text": [
      "The autoreload extension is already loaded. To reload it, use:\n",
      "  %reload_ext autoreload\n"
     ]
    }
   ],
   "source": [
    "%load_ext autoreload\n",
    "%autoreload 2\n",
    "\n",
    "from biolearn.data_library import DataLibrary\n",
    "import pickle\n",
    "from tqdm import tqdm\n",
    "import textwrap\n",
    "import pandas as pd\n",
    "import numpy as np\n",
    "from scipy.stats import mannwhitneyu, wilcoxon\n",
    "from statsmodels.stats.multitest import multipletests\n",
    "from os.path import basename, splitext, exists\n",
    "from glob import glob\n",
    "\n",
    "from computage.utils.data_utils import test_dataset\n",
    "from computage.configs.datasets_bench_config import *\n",
    "from computage.benchmarking.benchmarking import EpiClocksBenchmarking\n",
    "\n",
    "import warnings\n",
    "warnings.filterwarnings('ignore')"
   ]
  },
  {
   "cell_type": "markdown",
   "metadata": {},
   "source": [
    "# test call of dataset"
   ]
  },
  {
   "cell_type": "code",
   "execution_count": 166,
   "metadata": {},
   "outputs": [
    {
     "name": "stdout",
     "output_type": "stream",
     "text": [
      "Down syndrome is characterized by a wide spectrum of clinical signs,\n",
      "which include cognitive and endocrine disorders and haematological\n",
      "abnormalities. Although it is well established that the causative\n",
      "defect of Down syndrome is the trisomy of chromosome 21, the molecular\n",
      "bases of Down syndrome phenotype are still largely unknown. We used\n",
      "the Infinium HumanMethylation450 BeadChip to investigate DNA\n",
      "methylation patterns in whole blood from 29 subjects affected by Down\n",
      "syndrome (DS), using their healthy relatives as controls (mothers  and\n",
      "unaffected siblings). This family-based model allowed us to monitor\n",
      "possible confounding effects on DNA methylation patterns deriving from\n",
      "genetic and environmental (lifestyle) factors. The identified\n",
      "epigenetic signature of Down syndrome includes differentially\n",
      "methylated regions that, although enriched on chromosome 21, interest\n",
      "most of the other chromosomes and can be functionally linked to the\n",
      "developmental and haematological defects characteristic of the\n",
      "disease.\n"
     ]
    }
   ],
   "source": [
    "gse = 'GSE52588'\n",
    "data_source = DataLibrary().get(gse)\n",
    "\n",
    "print(textwrap.fill(data_source.summary, 70))\n",
    "data=data_source.load()"
   ]
  },
  {
   "cell_type": "code",
   "execution_count": 167,
   "metadata": {},
   "outputs": [],
   "source": [
    "data_obj = {}\n",
    "data_obj['data'] = data.dnam\n",
    "data_obj['meta'] = data.metadata"
   ]
  },
  {
   "cell_type": "code",
   "execution_count": 168,
   "metadata": {},
   "outputs": [],
   "source": [
    "pickle.dump(data_obj, open(f'data/{gse}.pkl', 'wb'))"
   ]
  },
  {
   "cell_type": "code",
   "execution_count": 169,
   "metadata": {},
   "outputs": [],
   "source": [
    "#now load it\n",
    "data_obj = pickle.load(open(f'data/{gse}.pkl', 'rb'))"
   ]
  },
  {
   "cell_type": "code",
   "execution_count": 171,
   "metadata": {},
   "outputs": [
    {
     "data": {
      "text/plain": [
       "id\n",
       "GSM1272122    Down syndrome\n",
       "GSM1272123    Down syndrome\n",
       "GSM1272124    Down syndrome\n",
       "GSM1272125    Down syndrome\n",
       "GSM1272126    Down syndrome\n",
       "                  ...      \n",
       "GSM1272204          healthy\n",
       "GSM1272205          healthy\n",
       "GSM1272206          healthy\n",
       "GSM1272207          healthy\n",
       "GSM1272208          healthy\n",
       "Name: disease_state, Length: 87, dtype: object"
      ]
     },
     "execution_count": 171,
     "metadata": {},
     "output_type": "execute_result"
    }
   ],
   "source": [
    "data_obj['meta']['disease_state']#.value_counts()"
   ]
  },
  {
   "cell_type": "markdown",
   "metadata": {},
   "source": [
    "# test dataset downloading"
   ]
  },
  {
   "cell_type": "code",
   "execution_count": 1,
   "metadata": {},
   "outputs": [
    {
     "data": {
      "text/plain": [
       "'https://downloader.disk.yandex.ru/disk/c3497b4318bdb37d31e77c872507055652550449e3a53e42ad020f4553360079/6602bc7e/o-xAw257UInz2E5KCNNYxzrwZIFIEChaHjZ5c8XuVTkQQP5Vu3LX_PfcrbWl_WXMgzctlrPIR5lis-RHW_1Y4w%3D%3D?uid=0&filename=jess.jpg&disposition=attachment&hash=PIh7RkISs8vpRICogGJFgYXo7GoHNggOK3PpICkoZx%2BkzyvR9xvEdnuySuRZLXysq/J6bpmRyOJonT3VoXnDag%3D%3D%3A&limit=0&content_type=image%2Fjpeg&owner_uid=614251127&fsize=3052875&hid=53e1d3b50896254829e1f189ba2f4197&media_type=image&tknv=v2'"
      ]
     },
     "execution_count": 1,
     "metadata": {},
     "output_type": "execute_result"
    }
   ],
   "source": [
    "import requests\n",
    "from urllib.parse import urlencode\n",
    "import os\n",
    "\n",
    "base_url = 'https://cloud-api.yandex.net/v1/disk/public/resources/download?'\n",
    "public_key = 'https://disk.yandex.ru/i/6EKzmWgHWfQhhA'  # link to file\n",
    "\n",
    "# Получаем загрузочную ссылку\n",
    "final_url = base_url + urlencode(dict(public_key=public_key))\n",
    "response = requests.get(final_url)\n",
    "download_url = response.json()['href']\n",
    "download_url"
   ]
  },
  {
   "cell_type": "code",
   "execution_count": null,
   "metadata": {},
   "outputs": [],
   "source": [
    "# Загружаем файл и сохраняем его\n",
    "download_response = requests.get(download_url)\n",
    "with open('jess.jpg', 'wb') as f:   # Здесь укажите нужный путь к файлу\n",
    "    f.write(download_response.content)"
   ]
  },
  {
   "cell_type": "code",
   "execution_count": null,
   "metadata": {},
   "outputs": [],
   "source": [
    "download_url = 'https://disk.yandex.ru/d/UKAe_mXsv2TfVg'\n",
    "out_file_name = 'jess.txt'\n",
    "\n",
    "with open(os.path.join(out_file_name), 'wb') as out_stream:\n",
    "    req = requests.get(download_url, stream=True)\n",
    "    for chunk in req.iter_content(1024):  # Куски по 1 КБ\n",
    "        out_stream.write(chunk)"
   ]
  },
  {
   "cell_type": "markdown",
   "metadata": {},
   "source": [
    "# Benchmarking of published clocks"
   ]
  },
  {
   "cell_type": "code",
   "execution_count": 8,
   "metadata": {},
   "outputs": [],
   "source": [
    "models_config = {\n",
    "    \"in_library\":{\n",
    "        'Horvathv1':{},\n",
    "        'Hannum':{},\n",
    "        'Lin':{},\n",
    "        'PhenoAge':{},\n",
    "        'YingCausAge':{},\n",
    "        'YingDamAge':{},\n",
    "        'YingAdaptAge':{},\n",
    "        'Horvathv2':{},\n",
    "        'PEDBE':{},\n",
    "        'HRSInCHPhenoAge':{},\n",
    "        # 'GrimAgeV1':{},\n",
    "        # 'GrimAgeV2':{}\n",
    "    },\n",
    "    #each model should have `path` in its dict values (see example)\n",
    "    #each model should be stored in pickle (.pkl) format\n",
    "    \"new_models\":{\n",
    "        #'my_new_model_name': {'path':/path/to/model.pkl}\n",
    "        \n",
    "    }\n",
    "}\n",
    "\n",
    "# datasets_config_short = dict(list(datasets_config_old.items())[:3])\n"
   ]
  },
  {
   "cell_type": "code",
   "execution_count": 29,
   "metadata": {},
   "outputs": [],
   "source": [
    "#fill config with new models\n",
    "pattern = '/tank/projects/computage/checkpoints/*fs3*'\n",
    "for p in glob(pattern):\n",
    "    name = splitext(basename(p))[0]\n",
    "    models_config['new_models'][name] = {'path':p}"
   ]
  },
  {
   "cell_type": "code",
   "execution_count": 9,
   "metadata": {},
   "outputs": [],
   "source": [
    "# data, meta = pd.read_pickle('/tank/projects/computage/benchmarking/GSE103929.pkl.gz', compression='gzip').values()"
   ]
  },
  {
   "cell_type": "code",
   "execution_count": 3,
   "metadata": {},
   "outputs": [
    {
     "data": {
      "text/plain": [
       "{'GSE182991': {'path': '/tank/projects/computage/benchmarking/GSE182991.pkl.gz',\n",
       "  'conditions': ['HGPS', 'ncLMNA'],\n",
       "  'test': 'AA2'},\n",
       " 'GSE214297': {'path': '/tank/projects/computage/benchmarking/GSE214297.pkl.gz',\n",
       "  'conditions': ['CGL'],\n",
       "  'test': 'AA2'},\n",
       " 'GSE43976': {'path': '/tank/projects/computage/benchmarking/GSE43976.pkl.gz',\n",
       "  'conditions': ['MS'],\n",
       "  'test': 'AA1'},\n",
       " 'GSE59685': {'path': '/tank/projects/computage/benchmarking/GSE59685.pkl.gz',\n",
       "  'conditions': ['AD'],\n",
       "  'test': 'AA2'}}"
      ]
     },
     "execution_count": 3,
     "metadata": {},
     "output_type": "execute_result"
    }
   ],
   "source": [
    "datasets_config_short = dict(list(datasets_config_main.items())[-19:-15])\n",
    "datasets_config_short"
   ]
  },
  {
   "cell_type": "code",
   "execution_count": 11,
   "metadata": {},
   "outputs": [
    {
     "name": "stdout",
     "output_type": "stream",
     "text": [
      "10 models will be tested on 60 datasets.\n"
     ]
    },
    {
     "name": "stderr",
     "output_type": "stream",
     "text": [
      "Datasets:   2%|▏         | 1/60 [00:35<34:42, 35.29s/it]"
     ]
    },
    {
     "name": "stdout",
     "output_type": "stream",
     "text": [
      "GSE56046:AS - AA2 testing 776 disease versus 339 healthy samples\n"
     ]
    },
    {
     "name": "stderr",
     "output_type": "stream",
     "text": [
      "Datasets:   3%|▎         | 2/60 [00:40<17:13, 17.83s/it]"
     ]
    },
    {
     "name": "stdout",
     "output_type": "stream",
     "text": [
      "GSE56581:AS - AA2 testing 127 disease versus 66 healthy samples\n"
     ]
    },
    {
     "name": "stderr",
     "output_type": "stream",
     "text": [
      "Datasets:   5%|▌         | 3/60 [00:41<09:17,  9.79s/it]"
     ]
    },
    {
     "name": "stdout",
     "output_type": "stream",
     "text": [
      "GSE62867:IHD - AA1 testing 6 disease samples\n"
     ]
    },
    {
     "name": "stderr",
     "output_type": "stream",
     "text": [
      "Datasets:   7%|▋         | 4/60 [00:45<07:11,  7.70s/it]"
     ]
    },
    {
     "name": "stdout",
     "output_type": "stream",
     "text": [
      "GSE69138:CVA - AA1 testing 172 disease samples\n"
     ]
    },
    {
     "name": "stderr",
     "output_type": "stream",
     "text": [
      "Datasets:   8%|▊         | 5/60 [00:46<04:56,  5.39s/it]"
     ]
    },
    {
     "name": "stdout",
     "output_type": "stream",
     "text": [
      "GSE107143:AS - AA2 testing 8 disease versus 8 healthy samples\n"
     ]
    },
    {
     "name": "stderr",
     "output_type": "stream",
     "text": [
      "Datasets:  10%|█         | 6/60 [00:49<04:06,  4.56s/it]"
     ]
    },
    {
     "name": "stdout",
     "output_type": "stream",
     "text": [
      "GSE203399:CVA - AA1 testing 118 disease samples\n"
     ]
    },
    {
     "name": "stderr",
     "output_type": "stream",
     "text": [
      "Datasets:  12%|█▏        | 7/60 [00:52<03:27,  3.92s/it]"
     ]
    },
    {
     "name": "stdout",
     "output_type": "stream",
     "text": [
      "GSE32148:IBD - AA2 testing 5 disease versus 5 healthy samples\n"
     ]
    },
    {
     "name": "stderr",
     "output_type": "stream",
     "text": [
      "Datasets:  13%|█▎        | 8/60 [00:58<04:06,  4.74s/it]"
     ]
    },
    {
     "name": "stdout",
     "output_type": "stream",
     "text": [
      "GSE87640:IBD - AA2 testing 156 disease versus 84 healthy samples\n"
     ]
    },
    {
     "name": "stderr",
     "output_type": "stream",
     "text": [
      "Datasets:  15%|█▌        | 9/60 [01:09<05:28,  6.44s/it]"
     ]
    },
    {
     "name": "stdout",
     "output_type": "stream",
     "text": [
      "GSE87648:IBD - AA2 testing 203 disease versus 176 healthy samples\n"
     ]
    },
    {
     "name": "stderr",
     "output_type": "stream",
     "text": [
      "Datasets:  17%|█▋        | 10/60 [01:13<04:50,  5.82s/it]"
     ]
    },
    {
     "name": "stdout",
     "output_type": "stream",
     "text": [
      "GSE53840:HIV - AA1 testing 111 disease samples\n"
     ]
    },
    {
     "name": "stderr",
     "output_type": "stream",
     "text": [
      "Datasets:  18%|█▊        | 11/60 [01:15<03:40,  4.49s/it]"
     ]
    },
    {
     "name": "stdout",
     "output_type": "stream",
     "text": [
      "GSE53841:HIV - AA1 testing 24 disease samples\n"
     ]
    },
    {
     "name": "stderr",
     "output_type": "stream",
     "text": [
      "Datasets:  20%|██        | 12/60 [01:22<04:25,  5.53s/it]"
     ]
    },
    {
     "name": "stdout",
     "output_type": "stream",
     "text": [
      "GSE67705:HIV - AA2 testing 189 disease versus 91 healthy samples\n"
     ]
    },
    {
     "name": "stderr",
     "output_type": "stream",
     "text": [
      "Datasets:  22%|██▏       | 13/60 [01:26<03:53,  4.97s/it]"
     ]
    },
    {
     "name": "stdout",
     "output_type": "stream",
     "text": [
      "GSE67751:HIV - AA2 testing 23 disease versus 69 healthy samples\n"
     ]
    },
    {
     "name": "stderr",
     "output_type": "stream",
     "text": [
      "Datasets:  23%|██▎       | 14/60 [01:35<04:37,  6.04s/it]"
     ]
    },
    {
     "name": "stdout",
     "output_type": "stream",
     "text": [
      "GSE77696:HIV - AA2 testing 261 disease versus 117 healthy samples\n"
     ]
    },
    {
     "name": "stderr",
     "output_type": "stream",
     "text": [
      "Datasets:  25%|██▌       | 15/60 [01:43<05:07,  6.84s/it]"
     ]
    },
    {
     "name": "stdout",
     "output_type": "stream",
     "text": [
      "GSE100264:HIV - AA1 testing 386 disease samples\n"
     ]
    },
    {
     "name": "stderr",
     "output_type": "stream",
     "text": [
      "Datasets:  27%|██▋       | 16/60 [01:58<06:40,  9.11s/it]"
     ]
    },
    {
     "name": "stdout",
     "output_type": "stream",
     "text": [
      "GSE107080:HIV - AA1 testing 405 disease samples\n"
     ]
    },
    {
     "name": "stderr",
     "output_type": "stream",
     "text": [
      "Datasets:  28%|██▊       | 17/60 [02:11<07:30, 10.48s/it]"
     ]
    },
    {
     "name": "stdout",
     "output_type": "stream",
     "text": [
      "GSE117859:HIV - AA1 testing 608 disease samples\n"
     ]
    },
    {
     "name": "stderr",
     "output_type": "stream",
     "text": [
      "Datasets:  30%|███       | 18/60 [02:29<08:51, 12.65s/it]"
     ]
    },
    {
     "name": "stdout",
     "output_type": "stream",
     "text": [
      "GSE117860:HIV - AA1 testing 529 disease samples\n"
     ]
    },
    {
     "name": "stderr",
     "output_type": "stream",
     "text": [
      "Datasets:  32%|███▏      | 19/60 [02:32<06:42,  9.81s/it]"
     ]
    },
    {
     "name": "stdout",
     "output_type": "stream",
     "text": [
      "GSE140800:HIV - AA1 testing 70 disease samples\n"
     ]
    },
    {
     "name": "stderr",
     "output_type": "stream",
     "text": [
      "Datasets:  33%|███▎      | 20/60 [02:35<05:06,  7.67s/it]"
     ]
    },
    {
     "name": "stdout",
     "output_type": "stream",
     "text": [
      "GSE143942:HIV - AA2 testing 61 disease versus 12 healthy samples\n"
     ]
    },
    {
     "name": "stderr",
     "output_type": "stream",
     "text": [
      "Datasets:  35%|███▌      | 21/60 [02:38<04:04,  6.26s/it]"
     ]
    },
    {
     "name": "stdout",
     "output_type": "stream",
     "text": [
      "GSE145714:HIV_TB - AA2 testing 6 disease versus 9 healthy samples\n",
      "GSE145714:TB - AA2 testing 12 disease versus 9 healthy samples\n"
     ]
    },
    {
     "name": "stderr",
     "output_type": "stream",
     "text": [
      "Datasets:  37%|███▋      | 22/60 [02:40<03:10,  5.01s/it]"
     ]
    },
    {
     "name": "stdout",
     "output_type": "stream",
     "text": [
      "GSE185389:HIV - AA1 testing 56 disease samples\n"
     ]
    },
    {
     "name": "stderr",
     "output_type": "stream",
     "text": [
      "Datasets:  38%|███▊      | 23/60 [02:43<02:41,  4.36s/it]"
     ]
    },
    {
     "name": "stdout",
     "output_type": "stream",
     "text": [
      "GSE185390:HIV - AA1 testing 30 disease samples\n"
     ]
    },
    {
     "name": "stderr",
     "output_type": "stream",
     "text": [
      "Datasets:  40%|████      | 24/60 [03:02<05:14,  8.73s/it]"
     ]
    },
    {
     "name": "stdout",
     "output_type": "stream",
     "text": [
      "GSE217633:HIV - AA2 testing 368 disease versus 43 healthy samples\n"
     ]
    },
    {
     "name": "stderr",
     "output_type": "stream",
     "text": [
      "Datasets:  42%|████▏     | 25/60 [03:19<06:34, 11.26s/it]"
     ]
    },
    {
     "name": "stdout",
     "output_type": "stream",
     "text": [
      "GSE42861:RA - AA2 testing 354 disease versus 335 healthy samples\n"
     ]
    },
    {
     "name": "stderr",
     "output_type": "stream",
     "text": [
      "Datasets:  43%|████▎     | 26/60 [03:21<04:51,  8.58s/it]"
     ]
    },
    {
     "name": "stdout",
     "output_type": "stream",
     "text": [
      "GSE71841:RA - AA2 testing 12 disease versus 12 healthy samples\n"
     ]
    },
    {
     "name": "stderr",
     "output_type": "stream",
     "text": [
      "Datasets:  45%|████▌     | 27/60 [03:23<03:38,  6.63s/it]"
     ]
    },
    {
     "name": "stdout",
     "output_type": "stream",
     "text": [
      "GSE99624:OP - AA2 testing 32 disease versus 16 healthy samples\n"
     ]
    },
    {
     "name": "stderr",
     "output_type": "stream",
     "text": [
      "Datasets:  47%|████▋     | 28/60 [03:32<03:48,  7.13s/it]"
     ]
    },
    {
     "name": "stdout",
     "output_type": "stream",
     "text": [
      "GSE131989:RA - AA2 testing 230 disease versus 123 healthy samples\n"
     ]
    },
    {
     "name": "stderr",
     "output_type": "stream",
     "text": [
      "Datasets:  48%|████▊     | 29/60 [03:36<03:12,  6.19s/it]"
     ]
    },
    {
     "name": "stdout",
     "output_type": "stream",
     "text": [
      "GSE134429:RA - AA2 testing 47 disease versus 17 healthy samples\n"
     ]
    },
    {
     "name": "stderr",
     "output_type": "stream",
     "text": [
      "Datasets:  50%|█████     | 30/60 [03:40<02:49,  5.66s/it]"
     ]
    },
    {
     "name": "stdout",
     "output_type": "stream",
     "text": [
      "GSE137593:OA - AA1 testing 5 disease samples\n",
      "GSE137593:RA - AA1 testing 43 disease samples\n"
     ]
    },
    {
     "name": "stderr",
     "output_type": "stream",
     "text": [
      "Datasets:  52%|█████▏    | 31/60 [03:45<02:37,  5.44s/it]"
     ]
    },
    {
     "name": "stdout",
     "output_type": "stream",
     "text": [
      "GSE137594:OA - AA1 testing 6 disease samples\n",
      "GSE137594:RA - AA1 testing 46 disease samples\n"
     ]
    },
    {
     "name": "stderr",
     "output_type": "stream",
     "text": [
      "Datasets:  53%|█████▎    | 32/60 [03:49<02:20,  5.01s/it]"
     ]
    },
    {
     "name": "stdout",
     "output_type": "stream",
     "text": [
      "GSE138653:RA - AA1 testing 80 disease samples\n"
     ]
    },
    {
     "name": "stderr",
     "output_type": "stream",
     "text": [
      "Datasets:  55%|█████▌    | 33/60 [03:54<02:16,  5.06s/it]"
     ]
    },
    {
     "name": "stdout",
     "output_type": "stream",
     "text": [
      "GSE175364:RA - AA2 testing 8 disease versus 13 healthy samples\n"
     ]
    },
    {
     "name": "stderr",
     "output_type": "stream",
     "text": [
      "Datasets:  57%|█████▋    | 34/60 [04:00<02:18,  5.33s/it]"
     ]
    },
    {
     "name": "stdout",
     "output_type": "stream",
     "text": [
      "GSE176168:RA - AA1 testing 113 disease samples\n"
     ]
    },
    {
     "name": "stderr",
     "output_type": "stream",
     "text": [
      "Datasets:  58%|█████▊    | 35/60 [04:03<01:54,  4.57s/it]"
     ]
    },
    {
     "name": "stdout",
     "output_type": "stream",
     "text": [
      "GSE228104:RA - AA1 testing 40 disease samples\n"
     ]
    },
    {
     "name": "stderr",
     "output_type": "stream",
     "text": [
      "Datasets:  60%|██████    | 36/60 [04:03<01:20,  3.34s/it]"
     ]
    },
    {
     "name": "stdout",
     "output_type": "stream",
     "text": [
      "GSE49909:OBS - AA2 testing 31 disease versus 40 healthy samples\n"
     ]
    },
    {
     "name": "stderr",
     "output_type": "stream",
     "text": [
      "Datasets:  62%|██████▏   | 37/60 [04:04<00:55,  2.43s/it]"
     ]
    },
    {
     "name": "stdout",
     "output_type": "stream",
     "text": [
      "GSE56606:T1D - AA2 testing 25 disease versus 61 healthy samples\n"
     ]
    },
    {
     "name": "stderr",
     "output_type": "stream",
     "text": [
      "Datasets:  63%|██████▎   | 38/60 [04:07<00:58,  2.67s/it]"
     ]
    },
    {
     "name": "stdout",
     "output_type": "stream",
     "text": [
      "GSE62003:T2D - AA1 testing 58 disease samples\n"
     ]
    },
    {
     "name": "stderr",
     "output_type": "stream",
     "text": [
      "Datasets:  65%|██████▌   | 39/60 [04:14<01:26,  4.10s/it]"
     ]
    },
    {
     "name": "stdout",
     "output_type": "stream",
     "text": [
      "GSE73103:OBS - AA2 testing 11 disease versus 214 healthy samples\n"
     ]
    },
    {
     "name": "stderr",
     "output_type": "stream",
     "text": [
      "Datasets:  67%|██████▋   | 40/60 [04:16<01:08,  3.40s/it]"
     ]
    },
    {
     "name": "stdout",
     "output_type": "stream",
     "text": [
      "GSE118468:COPD - AA2 testing 15 disease versus 6 healthy samples\n"
     ]
    },
    {
     "name": "stderr",
     "output_type": "stream",
     "text": [
      "Datasets:  68%|██████▊   | 41/60 [04:20<01:04,  3.40s/it]"
     ]
    },
    {
     "name": "stdout",
     "output_type": "stream",
     "text": [
      "GSE131752:WS - AA2 testing 18 disease versus 24 healthy samples\n",
      "GSE131752:aWS - AA2 testing 3 disease versus 24 healthy samples\n",
      "GSE131752:MDPS - AA2 testing 3 disease versus 24 healthy samples\n"
     ]
    },
    {
     "name": "stderr",
     "output_type": "stream",
     "text": [
      "Datasets:  70%|███████   | 42/60 [04:23<00:58,  3.26s/it]"
     ]
    },
    {
     "name": "stdout",
     "output_type": "stream",
     "text": [
      "GSE182991:HGPS - AA2 testing 8 disease versus 12 healthy samples\n",
      "GSE182991:ncLMNA - AA2 testing 7 disease versus 12 healthy samples\n"
     ]
    },
    {
     "name": "stderr",
     "output_type": "stream",
     "text": [
      "Datasets:  72%|███████▏  | 43/60 [04:24<00:46,  2.71s/it]"
     ]
    },
    {
     "name": "stdout",
     "output_type": "stream",
     "text": [
      "GSE214297:CGL - AA2 testing 7 disease versus 9 healthy samples\n"
     ]
    },
    {
     "name": "stderr",
     "output_type": "stream",
     "text": [
      "Datasets:  73%|███████▎  | 44/60 [04:28<00:47,  2.96s/it]"
     ]
    },
    {
     "name": "stdout",
     "output_type": "stream",
     "text": [
      "GSE43976:MS - AA1 testing 52 disease samples\n"
     ]
    },
    {
     "name": "stderr",
     "output_type": "stream",
     "text": [
      "Datasets:  75%|███████▌  | 45/60 [04:39<01:21,  5.41s/it]"
     ]
    },
    {
     "name": "stdout",
     "output_type": "stream",
     "text": [
      "GSE59685:AD - AA2 testing 40 disease versus 9 healthy samples\n"
     ]
    },
    {
     "name": "stderr",
     "output_type": "stream",
     "text": [
      "Datasets:  77%|███████▋  | 46/60 [04:51<01:45,  7.56s/it]"
     ]
    },
    {
     "name": "stdout",
     "output_type": "stream",
     "text": [
      "GSE72774:PD - AA2 testing 287 disease versus 218 healthy samples\n"
     ]
    },
    {
     "name": "stderr",
     "output_type": "stream",
     "text": [
      "Datasets:  78%|███████▊  | 47/60 [04:54<01:19,  6.10s/it]"
     ]
    },
    {
     "name": "stdout",
     "output_type": "stream",
     "text": [
      "GSE72776:PD - AA2 testing 46 disease versus 38 healthy samples\n"
     ]
    },
    {
     "name": "stderr",
     "output_type": "stream",
     "text": [
      "Datasets:  80%|████████  | 48/60 [04:57<01:01,  5.09s/it]"
     ]
    },
    {
     "name": "stdout",
     "output_type": "stream",
     "text": [
      "GSE103929:MS - AA1 testing 49 disease samples\n"
     ]
    },
    {
     "name": "stderr",
     "output_type": "stream",
     "text": [
      "Datasets:  82%|████████▏ | 49/60 [05:04<01:04,  5.83s/it]"
     ]
    },
    {
     "name": "stdout",
     "output_type": "stream",
     "text": [
      "GSE106648:MS - AA2 testing 139 disease versus 139 healthy samples\n"
     ]
    },
    {
     "name": "stderr",
     "output_type": "stream",
     "text": [
      "Datasets:  83%|████████▎ | 50/60 [05:12<01:03,  6.34s/it]"
     ]
    },
    {
     "name": "stdout",
     "output_type": "stream",
     "text": [
      "GSE111223:PD - AA2 testing 128 disease versus 131 healthy samples\n"
     ]
    },
    {
     "name": "stderr",
     "output_type": "stream",
     "text": [
      "Datasets:  85%|████████▌ | 51/60 [05:26<01:19,  8.83s/it]"
     ]
    },
    {
     "name": "stdout",
     "output_type": "stream",
     "text": [
      "GSE111629:PD - AA2 testing 335 disease versus 236 healthy samples\n"
     ]
    },
    {
     "name": "stderr",
     "output_type": "stream",
     "text": [
      "Datasets:  87%|████████▋ | 52/60 [05:32<01:03,  7.93s/it]"
     ]
    },
    {
     "name": "stdout",
     "output_type": "stream",
     "text": [
      "GSE112596:MS - AA1 testing 112 disease samples\n"
     ]
    },
    {
     "name": "stderr",
     "output_type": "stream",
     "text": [
      "Datasets:  88%|████████▊ | 53/60 [05:34<00:42,  6.04s/it]"
     ]
    },
    {
     "name": "stdout",
     "output_type": "stream",
     "text": [
      "GSE130029:MS - AA2 testing 20 disease versus 11 healthy samples\n"
     ]
    },
    {
     "name": "stderr",
     "output_type": "stream",
     "text": [
      "Datasets:  90%|█████████ | 54/60 [05:36<00:29,  4.92s/it]"
     ]
    },
    {
     "name": "stdout",
     "output_type": "stream",
     "text": [
      "GSE130030:MS - AA2 testing 14 disease versus 14 healthy samples\n"
     ]
    },
    {
     "name": "stderr",
     "output_type": "stream",
     "text": [
      "Datasets:  92%|█████████▏| 55/60 [05:40<00:22,  4.51s/it]"
     ]
    },
    {
     "name": "stdout",
     "output_type": "stream",
     "text": [
      "GSE130491:MS - AA1 testing 82 disease samples\n"
     ]
    },
    {
     "name": "stderr",
     "output_type": "stream",
     "text": [
      "Datasets:  93%|█████████▎| 56/60 [05:47<00:20,  5.21s/it]"
     ]
    },
    {
     "name": "stdout",
     "output_type": "stream",
     "text": [
      "GSE144858:AD - AA2 testing 93 disease versus 96 healthy samples\n",
      "GSE144858:MCI - AA2 testing 111 disease versus 96 healthy samples\n"
     ]
    },
    {
     "name": "stderr",
     "output_type": "stream",
     "text": [
      "Datasets:  95%|█████████▌| 57/60 [05:48<00:12,  4.18s/it]"
     ]
    },
    {
     "name": "stdout",
     "output_type": "stream",
     "text": [
      "GSE151355:PD - AA1 testing 19 disease samples\n"
     ]
    },
    {
     "name": "stderr",
     "output_type": "stream",
     "text": [
      "Datasets:  97%|█████████▋| 58/60 [05:54<00:09,  4.58s/it]"
     ]
    },
    {
     "name": "stdout",
     "output_type": "stream",
     "text": [
      "GSE156994:CJD - AA2 testing 114 disease versus 105 healthy samples\n"
     ]
    },
    {
     "name": "stderr",
     "output_type": "stream",
     "text": [
      "Datasets:  98%|█████████▊| 59/60 [05:58<00:04,  4.48s/it]"
     ]
    },
    {
     "name": "stdout",
     "output_type": "stream",
     "text": [
      "GSE219293:MS - AA2 testing 29 disease versus 18 healthy samples\n"
     ]
    },
    {
     "name": "stderr",
     "output_type": "stream",
     "text": [
      "Datasets: 100%|██████████| 60/60 [06:03<00:00,  6.05s/it]\n"
     ]
    },
    {
     "name": "stdout",
     "output_type": "stream",
     "text": [
      "GSE122244:PD - AA2 testing 35 disease versus 34 healthy samples\n",
      "Compute MedAE metric based on 3095 healthy control samples.\n"
     ]
    }
   ],
   "source": [
    "bench = EpiClocksBenchmarking(\n",
    "    models_config=models_config,\n",
    "    # datasets_config=datasets_config_short,\n",
    "    datasets_config=datasets_config_main,\n",
    "    tissue_types='BSB',\n",
    "    age_limits = [18, 90],\n",
    "    age_limits_class_exclusions= ['PGS'],\n",
    "    experiment_prefix='prefinal1',\n",
    "    delta_assumption = 'normal',\n",
    "    correction_threshold=0.05,\n",
    "    save_results=True,\n",
    "    output_folder='./tmp_bench_results',\n",
    "    verbose=1\n",
    ")\n",
    "bench.run()"
   ]
  },
  {
   "cell_type": "code",
   "execution_count": null,
   "metadata": {},
   "outputs": [],
   "source": []
  },
  {
   "cell_type": "code",
   "execution_count": null,
   "metadata": {},
   "outputs": [],
   "source": []
  },
  {
   "cell_type": "code",
   "execution_count": null,
   "metadata": {},
   "outputs": [],
   "source": []
  },
  {
   "cell_type": "code",
   "execution_count": null,
   "metadata": {},
   "outputs": [],
   "source": []
  },
  {
   "cell_type": "code",
   "execution_count": 11,
   "metadata": {},
   "outputs": [
    {
     "name": "stdout",
     "output_type": "stream",
     "text": [
      "total 88K\n",
      "-rw-rw-r-- 1 dkriukov dkriukov  11K Apr  3 09:59 bench2_published_bench_adj_pvals.csv\n",
      "-rw-rw-r-- 1 dkriukov dkriukov 4.2K Apr  3 09:59 bench2_published_bench_bools.csv\n",
      "-rw-rw-r-- 1 dkriukov dkriukov  12K Apr  3 09:59 bench2_published_bench_pvals.csv\n",
      "-rw-rw-r-- 1 dkriukov dkriukov 8.7K Apr 17 14:31 prefinal0_bench_adj_pvals.csv\n",
      "-rw-rw-r-- 1 dkriukov dkriukov 5.1K Apr 17 14:31 prefinal0_bench_bools.csv\n",
      "-rw-rw-r-- 1 dkriukov dkriukov  530 Apr 17 14:31 prefinal0_bench_CA_pred_MAE.csv\n",
      "-rw-rw-r-- 1 dkriukov dkriukov  13K Apr 17 14:31 prefinal0_bench_pvals.csv\n",
      "-rw-rw-r-- 1 dkriukov dkriukov  767 Apr 16 14:52 test2_bench_adj_pvals.csv\n",
      "-rw-rw-r-- 1 dkriukov dkriukov  315 Apr 16 14:52 test2_bench_bools.csv\n",
      "-rw-rw-r-- 1 dkriukov dkriukov  504 Apr 16 14:52 test2_bench_CA_pred_MAE.csv\n",
      "-rw-rw-r-- 1 dkriukov dkriukov  769 Apr 16 14:52 test2_bench_pvals.csv\n"
     ]
    }
   ],
   "source": [
    "!ls -hl tmp_bench_results"
   ]
  },
  {
   "cell_type": "code",
   "execution_count": 20,
   "metadata": {},
   "outputs": [],
   "source": [
    "keys = list(bench.datasets_predictions.keys())"
   ]
  },
  {
   "cell_type": "code",
   "execution_count": 45,
   "metadata": {},
   "outputs": [
    {
     "name": "stdout",
     "output_type": "stream",
     "text": [
      "GSE56046\n",
      "65.4142860696623\n",
      "GSE56581\n",
      "55.13255337182477\n",
      "GSE62867\n",
      "31.215732548258\n",
      "GSE69138\n",
      "62.47126678961085\n",
      "GSE107143\n",
      "57.19305682109346\n",
      "GSE203399\n",
      "61.94609151920956\n",
      "GSE32148\n",
      "20.731623206433387\n",
      "GSE87640\n",
      "35.286675937340405\n",
      "GSE87648\n",
      "41.85642104183096\n",
      "GSE53840\n",
      "50.79653539049245\n",
      "GSE53841\n",
      "46.83137803468343\n",
      "GSE67705\n",
      "53.85686111243916\n",
      "GSE67751\n",
      "44.02221506354244\n",
      "GSE77696\n",
      "49.96474548804203\n",
      "GSE100264\n",
      "50.45620166710822\n",
      "GSE107080\n",
      "43.28720844178879\n",
      "GSE117859\n",
      "50.488792859419036\n",
      "GSE117860\n",
      "43.59981965326171\n",
      "GSE140800\n",
      "36.642266967190544\n",
      "GSE143942\n",
      "28.071588029362857\n",
      "GSE145714\n",
      "25.653688703690584\n",
      "GSE185389\n",
      "44.78235273123339\n",
      "GSE185390\n",
      "37.76696786113916\n",
      "GSE217633\n",
      "31.007763191675203\n",
      "GSE42861\n",
      "48.61753166953791\n",
      "GSE71841\n",
      "37.78540696887688\n",
      "GSE99624\n",
      "57.21610846278078\n",
      "GSE131989\n",
      "32.58802709740392\n",
      "GSE134429\n",
      "52.1182119804742\n",
      "GSE137593\n",
      "45.42194524318468\n",
      "GSE137594\n",
      "52.63327198459547\n",
      "GSE138653\n",
      "35.39955305383512\n",
      "GSE175364\n",
      "40.57425293269749\n",
      "GSE176168\n",
      "41.51377045469469\n",
      "GSE228104\n",
      "47.5018742986105\n",
      "GSE49909\n",
      "31.133025221238466\n",
      "GSE56606\n",
      "2.0431663034663667e+37\n",
      "GSE62003\n",
      "63.35149070761131\n",
      "GSE73103\n",
      "31.913425655148302\n",
      "GSE118468\n",
      "55.123292964751194\n",
      "GSE131752\n",
      "37.24894901814092\n",
      "GSE182991\n",
      "1.9010311985911934\n",
      "GSE214297\n",
      "9.971425835370479\n",
      "GSE43976\n",
      "40.4585405177791\n",
      "GSE59685\n",
      "68.63424213912597\n",
      "GSE72774\n",
      "57.89808549485791\n",
      "GSE72776\n",
      "55.542624242023656\n",
      "GSE103929\n",
      "42.05025709595188\n",
      "GSE106648\n",
      "39.23044536622442\n",
      "GSE111223\n",
      "71.24651468569904\n",
      "GSE111629\n",
      "57.59279449324315\n",
      "GSE112596\n",
      "21.02590925348245\n",
      "GSE130029\n",
      "30.39383950867612\n",
      "GSE130030\n",
      "20.592291752370507\n",
      "GSE130491\n",
      "25.586145449871374\n",
      "GSE144858\n",
      "58.11180040334816\n",
      "GSE151355\n",
      "70.16291018386568\n",
      "GSE156994\n",
      "2893.2039192116526\n",
      "GSE219293\n",
      "-132.9241490535033\n"
     ]
    }
   ],
   "source": [
    "k = keys[20]\n",
    "for k in keys:\n",
    "    print(k)\n",
    "    print(bench.datasets_predictions[k].mean().mean())"
   ]
  },
  {
   "cell_type": "code",
   "execution_count": 46,
   "metadata": {},
   "outputs": [],
   "source": [
    "data, meta = pd.read_pickle('/tank/projects/computage/benchmarking/GSE56606.pkl.gz', compression='gzip').values()"
   ]
  },
  {
   "cell_type": "code",
   "execution_count": 56,
   "metadata": {},
   "outputs": [
    {
     "data": {
      "text/plain": [
       "GSM1365585    0.000000e+00\n",
       "GSM1365586    0.000000e+00\n",
       "GSM1365587    0.000000e+00\n",
       "GSM1365588    0.000000e+00\n",
       "GSM1365589    3.660000e-03\n",
       "                  ...     \n",
       "GSM1365680   -3.402823e+38\n",
       "GSM1365681   -3.402823e+38\n",
       "GSM1365682   -3.402823e+38\n",
       "GSM1365683   -3.402823e+38\n",
       "GSM1365684   -3.402823e+38\n",
       "Length: 100, dtype: float32"
      ]
     },
     "execution_count": 56,
     "metadata": {},
     "output_type": "execute_result"
    }
   ],
   "source": [
    "data.min(1)"
   ]
  },
  {
   "cell_type": "code",
   "execution_count": 12,
   "metadata": {},
   "outputs": [],
   "source": [
    "# listmodels = glob('/tank/projects/computage/checkpoints/pls*pheno*ultra*')\n",
    "# listmodels, len(listmodels)"
   ]
  },
  {
   "cell_type": "markdown",
   "metadata": {},
   "source": [
    "# legacy"
   ]
  },
  {
   "cell_type": "code",
   "execution_count": 2,
   "metadata": {},
   "outputs": [],
   "source": [
    "# from biolearn.data_library import GeoData\n",
    "# from biolearn.model_gallery import ModelGallery\n",
    "\n",
    "# published = False\n",
    "\n",
    "# gallery = ModelGallery()\n",
    "\n",
    "# bench_results_AAP = pd.DataFrame()\n",
    "# bench_results_AA0 = pd.DataFrame()\n",
    "# datasets_predictions = {}\n",
    "# for gse, conf in datasets_config.items():\n",
    "#     #import data\n",
    "#     path, cond, test = conf.values()\n",
    "#     dnam, meta = pd.read_pickle(path, compression='gzip').values()\n",
    "#     data = GeoData(meta, dnam.T)\n",
    "\n",
    "#     ###Predict datasets and gather predictions\n",
    "#     #Note that by default clocks will impute missing data.\n",
    "#     #To change this behavior set the imputation= parameter when getting the clock #???\n",
    "\n",
    "#     predictions = {}\n",
    "#     if published:\n",
    "#         #published clocks prediction\n",
    "#         keys = list(gallery.model_definitions.keys())\n",
    "#         for k in tqdm(keys):\n",
    "#             try:\n",
    "#                 if gallery.model_definitions[k]['output']=='Age (Years)':\n",
    "#                     results = gallery.get(k, imputation_method='none').predict(data)\n",
    "#                     predictions[k] = results['Predicted']\n",
    "#             except:\n",
    "#                 print('Oops!')\n",
    "#                 continue\n",
    "#     else:\n",
    "#         #de novo clocks prediction\n",
    "#         for path in tqdm(listmodels):\n",
    "#             k = splitext(basename(path))[0]\n",
    "#             model = pickle.load(open(path, 'rb'))\n",
    "#             try:\n",
    "#                 dnam_ = dnam.reindex(columns = list(model.pls.feature_names_in_)).copy()\n",
    "#             except:\n",
    "#                 dnam_ = dnam.reindex(columns = list(model.feature_names_in_)).copy()\n",
    "#                 dnam_ = dnam_.fillna(0.)\n",
    "            \n",
    "#             preds_ = model.predict(dnam_)\n",
    "#             if type(preds_) == np.ndarray:\n",
    "#                 predictions[k] = pd.Series(preds_, index=dnam.index)\n",
    "#             else:\n",
    "#                 predictions[k] = pd.Series(preds_.values, index=dnam.index)\n",
    "        \n",
    "#     pred = pd.DataFrame(predictions)\n",
    "#     datasets_predictions[gse] = pred.copy()\n",
    "#     #meta filtering\n",
    "#     no_age_na_indices = meta[~meta['Age'].isna()].index\n",
    "#     meta = meta.loc[no_age_na_indices]\n",
    "#     if test == 'AAP':\n",
    "#         #calculating mann-whitney test for difference in age acceleration between disease and healthy cohorts\n",
    "#         disease_idx = meta.index[meta['Condition'] == cond]\n",
    "#         healthy_idx = meta.index[meta['Condition'] == 'HC']\n",
    "#         print(f'{cond}:{gse} - AAP testing {len(disease_idx)} disease versus {len(healthy_idx)} healthy samples')\n",
    "#         pvals = {}\n",
    "#         for col in pred.columns:\n",
    "#             disease_true = meta.loc[disease_idx, 'Age'].values\n",
    "#             healthy_true = meta.loc[healthy_idx, 'Age'].values\n",
    "#             disease_pred = pred.loc[disease_idx, col].values\n",
    "#             healthy_pred = pred.loc[healthy_idx, col].values\n",
    "#             disease_delta = disease_pred - disease_true\n",
    "#             healthy_delta = healthy_pred - healthy_true\n",
    "#             stat, pval = mannwhitneyu(disease_delta, healthy_delta, alternative='greater')\n",
    "#             pvals[col] = pval\n",
    "#         bench_results_AAP[f'{cond}:{gse}:AAP'] = pd.Series(pvals)\n",
    "#     elif test == 'AA0':\n",
    "#         #calculating wilcoxon test for positive age (>0) acceleration in disease cohort\n",
    "#         disease_idx = meta.index[meta['Condition'] == cond]\n",
    "#         print(f'{cond}:{gse} - AA0 testing {len(disease_idx)} disease samples')\n",
    "#         pvals = {}\n",
    "#         for col in pred.columns:\n",
    "#             disease_true = meta.loc[disease_idx, 'Age'].values\n",
    "#             disease_pred = pred.loc[disease_idx, col].values\n",
    "#             disease_delta = disease_pred - disease_true\n",
    "#             stat, pval = wilcoxon(disease_delta, alternative='greater')\n",
    "#             pvals[col] = pval\n",
    "#         bench_results_AA0[f'{cond}:{gse}:AA0'] = pd.Series(pvals)\n",
    "#     else:\n",
    "#         NotImplementedError(\"Only two tests are currently available: ['AAP', 'AA0'].\")\n",
    "    "
   ]
  },
  {
   "cell_type": "code",
   "execution_count": 167,
   "metadata": {},
   "outputs": [],
   "source": [
    "#dnam, meta = pd.read_pickle(datasets_config['GSE53840']['path'], compression='gzip').values()"
   ]
  },
  {
   "cell_type": "code",
   "execution_count": 3,
   "metadata": {},
   "outputs": [],
   "source": [
    "# def correction(x):\n",
    "#     return multipletests(x, method='fdr_bh')[1]\n",
    "\n",
    "# bench_results = pd.concat([bench_results_AAP, bench_results_AA0], axis=1).dropna(axis=0)\n",
    "# corrected_results_AAP = bench_results_AAP.T.apply(correction, axis=0).T < 0.05\n",
    "# corrected_results_AA0 = bench_results_AA0.T.apply(correction, axis=0).T < 0.05\n",
    "# corrected_results = pd.concat([corrected_results_AAP, corrected_results_AA0], axis=1)\n",
    "\n",
    "# print(corrected_results.shape)\n",
    "# corrected_results.sum(axis=1).sort_values(ascending=False)\n",
    "\n",
    "# bench_results.to_csv('/tank/projects/computage/results/bench_results_pls_pheno_ultra.csv')\n",
    "# corrected_results.to_csv('/tank/projects/computage/results/bench_results_pls_pheno_ultra.csv')"
   ]
  },
  {
   "cell_type": "code",
   "execution_count": 15,
   "metadata": {},
   "outputs": [
    {
     "data": {
      "text/html": [
       "<div>\n",
       "<style scoped>\n",
       "    .dataframe tbody tr th:only-of-type {\n",
       "        vertical-align: middle;\n",
       "    }\n",
       "\n",
       "    .dataframe tbody tr th {\n",
       "        vertical-align: top;\n",
       "    }\n",
       "\n",
       "    .dataframe thead th {\n",
       "        text-align: right;\n",
       "    }\n",
       "</style>\n",
       "<table border=\"1\" class=\"dataframe\">\n",
       "  <thead>\n",
       "    <tr style=\"text-align: right;\">\n",
       "      <th></th>\n",
       "      <th>DS:GSE52588</th>\n",
       "      <th>Rheumatoid arthritis:GSE42861</th>\n",
       "      <th>AD:GSE59685</th>\n",
       "      <th>AD:GSE80970</th>\n",
       "      <th>Overweight:GSE73103</th>\n",
       "      <th>IBD:GSE87640</th>\n",
       "      <th>IBD:GSE87648</th>\n",
       "      <th>HT:GSE157131</th>\n",
       "    </tr>\n",
       "  </thead>\n",
       "  <tbody>\n",
       "    <tr>\n",
       "      <th>Horvathv1</th>\n",
       "      <td>True</td>\n",
       "      <td>False</td>\n",
       "      <td>False</td>\n",
       "      <td>False</td>\n",
       "      <td>False</td>\n",
       "      <td>False</td>\n",
       "      <td>False</td>\n",
       "      <td>False</td>\n",
       "    </tr>\n",
       "    <tr>\n",
       "      <th>Hannum</th>\n",
       "      <td>True</td>\n",
       "      <td>True</td>\n",
       "      <td>False</td>\n",
       "      <td>False</td>\n",
       "      <td>False</td>\n",
       "      <td>True</td>\n",
       "      <td>True</td>\n",
       "      <td>False</td>\n",
       "    </tr>\n",
       "    <tr>\n",
       "      <th>Lin</th>\n",
       "      <td>True</td>\n",
       "      <td>False</td>\n",
       "      <td>False</td>\n",
       "      <td>False</td>\n",
       "      <td>False</td>\n",
       "      <td>True</td>\n",
       "      <td>False</td>\n",
       "      <td>False</td>\n",
       "    </tr>\n",
       "    <tr>\n",
       "      <th>PhenoAge</th>\n",
       "      <td>True</td>\n",
       "      <td>True</td>\n",
       "      <td>False</td>\n",
       "      <td>False</td>\n",
       "      <td>False</td>\n",
       "      <td>True</td>\n",
       "      <td>True</td>\n",
       "      <td>True</td>\n",
       "    </tr>\n",
       "    <tr>\n",
       "      <th>YingCausAge</th>\n",
       "      <td>True</td>\n",
       "      <td>False</td>\n",
       "      <td>False</td>\n",
       "      <td>False</td>\n",
       "      <td>False</td>\n",
       "      <td>False</td>\n",
       "      <td>False</td>\n",
       "      <td>False</td>\n",
       "    </tr>\n",
       "    <tr>\n",
       "      <th>YingDamAge</th>\n",
       "      <td>False</td>\n",
       "      <td>False</td>\n",
       "      <td>False</td>\n",
       "      <td>False</td>\n",
       "      <td>False</td>\n",
       "      <td>False</td>\n",
       "      <td>True</td>\n",
       "      <td>False</td>\n",
       "    </tr>\n",
       "    <tr>\n",
       "      <th>YingAdaptAge</th>\n",
       "      <td>True</td>\n",
       "      <td>False</td>\n",
       "      <td>False</td>\n",
       "      <td>False</td>\n",
       "      <td>False</td>\n",
       "      <td>False</td>\n",
       "      <td>False</td>\n",
       "      <td>False</td>\n",
       "    </tr>\n",
       "    <tr>\n",
       "      <th>Horvathv2</th>\n",
       "      <td>True</td>\n",
       "      <td>False</td>\n",
       "      <td>False</td>\n",
       "      <td>False</td>\n",
       "      <td>False</td>\n",
       "      <td>False</td>\n",
       "      <td>False</td>\n",
       "      <td>False</td>\n",
       "    </tr>\n",
       "    <tr>\n",
       "      <th>PEDBE</th>\n",
       "      <td>True</td>\n",
       "      <td>False</td>\n",
       "      <td>False</td>\n",
       "      <td>False</td>\n",
       "      <td>False</td>\n",
       "      <td>False</td>\n",
       "      <td>False</td>\n",
       "      <td>False</td>\n",
       "    </tr>\n",
       "    <tr>\n",
       "      <th>HRSInCHPhenoAge</th>\n",
       "      <td>True</td>\n",
       "      <td>True</td>\n",
       "      <td>False</td>\n",
       "      <td>False</td>\n",
       "      <td>True</td>\n",
       "      <td>True</td>\n",
       "      <td>True</td>\n",
       "      <td>True</td>\n",
       "    </tr>\n",
       "  </tbody>\n",
       "</table>\n",
       "</div>"
      ],
      "text/plain": [
       "                 DS:GSE52588  Rheumatoid arthritis:GSE42861  AD:GSE59685  \\\n",
       "Horvathv1               True                          False        False   \n",
       "Hannum                  True                           True        False   \n",
       "Lin                     True                          False        False   \n",
       "PhenoAge                True                           True        False   \n",
       "YingCausAge             True                          False        False   \n",
       "YingDamAge             False                          False        False   \n",
       "YingAdaptAge            True                          False        False   \n",
       "Horvathv2               True                          False        False   \n",
       "PEDBE                   True                          False        False   \n",
       "HRSInCHPhenoAge         True                           True        False   \n",
       "\n",
       "                 AD:GSE80970  Overweight:GSE73103  IBD:GSE87640  IBD:GSE87648  \\\n",
       "Horvathv1              False                False         False         False   \n",
       "Hannum                 False                False          True          True   \n",
       "Lin                    False                False          True         False   \n",
       "PhenoAge               False                False          True          True   \n",
       "YingCausAge            False                False         False         False   \n",
       "YingDamAge             False                False         False          True   \n",
       "YingAdaptAge           False                False         False         False   \n",
       "Horvathv2              False                False         False         False   \n",
       "PEDBE                  False                False         False         False   \n",
       "HRSInCHPhenoAge        False                 True          True          True   \n",
       "\n",
       "                 HT:GSE157131  \n",
       "Horvathv1               False  \n",
       "Hannum                  False  \n",
       "Lin                     False  \n",
       "PhenoAge                 True  \n",
       "YingCausAge             False  \n",
       "YingDamAge              False  \n",
       "YingAdaptAge            False  \n",
       "Horvathv2               False  \n",
       "PEDBE                   False  \n",
       "HRSInCHPhenoAge          True  "
      ]
     },
     "execution_count": 15,
     "metadata": {},
     "output_type": "execute_result"
    }
   ],
   "source": [
    "pd.read_csv('/tank/projects/computage/results/bench_results_pre_noimputation_corrected.csv', index_col=0)#.sum(axis=1).sort_values(ascending=False)"
   ]
  },
  {
   "cell_type": "code",
   "execution_count": 13,
   "metadata": {},
   "outputs": [
    {
     "data": {
      "text/html": [
       "<div>\n",
       "<style scoped>\n",
       "    .dataframe tbody tr th:only-of-type {\n",
       "        vertical-align: middle;\n",
       "    }\n",
       "\n",
       "    .dataframe tbody tr th {\n",
       "        vertical-align: top;\n",
       "    }\n",
       "\n",
       "    .dataframe thead th {\n",
       "        text-align: right;\n",
       "    }\n",
       "</style>\n",
       "<table border=\"1\" class=\"dataframe\">\n",
       "  <thead>\n",
       "    <tr style=\"text-align: right;\">\n",
       "      <th></th>\n",
       "      <th>DS:GSE52588</th>\n",
       "      <th>Rheumatoid arthritis:GSE42861</th>\n",
       "      <th>AD:GSE59685</th>\n",
       "      <th>AD:GSE80970</th>\n",
       "      <th>Overweight:GSE73103</th>\n",
       "      <th>IBD:GSE87640</th>\n",
       "      <th>IBD:GSE87648</th>\n",
       "      <th>HT:GSE157131</th>\n",
       "    </tr>\n",
       "  </thead>\n",
       "  <tbody>\n",
       "    <tr>\n",
       "      <th>pls1_11_pheno_ultrav1</th>\n",
       "      <td>True</td>\n",
       "      <td>False</td>\n",
       "      <td>False</td>\n",
       "      <td>False</td>\n",
       "      <td>False</td>\n",
       "      <td>False</td>\n",
       "      <td>False</td>\n",
       "      <td>False</td>\n",
       "    </tr>\n",
       "    <tr>\n",
       "      <th>pls1_7_kdm_pheno_ultrav1</th>\n",
       "      <td>True</td>\n",
       "      <td>False</td>\n",
       "      <td>False</td>\n",
       "      <td>False</td>\n",
       "      <td>False</td>\n",
       "      <td>False</td>\n",
       "      <td>True</td>\n",
       "      <td>False</td>\n",
       "    </tr>\n",
       "    <tr>\n",
       "      <th>pls1_6_pheno_ultrav1</th>\n",
       "      <td>True</td>\n",
       "      <td>False</td>\n",
       "      <td>False</td>\n",
       "      <td>False</td>\n",
       "      <td>False</td>\n",
       "      <td>False</td>\n",
       "      <td>False</td>\n",
       "      <td>False</td>\n",
       "    </tr>\n",
       "    <tr>\n",
       "      <th>pls1_1_kdm_pheno_ultrav1</th>\n",
       "      <td>True</td>\n",
       "      <td>True</td>\n",
       "      <td>False</td>\n",
       "      <td>False</td>\n",
       "      <td>False</td>\n",
       "      <td>False</td>\n",
       "      <td>False</td>\n",
       "      <td>False</td>\n",
       "    </tr>\n",
       "    <tr>\n",
       "      <th>pls1_12_kdm_pheno_ultrav1</th>\n",
       "      <td>True</td>\n",
       "      <td>False</td>\n",
       "      <td>False</td>\n",
       "      <td>False</td>\n",
       "      <td>False</td>\n",
       "      <td>False</td>\n",
       "      <td>True</td>\n",
       "      <td>False</td>\n",
       "    </tr>\n",
       "    <tr>\n",
       "      <th>pls1_6_kdm_pheno_ultrav1</th>\n",
       "      <td>True</td>\n",
       "      <td>False</td>\n",
       "      <td>False</td>\n",
       "      <td>False</td>\n",
       "      <td>False</td>\n",
       "      <td>False</td>\n",
       "      <td>True</td>\n",
       "      <td>False</td>\n",
       "    </tr>\n",
       "    <tr>\n",
       "      <th>pls1_7_pheno_ultrav1</th>\n",
       "      <td>True</td>\n",
       "      <td>False</td>\n",
       "      <td>False</td>\n",
       "      <td>False</td>\n",
       "      <td>False</td>\n",
       "      <td>False</td>\n",
       "      <td>False</td>\n",
       "      <td>False</td>\n",
       "    </tr>\n",
       "    <tr>\n",
       "      <th>pls1_13_kdm_pheno_ultrav1</th>\n",
       "      <td>True</td>\n",
       "      <td>False</td>\n",
       "      <td>False</td>\n",
       "      <td>False</td>\n",
       "      <td>False</td>\n",
       "      <td>False</td>\n",
       "      <td>True</td>\n",
       "      <td>False</td>\n",
       "    </tr>\n",
       "    <tr>\n",
       "      <th>pls1_10_pheno_ultrav1</th>\n",
       "      <td>True</td>\n",
       "      <td>False</td>\n",
       "      <td>False</td>\n",
       "      <td>False</td>\n",
       "      <td>False</td>\n",
       "      <td>False</td>\n",
       "      <td>False</td>\n",
       "      <td>False</td>\n",
       "    </tr>\n",
       "    <tr>\n",
       "      <th>pls1_1_pheno_ultrav1</th>\n",
       "      <td>True</td>\n",
       "      <td>True</td>\n",
       "      <td>False</td>\n",
       "      <td>False</td>\n",
       "      <td>False</td>\n",
       "      <td>False</td>\n",
       "      <td>False</td>\n",
       "      <td>False</td>\n",
       "    </tr>\n",
       "    <tr>\n",
       "      <th>pls1_4_pheno_ultrav1</th>\n",
       "      <td>True</td>\n",
       "      <td>False</td>\n",
       "      <td>False</td>\n",
       "      <td>False</td>\n",
       "      <td>False</td>\n",
       "      <td>True</td>\n",
       "      <td>True</td>\n",
       "      <td>False</td>\n",
       "    </tr>\n",
       "    <tr>\n",
       "      <th>pls1_9_kdm_pheno_ultrav1</th>\n",
       "      <td>True</td>\n",
       "      <td>False</td>\n",
       "      <td>False</td>\n",
       "      <td>False</td>\n",
       "      <td>False</td>\n",
       "      <td>False</td>\n",
       "      <td>True</td>\n",
       "      <td>False</td>\n",
       "    </tr>\n",
       "    <tr>\n",
       "      <th>pls1_13_pheno_ultrav1</th>\n",
       "      <td>True</td>\n",
       "      <td>False</td>\n",
       "      <td>False</td>\n",
       "      <td>False</td>\n",
       "      <td>False</td>\n",
       "      <td>False</td>\n",
       "      <td>False</td>\n",
       "      <td>False</td>\n",
       "    </tr>\n",
       "    <tr>\n",
       "      <th>pls1_3_kdm_pheno_ultrav1</th>\n",
       "      <td>True</td>\n",
       "      <td>False</td>\n",
       "      <td>False</td>\n",
       "      <td>False</td>\n",
       "      <td>False</td>\n",
       "      <td>True</td>\n",
       "      <td>True</td>\n",
       "      <td>False</td>\n",
       "    </tr>\n",
       "    <tr>\n",
       "      <th>pls1_10_kdm_pheno_ultrav1</th>\n",
       "      <td>True</td>\n",
       "      <td>False</td>\n",
       "      <td>False</td>\n",
       "      <td>False</td>\n",
       "      <td>False</td>\n",
       "      <td>False</td>\n",
       "      <td>True</td>\n",
       "      <td>False</td>\n",
       "    </tr>\n",
       "    <tr>\n",
       "      <th>pls1_5_kdm_pheno_ultrav1</th>\n",
       "      <td>False</td>\n",
       "      <td>False</td>\n",
       "      <td>False</td>\n",
       "      <td>False</td>\n",
       "      <td>False</td>\n",
       "      <td>False</td>\n",
       "      <td>True</td>\n",
       "      <td>False</td>\n",
       "    </tr>\n",
       "    <tr>\n",
       "      <th>pls1_9_pheno_ultrav1</th>\n",
       "      <td>True</td>\n",
       "      <td>False</td>\n",
       "      <td>False</td>\n",
       "      <td>False</td>\n",
       "      <td>False</td>\n",
       "      <td>False</td>\n",
       "      <td>False</td>\n",
       "      <td>False</td>\n",
       "    </tr>\n",
       "    <tr>\n",
       "      <th>pls1_2_pheno_ultrav1</th>\n",
       "      <td>True</td>\n",
       "      <td>True</td>\n",
       "      <td>False</td>\n",
       "      <td>False</td>\n",
       "      <td>False</td>\n",
       "      <td>False</td>\n",
       "      <td>True</td>\n",
       "      <td>False</td>\n",
       "    </tr>\n",
       "    <tr>\n",
       "      <th>pls1_8_kdm_pheno_ultrav1</th>\n",
       "      <td>True</td>\n",
       "      <td>False</td>\n",
       "      <td>False</td>\n",
       "      <td>False</td>\n",
       "      <td>False</td>\n",
       "      <td>False</td>\n",
       "      <td>True</td>\n",
       "      <td>False</td>\n",
       "    </tr>\n",
       "    <tr>\n",
       "      <th>pls1_12_pheno_ultrav1</th>\n",
       "      <td>True</td>\n",
       "      <td>False</td>\n",
       "      <td>False</td>\n",
       "      <td>False</td>\n",
       "      <td>False</td>\n",
       "      <td>False</td>\n",
       "      <td>False</td>\n",
       "      <td>False</td>\n",
       "    </tr>\n",
       "    <tr>\n",
       "      <th>pls1_5_pheno_ultrav1</th>\n",
       "      <td>False</td>\n",
       "      <td>False</td>\n",
       "      <td>False</td>\n",
       "      <td>False</td>\n",
       "      <td>False</td>\n",
       "      <td>True</td>\n",
       "      <td>False</td>\n",
       "      <td>False</td>\n",
       "    </tr>\n",
       "    <tr>\n",
       "      <th>pls1_11_kdm_pheno_ultrav1</th>\n",
       "      <td>True</td>\n",
       "      <td>False</td>\n",
       "      <td>False</td>\n",
       "      <td>False</td>\n",
       "      <td>False</td>\n",
       "      <td>False</td>\n",
       "      <td>True</td>\n",
       "      <td>False</td>\n",
       "    </tr>\n",
       "    <tr>\n",
       "      <th>pls1_2_kdm_pheno_ultrav1</th>\n",
       "      <td>True</td>\n",
       "      <td>True</td>\n",
       "      <td>False</td>\n",
       "      <td>False</td>\n",
       "      <td>False</td>\n",
       "      <td>False</td>\n",
       "      <td>True</td>\n",
       "      <td>False</td>\n",
       "    </tr>\n",
       "    <tr>\n",
       "      <th>pls1_4_kdm_pheno_ultrav1</th>\n",
       "      <td>False</td>\n",
       "      <td>True</td>\n",
       "      <td>False</td>\n",
       "      <td>False</td>\n",
       "      <td>False</td>\n",
       "      <td>True</td>\n",
       "      <td>True</td>\n",
       "      <td>False</td>\n",
       "    </tr>\n",
       "    <tr>\n",
       "      <th>lasso_pheno_ultrav1</th>\n",
       "      <td>False</td>\n",
       "      <td>False</td>\n",
       "      <td>False</td>\n",
       "      <td>False</td>\n",
       "      <td>False</td>\n",
       "      <td>False</td>\n",
       "      <td>False</td>\n",
       "      <td>False</td>\n",
       "    </tr>\n",
       "    <tr>\n",
       "      <th>pls1_3_pheno_ultrav1</th>\n",
       "      <td>True</td>\n",
       "      <td>False</td>\n",
       "      <td>False</td>\n",
       "      <td>False</td>\n",
       "      <td>True</td>\n",
       "      <td>True</td>\n",
       "      <td>True</td>\n",
       "      <td>True</td>\n",
       "    </tr>\n",
       "    <tr>\n",
       "      <th>pls1_8_pheno_ultrav1</th>\n",
       "      <td>True</td>\n",
       "      <td>False</td>\n",
       "      <td>False</td>\n",
       "      <td>False</td>\n",
       "      <td>False</td>\n",
       "      <td>False</td>\n",
       "      <td>False</td>\n",
       "      <td>False</td>\n",
       "    </tr>\n",
       "  </tbody>\n",
       "</table>\n",
       "</div>"
      ],
      "text/plain": [
       "                           DS:GSE52588  Rheumatoid arthritis:GSE42861  \\\n",
       "pls1_11_pheno_ultrav1             True                          False   \n",
       "pls1_7_kdm_pheno_ultrav1          True                          False   \n",
       "pls1_6_pheno_ultrav1              True                          False   \n",
       "pls1_1_kdm_pheno_ultrav1          True                           True   \n",
       "pls1_12_kdm_pheno_ultrav1         True                          False   \n",
       "pls1_6_kdm_pheno_ultrav1          True                          False   \n",
       "pls1_7_pheno_ultrav1              True                          False   \n",
       "pls1_13_kdm_pheno_ultrav1         True                          False   \n",
       "pls1_10_pheno_ultrav1             True                          False   \n",
       "pls1_1_pheno_ultrav1              True                           True   \n",
       "pls1_4_pheno_ultrav1              True                          False   \n",
       "pls1_9_kdm_pheno_ultrav1          True                          False   \n",
       "pls1_13_pheno_ultrav1             True                          False   \n",
       "pls1_3_kdm_pheno_ultrav1          True                          False   \n",
       "pls1_10_kdm_pheno_ultrav1         True                          False   \n",
       "pls1_5_kdm_pheno_ultrav1         False                          False   \n",
       "pls1_9_pheno_ultrav1              True                          False   \n",
       "pls1_2_pheno_ultrav1              True                           True   \n",
       "pls1_8_kdm_pheno_ultrav1          True                          False   \n",
       "pls1_12_pheno_ultrav1             True                          False   \n",
       "pls1_5_pheno_ultrav1             False                          False   \n",
       "pls1_11_kdm_pheno_ultrav1         True                          False   \n",
       "pls1_2_kdm_pheno_ultrav1          True                           True   \n",
       "pls1_4_kdm_pheno_ultrav1         False                           True   \n",
       "lasso_pheno_ultrav1              False                          False   \n",
       "pls1_3_pheno_ultrav1              True                          False   \n",
       "pls1_8_pheno_ultrav1              True                          False   \n",
       "\n",
       "                           AD:GSE59685  AD:GSE80970  Overweight:GSE73103  \\\n",
       "pls1_11_pheno_ultrav1            False        False                False   \n",
       "pls1_7_kdm_pheno_ultrav1         False        False                False   \n",
       "pls1_6_pheno_ultrav1             False        False                False   \n",
       "pls1_1_kdm_pheno_ultrav1         False        False                False   \n",
       "pls1_12_kdm_pheno_ultrav1        False        False                False   \n",
       "pls1_6_kdm_pheno_ultrav1         False        False                False   \n",
       "pls1_7_pheno_ultrav1             False        False                False   \n",
       "pls1_13_kdm_pheno_ultrav1        False        False                False   \n",
       "pls1_10_pheno_ultrav1            False        False                False   \n",
       "pls1_1_pheno_ultrav1             False        False                False   \n",
       "pls1_4_pheno_ultrav1             False        False                False   \n",
       "pls1_9_kdm_pheno_ultrav1         False        False                False   \n",
       "pls1_13_pheno_ultrav1            False        False                False   \n",
       "pls1_3_kdm_pheno_ultrav1         False        False                False   \n",
       "pls1_10_kdm_pheno_ultrav1        False        False                False   \n",
       "pls1_5_kdm_pheno_ultrav1         False        False                False   \n",
       "pls1_9_pheno_ultrav1             False        False                False   \n",
       "pls1_2_pheno_ultrav1             False        False                False   \n",
       "pls1_8_kdm_pheno_ultrav1         False        False                False   \n",
       "pls1_12_pheno_ultrav1            False        False                False   \n",
       "pls1_5_pheno_ultrav1             False        False                False   \n",
       "pls1_11_kdm_pheno_ultrav1        False        False                False   \n",
       "pls1_2_kdm_pheno_ultrav1         False        False                False   \n",
       "pls1_4_kdm_pheno_ultrav1         False        False                False   \n",
       "lasso_pheno_ultrav1              False        False                False   \n",
       "pls1_3_pheno_ultrav1             False        False                 True   \n",
       "pls1_8_pheno_ultrav1             False        False                False   \n",
       "\n",
       "                           IBD:GSE87640  IBD:GSE87648  HT:GSE157131  \n",
       "pls1_11_pheno_ultrav1             False         False         False  \n",
       "pls1_7_kdm_pheno_ultrav1          False          True         False  \n",
       "pls1_6_pheno_ultrav1              False         False         False  \n",
       "pls1_1_kdm_pheno_ultrav1          False         False         False  \n",
       "pls1_12_kdm_pheno_ultrav1         False          True         False  \n",
       "pls1_6_kdm_pheno_ultrav1          False          True         False  \n",
       "pls1_7_pheno_ultrav1              False         False         False  \n",
       "pls1_13_kdm_pheno_ultrav1         False          True         False  \n",
       "pls1_10_pheno_ultrav1             False         False         False  \n",
       "pls1_1_pheno_ultrav1              False         False         False  \n",
       "pls1_4_pheno_ultrav1               True          True         False  \n",
       "pls1_9_kdm_pheno_ultrav1          False          True         False  \n",
       "pls1_13_pheno_ultrav1             False         False         False  \n",
       "pls1_3_kdm_pheno_ultrav1           True          True         False  \n",
       "pls1_10_kdm_pheno_ultrav1         False          True         False  \n",
       "pls1_5_kdm_pheno_ultrav1          False          True         False  \n",
       "pls1_9_pheno_ultrav1              False         False         False  \n",
       "pls1_2_pheno_ultrav1              False          True         False  \n",
       "pls1_8_kdm_pheno_ultrav1          False          True         False  \n",
       "pls1_12_pheno_ultrav1             False         False         False  \n",
       "pls1_5_pheno_ultrav1               True         False         False  \n",
       "pls1_11_kdm_pheno_ultrav1         False          True         False  \n",
       "pls1_2_kdm_pheno_ultrav1          False          True         False  \n",
       "pls1_4_kdm_pheno_ultrav1           True          True         False  \n",
       "lasso_pheno_ultrav1               False         False         False  \n",
       "pls1_3_pheno_ultrav1               True          True          True  \n",
       "pls1_8_pheno_ultrav1              False         False         False  "
      ]
     },
     "execution_count": 13,
     "metadata": {},
     "output_type": "execute_result"
    }
   ],
   "source": [
    "pd.read_csv('/tank/projects/computage/results/bench_results_ultrav1_train_pheno_corrected.csv', index_col=0)#.sum(axis=1).sort_values(ascending=False)"
   ]
  },
  {
   "cell_type": "code",
   "execution_count": 23,
   "metadata": {},
   "outputs": [
    {
     "data": {
      "text/html": [
       "<div>\n",
       "<style scoped>\n",
       "    .dataframe tbody tr th:only-of-type {\n",
       "        vertical-align: middle;\n",
       "    }\n",
       "\n",
       "    .dataframe tbody tr th {\n",
       "        vertical-align: top;\n",
       "    }\n",
       "\n",
       "    .dataframe thead th {\n",
       "        text-align: right;\n",
       "    }\n",
       "</style>\n",
       "<table border=\"1\" class=\"dataframe\">\n",
       "  <thead>\n",
       "    <tr style=\"text-align: right;\">\n",
       "      <th></th>\n",
       "      <th>DS:GSE52588</th>\n",
       "      <th>Rheumatoid arthritis:GSE42861</th>\n",
       "      <th>AD:GSE59685</th>\n",
       "      <th>AD:GSE80970</th>\n",
       "      <th>Overweight:GSE73103</th>\n",
       "      <th>IBD:GSE87640</th>\n",
       "      <th>IBD:GSE87648</th>\n",
       "      <th>HT:GSE157131</th>\n",
       "    </tr>\n",
       "  </thead>\n",
       "  <tbody>\n",
       "    <tr>\n",
       "      <th>kdm_rse_all_20k</th>\n",
       "      <td>True</td>\n",
       "      <td>True</td>\n",
       "      <td>False</td>\n",
       "      <td>False</td>\n",
       "      <td>False</td>\n",
       "      <td>False</td>\n",
       "      <td>True</td>\n",
       "      <td>False</td>\n",
       "    </tr>\n",
       "    <tr>\n",
       "      <th>kdm_rse_forward_20k</th>\n",
       "      <td>False</td>\n",
       "      <td>False</td>\n",
       "      <td>False</td>\n",
       "      <td>False</td>\n",
       "      <td>True</td>\n",
       "      <td>True</td>\n",
       "      <td>False</td>\n",
       "      <td>False</td>\n",
       "    </tr>\n",
       "  </tbody>\n",
       "</table>\n",
       "</div>"
      ],
      "text/plain": [
       "                     DS:GSE52588  Rheumatoid arthritis:GSE42861  AD:GSE59685  \\\n",
       "kdm_rse_all_20k             True                           True        False   \n",
       "kdm_rse_forward_20k        False                          False        False   \n",
       "\n",
       "                     AD:GSE80970  Overweight:GSE73103  IBD:GSE87640  \\\n",
       "kdm_rse_all_20k            False                False         False   \n",
       "kdm_rse_forward_20k        False                 True          True   \n",
       "\n",
       "                     IBD:GSE87648  HT:GSE157131  \n",
       "kdm_rse_all_20k              True         False  \n",
       "kdm_rse_forward_20k         False         False  "
      ]
     },
     "execution_count": 23,
     "metadata": {},
     "output_type": "execute_result"
    }
   ],
   "source": [
    "pd.read_csv('/tank/projects/computage/results/bench_results_kdm_corrected.csv', index_col=0)"
   ]
  },
  {
   "cell_type": "code",
   "execution_count": 84,
   "metadata": {},
   "outputs": [],
   "source": [
    "bench_results_logical = bench_results < 0.05\n",
    "bench_results_logical"
   ]
  },
  {
   "cell_type": "code",
   "execution_count": 49,
   "metadata": {},
   "outputs": [
    {
     "data": {
      "text/html": [
       "<div>\n",
       "<style scoped>\n",
       "    .dataframe tbody tr th:only-of-type {\n",
       "        vertical-align: middle;\n",
       "    }\n",
       "\n",
       "    .dataframe tbody tr th {\n",
       "        vertical-align: top;\n",
       "    }\n",
       "\n",
       "    .dataframe thead th {\n",
       "        text-align: right;\n",
       "    }\n",
       "</style>\n",
       "<table border=\"1\" class=\"dataframe\">\n",
       "  <thead>\n",
       "    <tr style=\"text-align: right;\">\n",
       "      <th></th>\n",
       "      <th>year</th>\n",
       "      <th>species</th>\n",
       "      <th>tissue</th>\n",
       "      <th>source</th>\n",
       "      <th>output</th>\n",
       "      <th>model</th>\n",
       "    </tr>\n",
       "  </thead>\n",
       "  <tbody>\n",
       "    <tr>\n",
       "      <th>Horvathv1</th>\n",
       "      <td>2013</td>\n",
       "      <td>Human</td>\n",
       "      <td>Multi-tissue</td>\n",
       "      <td>https://genomebiology.biomedcentral.com/articl...</td>\n",
       "      <td>Age (Years)</td>\n",
       "      <td>{'type': 'LinearMethylationModel', 'file': 'Ho...</td>\n",
       "    </tr>\n",
       "    <tr>\n",
       "      <th>Hannum</th>\n",
       "      <td>2013</td>\n",
       "      <td>Human</td>\n",
       "      <td>Blood</td>\n",
       "      <td>https://www.sciencedirect.com/science/article/...</td>\n",
       "      <td>Age (Years)</td>\n",
       "      <td>{'type': 'LinearMethylationModel', 'file': 'Ha...</td>\n",
       "    </tr>\n",
       "    <tr>\n",
       "      <th>Lin</th>\n",
       "      <td>2016</td>\n",
       "      <td>Human</td>\n",
       "      <td>Blood</td>\n",
       "      <td>https://www.aging-us.com/article/100908/text</td>\n",
       "      <td>Age (Years)</td>\n",
       "      <td>{'type': 'LinearMethylationModel', 'file': 'Li...</td>\n",
       "    </tr>\n",
       "    <tr>\n",
       "      <th>PhenoAge</th>\n",
       "      <td>2018</td>\n",
       "      <td>Human</td>\n",
       "      <td>Blood</td>\n",
       "      <td>https://www.aging-us.com/article/101414/text</td>\n",
       "      <td>Age (Years)</td>\n",
       "      <td>{'type': 'LinearMethylationModel', 'file': 'Ph...</td>\n",
       "    </tr>\n",
       "    <tr>\n",
       "      <th>YingCausAge</th>\n",
       "      <td>2022</td>\n",
       "      <td>Human</td>\n",
       "      <td>Blood</td>\n",
       "      <td>https://www.biorxiv.org/content/10.1101/2022.1...</td>\n",
       "      <td>Age (Years)</td>\n",
       "      <td>{'type': 'LinearMethylationModel', 'file': 'Yi...</td>\n",
       "    </tr>\n",
       "    <tr>\n",
       "      <th>YingDamAge</th>\n",
       "      <td>2022</td>\n",
       "      <td>Human</td>\n",
       "      <td>Blood</td>\n",
       "      <td>https://www.biorxiv.org/content/10.1101/2022.1...</td>\n",
       "      <td>Age (Years)</td>\n",
       "      <td>{'type': 'LinearMethylationModel', 'file': 'Yi...</td>\n",
       "    </tr>\n",
       "    <tr>\n",
       "      <th>YingAdaptAge</th>\n",
       "      <td>2022</td>\n",
       "      <td>Human</td>\n",
       "      <td>Blood</td>\n",
       "      <td>https://www.biorxiv.org/content/10.1101/2022.1...</td>\n",
       "      <td>Age (Years)</td>\n",
       "      <td>{'type': 'LinearMethylationModel', 'file': 'Yi...</td>\n",
       "    </tr>\n",
       "    <tr>\n",
       "      <th>Horvathv2</th>\n",
       "      <td>2018</td>\n",
       "      <td>Human</td>\n",
       "      <td>Skin + blood</td>\n",
       "      <td>https://www.aging-us.com/article/101508/text</td>\n",
       "      <td>Age (Years)</td>\n",
       "      <td>{'type': 'LinearMethylationModel', 'file': 'Ho...</td>\n",
       "    </tr>\n",
       "    <tr>\n",
       "      <th>PEDBE</th>\n",
       "      <td>2019</td>\n",
       "      <td>Human</td>\n",
       "      <td>Buccal</td>\n",
       "      <td>https://www.pnas.org/doi/10.1073/pnas.1820843116</td>\n",
       "      <td>Age (Years)</td>\n",
       "      <td>{'type': 'LinearMethylationModel', 'file': 'PE...</td>\n",
       "    </tr>\n",
       "    <tr>\n",
       "      <th>Zhang_10</th>\n",
       "      <td>2019</td>\n",
       "      <td>Human</td>\n",
       "      <td>Blood</td>\n",
       "      <td>https://www.nature.com/articles/ncomms14617</td>\n",
       "      <td>Mortality Risk</td>\n",
       "      <td>{'type': 'LinearMethylationModel', 'file': 'Zh...</td>\n",
       "    </tr>\n",
       "    <tr>\n",
       "      <th>DunedinPoAm38</th>\n",
       "      <td>2020</td>\n",
       "      <td>Human</td>\n",
       "      <td>Blood</td>\n",
       "      <td>https://elifesciences.org/articles/54870#s2</td>\n",
       "      <td>Aging Rate (Years/Year)</td>\n",
       "      <td>{'type': 'LinearMethylationModel', 'file': 'Du...</td>\n",
       "    </tr>\n",
       "    <tr>\n",
       "      <th>DunedinPACE</th>\n",
       "      <td>2022</td>\n",
       "      <td>Human</td>\n",
       "      <td>Blood</td>\n",
       "      <td>https://www.proquest.com/docview/2634411178</td>\n",
       "      <td>Aging Rate (Years/Year)</td>\n",
       "      <td>{'type': 'LinearMethylationModel', 'file': 'Du...</td>\n",
       "    </tr>\n",
       "    <tr>\n",
       "      <th>GrimAgeV1</th>\n",
       "      <td>2019</td>\n",
       "      <td>Human</td>\n",
       "      <td>Blood</td>\n",
       "      <td>https://www.ncbi.nlm.nih.gov/pmc/articles/PMC6...</td>\n",
       "      <td>Mortality Adjusted Age (Years)</td>\n",
       "      <td>{'type': 'GrimageModel', 'file': 'GrimAgeV1.csv'}</td>\n",
       "    </tr>\n",
       "    <tr>\n",
       "      <th>GrimAgeV2</th>\n",
       "      <td>2022</td>\n",
       "      <td>Human</td>\n",
       "      <td>Blood</td>\n",
       "      <td>https://www.ncbi.nlm.nih.gov/pmc/articles/PMC9...</td>\n",
       "      <td>Mortality Adjusted Age (Years)</td>\n",
       "      <td>{'type': 'GrimageModel', 'file': 'GrimAgeV2.csv'}</td>\n",
       "    </tr>\n",
       "    <tr>\n",
       "      <th>AlcoholMcCartney</th>\n",
       "      <td>2018</td>\n",
       "      <td>Human</td>\n",
       "      <td>Blood</td>\n",
       "      <td>https://www.ncbi.nlm.nih.gov/pmc/articles/PMC6...</td>\n",
       "      <td>Alcohol Consumption</td>\n",
       "      <td>{'type': 'LinearMethylationModel', 'file': 'Al...</td>\n",
       "    </tr>\n",
       "    <tr>\n",
       "      <th>BMI_McCartney</th>\n",
       "      <td>2018</td>\n",
       "      <td>Human</td>\n",
       "      <td>Blood</td>\n",
       "      <td>https://www.ncbi.nlm.nih.gov/pmc/articles/PMC6...</td>\n",
       "      <td>BMI</td>\n",
       "      <td>{'type': 'LinearMethylationModel', 'file': 'BM...</td>\n",
       "    </tr>\n",
       "    <tr>\n",
       "      <th>DNAmTL</th>\n",
       "      <td>2019</td>\n",
       "      <td>Human</td>\n",
       "      <td>Blood, Adipose</td>\n",
       "      <td>https://www.ncbi.nlm.nih.gov/pmc/articles/PMC6...</td>\n",
       "      <td>Telomere Length</td>\n",
       "      <td>{'type': 'LinearMethylationModel', 'file': 'DN...</td>\n",
       "    </tr>\n",
       "    <tr>\n",
       "      <th>HRSInCHPhenoAge</th>\n",
       "      <td>2022</td>\n",
       "      <td>Human</td>\n",
       "      <td>Blood</td>\n",
       "      <td>https://www.nature.com/articles/s43587-022-002...</td>\n",
       "      <td>Age (Years)</td>\n",
       "      <td>{'type': 'LinearMethylationModel', 'file': 'HR...</td>\n",
       "    </tr>\n",
       "    <tr>\n",
       "      <th>Knight</th>\n",
       "      <td>2016</td>\n",
       "      <td>Human</td>\n",
       "      <td>Cord Blood</td>\n",
       "      <td>https://genomebiology.biomedcentral.com/articl...</td>\n",
       "      <td>Gestational Age</td>\n",
       "      <td>{'type': 'LinearMethylationModel', 'file': 'Kn...</td>\n",
       "    </tr>\n",
       "    <tr>\n",
       "      <th>LeeControl</th>\n",
       "      <td>2019</td>\n",
       "      <td>Human</td>\n",
       "      <td>Placenta</td>\n",
       "      <td>https://www.aging-us.com/article/102049/text</td>\n",
       "      <td>Gestational Age</td>\n",
       "      <td>{'type': 'LinearMethylationModel', 'file': 'Le...</td>\n",
       "    </tr>\n",
       "    <tr>\n",
       "      <th>SexEstimation</th>\n",
       "      <td>2021</td>\n",
       "      <td>Human</td>\n",
       "      <td>Blood</td>\n",
       "      <td>https://bmcgenomics.biomedcentral.com/articles...</td>\n",
       "      <td>Sex</td>\n",
       "      <td>{'type': 'SexEstimationModel', 'file': 'estima...</td>\n",
       "    </tr>\n",
       "    <tr>\n",
       "      <th>LeeRefinedRobust</th>\n",
       "      <td>2019</td>\n",
       "      <td>Human</td>\n",
       "      <td>Placenta</td>\n",
       "      <td>https://www.aging-us.com/article/102049/text</td>\n",
       "      <td>Gestational Age</td>\n",
       "      <td>{'type': 'LinearMethylationModel', 'file': 'Le...</td>\n",
       "    </tr>\n",
       "    <tr>\n",
       "      <th>LeeRobust</th>\n",
       "      <td>2019</td>\n",
       "      <td>Human</td>\n",
       "      <td>Placenta</td>\n",
       "      <td>https://www.aging-us.com/article/102049/text</td>\n",
       "      <td>Gestational Age</td>\n",
       "      <td>{'type': 'LinearMethylationModel', 'file': 'Le...</td>\n",
       "    </tr>\n",
       "    <tr>\n",
       "      <th>SmokingMcCartney</th>\n",
       "      <td>2018</td>\n",
       "      <td>Human</td>\n",
       "      <td>Blood</td>\n",
       "      <td>https://www.ncbi.nlm.nih.gov/pmc/articles/PMC6...</td>\n",
       "      <td>Smoking Status</td>\n",
       "      <td>{'type': 'LinearMethylationModel', 'file': 'Sm...</td>\n",
       "    </tr>\n",
       "    <tr>\n",
       "      <th>DownSyndrome</th>\n",
       "      <td>2021</td>\n",
       "      <td>Human</td>\n",
       "      <td>Blood</td>\n",
       "      <td>https://www.nature.com/articles/s41467-021-210...</td>\n",
       "      <td>Down Syndrome Prediction</td>\n",
       "      <td>{'type': 'LinearMethylationModel', 'file': 'do...</td>\n",
       "    </tr>\n",
       "  </tbody>\n",
       "</table>\n",
       "</div>"
      ],
      "text/plain": [
       "                  year species          tissue  \\\n",
       "Horvathv1         2013   Human    Multi-tissue   \n",
       "Hannum            2013   Human           Blood   \n",
       "Lin               2016   Human           Blood   \n",
       "PhenoAge          2018   Human           Blood   \n",
       "YingCausAge       2022   Human           Blood   \n",
       "YingDamAge        2022   Human           Blood   \n",
       "YingAdaptAge      2022   Human           Blood   \n",
       "Horvathv2         2018   Human    Skin + blood   \n",
       "PEDBE             2019   Human          Buccal   \n",
       "Zhang_10          2019   Human           Blood   \n",
       "DunedinPoAm38     2020   Human           Blood   \n",
       "DunedinPACE       2022   Human           Blood   \n",
       "GrimAgeV1         2019   Human           Blood   \n",
       "GrimAgeV2         2022   Human           Blood   \n",
       "AlcoholMcCartney  2018   Human           Blood   \n",
       "BMI_McCartney     2018   Human           Blood   \n",
       "DNAmTL            2019   Human  Blood, Adipose   \n",
       "HRSInCHPhenoAge   2022   Human           Blood   \n",
       "Knight            2016   Human      Cord Blood   \n",
       "LeeControl        2019   Human        Placenta   \n",
       "SexEstimation     2021   Human           Blood   \n",
       "LeeRefinedRobust  2019   Human        Placenta   \n",
       "LeeRobust         2019   Human        Placenta   \n",
       "SmokingMcCartney  2018   Human           Blood   \n",
       "DownSyndrome      2021   Human           Blood   \n",
       "\n",
       "                                                             source  \\\n",
       "Horvathv1         https://genomebiology.biomedcentral.com/articl...   \n",
       "Hannum            https://www.sciencedirect.com/science/article/...   \n",
       "Lin                    https://www.aging-us.com/article/100908/text   \n",
       "PhenoAge               https://www.aging-us.com/article/101414/text   \n",
       "YingCausAge       https://www.biorxiv.org/content/10.1101/2022.1...   \n",
       "YingDamAge        https://www.biorxiv.org/content/10.1101/2022.1...   \n",
       "YingAdaptAge      https://www.biorxiv.org/content/10.1101/2022.1...   \n",
       "Horvathv2              https://www.aging-us.com/article/101508/text   \n",
       "PEDBE              https://www.pnas.org/doi/10.1073/pnas.1820843116   \n",
       "Zhang_10                https://www.nature.com/articles/ncomms14617   \n",
       "DunedinPoAm38           https://elifesciences.org/articles/54870#s2   \n",
       "DunedinPACE             https://www.proquest.com/docview/2634411178   \n",
       "GrimAgeV1         https://www.ncbi.nlm.nih.gov/pmc/articles/PMC6...   \n",
       "GrimAgeV2         https://www.ncbi.nlm.nih.gov/pmc/articles/PMC9...   \n",
       "AlcoholMcCartney  https://www.ncbi.nlm.nih.gov/pmc/articles/PMC6...   \n",
       "BMI_McCartney     https://www.ncbi.nlm.nih.gov/pmc/articles/PMC6...   \n",
       "DNAmTL            https://www.ncbi.nlm.nih.gov/pmc/articles/PMC6...   \n",
       "HRSInCHPhenoAge   https://www.nature.com/articles/s43587-022-002...   \n",
       "Knight            https://genomebiology.biomedcentral.com/articl...   \n",
       "LeeControl             https://www.aging-us.com/article/102049/text   \n",
       "SexEstimation     https://bmcgenomics.biomedcentral.com/articles...   \n",
       "LeeRefinedRobust       https://www.aging-us.com/article/102049/text   \n",
       "LeeRobust              https://www.aging-us.com/article/102049/text   \n",
       "SmokingMcCartney  https://www.ncbi.nlm.nih.gov/pmc/articles/PMC6...   \n",
       "DownSyndrome      https://www.nature.com/articles/s41467-021-210...   \n",
       "\n",
       "                                          output  \\\n",
       "Horvathv1                            Age (Years)   \n",
       "Hannum                               Age (Years)   \n",
       "Lin                                  Age (Years)   \n",
       "PhenoAge                             Age (Years)   \n",
       "YingCausAge                          Age (Years)   \n",
       "YingDamAge                           Age (Years)   \n",
       "YingAdaptAge                         Age (Years)   \n",
       "Horvathv2                            Age (Years)   \n",
       "PEDBE                                Age (Years)   \n",
       "Zhang_10                          Mortality Risk   \n",
       "DunedinPoAm38            Aging Rate (Years/Year)   \n",
       "DunedinPACE              Aging Rate (Years/Year)   \n",
       "GrimAgeV1         Mortality Adjusted Age (Years)   \n",
       "GrimAgeV2         Mortality Adjusted Age (Years)   \n",
       "AlcoholMcCartney             Alcohol Consumption   \n",
       "BMI_McCartney                                BMI   \n",
       "DNAmTL                           Telomere Length   \n",
       "HRSInCHPhenoAge                      Age (Years)   \n",
       "Knight                           Gestational Age   \n",
       "LeeControl                       Gestational Age   \n",
       "SexEstimation                                Sex   \n",
       "LeeRefinedRobust                 Gestational Age   \n",
       "LeeRobust                        Gestational Age   \n",
       "SmokingMcCartney                  Smoking Status   \n",
       "DownSyndrome            Down Syndrome Prediction   \n",
       "\n",
       "                                                              model  \n",
       "Horvathv1         {'type': 'LinearMethylationModel', 'file': 'Ho...  \n",
       "Hannum            {'type': 'LinearMethylationModel', 'file': 'Ha...  \n",
       "Lin               {'type': 'LinearMethylationModel', 'file': 'Li...  \n",
       "PhenoAge          {'type': 'LinearMethylationModel', 'file': 'Ph...  \n",
       "YingCausAge       {'type': 'LinearMethylationModel', 'file': 'Yi...  \n",
       "YingDamAge        {'type': 'LinearMethylationModel', 'file': 'Yi...  \n",
       "YingAdaptAge      {'type': 'LinearMethylationModel', 'file': 'Yi...  \n",
       "Horvathv2         {'type': 'LinearMethylationModel', 'file': 'Ho...  \n",
       "PEDBE             {'type': 'LinearMethylationModel', 'file': 'PE...  \n",
       "Zhang_10          {'type': 'LinearMethylationModel', 'file': 'Zh...  \n",
       "DunedinPoAm38     {'type': 'LinearMethylationModel', 'file': 'Du...  \n",
       "DunedinPACE       {'type': 'LinearMethylationModel', 'file': 'Du...  \n",
       "GrimAgeV1         {'type': 'GrimageModel', 'file': 'GrimAgeV1.csv'}  \n",
       "GrimAgeV2         {'type': 'GrimageModel', 'file': 'GrimAgeV2.csv'}  \n",
       "AlcoholMcCartney  {'type': 'LinearMethylationModel', 'file': 'Al...  \n",
       "BMI_McCartney     {'type': 'LinearMethylationModel', 'file': 'BM...  \n",
       "DNAmTL            {'type': 'LinearMethylationModel', 'file': 'DN...  \n",
       "HRSInCHPhenoAge   {'type': 'LinearMethylationModel', 'file': 'HR...  \n",
       "Knight            {'type': 'LinearMethylationModel', 'file': 'Kn...  \n",
       "LeeControl        {'type': 'LinearMethylationModel', 'file': 'Le...  \n",
       "SexEstimation     {'type': 'SexEstimationModel', 'file': 'estima...  \n",
       "LeeRefinedRobust  {'type': 'LinearMethylationModel', 'file': 'Le...  \n",
       "LeeRobust         {'type': 'LinearMethylationModel', 'file': 'Le...  \n",
       "SmokingMcCartney  {'type': 'LinearMethylationModel', 'file': 'Sm...  \n",
       "DownSyndrome      {'type': 'LinearMethylationModel', 'file': 'do...  "
      ]
     },
     "execution_count": 49,
     "metadata": {},
     "output_type": "execute_result"
    }
   ],
   "source": [
    "#look up at all models\n",
    "pd.DataFrame(gallery.model_definitions).T"
   ]
  },
  {
   "cell_type": "code",
   "execution_count": null,
   "metadata": {},
   "outputs": [],
   "source": []
  },
  {
   "cell_type": "code",
   "execution_count": null,
   "metadata": {},
   "outputs": [],
   "source": []
  }
 ],
 "metadata": {
  "kernelspec": {
   "display_name": "clocks",
   "language": "python",
   "name": "python3"
  },
  "language_info": {
   "codemirror_mode": {
    "name": "ipython",
    "version": 3
   },
   "file_extension": ".py",
   "mimetype": "text/x-python",
   "name": "python",
   "nbconvert_exporter": "python",
   "pygments_lexer": "ipython3",
   "version": "3.10.13"
  }
 },
 "nbformat": 4,
 "nbformat_minor": 2
}
