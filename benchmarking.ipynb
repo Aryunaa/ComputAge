{
 "cells": [
  {
   "cell_type": "code",
   "execution_count": 3,
   "metadata": {},
   "outputs": [],
   "source": [
    "%load_ext autoreload\n",
    "%autoreload 2\n",
    "\n",
    "from biolearn.data_library import DataLibrary\n",
    "import pickle\n",
    "from tqdm import tqdm\n",
    "import textwrap\n",
    "import pandas as pd\n",
    "import numpy as np\n",
    "from scipy.stats import mannwhitneyu, wilcoxon\n",
    "from statsmodels.stats.multitest import multipletests\n",
    "from os.path import basename, splitext, exists\n",
    "from glob import glob\n",
    "\n",
    "from computage.utils.data_utils import test_dataset\n",
    "from computage.configs.datasets_bench_config import *\n",
    "from computage.benchmarking.benchmarking import EpiClocksBenchmarking\n",
    "\n",
    "import warnings\n",
    "warnings.filterwarnings('ignore')"
   ]
  },
  {
   "cell_type": "markdown",
   "metadata": {},
   "source": [
    "# test call of dataset"
   ]
  },
  {
   "cell_type": "code",
   "execution_count": 166,
   "metadata": {},
   "outputs": [
    {
     "name": "stdout",
     "output_type": "stream",
     "text": [
      "Down syndrome is characterized by a wide spectrum of clinical signs,\n",
      "which include cognitive and endocrine disorders and haematological\n",
      "abnormalities. Although it is well established that the causative\n",
      "defect of Down syndrome is the trisomy of chromosome 21, the molecular\n",
      "bases of Down syndrome phenotype are still largely unknown. We used\n",
      "the Infinium HumanMethylation450 BeadChip to investigate DNA\n",
      "methylation patterns in whole blood from 29 subjects affected by Down\n",
      "syndrome (DS), using their healthy relatives as controls (mothers  and\n",
      "unaffected siblings). This family-based model allowed us to monitor\n",
      "possible confounding effects on DNA methylation patterns deriving from\n",
      "genetic and environmental (lifestyle) factors. The identified\n",
      "epigenetic signature of Down syndrome includes differentially\n",
      "methylated regions that, although enriched on chromosome 21, interest\n",
      "most of the other chromosomes and can be functionally linked to the\n",
      "developmental and haematological defects characteristic of the\n",
      "disease.\n"
     ]
    }
   ],
   "source": [
    "gse = 'GSE52588'\n",
    "data_source = DataLibrary().get(gse)\n",
    "\n",
    "print(textwrap.fill(data_source.summary, 70))\n",
    "data=data_source.load()"
   ]
  },
  {
   "cell_type": "code",
   "execution_count": 167,
   "metadata": {},
   "outputs": [],
   "source": [
    "data_obj = {}\n",
    "data_obj['data'] = data.dnam\n",
    "data_obj['meta'] = data.metadata"
   ]
  },
  {
   "cell_type": "code",
   "execution_count": 168,
   "metadata": {},
   "outputs": [],
   "source": [
    "pickle.dump(data_obj, open(f'data/{gse}.pkl', 'wb'))"
   ]
  },
  {
   "cell_type": "code",
   "execution_count": 169,
   "metadata": {},
   "outputs": [],
   "source": [
    "#now load it\n",
    "data_obj = pickle.load(open(f'data/{gse}.pkl', 'rb'))"
   ]
  },
  {
   "cell_type": "code",
   "execution_count": 171,
   "metadata": {},
   "outputs": [
    {
     "data": {
      "text/plain": [
       "id\n",
       "GSM1272122    Down syndrome\n",
       "GSM1272123    Down syndrome\n",
       "GSM1272124    Down syndrome\n",
       "GSM1272125    Down syndrome\n",
       "GSM1272126    Down syndrome\n",
       "                  ...      \n",
       "GSM1272204          healthy\n",
       "GSM1272205          healthy\n",
       "GSM1272206          healthy\n",
       "GSM1272207          healthy\n",
       "GSM1272208          healthy\n",
       "Name: disease_state, Length: 87, dtype: object"
      ]
     },
     "execution_count": 171,
     "metadata": {},
     "output_type": "execute_result"
    }
   ],
   "source": [
    "data_obj['meta']['disease_state']#.value_counts()"
   ]
  },
  {
   "cell_type": "markdown",
   "metadata": {},
   "source": [
    "# test dataset downloading"
   ]
  },
  {
   "cell_type": "code",
   "execution_count": 1,
   "metadata": {},
   "outputs": [
    {
     "data": {
      "text/plain": [
       "'https://downloader.disk.yandex.ru/disk/c3497b4318bdb37d31e77c872507055652550449e3a53e42ad020f4553360079/6602bc7e/o-xAw257UInz2E5KCNNYxzrwZIFIEChaHjZ5c8XuVTkQQP5Vu3LX_PfcrbWl_WXMgzctlrPIR5lis-RHW_1Y4w%3D%3D?uid=0&filename=jess.jpg&disposition=attachment&hash=PIh7RkISs8vpRICogGJFgYXo7GoHNggOK3PpICkoZx%2BkzyvR9xvEdnuySuRZLXysq/J6bpmRyOJonT3VoXnDag%3D%3D%3A&limit=0&content_type=image%2Fjpeg&owner_uid=614251127&fsize=3052875&hid=53e1d3b50896254829e1f189ba2f4197&media_type=image&tknv=v2'"
      ]
     },
     "execution_count": 1,
     "metadata": {},
     "output_type": "execute_result"
    }
   ],
   "source": [
    "import requests\n",
    "from urllib.parse import urlencode\n",
    "import os\n",
    "\n",
    "base_url = 'https://cloud-api.yandex.net/v1/disk/public/resources/download?'\n",
    "public_key = 'https://disk.yandex.ru/i/6EKzmWgHWfQhhA'  # link to file\n",
    "\n",
    "# Получаем загрузочную ссылку\n",
    "final_url = base_url + urlencode(dict(public_key=public_key))\n",
    "response = requests.get(final_url)\n",
    "download_url = response.json()['href']\n",
    "download_url"
   ]
  },
  {
   "cell_type": "code",
   "execution_count": null,
   "metadata": {},
   "outputs": [],
   "source": [
    "# Загружаем файл и сохраняем его\n",
    "download_response = requests.get(download_url)\n",
    "with open('jess.jpg', 'wb') as f:   # Здесь укажите нужный путь к файлу\n",
    "    f.write(download_response.content)"
   ]
  },
  {
   "cell_type": "code",
   "execution_count": null,
   "metadata": {},
   "outputs": [],
   "source": [
    "download_url = 'https://disk.yandex.ru/d/UKAe_mXsv2TfVg'\n",
    "out_file_name = 'jess.txt'\n",
    "\n",
    "with open(os.path.join(out_file_name), 'wb') as out_stream:\n",
    "    req = requests.get(download_url, stream=True)\n",
    "    for chunk in req.iter_content(1024):  # Куски по 1 КБ\n",
    "        out_stream.write(chunk)"
   ]
  },
  {
   "cell_type": "markdown",
   "metadata": {},
   "source": [
    "# Benchmarking of published clocks"
   ]
  },
  {
   "cell_type": "code",
   "execution_count": 4,
   "metadata": {},
   "outputs": [],
   "source": [
    "models_config = {\n",
    "    \"in_library\":{\n",
    "        'Horvathv1':{},\n",
    "        'Hannum':{},\n",
    "        'Lin':{},\n",
    "        'PhenoAge':{},\n",
    "        'YingCausAge':{},\n",
    "        'YingDamAge':{},\n",
    "        'YingAdaptAge':{},\n",
    "        'Horvathv2':{},\n",
    "        'HRSInCHPhenoAge':{},\n",
    "        # 'PEDBE':{},\n",
    "        # 'GrimAgeV1':{},\n",
    "        # 'GrimAgeV2':{}\n",
    "    },\n",
    "    #each model should have `path` in its dict values (see example)\n",
    "    #each model should be stored in pickle (.pkl) format\n",
    "    \"new_models\":{\n",
    "        #'my_new_model_name': {'path':/path/to/model.pkl}\n",
    "        \n",
    "    }\n",
    "}\n",
    "\n",
    "# datasets_config_short = dict(list(datasets_config_old.items())[:3])\n"
   ]
  },
  {
   "cell_type": "code",
   "execution_count": null,
   "metadata": {},
   "outputs": [],
   "source": [
    "#fill config with new models\n",
    "pattern = '/tank/projects/computage/checkpoints/*fs3*'\n",
    "for p in glob(pattern):\n",
    "    name = splitext(basename(p))[0]\n",
    "    models_config['new_models'][name] = {'path':p}"
   ]
  },
  {
   "cell_type": "code",
   "execution_count": 9,
   "metadata": {},
   "outputs": [],
   "source": [
    "# data, meta = pd.read_pickle('/tank/projects/computage/benchmarking/GSE103929.pkl.gz', compression='gzip').values()"
   ]
  },
  {
   "cell_type": "code",
   "execution_count": 3,
   "metadata": {},
   "outputs": [
    {
     "data": {
      "text/plain": [
       "{'GSE182991': {'path': '/tank/projects/computage/benchmarking/GSE182991.pkl.gz',\n",
       "  'conditions': ['HGPS', 'ncLMNA'],\n",
       "  'test': 'AA2'},\n",
       " 'GSE214297': {'path': '/tank/projects/computage/benchmarking/GSE214297.pkl.gz',\n",
       "  'conditions': ['CGL'],\n",
       "  'test': 'AA2'},\n",
       " 'GSE43976': {'path': '/tank/projects/computage/benchmarking/GSE43976.pkl.gz',\n",
       "  'conditions': ['MS'],\n",
       "  'test': 'AA1'},\n",
       " 'GSE59685': {'path': '/tank/projects/computage/benchmarking/GSE59685.pkl.gz',\n",
       "  'conditions': ['AD'],\n",
       "  'test': 'AA2'}}"
      ]
     },
     "execution_count": 3,
     "metadata": {},
     "output_type": "execute_result"
    }
   ],
   "source": [
    "datasets_config_short = dict(list(datasets_config_main.items())[-19:-15])\n",
    "datasets_config_short"
   ]
  },
  {
   "cell_type": "code",
   "execution_count": 5,
   "metadata": {},
   "outputs": [
    {
     "name": "stdout",
     "output_type": "stream",
     "text": [
      "9 models will be tested on 61 datasets.\n"
     ]
    },
    {
     "name": "stderr",
     "output_type": "stream",
     "text": [
      "Datasets:   0%|          | 0/61 [00:00<?, ?it/s]"
     ]
    },
    {
     "name": "stderr",
     "output_type": "stream",
     "text": [
      "Datasets:   2%|▏         | 1/61 [00:41<41:12, 41.21s/it]"
     ]
    },
    {
     "name": "stdout",
     "output_type": "stream",
     "text": [
      "GSE56046:AS - AA2 testing 776 disease versus 339 healthy samples\n"
     ]
    },
    {
     "name": "stderr",
     "output_type": "stream",
     "text": [
      "Datasets:   3%|▎         | 2/61 [00:52<23:14, 23.63s/it]"
     ]
    },
    {
     "name": "stdout",
     "output_type": "stream",
     "text": [
      "GSE56581:AS - AA2 testing 127 disease versus 66 healthy samples\n"
     ]
    },
    {
     "name": "stderr",
     "output_type": "stream",
     "text": [
      "Datasets:   5%|▍         | 3/61 [00:52<12:29, 12.92s/it]"
     ]
    },
    {
     "name": "stdout",
     "output_type": "stream",
     "text": [
      "GSE62867:IHD - AA1 testing 6 disease samples\n"
     ]
    },
    {
     "name": "stderr",
     "output_type": "stream",
     "text": [
      "Datasets:   7%|▋         | 4/61 [00:58<09:40, 10.19s/it]"
     ]
    },
    {
     "name": "stdout",
     "output_type": "stream",
     "text": [
      "GSE69138:CVA - AA1 testing 172 disease samples\n"
     ]
    },
    {
     "name": "stderr",
     "output_type": "stream",
     "text": [
      "Datasets:   8%|▊         | 5/61 [00:59<06:28,  6.94s/it]"
     ]
    },
    {
     "name": "stdout",
     "output_type": "stream",
     "text": [
      "GSE107143:AS - AA2 testing 8 disease versus 8 healthy samples\n"
     ]
    },
    {
     "name": "stderr",
     "output_type": "stream",
     "text": [
      "Datasets:  10%|▉         | 6/61 [01:03<05:18,  5.79s/it]"
     ]
    },
    {
     "name": "stdout",
     "output_type": "stream",
     "text": [
      "GSE203399:CVA - AA1 testing 118 disease samples\n"
     ]
    },
    {
     "name": "stderr",
     "output_type": "stream",
     "text": [
      "Datasets:  11%|█▏        | 7/61 [01:05<04:08,  4.61s/it]"
     ]
    },
    {
     "name": "stdout",
     "output_type": "stream",
     "text": [
      "GSE32148:IBD - AA2 testing 5 disease versus 5 healthy samples\n"
     ]
    },
    {
     "name": "stderr",
     "output_type": "stream",
     "text": [
      "Datasets:  13%|█▎        | 8/61 [01:14<05:09,  5.83s/it]"
     ]
    },
    {
     "name": "stdout",
     "output_type": "stream",
     "text": [
      "GSE87640:IBD - AA2 testing 156 disease versus 84 healthy samples\n"
     ]
    },
    {
     "name": "stderr",
     "output_type": "stream",
     "text": [
      "Datasets:  15%|█▍        | 9/61 [01:24<06:26,  7.43s/it]"
     ]
    },
    {
     "name": "stdout",
     "output_type": "stream",
     "text": [
      "GSE87648:IBD - AA2 testing 203 disease versus 176 healthy samples\n"
     ]
    },
    {
     "name": "stderr",
     "output_type": "stream",
     "text": [
      "Datasets:  16%|█▋        | 10/61 [01:28<05:20,  6.28s/it]"
     ]
    },
    {
     "name": "stdout",
     "output_type": "stream",
     "text": [
      "GSE53840:HIV - AA1 testing 111 disease samples\n"
     ]
    },
    {
     "name": "stderr",
     "output_type": "stream",
     "text": [
      "Datasets:  18%|█▊        | 11/61 [01:30<03:58,  4.77s/it]"
     ]
    },
    {
     "name": "stdout",
     "output_type": "stream",
     "text": [
      "GSE53841:HIV - AA1 testing 24 disease samples\n"
     ]
    },
    {
     "name": "stderr",
     "output_type": "stream",
     "text": [
      "Datasets:  20%|█▉        | 12/61 [01:41<05:39,  6.94s/it]"
     ]
    },
    {
     "name": "stdout",
     "output_type": "stream",
     "text": [
      "GSE67705:HIV - AA2 testing 189 disease versus 91 healthy samples\n"
     ]
    },
    {
     "name": "stderr",
     "output_type": "stream",
     "text": [
      "Datasets:  21%|██▏       | 13/61 [01:46<04:52,  6.09s/it]"
     ]
    },
    {
     "name": "stdout",
     "output_type": "stream",
     "text": [
      "GSE67751:HIV - AA2 testing 23 disease versus 69 healthy samples\n"
     ]
    },
    {
     "name": "stderr",
     "output_type": "stream",
     "text": [
      "Datasets:  23%|██▎       | 14/61 [01:59<06:32,  8.34s/it]"
     ]
    },
    {
     "name": "stdout",
     "output_type": "stream",
     "text": [
      "GSE77696:HIV - AA2 testing 261 disease versus 117 healthy samples\n"
     ]
    },
    {
     "name": "stderr",
     "output_type": "stream",
     "text": [
      "Datasets:  25%|██▍       | 15/61 [02:12<07:29,  9.77s/it]"
     ]
    },
    {
     "name": "stdout",
     "output_type": "stream",
     "text": [
      "GSE100264:HIV - AA1 testing 386 disease samples\n"
     ]
    },
    {
     "name": "stderr",
     "output_type": "stream",
     "text": [
      "Datasets:  26%|██▌       | 16/61 [02:33<09:52, 13.17s/it]"
     ]
    },
    {
     "name": "stdout",
     "output_type": "stream",
     "text": [
      "GSE107080:HIV - AA1 testing 405 disease samples\n"
     ]
    },
    {
     "name": "stderr",
     "output_type": "stream",
     "text": [
      "Datasets:  28%|██▊       | 17/61 [02:50<10:25, 14.22s/it]"
     ]
    },
    {
     "name": "stdout",
     "output_type": "stream",
     "text": [
      "GSE117859:HIV - AA1 testing 608 disease samples\n"
     ]
    },
    {
     "name": "stderr",
     "output_type": "stream",
     "text": [
      "Datasets:  30%|██▉       | 18/61 [03:16<12:42, 17.73s/it]"
     ]
    },
    {
     "name": "stdout",
     "output_type": "stream",
     "text": [
      "GSE117860:HIV - AA1 testing 529 disease samples\n"
     ]
    },
    {
     "name": "stderr",
     "output_type": "stream",
     "text": [
      "Datasets:  31%|███       | 19/61 [03:19<09:20, 13.33s/it]"
     ]
    },
    {
     "name": "stdout",
     "output_type": "stream",
     "text": [
      "GSE140800:HIV - AA1 testing 70 disease samples\n"
     ]
    },
    {
     "name": "stderr",
     "output_type": "stream",
     "text": [
      "Datasets:  33%|███▎      | 20/61 [03:22<07:05, 10.37s/it]"
     ]
    },
    {
     "name": "stdout",
     "output_type": "stream",
     "text": [
      "GSE143942:HIV - AA2 testing 61 disease versus 12 healthy samples\n"
     ]
    },
    {
     "name": "stderr",
     "output_type": "stream",
     "text": [
      "Datasets:  34%|███▍      | 21/61 [03:25<05:24,  8.11s/it]"
     ]
    },
    {
     "name": "stdout",
     "output_type": "stream",
     "text": [
      "GSE145714:HIV_TB - AA2 testing 6 disease versus 9 healthy samples\n",
      "GSE145714:TB - AA2 testing 12 disease versus 9 healthy samples\n"
     ]
    },
    {
     "name": "stderr",
     "output_type": "stream",
     "text": [
      "Datasets:  36%|███▌      | 22/61 [03:29<04:20,  6.69s/it]"
     ]
    },
    {
     "name": "stdout",
     "output_type": "stream",
     "text": [
      "GSE185389:HIV - AA1 testing 56 disease samples\n"
     ]
    },
    {
     "name": "stderr",
     "output_type": "stream",
     "text": [
      "Datasets:  38%|███▊      | 23/61 [03:31<03:29,  5.51s/it]"
     ]
    },
    {
     "name": "stdout",
     "output_type": "stream",
     "text": [
      "GSE185390:HIV - AA1 testing 30 disease samples\n"
     ]
    },
    {
     "name": "stderr",
     "output_type": "stream",
     "text": [
      "Datasets:  39%|███▉      | 24/61 [03:56<06:52, 11.15s/it]"
     ]
    },
    {
     "name": "stdout",
     "output_type": "stream",
     "text": [
      "GSE217633:HIV - AA2 testing 368 disease versus 43 healthy samples\n"
     ]
    },
    {
     "name": "stderr",
     "output_type": "stream",
     "text": [
      "Datasets:  41%|████      | 25/61 [04:18<08:43, 14.53s/it]"
     ]
    },
    {
     "name": "stdout",
     "output_type": "stream",
     "text": [
      "GSE42861:RA - AA2 testing 354 disease versus 335 healthy samples\n"
     ]
    },
    {
     "name": "stderr",
     "output_type": "stream",
     "text": [
      "Datasets:  43%|████▎     | 26/61 [04:20<06:11, 10.62s/it]"
     ]
    },
    {
     "name": "stdout",
     "output_type": "stream",
     "text": [
      "GSE71841:RA - AA2 testing 12 disease versus 12 healthy samples\n"
     ]
    },
    {
     "name": "stderr",
     "output_type": "stream",
     "text": [
      "Datasets:  44%|████▍     | 27/61 [04:21<04:32,  8.01s/it]"
     ]
    },
    {
     "name": "stdout",
     "output_type": "stream",
     "text": [
      "GSE99624:OP - AA2 testing 32 disease versus 16 healthy samples\n"
     ]
    },
    {
     "name": "stderr",
     "output_type": "stream",
     "text": [
      "Datasets:  46%|████▌     | 28/61 [04:31<04:37,  8.39s/it]"
     ]
    },
    {
     "name": "stdout",
     "output_type": "stream",
     "text": [
      "GSE131989:RA - AA2 testing 230 disease versus 123 healthy samples\n"
     ]
    },
    {
     "name": "stderr",
     "output_type": "stream",
     "text": [
      "Datasets:  48%|████▊     | 29/61 [04:35<03:48,  7.14s/it]"
     ]
    },
    {
     "name": "stdout",
     "output_type": "stream",
     "text": [
      "GSE134429:RA - AA2 testing 47 disease versus 17 healthy samples\n"
     ]
    },
    {
     "name": "stderr",
     "output_type": "stream",
     "text": [
      "Datasets:  49%|████▉     | 30/61 [04:40<03:20,  6.47s/it]"
     ]
    },
    {
     "name": "stdout",
     "output_type": "stream",
     "text": [
      "GSE137593:OA - AA1 testing 5 disease samples\n",
      "GSE137593:RA - AA1 testing 43 disease samples\n"
     ]
    },
    {
     "name": "stderr",
     "output_type": "stream",
     "text": [
      "Datasets:  51%|█████     | 31/61 [04:45<03:02,  6.08s/it]"
     ]
    },
    {
     "name": "stdout",
     "output_type": "stream",
     "text": [
      "GSE137594:OA - AA1 testing 6 disease samples\n",
      "GSE137594:RA - AA1 testing 46 disease samples\n"
     ]
    },
    {
     "name": "stderr",
     "output_type": "stream",
     "text": [
      "Datasets:  52%|█████▏    | 32/61 [04:49<02:41,  5.56s/it]"
     ]
    },
    {
     "name": "stdout",
     "output_type": "stream",
     "text": [
      "GSE138653:RA - AA1 testing 80 disease samples\n"
     ]
    },
    {
     "name": "stderr",
     "output_type": "stream",
     "text": [
      "Datasets:  54%|█████▍    | 33/61 [04:54<02:30,  5.38s/it]"
     ]
    },
    {
     "name": "stdout",
     "output_type": "stream",
     "text": [
      "GSE175364:RA - AA2 testing 8 disease versus 13 healthy samples\n"
     ]
    },
    {
     "name": "stderr",
     "output_type": "stream",
     "text": [
      "Datasets:  56%|█████▌    | 34/61 [05:00<02:26,  5.43s/it]"
     ]
    },
    {
     "name": "stdout",
     "output_type": "stream",
     "text": [
      "GSE176168:RA - AA1 testing 113 disease samples\n"
     ]
    },
    {
     "name": "stderr",
     "output_type": "stream",
     "text": [
      "Datasets:  57%|█████▋    | 35/61 [05:03<01:58,  4.57s/it]"
     ]
    },
    {
     "name": "stdout",
     "output_type": "stream",
     "text": [
      "GSE228104:RA - AA1 testing 40 disease samples\n"
     ]
    },
    {
     "name": "stderr",
     "output_type": "stream",
     "text": [
      "Datasets:  59%|█████▉    | 36/61 [05:03<01:23,  3.33s/it]"
     ]
    },
    {
     "name": "stdout",
     "output_type": "stream",
     "text": [
      "GSE49909:XOB - AA2 testing 9 disease versus 40 healthy samples\n"
     ]
    },
    {
     "name": "stderr",
     "output_type": "stream",
     "text": [
      "Datasets:  61%|██████    | 37/61 [05:03<00:58,  2.42s/it]"
     ]
    },
    {
     "name": "stdout",
     "output_type": "stream",
     "text": [
      "GSE56606:T1D - AA2 testing 25 disease versus 61 healthy samples\n"
     ]
    },
    {
     "name": "stderr",
     "output_type": "stream",
     "text": [
      "Datasets:  62%|██████▏   | 38/61 [05:06<00:54,  2.38s/it]"
     ]
    },
    {
     "name": "stdout",
     "output_type": "stream",
     "text": [
      "GSE62003:T2D - AA1 testing 58 disease samples\n"
     ]
    },
    {
     "name": "stderr",
     "output_type": "stream",
     "text": [
      "Datasets:  64%|██████▍   | 39/61 [05:07<00:44,  2.02s/it]"
     ]
    },
    {
     "name": "stdout",
     "output_type": "stream",
     "text": [
      "GSE193836:XOB - AA2 testing 10 disease versus 11 healthy samples\n"
     ]
    },
    {
     "name": "stderr",
     "output_type": "stream",
     "text": [
      "Datasets:  66%|██████▌   | 40/61 [05:08<00:39,  1.90s/it]"
     ]
    },
    {
     "name": "stdout",
     "output_type": "stream",
     "text": [
      "GSE166611:XOB - AA2 testing 11 disease versus 17 healthy samples\n"
     ]
    },
    {
     "name": "stderr",
     "output_type": "stream",
     "text": [
      "Datasets:  67%|██████▋   | 41/61 [05:10<00:35,  1.75s/it]"
     ]
    },
    {
     "name": "stdout",
     "output_type": "stream",
     "text": [
      "GSE118468:COPD - AA2 testing 15 disease versus 6 healthy samples\n"
     ]
    },
    {
     "name": "stderr",
     "output_type": "stream",
     "text": [
      "Datasets:  69%|██████▉   | 42/61 [05:14<00:45,  2.41s/it]"
     ]
    },
    {
     "name": "stdout",
     "output_type": "stream",
     "text": [
      "GSE131752:WS - AA2 testing 21 disease versus 24 healthy samples\n"
     ]
    },
    {
     "name": "stderr",
     "output_type": "stream",
     "text": [
      "Datasets:  70%|███████   | 43/61 [05:16<00:43,  2.42s/it]"
     ]
    },
    {
     "name": "stdout",
     "output_type": "stream",
     "text": [
      "GSE182991:HGPS - AA2 testing 15 disease versus 12 healthy samples\n"
     ]
    },
    {
     "name": "stderr",
     "output_type": "stream",
     "text": [
      "Datasets:  72%|███████▏  | 44/61 [05:18<00:40,  2.39s/it]"
     ]
    },
    {
     "name": "stdout",
     "output_type": "stream",
     "text": [
      "GSE214297:CGL - AA2 testing 7 disease versus 9 healthy samples\n"
     ]
    },
    {
     "name": "stderr",
     "output_type": "stream",
     "text": [
      "Datasets:  74%|███████▍  | 45/61 [05:21<00:40,  2.50s/it]"
     ]
    },
    {
     "name": "stdout",
     "output_type": "stream",
     "text": [
      "GSE43976:MS - AA1 testing 52 disease samples\n"
     ]
    },
    {
     "name": "stderr",
     "output_type": "stream",
     "text": [
      "Datasets:  75%|███████▌  | 46/61 [05:34<01:25,  5.71s/it]"
     ]
    },
    {
     "name": "stdout",
     "output_type": "stream",
     "text": [
      "GSE59685:AD - AA2 testing 40 disease versus 9 healthy samples\n"
     ]
    },
    {
     "name": "stderr",
     "output_type": "stream",
     "text": [
      "Datasets:  77%|███████▋  | 47/61 [06:03<02:55, 12.57s/it]"
     ]
    },
    {
     "name": "stdout",
     "output_type": "stream",
     "text": [
      "GSE72774:PD - AA2 testing 287 disease versus 218 healthy samples\n"
     ]
    },
    {
     "name": "stderr",
     "output_type": "stream",
     "text": [
      "Datasets:  79%|███████▊  | 48/61 [06:06<02:04,  9.59s/it]"
     ]
    },
    {
     "name": "stdout",
     "output_type": "stream",
     "text": [
      "GSE72776:PD - AA2 testing 46 disease versus 38 healthy samples\n"
     ]
    },
    {
     "name": "stderr",
     "output_type": "stream",
     "text": [
      "Datasets:  80%|████████  | 49/61 [06:08<01:30,  7.51s/it]"
     ]
    },
    {
     "name": "stdout",
     "output_type": "stream",
     "text": [
      "GSE103929:MS - AA1 testing 49 disease samples\n"
     ]
    },
    {
     "name": "stderr",
     "output_type": "stream",
     "text": [
      "Datasets:  82%|████████▏ | 50/61 [06:26<01:54, 10.43s/it]"
     ]
    },
    {
     "name": "stdout",
     "output_type": "stream",
     "text": [
      "GSE106648:MS - AA2 testing 139 disease versus 139 healthy samples\n"
     ]
    },
    {
     "name": "stderr",
     "output_type": "stream",
     "text": [
      "Datasets:  84%|████████▎ | 51/61 [06:41<01:59, 11.91s/it]"
     ]
    },
    {
     "name": "stdout",
     "output_type": "stream",
     "text": [
      "GSE111223:PD - AA2 testing 128 disease versus 131 healthy samples\n"
     ]
    },
    {
     "name": "stderr",
     "output_type": "stream",
     "text": [
      "Datasets:  85%|████████▌ | 52/61 [07:22<03:06, 20.67s/it]"
     ]
    },
    {
     "name": "stdout",
     "output_type": "stream",
     "text": [
      "GSE111629:PD - AA2 testing 335 disease versus 236 healthy samples\n"
     ]
    },
    {
     "name": "stderr",
     "output_type": "stream",
     "text": [
      "Datasets:  87%|████████▋ | 53/61 [07:30<02:15, 16.97s/it]"
     ]
    },
    {
     "name": "stdout",
     "output_type": "stream",
     "text": [
      "GSE112596:MS - AA1 testing 112 disease samples\n"
     ]
    },
    {
     "name": "stderr",
     "output_type": "stream",
     "text": [
      "Datasets:  89%|████████▊ | 54/61 [07:32<01:26, 12.34s/it]"
     ]
    },
    {
     "name": "stdout",
     "output_type": "stream",
     "text": [
      "GSE130029:MS - AA2 testing 20 disease versus 11 healthy samples\n"
     ]
    },
    {
     "name": "stderr",
     "output_type": "stream",
     "text": [
      "Datasets:  90%|█████████ | 55/61 [07:33<00:54,  9.08s/it]"
     ]
    },
    {
     "name": "stdout",
     "output_type": "stream",
     "text": [
      "GSE130030:MS - AA2 testing 14 disease versus 14 healthy samples\n"
     ]
    },
    {
     "name": "stderr",
     "output_type": "stream",
     "text": [
      "Datasets:  92%|█████████▏| 56/61 [07:37<00:37,  7.43s/it]"
     ]
    },
    {
     "name": "stdout",
     "output_type": "stream",
     "text": [
      "GSE130491:MS - AA1 testing 82 disease samples\n"
     ]
    },
    {
     "name": "stderr",
     "output_type": "stream",
     "text": [
      "Datasets:  93%|█████████▎| 57/61 [07:51<00:37,  9.36s/it]"
     ]
    },
    {
     "name": "stdout",
     "output_type": "stream",
     "text": [
      "GSE144858:AD - AA2 testing 93 disease versus 96 healthy samples\n",
      "GSE144858:MCI - AA2 testing 111 disease versus 96 healthy samples\n"
     ]
    },
    {
     "name": "stderr",
     "output_type": "stream",
     "text": [
      "Datasets:  95%|█████████▌| 58/61 [07:53<00:21,  7.30s/it]"
     ]
    },
    {
     "name": "stdout",
     "output_type": "stream",
     "text": [
      "GSE151355:PD - AA1 testing 19 disease samples\n"
     ]
    },
    {
     "name": "stderr",
     "output_type": "stream",
     "text": [
      "Datasets:  97%|█████████▋| 59/61 [08:06<00:17,  8.81s/it]"
     ]
    },
    {
     "name": "stdout",
     "output_type": "stream",
     "text": [
      "GSE156994:CJD - AA2 testing 114 disease versus 105 healthy samples\n"
     ]
    },
    {
     "name": "stderr",
     "output_type": "stream",
     "text": [
      "Datasets:  98%|█████████▊| 60/61 [08:13<00:08,  8.48s/it]"
     ]
    },
    {
     "name": "stdout",
     "output_type": "stream",
     "text": [
      "GSE219293:MS - AA2 testing 29 disease versus 18 healthy samples\n"
     ]
    },
    {
     "name": "stderr",
     "output_type": "stream",
     "text": [
      "Datasets: 100%|██████████| 61/61 [08:22<00:00,  8.25s/it]\n"
     ]
    },
    {
     "name": "stdout",
     "output_type": "stream",
     "text": [
      "GSE122244:PD - AA2 testing 35 disease versus 34 healthy samples\n",
      "Compute MedAE metric based on 2785 healthy control samples.\n"
     ]
    }
   ],
   "source": [
    "bench = EpiClocksBenchmarking(\n",
    "    models_config=models_config,\n",
    "    # datasets_config=datasets_config_short,\n",
    "    datasets_config=datasets_config_main,\n",
    "    tissue_types='BSB',\n",
    "    age_limits = [18, 90],\n",
    "    age_limits_class_exclusions= ['PGS'],\n",
    "    experiment_prefix='prefinal2',\n",
    "    delta_assumption = 'normal',\n",
    "    correction_threshold=0.05,\n",
    "    save_results=True,\n",
    "    output_folder='./tmp_bench_results',\n",
    "    verbose=1\n",
    ")\n",
    "bench.run()"
   ]
  },
  {
   "cell_type": "markdown",
   "metadata": {},
   "source": [
    "# Metadata descriptive statistics"
   ]
  },
  {
   "cell_type": "code",
   "execution_count": 182,
   "metadata": {},
   "outputs": [],
   "source": [
    "import seaborn as sns\n",
    "from matplotlib import pyplot as plt\n",
    "from computage.utils.data_utils import cond2class\n",
    "full_meta = pd.concat(bench.datasets_metadata.values(), axis=0)\n",
    "full_meta['Age'] = full_meta['Age'].astype(float)\n",
    "\n",
    "full_meta = full_meta[~full_meta['Age'].isna()]\n",
    "full_meta = full_meta[~full_meta['Condition'].isna()]\n",
    "full_meta = full_meta[~full_meta['Condition'].isin(['Exclude', 'EA', 'UA', 'OBS', 'MDPS', 'MCI'])]\n",
    "condition_order = ['HC'] + sorted([c for c in full_meta.Condition.unique() if c not in ['HC']])\n",
    "full_meta['Gender'] = full_meta['Gender'].map({'M':'Male', 'F':'Female'})\n",
    "full_meta['Gender'] = full_meta['Gender'].fillna('Unknown')\n",
    "full_meta['Class'] = ['HC' if c == 'HC' else cond2class([c])[0] for c in full_meta['Condition']]\n",
    "class_order = ['HC'] + sorted([c for c in full_meta.Class.unique() if c not in ['HC']])\n",
    "full_meta = full_meta.sort_values('Condition')"
   ]
  },
  {
   "cell_type": "code",
   "execution_count": 187,
   "metadata": {},
   "outputs": [
    {
     "data": {
      "image/png": "[encoded data removed]",
      "text/plain": [
       "<Figure size 1530.96x300 with 8 Axes>"
      ]
     },
     "metadata": {},
     "output_type": "display_data"
    }
   ],
   "source": [
    "g = sns.FacetGrid(full_meta, col=\"Class\", sharex=False,\n",
    "                  col_order=class_order,\n",
    "                  gridspec_kws={\"width_ratios\":[1, 3, 4, 1, 3, 3, 4, 3]},\n",
    "                  height=3.0,\n",
    "\t\t\t\t  aspect=0.5\n",
    "                  )\n",
    "g.map(sns.boxplot, \"Condition\", \"Age\",  \"Gender\", \n",
    "      **{\"hue_order\":['Male', 'Female', 'Unknown'],\n",
    "         \"palette\":sns.color_palette('Set2')\n",
    "         })\n",
    "# palette_box = sns.color_palette('Set2')\n",
    "# palette_swarm = sns.color_palette('Set3')\n",
    "\n",
    "# g.map(sns.violinplot, \"Condition\", \"Age\",  \"Gender\",\n",
    "# \t\t**dict(palette=palette_box, width=0.5, inner=None, cut=0, linewidth=0, native_scale=True))\n",
    "# g.map(sns.stripplot, \"Condition\", \"Age\",  \"Gender\",\n",
    "# \t\t**dict(palette=palette_swarm, linewidth=1, edgecolor='w', size=5, native_scale=True))\n",
    "# g.map(sns.boxplot, \"Condition\", \"Age\",  \"Gender\",\n",
    "# \t\t**dict(fill=False, width=0.3, medianprops={'color': 'k', 'linewidth': 2}, zorder=3,\n",
    "#                         linewidth=1, color='gray', showfliers=False, showcaps=False, native_scale=True))\n",
    "\t\t \n",
    "g.add_legend(**{'ncol':3, 'loc':[0.40, 0.93]})\n",
    "g.axes[0][0].set_ylabel('Chronological age, years')\n",
    "\n",
    "for i in range(len(g.axes[0])):\n",
    "\tg.axes[0][i].set_xlabel('')\n",
    "\tcl = g.axes[0][i].get_title().split('= ')[1]\n",
    "\tif cl != 'HC':\n",
    "\t\tg.axes[0][i].set_title(f'{cl}')\n",
    "\telse:\n",
    "\t\tg.axes[0][i].set_title(f'')\n",
    "\n",
    "plt.tight_layout()\n",
    "plt.savefig(f'figures/main/age_statistics.pdf', format='pdf', dpi=200)\n",
    "plt.show()"
   ]
  },
  {
   "cell_type": "code",
   "execution_count": 55,
   "metadata": {},
   "outputs": [
    {
     "data": {
      "image/png": "[encoded data removed]",
      "text/plain": [
       "<Figure size 1500x270 with 1 Axes>"
      ]
     },
     "metadata": {},
     "output_type": "display_data"
    }
   ],
   "source": [
    "fig, ax = plt.subplots(1, 1, figsize=(15, 2.7))\n",
    "sns.boxplot(full_meta, \n",
    "            x='Condition', \n",
    "            y='Age', \n",
    "            order=condition_order, \n",
    "            hue='Gender', \n",
    "            hue_order=['Male', 'Female', 'Unknown'],\n",
    "            palette=sns.color_palette('Set2'),\n",
    "            ax=ax)\n",
    "ax.legend(loc=[0.35, 1.03], ncol=3)\n",
    "ax.set_ylim(-5, 100)\n",
    "ax.set_ylabel('Chronological age, years')\n",
    "ax.grid(alpha=0.15)"
   ]
  },
  {
   "cell_type": "markdown",
   "metadata": {},
   "source": [
    "# AA2 plots"
   ]
  },
  {
   "cell_type": "code",
   "execution_count": 27,
   "metadata": {},
   "outputs": [],
   "source": [
    "from computage.utils.data_utils import cond2class\n",
    "import seaborn as sns\n",
    "from matplotlib import pyplot as plt\n",
    "\n",
    "df = bench.bench_deltas_AA2\n",
    "df[\"Class\"] = cond2class([c.split(':')[1] for c in df['Dataset']])"
   ]
  },
  {
   "cell_type": "code",
   "execution_count": null,
   "metadata": {},
   "outputs": [],
   "source": [
    "models = df.Model.unique()\n",
    "n_cols = len(df.Model.unique())\n",
    "for cl in df['Class'].unique():\n",
    "    dfcl = df[df['Class']==cl]\n",
    "    class_datasets = dfcl.Dataset.unique()\n",
    "    n_rows = len(class_datasets)\n",
    "    \n",
    "    fig, axes = plt.subplots(n_rows, n_cols, \n",
    "                             figsize=(n_cols*1.5, n_rows*1.5 + 1),\n",
    "                             sharey=False, sharex=True, squeeze=False)\n",
    "    fig.suptitle(f'AA2 - {cl}', fontsize=16, fontweight='bold')\n",
    "    for i, d in enumerate(class_datasets):\n",
    "        for j, m in enumerate(models):\n",
    "            plotdata = dfcl[(dfcl.Model == m) & (dfcl.Dataset == d)]\n",
    "            pval = bench.bench_results.loc[m, d]\n",
    "            palette_swarm = [\"#FF4C19\", \"#00BFFF\"]\n",
    "            palette_box = [ \"#FFEBE6\", \"#CCF2FF\"]\n",
    "\n",
    "            x = 'Condition'\n",
    "            y = 'Delta'\n",
    "            \n",
    "            sns.violinplot(data=plotdata, x=x, y=y, ax=axes[i, j],\n",
    "                            palette=palette_box, width=0.5, inner=None, cut=0, linewidth=0, native_scale=True)\n",
    "            sns.stripplot(data=plotdata, x=x, y=y, ax=axes[i, j],\n",
    "                            palette=palette_swarm, linewidth=1, edgecolor='w', size=5, native_scale=True)\n",
    "            sns.boxplot(data=plotdata, x=x, y=y, ax=axes[i, j],\n",
    "                        fill=False, width=0.3, medianprops={'color': 'k', 'linewidth': 2}, zorder=3,\n",
    "                        linewidth=1, color='gray', showfliers=False, showcaps=False, native_scale=True)\n",
    "\n",
    "            axes[i, j].set_xlabel('')\n",
    "            axes[i, j].tick_params(axis='x', labelsize=8)\n",
    "            axes[i, j].tick_params(axis='y', labelsize=8)\n",
    "            if i == 0:\n",
    "                axes[0, j].set_title(r'$\\bf{{{m}}}$'.format(m=m) + f'\\nP-value={round(pval, 3)}', fontsize=9)\n",
    "            else:\n",
    "                axes[i, j].set_title(f'P-value={round(pval,3)}', fontsize=9)\n",
    "\n",
    "            if j != 0:\n",
    "                axes[i, j].set_ylabel('')\n",
    "            else:\n",
    "                axes[i, j].set_ylabel(f'$\\Delta$, years\\n({d.split(\":\")[1]},\\n{d.split(\":\")[0]})', fontsize=9)\n",
    "    \n",
    "    plt.tight_layout()            \n",
    "    plt.savefig(f'figures/supplement/AA2-{cl}_boxes_sup.pdf', format='pdf', dpi=250)\n",
    "    plt.show()\n",
    "        "
   ]
  },
  {
   "cell_type": "markdown",
   "metadata": {},
   "source": [
    "# AA1 plots"
   ]
  },
  {
   "cell_type": "code",
   "execution_count": 30,
   "metadata": {},
   "outputs": [],
   "source": [
    "from computage.utils.data_utils import cond2class\n",
    "import seaborn as sns\n",
    "from matplotlib import pyplot as plt\n",
    "\n",
    "df = bench.bench_deltas_AA1\n",
    "df[\"Class\"] = cond2class([c.split(':')[1] for c in df['Dataset']])"
   ]
  },
  {
   "cell_type": "code",
   "execution_count": null,
   "metadata": {},
   "outputs": [],
   "source": [
    "models = df.Model.unique()\n",
    "n_cols = len(df.Model.unique())\n",
    "for cl in df['Class'].unique():\n",
    "    dfcl = df[df['Class']==cl]\n",
    "    class_datasets = dfcl.Dataset.unique()\n",
    "    n_rows = len(class_datasets)\n",
    "    \n",
    "    fig, axes = plt.subplots(n_rows, n_cols, \n",
    "                             figsize=(n_cols*1.5, n_rows*1.5 + 1),\n",
    "                             sharey=False, sharex=True, squeeze=False)\n",
    "    fig.suptitle(f'AA1 - {cl}', fontsize=16, fontweight='bold')\n",
    "    for i, d in enumerate(class_datasets):\n",
    "        for j, m in enumerate(models):\n",
    "            plotdata = dfcl[(dfcl.Model == m) & (dfcl.Dataset == d)]\n",
    "            pval = bench.bench_results.loc[m, d]\n",
    "            palette_swarm = [\"#FF4C19\", \"#00BFFF\"]\n",
    "            palette_box = [ \"#FFEBE6\", \"#CCF2FF\"]\n",
    "\n",
    "            x = 'Condition'\n",
    "            y = 'Delta'\n",
    "            \n",
    "            sns.violinplot(data=plotdata, x=x, y=y, ax=axes[i, j],\n",
    "                            palette=palette_box, width=0.5, inner=None, cut=0, linewidth=0, native_scale=True)\n",
    "            sns.stripplot(data=plotdata, x=x, y=y, ax=axes[i, j],\n",
    "                            palette=palette_swarm, linewidth=1, edgecolor='w', size=5, native_scale=True)\n",
    "            sns.boxplot(data=plotdata, x=x, y=y, ax=axes[i, j],\n",
    "                        fill=False, width=0.3, medianprops={'color': 'k', 'linewidth': 2}, zorder=3,\n",
    "                        linewidth=1, color='gray', showfliers=False, showcaps=False, native_scale=True)\n",
    "\n",
    "            axes[i, j].set_xlabel('')\n",
    "            axes[i, j].tick_params(axis='x', labelsize=8)\n",
    "            axes[i, j].tick_params(axis='y', labelsize=8)\n",
    "            axes[i, j].axhline(0., color='grey', ls='--')\n",
    "            if i == 0:\n",
    "                axes[0, j].set_title(r'$\\bf{{{m}}}$'.format(m=m) + f'\\nP-value={round(pval, 3)}', fontsize=9)\n",
    "            else:\n",
    "                axes[i, j].set_title(f'P-value={round(pval,3)}', fontsize=9)\n",
    "\n",
    "            if j != 0:\n",
    "                axes[i, j].set_ylabel('')\n",
    "            else:\n",
    "                axes[i, j].set_ylabel(f'$\\Delta$, years\\n({d.split(\":\")[1]},\\n{d.split(\":\")[0]})', fontsize=9)\n",
    "    \n",
    "    plt.tight_layout()            \n",
    "    plt.savefig(f'figures/supplement/AA1-{cl}_boxes_sup.pdf', format='pdf', dpi=250)\n",
    "    plt.show()"
   ]
  },
  {
   "cell_type": "code",
   "execution_count": null,
   "metadata": {},
   "outputs": [],
   "source": []
  },
  {
   "cell_type": "code",
   "execution_count": null,
   "metadata": {},
   "outputs": [],
   "source": []
  },
  {
   "cell_type": "code",
   "execution_count": 31,
   "metadata": {},
   "outputs": [],
   "source": [
    "full_meta = pd.concat(bench.datasets_metadata.values(), axis=0)\n",
    "full_meta['Age'] = full_meta['Age'].astype(float)\n",
    "full_pred = pd.concat(bench.datasets_predictions.values(), axis=0)\n",
    "delta = full_pred.subtract(full_meta['Age'].values, axis=0)"
   ]
  },
  {
   "cell_type": "code",
   "execution_count": 42,
   "metadata": {},
   "outputs": [
    {
     "data": {
      "text/html": [
       "<div>\n",
       "<style scoped>\n",
       "    .dataframe tbody tr th:only-of-type {\n",
       "        vertical-align: middle;\n",
       "    }\n",
       "\n",
       "    .dataframe tbody tr th {\n",
       "        vertical-align: top;\n",
       "    }\n",
       "\n",
       "    .dataframe thead th {\n",
       "        text-align: right;\n",
       "    }\n",
       "</style>\n",
       "<table border=\"1\" class=\"dataframe\">\n",
       "  <thead>\n",
       "    <tr style=\"text-align: right;\">\n",
       "      <th></th>\n",
       "      <th>Condition</th>\n",
       "      <th>delta</th>\n",
       "      <th>Model</th>\n",
       "    </tr>\n",
       "  </thead>\n",
       "  <tbody>\n",
       "    <tr>\n",
       "      <th>0</th>\n",
       "      <td>AAC</td>\n",
       "      <td>1</td>\n",
       "      <td>1</td>\n",
       "    </tr>\n",
       "    <tr>\n",
       "      <th>1</th>\n",
       "      <td>AAC</td>\n",
       "      <td>2</td>\n",
       "      <td>1</td>\n",
       "    </tr>\n",
       "    <tr>\n",
       "      <th>2</th>\n",
       "      <td>AAC</td>\n",
       "      <td>3</td>\n",
       "      <td>1</td>\n",
       "    </tr>\n",
       "    <tr>\n",
       "      <th>3</th>\n",
       "      <td>HC</td>\n",
       "      <td>0</td>\n",
       "      <td>1</td>\n",
       "    </tr>\n",
       "    <tr>\n",
       "      <th>4</th>\n",
       "      <td>HC</td>\n",
       "      <td>1</td>\n",
       "      <td>1</td>\n",
       "    </tr>\n",
       "    <tr>\n",
       "      <th>5</th>\n",
       "      <td>HC</td>\n",
       "      <td>2</td>\n",
       "      <td>1</td>\n",
       "    </tr>\n",
       "    <tr>\n",
       "      <th>6</th>\n",
       "      <td>HC</td>\n",
       "      <td>4</td>\n",
       "      <td>1</td>\n",
       "    </tr>\n",
       "  </tbody>\n",
       "</table>\n",
       "</div>"
      ],
      "text/plain": [
       "  Condition  delta Model\n",
       "0       AAC      1     1\n",
       "1       AAC      2     1\n",
       "2       AAC      3     1\n",
       "3        HC      0     1\n",
       "4        HC      1     1\n",
       "5        HC      2     1\n",
       "6        HC      4     1"
      ]
     },
     "execution_count": 42,
     "metadata": {},
     "output_type": "execute_result"
    }
   ],
   "source": [
    "d = np.array([1, 2, 3])\n",
    "h = np.array([0, 1, 2, 4])\n",
    "pd.DataFrame({'Condition':['AAC']*len(d) + ['HC']*len(h), 'delta':np.concatenate([d, h]), 'Model':'1'})"
   ]
  },
  {
   "cell_type": "code",
   "execution_count": 34,
   "metadata": {},
   "outputs": [
    {
     "data": {
      "text/html": [
       "<div>\n",
       "<style scoped>\n",
       "    .dataframe tbody tr th:only-of-type {\n",
       "        vertical-align: middle;\n",
       "    }\n",
       "\n",
       "    .dataframe tbody tr th {\n",
       "        vertical-align: top;\n",
       "    }\n",
       "\n",
       "    .dataframe thead th {\n",
       "        text-align: right;\n",
       "    }\n",
       "</style>\n",
       "<table border=\"1\" class=\"dataframe\">\n",
       "  <thead>\n",
       "    <tr style=\"text-align: right;\">\n",
       "      <th></th>\n",
       "      <th>Horvathv1</th>\n",
       "      <th>Hannum</th>\n",
       "      <th>Lin</th>\n",
       "      <th>PhenoAge</th>\n",
       "      <th>YingCausAge</th>\n",
       "      <th>YingDamAge</th>\n",
       "      <th>YingAdaptAge</th>\n",
       "      <th>Horvathv2</th>\n",
       "      <th>HRSInCHPhenoAge</th>\n",
       "      <th>CA</th>\n",
       "    </tr>\n",
       "  </thead>\n",
       "  <tbody>\n",
       "    <tr>\n",
       "      <th>GSM1353204</th>\n",
       "      <td>9.076245</td>\n",
       "      <td>16.749812</td>\n",
       "      <td>22.436206</td>\n",
       "      <td>15.812254</td>\n",
       "      <td>15.100894</td>\n",
       "      <td>1.933245</td>\n",
       "      <td>18.969626</td>\n",
       "      <td>10.348259</td>\n",
       "      <td>13.720695</td>\n",
       "      <td>59.0</td>\n",
       "    </tr>\n",
       "    <tr>\n",
       "      <th>GSM1353205</th>\n",
       "      <td>-8.748431</td>\n",
       "      <td>9.290235</td>\n",
       "      <td>15.800717</td>\n",
       "      <td>7.932597</td>\n",
       "      <td>-1.992033</td>\n",
       "      <td>-38.410987</td>\n",
       "      <td>39.641414</td>\n",
       "      <td>1.137469</td>\n",
       "      <td>11.829354</td>\n",
       "      <td>63.0</td>\n",
       "    </tr>\n",
       "    <tr>\n",
       "      <th>GSM1353206</th>\n",
       "      <td>3.817756</td>\n",
       "      <td>9.492533</td>\n",
       "      <td>22.215876</td>\n",
       "      <td>10.101781</td>\n",
       "      <td>2.066538</td>\n",
       "      <td>-36.038630</td>\n",
       "      <td>29.490701</td>\n",
       "      <td>5.702662</td>\n",
       "      <td>6.590427</td>\n",
       "      <td>71.0</td>\n",
       "    </tr>\n",
       "    <tr>\n",
       "      <th>GSM1353207</th>\n",
       "      <td>11.809870</td>\n",
       "      <td>22.453932</td>\n",
       "      <td>31.126803</td>\n",
       "      <td>25.718791</td>\n",
       "      <td>24.009024</td>\n",
       "      <td>-4.670465</td>\n",
       "      <td>30.203064</td>\n",
       "      <td>9.868766</td>\n",
       "      <td>28.721831</td>\n",
       "      <td>72.0</td>\n",
       "    </tr>\n",
       "    <tr>\n",
       "      <th>GSM1353208</th>\n",
       "      <td>4.762899</td>\n",
       "      <td>13.455196</td>\n",
       "      <td>18.709505</td>\n",
       "      <td>17.307541</td>\n",
       "      <td>9.710777</td>\n",
       "      <td>-13.106867</td>\n",
       "      <td>29.670529</td>\n",
       "      <td>8.583468</td>\n",
       "      <td>14.425788</td>\n",
       "      <td>48.0</td>\n",
       "    </tr>\n",
       "    <tr>\n",
       "      <th>...</th>\n",
       "      <td>...</td>\n",
       "      <td>...</td>\n",
       "      <td>...</td>\n",
       "      <td>...</td>\n",
       "      <td>...</td>\n",
       "      <td>...</td>\n",
       "      <td>...</td>\n",
       "      <td>...</td>\n",
       "      <td>...</td>\n",
       "      <td>...</td>\n",
       "    </tr>\n",
       "    <tr>\n",
       "      <th>GSM3462517</th>\n",
       "      <td>5.295495</td>\n",
       "      <td>-9.595412</td>\n",
       "      <td>-6.554066</td>\n",
       "      <td>-3.038721</td>\n",
       "      <td>-52.542426</td>\n",
       "      <td>23.011506</td>\n",
       "      <td>-6.962264</td>\n",
       "      <td>3.355374</td>\n",
       "      <td>2.786835</td>\n",
       "      <td>62.0</td>\n",
       "    </tr>\n",
       "    <tr>\n",
       "      <th>GSM3462518</th>\n",
       "      <td>9.689675</td>\n",
       "      <td>-7.246913</td>\n",
       "      <td>-0.440230</td>\n",
       "      <td>-3.932335</td>\n",
       "      <td>-52.753191</td>\n",
       "      <td>15.124008</td>\n",
       "      <td>9.643545</td>\n",
       "      <td>7.825509</td>\n",
       "      <td>1.650750</td>\n",
       "      <td>61.0</td>\n",
       "    </tr>\n",
       "    <tr>\n",
       "      <th>GSM3462519</th>\n",
       "      <td>NaN</td>\n",
       "      <td>NaN</td>\n",
       "      <td>NaN</td>\n",
       "      <td>NaN</td>\n",
       "      <td>NaN</td>\n",
       "      <td>NaN</td>\n",
       "      <td>NaN</td>\n",
       "      <td>NaN</td>\n",
       "      <td>NaN</td>\n",
       "      <td>NaN</td>\n",
       "    </tr>\n",
       "    <tr>\n",
       "      <th>GSM3462520</th>\n",
       "      <td>3.440355</td>\n",
       "      <td>-12.507622</td>\n",
       "      <td>-9.091270</td>\n",
       "      <td>-7.885253</td>\n",
       "      <td>-61.653427</td>\n",
       "      <td>3.317742</td>\n",
       "      <td>-11.285349</td>\n",
       "      <td>0.812927</td>\n",
       "      <td>-4.979718</td>\n",
       "      <td>76.0</td>\n",
       "    </tr>\n",
       "    <tr>\n",
       "      <th>GSM3462521</th>\n",
       "      <td>-6.909230</td>\n",
       "      <td>-19.499048</td>\n",
       "      <td>-19.536371</td>\n",
       "      <td>-14.462260</td>\n",
       "      <td>-65.511006</td>\n",
       "      <td>5.849241</td>\n",
       "      <td>-23.592602</td>\n",
       "      <td>-5.314869</td>\n",
       "      <td>-8.059273</td>\n",
       "      <td>76.0</td>\n",
       "    </tr>\n",
       "  </tbody>\n",
       "</table>\n",
       "<p>11197 rows × 10 columns</p>\n",
       "</div>"
      ],
      "text/plain": [
       "            Horvathv1     Hannum        Lin   PhenoAge  YingCausAge  \\\n",
       "GSM1353204   9.076245  16.749812  22.436206  15.812254    15.100894   \n",
       "GSM1353205  -8.748431   9.290235  15.800717   7.932597    -1.992033   \n",
       "GSM1353206   3.817756   9.492533  22.215876  10.101781     2.066538   \n",
       "GSM1353207  11.809870  22.453932  31.126803  25.718791    24.009024   \n",
       "GSM1353208   4.762899  13.455196  18.709505  17.307541     9.710777   \n",
       "...               ...        ...        ...        ...          ...   \n",
       "GSM3462517   5.295495  -9.595412  -6.554066  -3.038721   -52.542426   \n",
       "GSM3462518   9.689675  -7.246913  -0.440230  -3.932335   -52.753191   \n",
       "GSM3462519        NaN        NaN        NaN        NaN          NaN   \n",
       "GSM3462520   3.440355 -12.507622  -9.091270  -7.885253   -61.653427   \n",
       "GSM3462521  -6.909230 -19.499048 -19.536371 -14.462260   -65.511006   \n",
       "\n",
       "            YingDamAge  YingAdaptAge  Horvathv2  HRSInCHPhenoAge    CA  \n",
       "GSM1353204    1.933245     18.969626  10.348259        13.720695  59.0  \n",
       "GSM1353205  -38.410987     39.641414   1.137469        11.829354  63.0  \n",
       "GSM1353206  -36.038630     29.490701   5.702662         6.590427  71.0  \n",
       "GSM1353207   -4.670465     30.203064   9.868766        28.721831  72.0  \n",
       "GSM1353208  -13.106867     29.670529   8.583468        14.425788  48.0  \n",
       "...                ...           ...        ...              ...   ...  \n",
       "GSM3462517   23.011506     -6.962264   3.355374         2.786835  62.0  \n",
       "GSM3462518   15.124008      9.643545   7.825509         1.650750  61.0  \n",
       "GSM3462519         NaN           NaN        NaN              NaN   NaN  \n",
       "GSM3462520    3.317742    -11.285349   0.812927        -4.979718  76.0  \n",
       "GSM3462521    5.849241    -23.592602  -5.314869        -8.059273  76.0  \n",
       "\n",
       "[11197 rows x 10 columns]"
      ]
     },
     "execution_count": 34,
     "metadata": {},
     "output_type": "execute_result"
    }
   ],
   "source": [
    "delta['CA'] = full_meta['Age'].copy()\n",
    "delta"
   ]
  },
  {
   "cell_type": "code",
   "execution_count": 20,
   "metadata": {},
   "outputs": [
    {
     "data": {
      "text/html": [
       "<div>\n",
       "<style scoped>\n",
       "    .dataframe tbody tr th:only-of-type {\n",
       "        vertical-align: middle;\n",
       "    }\n",
       "\n",
       "    .dataframe tbody tr th {\n",
       "        vertical-align: top;\n",
       "    }\n",
       "\n",
       "    .dataframe thead th {\n",
       "        text-align: right;\n",
       "    }\n",
       "</style>\n",
       "<table border=\"1\" class=\"dataframe\">\n",
       "  <thead>\n",
       "    <tr style=\"text-align: right;\">\n",
       "      <th></th>\n",
       "      <th>Horvathv1</th>\n",
       "      <th>Hannum</th>\n",
       "      <th>Lin</th>\n",
       "      <th>PhenoAge</th>\n",
       "      <th>YingCausAge</th>\n",
       "      <th>YingDamAge</th>\n",
       "      <th>YingAdaptAge</th>\n",
       "      <th>Horvathv2</th>\n",
       "      <th>HRSInCHPhenoAge</th>\n",
       "    </tr>\n",
       "  </thead>\n",
       "  <tbody>\n",
       "    <tr>\n",
       "      <th>GSM1353205</th>\n",
       "      <td>8.748431</td>\n",
       "      <td>9.290235</td>\n",
       "      <td>15.800717</td>\n",
       "      <td>7.932597</td>\n",
       "      <td>1.992033</td>\n",
       "      <td>38.410987</td>\n",
       "      <td>39.641414</td>\n",
       "      <td>1.137469</td>\n",
       "      <td>11.829354</td>\n",
       "    </tr>\n",
       "    <tr>\n",
       "      <th>GSM1353208</th>\n",
       "      <td>4.762899</td>\n",
       "      <td>13.455196</td>\n",
       "      <td>18.709505</td>\n",
       "      <td>17.307541</td>\n",
       "      <td>9.710777</td>\n",
       "      <td>13.106867</td>\n",
       "      <td>29.670529</td>\n",
       "      <td>8.583468</td>\n",
       "      <td>14.425788</td>\n",
       "    </tr>\n",
       "    <tr>\n",
       "      <th>GSM1353211</th>\n",
       "      <td>12.638874</td>\n",
       "      <td>13.124038</td>\n",
       "      <td>25.922454</td>\n",
       "      <td>16.370040</td>\n",
       "      <td>16.813815</td>\n",
       "      <td>1.930881</td>\n",
       "      <td>22.393692</td>\n",
       "      <td>9.426722</td>\n",
       "      <td>14.241453</td>\n",
       "    </tr>\n",
       "    <tr>\n",
       "      <th>GSM1353219</th>\n",
       "      <td>6.761893</td>\n",
       "      <td>15.524675</td>\n",
       "      <td>24.678354</td>\n",
       "      <td>13.685479</td>\n",
       "      <td>10.849644</td>\n",
       "      <td>12.992178</td>\n",
       "      <td>32.140035</td>\n",
       "      <td>14.135787</td>\n",
       "      <td>16.730780</td>\n",
       "    </tr>\n",
       "    <tr>\n",
       "      <th>GSM1353222</th>\n",
       "      <td>15.214799</td>\n",
       "      <td>17.845153</td>\n",
       "      <td>33.668530</td>\n",
       "      <td>18.653848</td>\n",
       "      <td>9.869171</td>\n",
       "      <td>6.535548</td>\n",
       "      <td>12.326777</td>\n",
       "      <td>10.296207</td>\n",
       "      <td>12.560254</td>\n",
       "    </tr>\n",
       "    <tr>\n",
       "      <th>...</th>\n",
       "      <td>...</td>\n",
       "      <td>...</td>\n",
       "      <td>...</td>\n",
       "      <td>...</td>\n",
       "      <td>...</td>\n",
       "      <td>...</td>\n",
       "      <td>...</td>\n",
       "      <td>...</td>\n",
       "      <td>...</td>\n",
       "    </tr>\n",
       "    <tr>\n",
       "      <th>GSM3462511</th>\n",
       "      <td>4.800784</td>\n",
       "      <td>23.028724</td>\n",
       "      <td>21.152502</td>\n",
       "      <td>24.778051</td>\n",
       "      <td>72.592555</td>\n",
       "      <td>0.378206</td>\n",
       "      <td>17.954645</td>\n",
       "      <td>11.862420</td>\n",
       "      <td>17.703828</td>\n",
       "    </tr>\n",
       "    <tr>\n",
       "      <th>GSM3462513</th>\n",
       "      <td>0.656307</td>\n",
       "      <td>16.243719</td>\n",
       "      <td>14.647126</td>\n",
       "      <td>9.513032</td>\n",
       "      <td>61.734879</td>\n",
       "      <td>1.738046</td>\n",
       "      <td>1.525199</td>\n",
       "      <td>1.927478</td>\n",
       "      <td>4.982136</td>\n",
       "    </tr>\n",
       "    <tr>\n",
       "      <th>GSM3462515</th>\n",
       "      <td>14.545584</td>\n",
       "      <td>28.202563</td>\n",
       "      <td>25.869269</td>\n",
       "      <td>25.446233</td>\n",
       "      <td>74.987430</td>\n",
       "      <td>8.441611</td>\n",
       "      <td>19.249805</td>\n",
       "      <td>15.006424</td>\n",
       "      <td>21.077238</td>\n",
       "    </tr>\n",
       "    <tr>\n",
       "      <th>GSM3462517</th>\n",
       "      <td>5.295495</td>\n",
       "      <td>9.595412</td>\n",
       "      <td>6.554066</td>\n",
       "      <td>3.038721</td>\n",
       "      <td>52.542426</td>\n",
       "      <td>23.011506</td>\n",
       "      <td>6.962264</td>\n",
       "      <td>3.355374</td>\n",
       "      <td>2.786835</td>\n",
       "    </tr>\n",
       "    <tr>\n",
       "      <th>GSM3462521</th>\n",
       "      <td>6.909230</td>\n",
       "      <td>19.499048</td>\n",
       "      <td>19.536371</td>\n",
       "      <td>14.462260</td>\n",
       "      <td>65.511006</td>\n",
       "      <td>5.849241</td>\n",
       "      <td>23.592602</td>\n",
       "      <td>5.314869</td>\n",
       "      <td>8.059273</td>\n",
       "    </tr>\n",
       "  </tbody>\n",
       "</table>\n",
       "<p>3095 rows × 9 columns</p>\n",
       "</div>"
      ],
      "text/plain": [
       "            Horvathv1     Hannum        Lin   PhenoAge  YingCausAge  \\\n",
       "GSM1353205   8.748431   9.290235  15.800717   7.932597     1.992033   \n",
       "GSM1353208   4.762899  13.455196  18.709505  17.307541     9.710777   \n",
       "GSM1353211  12.638874  13.124038  25.922454  16.370040    16.813815   \n",
       "GSM1353219   6.761893  15.524675  24.678354  13.685479    10.849644   \n",
       "GSM1353222  15.214799  17.845153  33.668530  18.653848     9.869171   \n",
       "...               ...        ...        ...        ...          ...   \n",
       "GSM3462511   4.800784  23.028724  21.152502  24.778051    72.592555   \n",
       "GSM3462513   0.656307  16.243719  14.647126   9.513032    61.734879   \n",
       "GSM3462515  14.545584  28.202563  25.869269  25.446233    74.987430   \n",
       "GSM3462517   5.295495   9.595412   6.554066   3.038721    52.542426   \n",
       "GSM3462521   6.909230  19.499048  19.536371  14.462260    65.511006   \n",
       "\n",
       "            YingDamAge  YingAdaptAge  Horvathv2  HRSInCHPhenoAge  \n",
       "GSM1353205   38.410987     39.641414   1.137469        11.829354  \n",
       "GSM1353208   13.106867     29.670529   8.583468        14.425788  \n",
       "GSM1353211    1.930881     22.393692   9.426722        14.241453  \n",
       "GSM1353219   12.992178     32.140035  14.135787        16.730780  \n",
       "GSM1353222    6.535548     12.326777  10.296207        12.560254  \n",
       "...                ...           ...        ...              ...  \n",
       "GSM3462511    0.378206     17.954645  11.862420        17.703828  \n",
       "GSM3462513    1.738046      1.525199   1.927478         4.982136  \n",
       "GSM3462515    8.441611     19.249805  15.006424        21.077238  \n",
       "GSM3462517   23.011506      6.962264   3.355374         2.786835  \n",
       "GSM3462521    5.849241     23.592602   5.314869         8.059273  \n",
       "\n",
       "[3095 rows x 9 columns]"
      ]
     },
     "execution_count": 20,
     "metadata": {},
     "output_type": "execute_result"
    }
   ],
   "source": [
    "absdiff#.dropna()"
   ]
  },
  {
   "cell_type": "code",
   "execution_count": 8,
   "metadata": {},
   "outputs": [],
   "source": [
    "df = hc_pred.copy()\n",
    "df['CA'] = hc_age.copy()\n",
    "df['GSE'] = "
   ]
  },
  {
   "cell_type": "code",
   "execution_count": 14,
   "metadata": {},
   "outputs": [
    {
     "data": {
      "text/plain": [
       "<computage.benchmarking.benchmarking.EpiClocksBenchmarking at 0x7fec5849e7a0>"
      ]
     },
     "execution_count": 14,
     "metadata": {},
     "output_type": "execute_result"
    }
   ],
   "source": [
    "bench"
   ]
  },
  {
   "cell_type": "code",
   "execution_count": 9,
   "metadata": {},
   "outputs": [
    {
     "data": {
      "text/html": [
       "<div>\n",
       "<style scoped>\n",
       "    .dataframe tbody tr th:only-of-type {\n",
       "        vertical-align: middle;\n",
       "    }\n",
       "\n",
       "    .dataframe tbody tr th {\n",
       "        vertical-align: top;\n",
       "    }\n",
       "\n",
       "    .dataframe thead th {\n",
       "        text-align: right;\n",
       "    }\n",
       "</style>\n",
       "<table border=\"1\" class=\"dataframe\">\n",
       "  <thead>\n",
       "    <tr style=\"text-align: right;\">\n",
       "      <th></th>\n",
       "      <th>Horvathv1</th>\n",
       "      <th>Hannum</th>\n",
       "      <th>Lin</th>\n",
       "      <th>PhenoAge</th>\n",
       "      <th>YingCausAge</th>\n",
       "      <th>YingDamAge</th>\n",
       "      <th>YingAdaptAge</th>\n",
       "      <th>Horvathv2</th>\n",
       "      <th>HRSInCHPhenoAge</th>\n",
       "      <th>CA</th>\n",
       "    </tr>\n",
       "  </thead>\n",
       "  <tbody>\n",
       "    <tr>\n",
       "      <th>GSM1353205</th>\n",
       "      <td>54.251569</td>\n",
       "      <td>72.290235</td>\n",
       "      <td>78.800717</td>\n",
       "      <td>70.932597</td>\n",
       "      <td>61.007967</td>\n",
       "      <td>24.589013</td>\n",
       "      <td>102.641414</td>\n",
       "      <td>64.137469</td>\n",
       "      <td>74.829354</td>\n",
       "      <td>63.0</td>\n",
       "    </tr>\n",
       "    <tr>\n",
       "      <th>GSM1353208</th>\n",
       "      <td>52.762899</td>\n",
       "      <td>61.455196</td>\n",
       "      <td>66.709505</td>\n",
       "      <td>65.307541</td>\n",
       "      <td>57.710777</td>\n",
       "      <td>34.893133</td>\n",
       "      <td>77.670529</td>\n",
       "      <td>56.583468</td>\n",
       "      <td>62.425788</td>\n",
       "      <td>48.0</td>\n",
       "    </tr>\n",
       "    <tr>\n",
       "      <th>GSM1353211</th>\n",
       "      <td>71.638874</td>\n",
       "      <td>72.124038</td>\n",
       "      <td>84.922454</td>\n",
       "      <td>75.370040</td>\n",
       "      <td>75.813815</td>\n",
       "      <td>60.930881</td>\n",
       "      <td>81.393692</td>\n",
       "      <td>68.426722</td>\n",
       "      <td>73.241453</td>\n",
       "      <td>59.0</td>\n",
       "    </tr>\n",
       "    <tr>\n",
       "      <th>GSM1353219</th>\n",
       "      <td>63.761893</td>\n",
       "      <td>72.524675</td>\n",
       "      <td>81.678354</td>\n",
       "      <td>70.685479</td>\n",
       "      <td>67.849644</td>\n",
       "      <td>44.007822</td>\n",
       "      <td>89.140035</td>\n",
       "      <td>71.135787</td>\n",
       "      <td>73.730780</td>\n",
       "      <td>57.0</td>\n",
       "    </tr>\n",
       "    <tr>\n",
       "      <th>GSM1353222</th>\n",
       "      <td>78.214799</td>\n",
       "      <td>80.845153</td>\n",
       "      <td>96.668530</td>\n",
       "      <td>81.653848</td>\n",
       "      <td>72.869171</td>\n",
       "      <td>56.464452</td>\n",
       "      <td>75.326777</td>\n",
       "      <td>73.296207</td>\n",
       "      <td>75.560254</td>\n",
       "      <td>63.0</td>\n",
       "    </tr>\n",
       "    <tr>\n",
       "      <th>...</th>\n",
       "      <td>...</td>\n",
       "      <td>...</td>\n",
       "      <td>...</td>\n",
       "      <td>...</td>\n",
       "      <td>...</td>\n",
       "      <td>...</td>\n",
       "      <td>...</td>\n",
       "      <td>...</td>\n",
       "      <td>...</td>\n",
       "      <td>...</td>\n",
       "    </tr>\n",
       "    <tr>\n",
       "      <th>GSM3462511</th>\n",
       "      <td>73.199216</td>\n",
       "      <td>54.971276</td>\n",
       "      <td>56.847498</td>\n",
       "      <td>53.221949</td>\n",
       "      <td>5.407445</td>\n",
       "      <td>77.621794</td>\n",
       "      <td>60.045355</td>\n",
       "      <td>66.137580</td>\n",
       "      <td>60.296172</td>\n",
       "      <td>78.0</td>\n",
       "    </tr>\n",
       "    <tr>\n",
       "      <th>GSM3462513</th>\n",
       "      <td>69.656307</td>\n",
       "      <td>52.756281</td>\n",
       "      <td>54.352874</td>\n",
       "      <td>59.486968</td>\n",
       "      <td>7.265121</td>\n",
       "      <td>70.738046</td>\n",
       "      <td>67.474801</td>\n",
       "      <td>67.072522</td>\n",
       "      <td>64.017864</td>\n",
       "      <td>69.0</td>\n",
       "    </tr>\n",
       "    <tr>\n",
       "      <th>GSM3462515</th>\n",
       "      <td>65.454416</td>\n",
       "      <td>51.797437</td>\n",
       "      <td>54.130731</td>\n",
       "      <td>54.553767</td>\n",
       "      <td>5.012570</td>\n",
       "      <td>71.558389</td>\n",
       "      <td>60.750195</td>\n",
       "      <td>64.993576</td>\n",
       "      <td>58.922762</td>\n",
       "      <td>80.0</td>\n",
       "    </tr>\n",
       "    <tr>\n",
       "      <th>GSM3462517</th>\n",
       "      <td>67.295495</td>\n",
       "      <td>52.404588</td>\n",
       "      <td>55.445934</td>\n",
       "      <td>58.961279</td>\n",
       "      <td>9.457574</td>\n",
       "      <td>85.011506</td>\n",
       "      <td>55.037736</td>\n",
       "      <td>65.355374</td>\n",
       "      <td>64.786835</td>\n",
       "      <td>62.0</td>\n",
       "    </tr>\n",
       "    <tr>\n",
       "      <th>GSM3462521</th>\n",
       "      <td>69.090770</td>\n",
       "      <td>56.500952</td>\n",
       "      <td>56.463629</td>\n",
       "      <td>61.537740</td>\n",
       "      <td>10.488994</td>\n",
       "      <td>81.849241</td>\n",
       "      <td>52.407398</td>\n",
       "      <td>70.685131</td>\n",
       "      <td>67.940727</td>\n",
       "      <td>76.0</td>\n",
       "    </tr>\n",
       "  </tbody>\n",
       "</table>\n",
       "<p>3095 rows × 10 columns</p>\n",
       "</div>"
      ],
      "text/plain": [
       "            Horvathv1     Hannum        Lin   PhenoAge  YingCausAge  \\\n",
       "GSM1353205  54.251569  72.290235  78.800717  70.932597    61.007967   \n",
       "GSM1353208  52.762899  61.455196  66.709505  65.307541    57.710777   \n",
       "GSM1353211  71.638874  72.124038  84.922454  75.370040    75.813815   \n",
       "GSM1353219  63.761893  72.524675  81.678354  70.685479    67.849644   \n",
       "GSM1353222  78.214799  80.845153  96.668530  81.653848    72.869171   \n",
       "...               ...        ...        ...        ...          ...   \n",
       "GSM3462511  73.199216  54.971276  56.847498  53.221949     5.407445   \n",
       "GSM3462513  69.656307  52.756281  54.352874  59.486968     7.265121   \n",
       "GSM3462515  65.454416  51.797437  54.130731  54.553767     5.012570   \n",
       "GSM3462517  67.295495  52.404588  55.445934  58.961279     9.457574   \n",
       "GSM3462521  69.090770  56.500952  56.463629  61.537740    10.488994   \n",
       "\n",
       "            YingDamAge  YingAdaptAge  Horvathv2  HRSInCHPhenoAge    CA  \n",
       "GSM1353205   24.589013    102.641414  64.137469        74.829354  63.0  \n",
       "GSM1353208   34.893133     77.670529  56.583468        62.425788  48.0  \n",
       "GSM1353211   60.930881     81.393692  68.426722        73.241453  59.0  \n",
       "GSM1353219   44.007822     89.140035  71.135787        73.730780  57.0  \n",
       "GSM1353222   56.464452     75.326777  73.296207        75.560254  63.0  \n",
       "...                ...           ...        ...              ...   ...  \n",
       "GSM3462511   77.621794     60.045355  66.137580        60.296172  78.0  \n",
       "GSM3462513   70.738046     67.474801  67.072522        64.017864  69.0  \n",
       "GSM3462515   71.558389     60.750195  64.993576        58.922762  80.0  \n",
       "GSM3462517   85.011506     55.037736  65.355374        64.786835  62.0  \n",
       "GSM3462521   81.849241     52.407398  70.685131        67.940727  76.0  \n",
       "\n",
       "[3095 rows x 10 columns]"
      ]
     },
     "execution_count": 9,
     "metadata": {},
     "output_type": "execute_result"
    }
   ],
   "source": [
    "df"
   ]
  },
  {
   "cell_type": "code",
   "execution_count": null,
   "metadata": {},
   "outputs": [],
   "source": []
  },
  {
   "cell_type": "code",
   "execution_count": null,
   "metadata": {},
   "outputs": [],
   "source": []
  },
  {
   "cell_type": "code",
   "execution_count": null,
   "metadata": {},
   "outputs": [],
   "source": []
  },
  {
   "cell_type": "code",
   "execution_count": 11,
   "metadata": {},
   "outputs": [
    {
     "name": "stdout",
     "output_type": "stream",
     "text": [
      "total 88K\n",
      "-rw-rw-r-- 1 dkriukov dkriukov  11K Apr  3 09:59 bench2_published_bench_adj_pvals.csv\n",
      "-rw-rw-r-- 1 dkriukov dkriukov 4.2K Apr  3 09:59 bench2_published_bench_bools.csv\n",
      "-rw-rw-r-- 1 dkriukov dkriukov  12K Apr  3 09:59 bench2_published_bench_pvals.csv\n",
      "-rw-rw-r-- 1 dkriukov dkriukov 8.7K Apr 17 14:31 prefinal0_bench_adj_pvals.csv\n",
      "-rw-rw-r-- 1 dkriukov dkriukov 5.1K Apr 17 14:31 prefinal0_bench_bools.csv\n",
      "-rw-rw-r-- 1 dkriukov dkriukov  530 Apr 17 14:31 prefinal0_bench_CA_pred_MAE.csv\n",
      "-rw-rw-r-- 1 dkriukov dkriukov  13K Apr 17 14:31 prefinal0_bench_pvals.csv\n",
      "-rw-rw-r-- 1 dkriukov dkriukov  767 Apr 16 14:52 test2_bench_adj_pvals.csv\n",
      "-rw-rw-r-- 1 dkriukov dkriukov  315 Apr 16 14:52 test2_bench_bools.csv\n",
      "-rw-rw-r-- 1 dkriukov dkriukov  504 Apr 16 14:52 test2_bench_CA_pred_MAE.csv\n",
      "-rw-rw-r-- 1 dkriukov dkriukov  769 Apr 16 14:52 test2_bench_pvals.csv\n"
     ]
    }
   ],
   "source": [
    "!ls -hl tmp_bench_results"
   ]
  },
  {
   "cell_type": "code",
   "execution_count": 20,
   "metadata": {},
   "outputs": [],
   "source": [
    "keys = list(bench.datasets_predictions.keys())"
   ]
  },
  {
   "cell_type": "code",
   "execution_count": 45,
   "metadata": {},
   "outputs": [
    {
     "name": "stdout",
     "output_type": "stream",
     "text": [
      "GSE56046\n",
      "65.4142860696623\n",
      "GSE56581\n",
      "55.13255337182477\n",
      "GSE62867\n",
      "31.215732548258\n",
      "GSE69138\n",
      "62.47126678961085\n",
      "GSE107143\n",
      "57.19305682109346\n",
      "GSE203399\n",
      "61.94609151920956\n",
      "GSE32148\n",
      "20.731623206433387\n",
      "GSE87640\n",
      "35.286675937340405\n",
      "GSE87648\n",
      "41.85642104183096\n",
      "GSE53840\n",
      "50.79653539049245\n",
      "GSE53841\n",
      "46.83137803468343\n",
      "GSE67705\n",
      "53.85686111243916\n",
      "GSE67751\n",
      "44.02221506354244\n",
      "GSE77696\n",
      "49.96474548804203\n",
      "GSE100264\n",
      "50.45620166710822\n",
      "GSE107080\n",
      "43.28720844178879\n",
      "GSE117859\n",
      "50.488792859419036\n",
      "GSE117860\n",
      "43.59981965326171\n",
      "GSE140800\n",
      "36.642266967190544\n",
      "GSE143942\n",
      "28.071588029362857\n",
      "GSE145714\n",
      "25.653688703690584\n",
      "GSE185389\n",
      "44.78235273123339\n",
      "GSE185390\n",
      "37.76696786113916\n",
      "GSE217633\n",
      "31.007763191675203\n",
      "GSE42861\n",
      "48.61753166953791\n",
      "GSE71841\n",
      "37.78540696887688\n",
      "GSE99624\n",
      "57.21610846278078\n",
      "GSE131989\n",
      "32.58802709740392\n",
      "GSE134429\n",
      "52.1182119804742\n",
      "GSE137593\n",
      "45.42194524318468\n",
      "GSE137594\n",
      "52.63327198459547\n",
      "GSE138653\n",
      "35.39955305383512\n",
      "GSE175364\n",
      "40.57425293269749\n",
      "GSE176168\n",
      "41.51377045469469\n",
      "GSE228104\n",
      "47.5018742986105\n",
      "GSE49909\n",
      "31.133025221238466\n",
      "GSE56606\n",
      "2.0431663034663667e+37\n",
      "GSE62003\n",
      "63.35149070761131\n",
      "GSE73103\n",
      "31.913425655148302\n",
      "GSE118468\n",
      "55.123292964751194\n",
      "GSE131752\n",
      "37.24894901814092\n",
      "GSE182991\n",
      "1.9010311985911934\n",
      "GSE214297\n",
      "9.971425835370479\n",
      "GSE43976\n",
      "40.4585405177791\n",
      "GSE59685\n",
      "68.63424213912597\n",
      "GSE72774\n",
      "57.89808549485791\n",
      "GSE72776\n",
      "55.542624242023656\n",
      "GSE103929\n",
      "42.05025709595188\n",
      "GSE106648\n",
      "39.23044536622442\n",
      "GSE111223\n",
      "71.24651468569904\n",
      "GSE111629\n",
      "57.59279449324315\n",
      "GSE112596\n",
      "21.02590925348245\n",
      "GSE130029\n",
      "30.39383950867612\n",
      "GSE130030\n",
      "20.592291752370507\n",
      "GSE130491\n",
      "25.586145449871374\n",
      "GSE144858\n",
      "58.11180040334816\n",
      "GSE151355\n",
      "70.16291018386568\n",
      "GSE156994\n",
      "2893.2039192116526\n",
      "GSE219293\n",
      "-132.9241490535033\n"
     ]
    }
   ],
   "source": [
    "k = keys[20]\n",
    "for k in keys:\n",
    "    print(k)\n",
    "    print(bench.datasets_predictions[k].mean().mean())"
   ]
  },
  {
   "cell_type": "code",
   "execution_count": 46,
   "metadata": {},
   "outputs": [],
   "source": [
    "data, meta = pd.read_pickle('/tank/projects/computage/benchmarking/GSE56606.pkl.gz', compression='gzip').values()"
   ]
  },
  {
   "cell_type": "code",
   "execution_count": 56,
   "metadata": {},
   "outputs": [
    {
     "data": {
      "text/plain": [
       "GSM1365585    0.000000e+00\n",
       "GSM1365586    0.000000e+00\n",
       "GSM1365587    0.000000e+00\n",
       "GSM1365588    0.000000e+00\n",
       "GSM1365589    3.660000e-03\n",
       "                  ...     \n",
       "GSM1365680   -3.402823e+38\n",
       "GSM1365681   -3.402823e+38\n",
       "GSM1365682   -3.402823e+38\n",
       "GSM1365683   -3.402823e+38\n",
       "GSM1365684   -3.402823e+38\n",
       "Length: 100, dtype: float32"
      ]
     },
     "execution_count": 56,
     "metadata": {},
     "output_type": "execute_result"
    }
   ],
   "source": [
    "data.min(1)"
   ]
  },
  {
   "cell_type": "code",
   "execution_count": 12,
   "metadata": {},
   "outputs": [],
   "source": [
    "# listmodels = glob('/tank/projects/computage/checkpoints/pls*pheno*ultra*')\n",
    "# listmodels, len(listmodels)"
   ]
  },
  {
   "cell_type": "markdown",
   "metadata": {},
   "source": [
    "# legacy"
   ]
  },
  {
   "cell_type": "code",
   "execution_count": 2,
   "metadata": {},
   "outputs": [],
   "source": [
    "# from biolearn.data_library import GeoData\n",
    "# from biolearn.model_gallery import ModelGallery\n",
    "\n",
    "# published = False\n",
    "\n",
    "# gallery = ModelGallery()\n",
    "\n",
    "# bench_results_AAP = pd.DataFrame()\n",
    "# bench_results_AA0 = pd.DataFrame()\n",
    "# datasets_predictions = {}\n",
    "# for gse, conf in datasets_config.items():\n",
    "#     #import data\n",
    "#     path, cond, test = conf.values()\n",
    "#     dnam, meta = pd.read_pickle(path, compression='gzip').values()\n",
    "#     data = GeoData(meta, dnam.T)\n",
    "\n",
    "#     ###Predict datasets and gather predictions\n",
    "#     #Note that by default clocks will impute missing data.\n",
    "#     #To change this behavior set the imputation= parameter when getting the clock #???\n",
    "\n",
    "#     predictions = {}\n",
    "#     if published:\n",
    "#         #published clocks prediction\n",
    "#         keys = list(gallery.model_definitions.keys())\n",
    "#         for k in tqdm(keys):\n",
    "#             try:\n",
    "#                 if gallery.model_definitions[k]['output']=='Age (Years)':\n",
    "#                     results = gallery.get(k, imputation_method='none').predict(data)\n",
    "#                     predictions[k] = results['Predicted']\n",
    "#             except:\n",
    "#                 print('Oops!')\n",
    "#                 continue\n",
    "#     else:\n",
    "#         #de novo clocks prediction\n",
    "#         for path in tqdm(listmodels):\n",
    "#             k = splitext(basename(path))[0]\n",
    "#             model = pickle.load(open(path, 'rb'))\n",
    "#             try:\n",
    "#                 dnam_ = dnam.reindex(columns = list(model.pls.feature_names_in_)).copy()\n",
    "#             except:\n",
    "#                 dnam_ = dnam.reindex(columns = list(model.feature_names_in_)).copy()\n",
    "#                 dnam_ = dnam_.fillna(0.)\n",
    "            \n",
    "#             preds_ = model.predict(dnam_)\n",
    "#             if type(preds_) == np.ndarray:\n",
    "#                 predictions[k] = pd.Series(preds_, index=dnam.index)\n",
    "#             else:\n",
    "#                 predictions[k] = pd.Series(preds_.values, index=dnam.index)\n",
    "        \n",
    "#     pred = pd.DataFrame(predictions)\n",
    "#     datasets_predictions[gse] = pred.copy()\n",
    "#     #meta filtering\n",
    "#     no_age_na_indices = meta[~meta['Age'].isna()].index\n",
    "#     meta = meta.loc[no_age_na_indices]\n",
    "#     if test == 'AAP':\n",
    "#         #calculating mann-whitney test for difference in age acceleration between disease and healthy cohorts\n",
    "#         disease_idx = meta.index[meta['Condition'] == cond]\n",
    "#         healthy_idx = meta.index[meta['Condition'] == 'HC']\n",
    "#         print(f'{cond}:{gse} - AAP testing {len(disease_idx)} disease versus {len(healthy_idx)} healthy samples')\n",
    "#         pvals = {}\n",
    "#         for col in pred.columns:\n",
    "#             disease_true = meta.loc[disease_idx, 'Age'].values\n",
    "#             healthy_true = meta.loc[healthy_idx, 'Age'].values\n",
    "#             disease_pred = pred.loc[disease_idx, col].values\n",
    "#             healthy_pred = pred.loc[healthy_idx, col].values\n",
    "#             disease_delta = disease_pred - disease_true\n",
    "#             healthy_delta = healthy_pred - healthy_true\n",
    "#             stat, pval = mannwhitneyu(disease_delta, healthy_delta, alternative='greater')\n",
    "#             pvals[col] = pval\n",
    "#         bench_results_AAP[f'{cond}:{gse}:AAP'] = pd.Series(pvals)\n",
    "#     elif test == 'AA0':\n",
    "#         #calculating wilcoxon test for positive age (>0) acceleration in disease cohort\n",
    "#         disease_idx = meta.index[meta['Condition'] == cond]\n",
    "#         print(f'{cond}:{gse} - AA0 testing {len(disease_idx)} disease samples')\n",
    "#         pvals = {}\n",
    "#         for col in pred.columns:\n",
    "#             disease_true = meta.loc[disease_idx, 'Age'].values\n",
    "#             disease_pred = pred.loc[disease_idx, col].values\n",
    "#             disease_delta = disease_pred - disease_true\n",
    "#             stat, pval = wilcoxon(disease_delta, alternative='greater')\n",
    "#             pvals[col] = pval\n",
    "#         bench_results_AA0[f'{cond}:{gse}:AA0'] = pd.Series(pvals)\n",
    "#     else:\n",
    "#         NotImplementedError(\"Only two tests are currently available: ['AAP', 'AA0'].\")\n",
    "    "
   ]
  },
  {
   "cell_type": "code",
   "execution_count": 167,
   "metadata": {},
   "outputs": [],
   "source": [
    "#dnam, meta = pd.read_pickle(datasets_config['GSE53840']['path'], compression='gzip').values()"
   ]
  },
  {
   "cell_type": "code",
   "execution_count": 3,
   "metadata": {},
   "outputs": [],
   "source": [
    "# def correction(x):\n",
    "#     return multipletests(x, method='fdr_bh')[1]\n",
    "\n",
    "# bench_results = pd.concat([bench_results_AAP, bench_results_AA0], axis=1).dropna(axis=0)\n",
    "# corrected_results_AAP = bench_results_AAP.T.apply(correction, axis=0).T < 0.05\n",
    "# corrected_results_AA0 = bench_results_AA0.T.apply(correction, axis=0).T < 0.05\n",
    "# corrected_results = pd.concat([corrected_results_AAP, corrected_results_AA0], axis=1)\n",
    "\n",
    "# print(corrected_results.shape)\n",
    "# corrected_results.sum(axis=1).sort_values(ascending=False)\n",
    "\n",
    "# bench_results.to_csv('/tank/projects/computage/results/bench_results_pls_pheno_ultra.csv')\n",
    "# corrected_results.to_csv('/tank/projects/computage/results/bench_results_pls_pheno_ultra.csv')"
   ]
  },
  {
   "cell_type": "code",
   "execution_count": 15,
   "metadata": {},
   "outputs": [
    {
     "data": {
      "text/html": [
       "<div>\n",
       "<style scoped>\n",
       "    .dataframe tbody tr th:only-of-type {\n",
       "        vertical-align: middle;\n",
       "    }\n",
       "\n",
       "    .dataframe tbody tr th {\n",
       "        vertical-align: top;\n",
       "    }\n",
       "\n",
       "    .dataframe thead th {\n",
       "        text-align: right;\n",
       "    }\n",
       "</style>\n",
       "<table border=\"1\" class=\"dataframe\">\n",
       "  <thead>\n",
       "    <tr style=\"text-align: right;\">\n",
       "      <th></th>\n",
       "      <th>DS:GSE52588</th>\n",
       "      <th>Rheumatoid arthritis:GSE42861</th>\n",
       "      <th>AD:GSE59685</th>\n",
       "      <th>AD:GSE80970</th>\n",
       "      <th>Overweight:GSE73103</th>\n",
       "      <th>IBD:GSE87640</th>\n",
       "      <th>IBD:GSE87648</th>\n",
       "      <th>HT:GSE157131</th>\n",
       "    </tr>\n",
       "  </thead>\n",
       "  <tbody>\n",
       "    <tr>\n",
       "      <th>Horvathv1</th>\n",
       "      <td>True</td>\n",
       "      <td>False</td>\n",
       "      <td>False</td>\n",
       "      <td>False</td>\n",
       "      <td>False</td>\n",
       "      <td>False</td>\n",
       "      <td>False</td>\n",
       "      <td>False</td>\n",
       "    </tr>\n",
       "    <tr>\n",
       "      <th>Hannum</th>\n",
       "      <td>True</td>\n",
       "      <td>True</td>\n",
       "      <td>False</td>\n",
       "      <td>False</td>\n",
       "      <td>False</td>\n",
       "      <td>True</td>\n",
       "      <td>True</td>\n",
       "      <td>False</td>\n",
       "    </tr>\n",
       "    <tr>\n",
       "      <th>Lin</th>\n",
       "      <td>True</td>\n",
       "      <td>False</td>\n",
       "      <td>False</td>\n",
       "      <td>False</td>\n",
       "      <td>False</td>\n",
       "      <td>True</td>\n",
       "      <td>False</td>\n",
       "      <td>False</td>\n",
       "    </tr>\n",
       "    <tr>\n",
       "      <th>PhenoAge</th>\n",
       "      <td>True</td>\n",
       "      <td>True</td>\n",
       "      <td>False</td>\n",
       "      <td>False</td>\n",
       "      <td>False</td>\n",
       "      <td>True</td>\n",
       "      <td>True</td>\n",
       "      <td>True</td>\n",
       "    </tr>\n",
       "    <tr>\n",
       "      <th>YingCausAge</th>\n",
       "      <td>True</td>\n",
       "      <td>False</td>\n",
       "      <td>False</td>\n",
       "      <td>False</td>\n",
       "      <td>False</td>\n",
       "      <td>False</td>\n",
       "      <td>False</td>\n",
       "      <td>False</td>\n",
       "    </tr>\n",
       "    <tr>\n",
       "      <th>YingDamAge</th>\n",
       "      <td>False</td>\n",
       "      <td>False</td>\n",
       "      <td>False</td>\n",
       "      <td>False</td>\n",
       "      <td>False</td>\n",
       "      <td>False</td>\n",
       "      <td>True</td>\n",
       "      <td>False</td>\n",
       "    </tr>\n",
       "    <tr>\n",
       "      <th>YingAdaptAge</th>\n",
       "      <td>True</td>\n",
       "      <td>False</td>\n",
       "      <td>False</td>\n",
       "      <td>False</td>\n",
       "      <td>False</td>\n",
       "      <td>False</td>\n",
       "      <td>False</td>\n",
       "      <td>False</td>\n",
       "    </tr>\n",
       "    <tr>\n",
       "      <th>Horvathv2</th>\n",
       "      <td>True</td>\n",
       "      <td>False</td>\n",
       "      <td>False</td>\n",
       "      <td>False</td>\n",
       "      <td>False</td>\n",
       "      <td>False</td>\n",
       "      <td>False</td>\n",
       "      <td>False</td>\n",
       "    </tr>\n",
       "    <tr>\n",
       "      <th>PEDBE</th>\n",
       "      <td>True</td>\n",
       "      <td>False</td>\n",
       "      <td>False</td>\n",
       "      <td>False</td>\n",
       "      <td>False</td>\n",
       "      <td>False</td>\n",
       "      <td>False</td>\n",
       "      <td>False</td>\n",
       "    </tr>\n",
       "    <tr>\n",
       "      <th>HRSInCHPhenoAge</th>\n",
       "      <td>True</td>\n",
       "      <td>True</td>\n",
       "      <td>False</td>\n",
       "      <td>False</td>\n",
       "      <td>True</td>\n",
       "      <td>True</td>\n",
       "      <td>True</td>\n",
       "      <td>True</td>\n",
       "    </tr>\n",
       "  </tbody>\n",
       "</table>\n",
       "</div>"
      ],
      "text/plain": [
       "                 DS:GSE52588  Rheumatoid arthritis:GSE42861  AD:GSE59685  \\\n",
       "Horvathv1               True                          False        False   \n",
       "Hannum                  True                           True        False   \n",
       "Lin                     True                          False        False   \n",
       "PhenoAge                True                           True        False   \n",
       "YingCausAge             True                          False        False   \n",
       "YingDamAge             False                          False        False   \n",
       "YingAdaptAge            True                          False        False   \n",
       "Horvathv2               True                          False        False   \n",
       "PEDBE                   True                          False        False   \n",
       "HRSInCHPhenoAge         True                           True        False   \n",
       "\n",
       "                 AD:GSE80970  Overweight:GSE73103  IBD:GSE87640  IBD:GSE87648  \\\n",
       "Horvathv1              False                False         False         False   \n",
       "Hannum                 False                False          True          True   \n",
       "Lin                    False                False          True         False   \n",
       "PhenoAge               False                False          True          True   \n",
       "YingCausAge            False                False         False         False   \n",
       "YingDamAge             False                False         False          True   \n",
       "YingAdaptAge           False                False         False         False   \n",
       "Horvathv2              False                False         False         False   \n",
       "PEDBE                  False                False         False         False   \n",
       "HRSInCHPhenoAge        False                 True          True          True   \n",
       "\n",
       "                 HT:GSE157131  \n",
       "Horvathv1               False  \n",
       "Hannum                  False  \n",
       "Lin                     False  \n",
       "PhenoAge                 True  \n",
       "YingCausAge             False  \n",
       "YingDamAge              False  \n",
       "YingAdaptAge            False  \n",
       "Horvathv2               False  \n",
       "PEDBE                   False  \n",
       "HRSInCHPhenoAge          True  "
      ]
     },
     "execution_count": 15,
     "metadata": {},
     "output_type": "execute_result"
    }
   ],
   "source": [
    "pd.read_csv('/tank/projects/computage/results/bench_results_pre_noimputation_corrected.csv', index_col=0)#.sum(axis=1).sort_values(ascending=False)"
   ]
  },
  {
   "cell_type": "code",
   "execution_count": 13,
   "metadata": {},
   "outputs": [
    {
     "data": {
      "text/html": [
       "<div>\n",
       "<style scoped>\n",
       "    .dataframe tbody tr th:only-of-type {\n",
       "        vertical-align: middle;\n",
       "    }\n",
       "\n",
       "    .dataframe tbody tr th {\n",
       "        vertical-align: top;\n",
       "    }\n",
       "\n",
       "    .dataframe thead th {\n",
       "        text-align: right;\n",
       "    }\n",
       "</style>\n",
       "<table border=\"1\" class=\"dataframe\">\n",
       "  <thead>\n",
       "    <tr style=\"text-align: right;\">\n",
       "      <th></th>\n",
       "      <th>DS:GSE52588</th>\n",
       "      <th>Rheumatoid arthritis:GSE42861</th>\n",
       "      <th>AD:GSE59685</th>\n",
       "      <th>AD:GSE80970</th>\n",
       "      <th>Overweight:GSE73103</th>\n",
       "      <th>IBD:GSE87640</th>\n",
       "      <th>IBD:GSE87648</th>\n",
       "      <th>HT:GSE157131</th>\n",
       "    </tr>\n",
       "  </thead>\n",
       "  <tbody>\n",
       "    <tr>\n",
       "      <th>pls1_11_pheno_ultrav1</th>\n",
       "      <td>True</td>\n",
       "      <td>False</td>\n",
       "      <td>False</td>\n",
       "      <td>False</td>\n",
       "      <td>False</td>\n",
       "      <td>False</td>\n",
       "      <td>False</td>\n",
       "      <td>False</td>\n",
       "    </tr>\n",
       "    <tr>\n",
       "      <th>pls1_7_kdm_pheno_ultrav1</th>\n",
       "      <td>True</td>\n",
       "      <td>False</td>\n",
       "      <td>False</td>\n",
       "      <td>False</td>\n",
       "      <td>False</td>\n",
       "      <td>False</td>\n",
       "      <td>True</td>\n",
       "      <td>False</td>\n",
       "    </tr>\n",
       "    <tr>\n",
       "      <th>pls1_6_pheno_ultrav1</th>\n",
       "      <td>True</td>\n",
       "      <td>False</td>\n",
       "      <td>False</td>\n",
       "      <td>False</td>\n",
       "      <td>False</td>\n",
       "      <td>False</td>\n",
       "      <td>False</td>\n",
       "      <td>False</td>\n",
       "    </tr>\n",
       "    <tr>\n",
       "      <th>pls1_1_kdm_pheno_ultrav1</th>\n",
       "      <td>True</td>\n",
       "      <td>True</td>\n",
       "      <td>False</td>\n",
       "      <td>False</td>\n",
       "      <td>False</td>\n",
       "      <td>False</td>\n",
       "      <td>False</td>\n",
       "      <td>False</td>\n",
       "    </tr>\n",
       "    <tr>\n",
       "      <th>pls1_12_kdm_pheno_ultrav1</th>\n",
       "      <td>True</td>\n",
       "      <td>False</td>\n",
       "      <td>False</td>\n",
       "      <td>False</td>\n",
       "      <td>False</td>\n",
       "      <td>False</td>\n",
       "      <td>True</td>\n",
       "      <td>False</td>\n",
       "    </tr>\n",
       "    <tr>\n",
       "      <th>pls1_6_kdm_pheno_ultrav1</th>\n",
       "      <td>True</td>\n",
       "      <td>False</td>\n",
       "      <td>False</td>\n",
       "      <td>False</td>\n",
       "      <td>False</td>\n",
       "      <td>False</td>\n",
       "      <td>True</td>\n",
       "      <td>False</td>\n",
       "    </tr>\n",
       "    <tr>\n",
       "      <th>pls1_7_pheno_ultrav1</th>\n",
       "      <td>True</td>\n",
       "      <td>False</td>\n",
       "      <td>False</td>\n",
       "      <td>False</td>\n",
       "      <td>False</td>\n",
       "      <td>False</td>\n",
       "      <td>False</td>\n",
       "      <td>False</td>\n",
       "    </tr>\n",
       "    <tr>\n",
       "      <th>pls1_13_kdm_pheno_ultrav1</th>\n",
       "      <td>True</td>\n",
       "      <td>False</td>\n",
       "      <td>False</td>\n",
       "      <td>False</td>\n",
       "      <td>False</td>\n",
       "      <td>False</td>\n",
       "      <td>True</td>\n",
       "      <td>False</td>\n",
       "    </tr>\n",
       "    <tr>\n",
       "      <th>pls1_10_pheno_ultrav1</th>\n",
       "      <td>True</td>\n",
       "      <td>False</td>\n",
       "      <td>False</td>\n",
       "      <td>False</td>\n",
       "      <td>False</td>\n",
       "      <td>False</td>\n",
       "      <td>False</td>\n",
       "      <td>False</td>\n",
       "    </tr>\n",
       "    <tr>\n",
       "      <th>pls1_1_pheno_ultrav1</th>\n",
       "      <td>True</td>\n",
       "      <td>True</td>\n",
       "      <td>False</td>\n",
       "      <td>False</td>\n",
       "      <td>False</td>\n",
       "      <td>False</td>\n",
       "      <td>False</td>\n",
       "      <td>False</td>\n",
       "    </tr>\n",
       "    <tr>\n",
       "      <th>pls1_4_pheno_ultrav1</th>\n",
       "      <td>True</td>\n",
       "      <td>False</td>\n",
       "      <td>False</td>\n",
       "      <td>False</td>\n",
       "      <td>False</td>\n",
       "      <td>True</td>\n",
       "      <td>True</td>\n",
       "      <td>False</td>\n",
       "    </tr>\n",
       "    <tr>\n",
       "      <th>pls1_9_kdm_pheno_ultrav1</th>\n",
       "      <td>True</td>\n",
       "      <td>False</td>\n",
       "      <td>False</td>\n",
       "      <td>False</td>\n",
       "      <td>False</td>\n",
       "      <td>False</td>\n",
       "      <td>True</td>\n",
       "      <td>False</td>\n",
       "    </tr>\n",
       "    <tr>\n",
       "      <th>pls1_13_pheno_ultrav1</th>\n",
       "      <td>True</td>\n",
       "      <td>False</td>\n",
       "      <td>False</td>\n",
       "      <td>False</td>\n",
       "      <td>False</td>\n",
       "      <td>False</td>\n",
       "      <td>False</td>\n",
       "      <td>False</td>\n",
       "    </tr>\n",
       "    <tr>\n",
       "      <th>pls1_3_kdm_pheno_ultrav1</th>\n",
       "      <td>True</td>\n",
       "      <td>False</td>\n",
       "      <td>False</td>\n",
       "      <td>False</td>\n",
       "      <td>False</td>\n",
       "      <td>True</td>\n",
       "      <td>True</td>\n",
       "      <td>False</td>\n",
       "    </tr>\n",
       "    <tr>\n",
       "      <th>pls1_10_kdm_pheno_ultrav1</th>\n",
       "      <td>True</td>\n",
       "      <td>False</td>\n",
       "      <td>False</td>\n",
       "      <td>False</td>\n",
       "      <td>False</td>\n",
       "      <td>False</td>\n",
       "      <td>True</td>\n",
       "      <td>False</td>\n",
       "    </tr>\n",
       "    <tr>\n",
       "      <th>pls1_5_kdm_pheno_ultrav1</th>\n",
       "      <td>False</td>\n",
       "      <td>False</td>\n",
       "      <td>False</td>\n",
       "      <td>False</td>\n",
       "      <td>False</td>\n",
       "      <td>False</td>\n",
       "      <td>True</td>\n",
       "      <td>False</td>\n",
       "    </tr>\n",
       "    <tr>\n",
       "      <th>pls1_9_pheno_ultrav1</th>\n",
       "      <td>True</td>\n",
       "      <td>False</td>\n",
       "      <td>False</td>\n",
       "      <td>False</td>\n",
       "      <td>False</td>\n",
       "      <td>False</td>\n",
       "      <td>False</td>\n",
       "      <td>False</td>\n",
       "    </tr>\n",
       "    <tr>\n",
       "      <th>pls1_2_pheno_ultrav1</th>\n",
       "      <td>True</td>\n",
       "      <td>True</td>\n",
       "      <td>False</td>\n",
       "      <td>False</td>\n",
       "      <td>False</td>\n",
       "      <td>False</td>\n",
       "      <td>True</td>\n",
       "      <td>False</td>\n",
       "    </tr>\n",
       "    <tr>\n",
       "      <th>pls1_8_kdm_pheno_ultrav1</th>\n",
       "      <td>True</td>\n",
       "      <td>False</td>\n",
       "      <td>False</td>\n",
       "      <td>False</td>\n",
       "      <td>False</td>\n",
       "      <td>False</td>\n",
       "      <td>True</td>\n",
       "      <td>False</td>\n",
       "    </tr>\n",
       "    <tr>\n",
       "      <th>pls1_12_pheno_ultrav1</th>\n",
       "      <td>True</td>\n",
       "      <td>False</td>\n",
       "      <td>False</td>\n",
       "      <td>False</td>\n",
       "      <td>False</td>\n",
       "      <td>False</td>\n",
       "      <td>False</td>\n",
       "      <td>False</td>\n",
       "    </tr>\n",
       "    <tr>\n",
       "      <th>pls1_5_pheno_ultrav1</th>\n",
       "      <td>False</td>\n",
       "      <td>False</td>\n",
       "      <td>False</td>\n",
       "      <td>False</td>\n",
       "      <td>False</td>\n",
       "      <td>True</td>\n",
       "      <td>False</td>\n",
       "      <td>False</td>\n",
       "    </tr>\n",
       "    <tr>\n",
       "      <th>pls1_11_kdm_pheno_ultrav1</th>\n",
       "      <td>True</td>\n",
       "      <td>False</td>\n",
       "      <td>False</td>\n",
       "      <td>False</td>\n",
       "      <td>False</td>\n",
       "      <td>False</td>\n",
       "      <td>True</td>\n",
       "      <td>False</td>\n",
       "    </tr>\n",
       "    <tr>\n",
       "      <th>pls1_2_kdm_pheno_ultrav1</th>\n",
       "      <td>True</td>\n",
       "      <td>True</td>\n",
       "      <td>False</td>\n",
       "      <td>False</td>\n",
       "      <td>False</td>\n",
       "      <td>False</td>\n",
       "      <td>True</td>\n",
       "      <td>False</td>\n",
       "    </tr>\n",
       "    <tr>\n",
       "      <th>pls1_4_kdm_pheno_ultrav1</th>\n",
       "      <td>False</td>\n",
       "      <td>True</td>\n",
       "      <td>False</td>\n",
       "      <td>False</td>\n",
       "      <td>False</td>\n",
       "      <td>True</td>\n",
       "      <td>True</td>\n",
       "      <td>False</td>\n",
       "    </tr>\n",
       "    <tr>\n",
       "      <th>lasso_pheno_ultrav1</th>\n",
       "      <td>False</td>\n",
       "      <td>False</td>\n",
       "      <td>False</td>\n",
       "      <td>False</td>\n",
       "      <td>False</td>\n",
       "      <td>False</td>\n",
       "      <td>False</td>\n",
       "      <td>False</td>\n",
       "    </tr>\n",
       "    <tr>\n",
       "      <th>pls1_3_pheno_ultrav1</th>\n",
       "      <td>True</td>\n",
       "      <td>False</td>\n",
       "      <td>False</td>\n",
       "      <td>False</td>\n",
       "      <td>True</td>\n",
       "      <td>True</td>\n",
       "      <td>True</td>\n",
       "      <td>True</td>\n",
       "    </tr>\n",
       "    <tr>\n",
       "      <th>pls1_8_pheno_ultrav1</th>\n",
       "      <td>True</td>\n",
       "      <td>False</td>\n",
       "      <td>False</td>\n",
       "      <td>False</td>\n",
       "      <td>False</td>\n",
       "      <td>False</td>\n",
       "      <td>False</td>\n",
       "      <td>False</td>\n",
       "    </tr>\n",
       "  </tbody>\n",
       "</table>\n",
       "</div>"
      ],
      "text/plain": [
       "                           DS:GSE52588  Rheumatoid arthritis:GSE42861  \\\n",
       "pls1_11_pheno_ultrav1             True                          False   \n",
       "pls1_7_kdm_pheno_ultrav1          True                          False   \n",
       "pls1_6_pheno_ultrav1              True                          False   \n",
       "pls1_1_kdm_pheno_ultrav1          True                           True   \n",
       "pls1_12_kdm_pheno_ultrav1         True                          False   \n",
       "pls1_6_kdm_pheno_ultrav1          True                          False   \n",
       "pls1_7_pheno_ultrav1              True                          False   \n",
       "pls1_13_kdm_pheno_ultrav1         True                          False   \n",
       "pls1_10_pheno_ultrav1             True                          False   \n",
       "pls1_1_pheno_ultrav1              True                           True   \n",
       "pls1_4_pheno_ultrav1              True                          False   \n",
       "pls1_9_kdm_pheno_ultrav1          True                          False   \n",
       "pls1_13_pheno_ultrav1             True                          False   \n",
       "pls1_3_kdm_pheno_ultrav1          True                          False   \n",
       "pls1_10_kdm_pheno_ultrav1         True                          False   \n",
       "pls1_5_kdm_pheno_ultrav1         False                          False   \n",
       "pls1_9_pheno_ultrav1              True                          False   \n",
       "pls1_2_pheno_ultrav1              True                           True   \n",
       "pls1_8_kdm_pheno_ultrav1          True                          False   \n",
       "pls1_12_pheno_ultrav1             True                          False   \n",
       "pls1_5_pheno_ultrav1             False                          False   \n",
       "pls1_11_kdm_pheno_ultrav1         True                          False   \n",
       "pls1_2_kdm_pheno_ultrav1          True                           True   \n",
       "pls1_4_kdm_pheno_ultrav1         False                           True   \n",
       "lasso_pheno_ultrav1              False                          False   \n",
       "pls1_3_pheno_ultrav1              True                          False   \n",
       "pls1_8_pheno_ultrav1              True                          False   \n",
       "\n",
       "                           AD:GSE59685  AD:GSE80970  Overweight:GSE73103  \\\n",
       "pls1_11_pheno_ultrav1            False        False                False   \n",
       "pls1_7_kdm_pheno_ultrav1         False        False                False   \n",
       "pls1_6_pheno_ultrav1             False        False                False   \n",
       "pls1_1_kdm_pheno_ultrav1         False        False                False   \n",
       "pls1_12_kdm_pheno_ultrav1        False        False                False   \n",
       "pls1_6_kdm_pheno_ultrav1         False        False                False   \n",
       "pls1_7_pheno_ultrav1             False        False                False   \n",
       "pls1_13_kdm_pheno_ultrav1        False        False                False   \n",
       "pls1_10_pheno_ultrav1            False        False                False   \n",
       "pls1_1_pheno_ultrav1             False        False                False   \n",
       "pls1_4_pheno_ultrav1             False        False                False   \n",
       "pls1_9_kdm_pheno_ultrav1         False        False                False   \n",
       "pls1_13_pheno_ultrav1            False        False                False   \n",
       "pls1_3_kdm_pheno_ultrav1         False        False                False   \n",
       "pls1_10_kdm_pheno_ultrav1        False        False                False   \n",
       "pls1_5_kdm_pheno_ultrav1         False        False                False   \n",
       "pls1_9_pheno_ultrav1             False        False                False   \n",
       "pls1_2_pheno_ultrav1             False        False                False   \n",
       "pls1_8_kdm_pheno_ultrav1         False        False                False   \n",
       "pls1_12_pheno_ultrav1            False        False                False   \n",
       "pls1_5_pheno_ultrav1             False        False                False   \n",
       "pls1_11_kdm_pheno_ultrav1        False        False                False   \n",
       "pls1_2_kdm_pheno_ultrav1         False        False                False   \n",
       "pls1_4_kdm_pheno_ultrav1         False        False                False   \n",
       "lasso_pheno_ultrav1              False        False                False   \n",
       "pls1_3_pheno_ultrav1             False        False                 True   \n",
       "pls1_8_pheno_ultrav1             False        False                False   \n",
       "\n",
       "                           IBD:GSE87640  IBD:GSE87648  HT:GSE157131  \n",
       "pls1_11_pheno_ultrav1             False         False         False  \n",
       "pls1_7_kdm_pheno_ultrav1          False          True         False  \n",
       "pls1_6_pheno_ultrav1              False         False         False  \n",
       "pls1_1_kdm_pheno_ultrav1          False         False         False  \n",
       "pls1_12_kdm_pheno_ultrav1         False          True         False  \n",
       "pls1_6_kdm_pheno_ultrav1          False          True         False  \n",
       "pls1_7_pheno_ultrav1              False         False         False  \n",
       "pls1_13_kdm_pheno_ultrav1         False          True         False  \n",
       "pls1_10_pheno_ultrav1             False         False         False  \n",
       "pls1_1_pheno_ultrav1              False         False         False  \n",
       "pls1_4_pheno_ultrav1               True          True         False  \n",
       "pls1_9_kdm_pheno_ultrav1          False          True         False  \n",
       "pls1_13_pheno_ultrav1             False         False         False  \n",
       "pls1_3_kdm_pheno_ultrav1           True          True         False  \n",
       "pls1_10_kdm_pheno_ultrav1         False          True         False  \n",
       "pls1_5_kdm_pheno_ultrav1          False          True         False  \n",
       "pls1_9_pheno_ultrav1              False         False         False  \n",
       "pls1_2_pheno_ultrav1              False          True         False  \n",
       "pls1_8_kdm_pheno_ultrav1          False          True         False  \n",
       "pls1_12_pheno_ultrav1             False         False         False  \n",
       "pls1_5_pheno_ultrav1               True         False         False  \n",
       "pls1_11_kdm_pheno_ultrav1         False          True         False  \n",
       "pls1_2_kdm_pheno_ultrav1          False          True         False  \n",
       "pls1_4_kdm_pheno_ultrav1           True          True         False  \n",
       "lasso_pheno_ultrav1               False         False         False  \n",
       "pls1_3_pheno_ultrav1               True          True          True  \n",
       "pls1_8_pheno_ultrav1              False         False         False  "
      ]
     },
     "execution_count": 13,
     "metadata": {},
     "output_type": "execute_result"
    }
   ],
   "source": [
    "pd.read_csv('/tank/projects/computage/results/bench_results_ultrav1_train_pheno_corrected.csv', index_col=0)#.sum(axis=1).sort_values(ascending=False)"
   ]
  },
  {
   "cell_type": "code",
   "execution_count": 23,
   "metadata": {},
   "outputs": [
    {
     "data": {
      "text/html": [
       "<div>\n",
       "<style scoped>\n",
       "    .dataframe tbody tr th:only-of-type {\n",
       "        vertical-align: middle;\n",
       "    }\n",
       "\n",
       "    .dataframe tbody tr th {\n",
       "        vertical-align: top;\n",
       "    }\n",
       "\n",
       "    .dataframe thead th {\n",
       "        text-align: right;\n",
       "    }\n",
       "</style>\n",
       "<table border=\"1\" class=\"dataframe\">\n",
       "  <thead>\n",
       "    <tr style=\"text-align: right;\">\n",
       "      <th></th>\n",
       "      <th>DS:GSE52588</th>\n",
       "      <th>Rheumatoid arthritis:GSE42861</th>\n",
       "      <th>AD:GSE59685</th>\n",
       "      <th>AD:GSE80970</th>\n",
       "      <th>Overweight:GSE73103</th>\n",
       "      <th>IBD:GSE87640</th>\n",
       "      <th>IBD:GSE87648</th>\n",
       "      <th>HT:GSE157131</th>\n",
       "    </tr>\n",
       "  </thead>\n",
       "  <tbody>\n",
       "    <tr>\n",
       "      <th>kdm_rse_all_20k</th>\n",
       "      <td>True</td>\n",
       "      <td>True</td>\n",
       "      <td>False</td>\n",
       "      <td>False</td>\n",
       "      <td>False</td>\n",
       "      <td>False</td>\n",
       "      <td>True</td>\n",
       "      <td>False</td>\n",
       "    </tr>\n",
       "    <tr>\n",
       "      <th>kdm_rse_forward_20k</th>\n",
       "      <td>False</td>\n",
       "      <td>False</td>\n",
       "      <td>False</td>\n",
       "      <td>False</td>\n",
       "      <td>True</td>\n",
       "      <td>True</td>\n",
       "      <td>False</td>\n",
       "      <td>False</td>\n",
       "    </tr>\n",
       "  </tbody>\n",
       "</table>\n",
       "</div>"
      ],
      "text/plain": [
       "                     DS:GSE52588  Rheumatoid arthritis:GSE42861  AD:GSE59685  \\\n",
       "kdm_rse_all_20k             True                           True        False   \n",
       "kdm_rse_forward_20k        False                          False        False   \n",
       "\n",
       "                     AD:GSE80970  Overweight:GSE73103  IBD:GSE87640  \\\n",
       "kdm_rse_all_20k            False                False         False   \n",
       "kdm_rse_forward_20k        False                 True          True   \n",
       "\n",
       "                     IBD:GSE87648  HT:GSE157131  \n",
       "kdm_rse_all_20k              True         False  \n",
       "kdm_rse_forward_20k         False         False  "
      ]
     },
     "execution_count": 23,
     "metadata": {},
     "output_type": "execute_result"
    }
   ],
   "source": [
    "pd.read_csv('/tank/projects/computage/results/bench_results_kdm_corrected.csv', index_col=0)"
   ]
  },
  {
   "cell_type": "code",
   "execution_count": 84,
   "metadata": {},
   "outputs": [],
   "source": [
    "bench_results_logical = bench_results < 0.05\n",
    "bench_results_logical"
   ]
  },
  {
   "cell_type": "code",
   "execution_count": 49,
   "metadata": {},
   "outputs": [
    {
     "data": {
      "text/html": [
       "<div>\n",
       "<style scoped>\n",
       "    .dataframe tbody tr th:only-of-type {\n",
       "        vertical-align: middle;\n",
       "    }\n",
       "\n",
       "    .dataframe tbody tr th {\n",
       "        vertical-align: top;\n",
       "    }\n",
       "\n",
       "    .dataframe thead th {\n",
       "        text-align: right;\n",
       "    }\n",
       "</style>\n",
       "<table border=\"1\" class=\"dataframe\">\n",
       "  <thead>\n",
       "    <tr style=\"text-align: right;\">\n",
       "      <th></th>\n",
       "      <th>year</th>\n",
       "      <th>species</th>\n",
       "      <th>tissue</th>\n",
       "      <th>source</th>\n",
       "      <th>output</th>\n",
       "      <th>model</th>\n",
       "    </tr>\n",
       "  </thead>\n",
       "  <tbody>\n",
       "    <tr>\n",
       "      <th>Horvathv1</th>\n",
       "      <td>2013</td>\n",
       "      <td>Human</td>\n",
       "      <td>Multi-tissue</td>\n",
       "      <td>https://genomebiology.biomedcentral.com/articl...</td>\n",
       "      <td>Age (Years)</td>\n",
       "      <td>{'type': 'LinearMethylationModel', 'file': 'Ho...</td>\n",
       "    </tr>\n",
       "    <tr>\n",
       "      <th>Hannum</th>\n",
       "      <td>2013</td>\n",
       "      <td>Human</td>\n",
       "      <td>Blood</td>\n",
       "      <td>https://www.sciencedirect.com/science/article/...</td>\n",
       "      <td>Age (Years)</td>\n",
       "      <td>{'type': 'LinearMethylationModel', 'file': 'Ha...</td>\n",
       "    </tr>\n",
       "    <tr>\n",
       "      <th>Lin</th>\n",
       "      <td>2016</td>\n",
       "      <td>Human</td>\n",
       "      <td>Blood</td>\n",
       "      <td>https://www.aging-us.com/article/100908/text</td>\n",
       "      <td>Age (Years)</td>\n",
       "      <td>{'type': 'LinearMethylationModel', 'file': 'Li...</td>\n",
       "    </tr>\n",
       "    <tr>\n",
       "      <th>PhenoAge</th>\n",
       "      <td>2018</td>\n",
       "      <td>Human</td>\n",
       "      <td>Blood</td>\n",
       "      <td>https://www.aging-us.com/article/101414/text</td>\n",
       "      <td>Age (Years)</td>\n",
       "      <td>{'type': 'LinearMethylationModel', 'file': 'Ph...</td>\n",
       "    </tr>\n",
       "    <tr>\n",
       "      <th>YingCausAge</th>\n",
       "      <td>2022</td>\n",
       "      <td>Human</td>\n",
       "      <td>Blood</td>\n",
       "      <td>https://www.biorxiv.org/content/10.1101/2022.1...</td>\n",
       "      <td>Age (Years)</td>\n",
       "      <td>{'type': 'LinearMethylationModel', 'file': 'Yi...</td>\n",
       "    </tr>\n",
       "    <tr>\n",
       "      <th>YingDamAge</th>\n",
       "      <td>2022</td>\n",
       "      <td>Human</td>\n",
       "      <td>Blood</td>\n",
       "      <td>https://www.biorxiv.org/content/10.1101/2022.1...</td>\n",
       "      <td>Age (Years)</td>\n",
       "      <td>{'type': 'LinearMethylationModel', 'file': 'Yi...</td>\n",
       "    </tr>\n",
       "    <tr>\n",
       "      <th>YingAdaptAge</th>\n",
       "      <td>2022</td>\n",
       "      <td>Human</td>\n",
       "      <td>Blood</td>\n",
       "      <td>https://www.biorxiv.org/content/10.1101/2022.1...</td>\n",
       "      <td>Age (Years)</td>\n",
       "      <td>{'type': 'LinearMethylationModel', 'file': 'Yi...</td>\n",
       "    </tr>\n",
       "    <tr>\n",
       "      <th>Horvathv2</th>\n",
       "      <td>2018</td>\n",
       "      <td>Human</td>\n",
       "      <td>Skin + blood</td>\n",
       "      <td>https://www.aging-us.com/article/101508/text</td>\n",
       "      <td>Age (Years)</td>\n",
       "      <td>{'type': 'LinearMethylationModel', 'file': 'Ho...</td>\n",
       "    </tr>\n",
       "    <tr>\n",
       "      <th>PEDBE</th>\n",
       "      <td>2019</td>\n",
       "      <td>Human</td>\n",
       "      <td>Buccal</td>\n",
       "      <td>https://www.pnas.org/doi/10.1073/pnas.1820843116</td>\n",
       "      <td>Age (Years)</td>\n",
       "      <td>{'type': 'LinearMethylationModel', 'file': 'PE...</td>\n",
       "    </tr>\n",
       "    <tr>\n",
       "      <th>Zhang_10</th>\n",
       "      <td>2019</td>\n",
       "      <td>Human</td>\n",
       "      <td>Blood</td>\n",
       "      <td>https://www.nature.com/articles/ncomms14617</td>\n",
       "      <td>Mortality Risk</td>\n",
       "      <td>{'type': 'LinearMethylationModel', 'file': 'Zh...</td>\n",
       "    </tr>\n",
       "    <tr>\n",
       "      <th>DunedinPoAm38</th>\n",
       "      <td>2020</td>\n",
       "      <td>Human</td>\n",
       "      <td>Blood</td>\n",
       "      <td>https://elifesciences.org/articles/54870#s2</td>\n",
       "      <td>Aging Rate (Years/Year)</td>\n",
       "      <td>{'type': 'LinearMethylationModel', 'file': 'Du...</td>\n",
       "    </tr>\n",
       "    <tr>\n",
       "      <th>DunedinPACE</th>\n",
       "      <td>2022</td>\n",
       "      <td>Human</td>\n",
       "      <td>Blood</td>\n",
       "      <td>https://www.proquest.com/docview/2634411178</td>\n",
       "      <td>Aging Rate (Years/Year)</td>\n",
       "      <td>{'type': 'LinearMethylationModel', 'file': 'Du...</td>\n",
       "    </tr>\n",
       "    <tr>\n",
       "      <th>GrimAgeV1</th>\n",
       "      <td>2019</td>\n",
       "      <td>Human</td>\n",
       "      <td>Blood</td>\n",
       "      <td>https://www.ncbi.nlm.nih.gov/pmc/articles/PMC6...</td>\n",
       "      <td>Mortality Adjusted Age (Years)</td>\n",
       "      <td>{'type': 'GrimageModel', 'file': 'GrimAgeV1.csv'}</td>\n",
       "    </tr>\n",
       "    <tr>\n",
       "      <th>GrimAgeV2</th>\n",
       "      <td>2022</td>\n",
       "      <td>Human</td>\n",
       "      <td>Blood</td>\n",
       "      <td>https://www.ncbi.nlm.nih.gov/pmc/articles/PMC9...</td>\n",
       "      <td>Mortality Adjusted Age (Years)</td>\n",
       "      <td>{'type': 'GrimageModel', 'file': 'GrimAgeV2.csv'}</td>\n",
       "    </tr>\n",
       "    <tr>\n",
       "      <th>AlcoholMcCartney</th>\n",
       "      <td>2018</td>\n",
       "      <td>Human</td>\n",
       "      <td>Blood</td>\n",
       "      <td>https://www.ncbi.nlm.nih.gov/pmc/articles/PMC6...</td>\n",
       "      <td>Alcohol Consumption</td>\n",
       "      <td>{'type': 'LinearMethylationModel', 'file': 'Al...</td>\n",
       "    </tr>\n",
       "    <tr>\n",
       "      <th>BMI_McCartney</th>\n",
       "      <td>2018</td>\n",
       "      <td>Human</td>\n",
       "      <td>Blood</td>\n",
       "      <td>https://www.ncbi.nlm.nih.gov/pmc/articles/PMC6...</td>\n",
       "      <td>BMI</td>\n",
       "      <td>{'type': 'LinearMethylationModel', 'file': 'BM...</td>\n",
       "    </tr>\n",
       "    <tr>\n",
       "      <th>DNAmTL</th>\n",
       "      <td>2019</td>\n",
       "      <td>Human</td>\n",
       "      <td>Blood, Adipose</td>\n",
       "      <td>https://www.ncbi.nlm.nih.gov/pmc/articles/PMC6...</td>\n",
       "      <td>Telomere Length</td>\n",
       "      <td>{'type': 'LinearMethylationModel', 'file': 'DN...</td>\n",
       "    </tr>\n",
       "    <tr>\n",
       "      <th>HRSInCHPhenoAge</th>\n",
       "      <td>2022</td>\n",
       "      <td>Human</td>\n",
       "      <td>Blood</td>\n",
       "      <td>https://www.nature.com/articles/s43587-022-002...</td>\n",
       "      <td>Age (Years)</td>\n",
       "      <td>{'type': 'LinearMethylationModel', 'file': 'HR...</td>\n",
       "    </tr>\n",
       "    <tr>\n",
       "      <th>Knight</th>\n",
       "      <td>2016</td>\n",
       "      <td>Human</td>\n",
       "      <td>Cord Blood</td>\n",
       "      <td>https://genomebiology.biomedcentral.com/articl...</td>\n",
       "      <td>Gestational Age</td>\n",
       "      <td>{'type': 'LinearMethylationModel', 'file': 'Kn...</td>\n",
       "    </tr>\n",
       "    <tr>\n",
       "      <th>LeeControl</th>\n",
       "      <td>2019</td>\n",
       "      <td>Human</td>\n",
       "      <td>Placenta</td>\n",
       "      <td>https://www.aging-us.com/article/102049/text</td>\n",
       "      <td>Gestational Age</td>\n",
       "      <td>{'type': 'LinearMethylationModel', 'file': 'Le...</td>\n",
       "    </tr>\n",
       "    <tr>\n",
       "      <th>SexEstimation</th>\n",
       "      <td>2021</td>\n",
       "      <td>Human</td>\n",
       "      <td>Blood</td>\n",
       "      <td>https://bmcgenomics.biomedcentral.com/articles...</td>\n",
       "      <td>Sex</td>\n",
       "      <td>{'type': 'SexEstimationModel', 'file': 'estima...</td>\n",
       "    </tr>\n",
       "    <tr>\n",
       "      <th>LeeRefinedRobust</th>\n",
       "      <td>2019</td>\n",
       "      <td>Human</td>\n",
       "      <td>Placenta</td>\n",
       "      <td>https://www.aging-us.com/article/102049/text</td>\n",
       "      <td>Gestational Age</td>\n",
       "      <td>{'type': 'LinearMethylationModel', 'file': 'Le...</td>\n",
       "    </tr>\n",
       "    <tr>\n",
       "      <th>LeeRobust</th>\n",
       "      <td>2019</td>\n",
       "      <td>Human</td>\n",
       "      <td>Placenta</td>\n",
       "      <td>https://www.aging-us.com/article/102049/text</td>\n",
       "      <td>Gestational Age</td>\n",
       "      <td>{'type': 'LinearMethylationModel', 'file': 'Le...</td>\n",
       "    </tr>\n",
       "    <tr>\n",
       "      <th>SmokingMcCartney</th>\n",
       "      <td>2018</td>\n",
       "      <td>Human</td>\n",
       "      <td>Blood</td>\n",
       "      <td>https://www.ncbi.nlm.nih.gov/pmc/articles/PMC6...</td>\n",
       "      <td>Smoking Status</td>\n",
       "      <td>{'type': 'LinearMethylationModel', 'file': 'Sm...</td>\n",
       "    </tr>\n",
       "    <tr>\n",
       "      <th>DownSyndrome</th>\n",
       "      <td>2021</td>\n",
       "      <td>Human</td>\n",
       "      <td>Blood</td>\n",
       "      <td>https://www.nature.com/articles/s41467-021-210...</td>\n",
       "      <td>Down Syndrome Prediction</td>\n",
       "      <td>{'type': 'LinearMethylationModel', 'file': 'do...</td>\n",
       "    </tr>\n",
       "  </tbody>\n",
       "</table>\n",
       "</div>"
      ],
      "text/plain": [
       "                  year species          tissue  \\\n",
       "Horvathv1         2013   Human    Multi-tissue   \n",
       "Hannum            2013   Human           Blood   \n",
       "Lin               2016   Human           Blood   \n",
       "PhenoAge          2018   Human           Blood   \n",
       "YingCausAge       2022   Human           Blood   \n",
       "YingDamAge        2022   Human           Blood   \n",
       "YingAdaptAge      2022   Human           Blood   \n",
       "Horvathv2         2018   Human    Skin + blood   \n",
       "PEDBE             2019   Human          Buccal   \n",
       "Zhang_10          2019   Human           Blood   \n",
       "DunedinPoAm38     2020   Human           Blood   \n",
       "DunedinPACE       2022   Human           Blood   \n",
       "GrimAgeV1         2019   Human           Blood   \n",
       "GrimAgeV2         2022   Human           Blood   \n",
       "AlcoholMcCartney  2018   Human           Blood   \n",
       "BMI_McCartney     2018   Human           Blood   \n",
       "DNAmTL            2019   Human  Blood, Adipose   \n",
       "HRSInCHPhenoAge   2022   Human           Blood   \n",
       "Knight            2016   Human      Cord Blood   \n",
       "LeeControl        2019   Human        Placenta   \n",
       "SexEstimation     2021   Human           Blood   \n",
       "LeeRefinedRobust  2019   Human        Placenta   \n",
       "LeeRobust         2019   Human        Placenta   \n",
       "SmokingMcCartney  2018   Human           Blood   \n",
       "DownSyndrome      2021   Human           Blood   \n",
       "\n",
       "                                                             source  \\\n",
       "Horvathv1         https://genomebiology.biomedcentral.com/articl...   \n",
       "Hannum            https://www.sciencedirect.com/science/article/...   \n",
       "Lin                    https://www.aging-us.com/article/100908/text   \n",
       "PhenoAge               https://www.aging-us.com/article/101414/text   \n",
       "YingCausAge       https://www.biorxiv.org/content/10.1101/2022.1...   \n",
       "YingDamAge        https://www.biorxiv.org/content/10.1101/2022.1...   \n",
       "YingAdaptAge      https://www.biorxiv.org/content/10.1101/2022.1...   \n",
       "Horvathv2              https://www.aging-us.com/article/101508/text   \n",
       "PEDBE              https://www.pnas.org/doi/10.1073/pnas.1820843116   \n",
       "Zhang_10                https://www.nature.com/articles/ncomms14617   \n",
       "DunedinPoAm38           https://elifesciences.org/articles/54870#s2   \n",
       "DunedinPACE             https://www.proquest.com/docview/2634411178   \n",
       "GrimAgeV1         https://www.ncbi.nlm.nih.gov/pmc/articles/PMC6...   \n",
       "GrimAgeV2         https://www.ncbi.nlm.nih.gov/pmc/articles/PMC9...   \n",
       "AlcoholMcCartney  https://www.ncbi.nlm.nih.gov/pmc/articles/PMC6...   \n",
       "BMI_McCartney     https://www.ncbi.nlm.nih.gov/pmc/articles/PMC6...   \n",
       "DNAmTL            https://www.ncbi.nlm.nih.gov/pmc/articles/PMC6...   \n",
       "HRSInCHPhenoAge   https://www.nature.com/articles/s43587-022-002...   \n",
       "Knight            https://genomebiology.biomedcentral.com/articl...   \n",
       "LeeControl             https://www.aging-us.com/article/102049/text   \n",
       "SexEstimation     https://bmcgenomics.biomedcentral.com/articles...   \n",
       "LeeRefinedRobust       https://www.aging-us.com/article/102049/text   \n",
       "LeeRobust              https://www.aging-us.com/article/102049/text   \n",
       "SmokingMcCartney  https://www.ncbi.nlm.nih.gov/pmc/articles/PMC6...   \n",
       "DownSyndrome      https://www.nature.com/articles/s41467-021-210...   \n",
       "\n",
       "                                          output  \\\n",
       "Horvathv1                            Age (Years)   \n",
       "Hannum                               Age (Years)   \n",
       "Lin                                  Age (Years)   \n",
       "PhenoAge                             Age (Years)   \n",
       "YingCausAge                          Age (Years)   \n",
       "YingDamAge                           Age (Years)   \n",
       "YingAdaptAge                         Age (Years)   \n",
       "Horvathv2                            Age (Years)   \n",
       "PEDBE                                Age (Years)   \n",
       "Zhang_10                          Mortality Risk   \n",
       "DunedinPoAm38            Aging Rate (Years/Year)   \n",
       "DunedinPACE              Aging Rate (Years/Year)   \n",
       "GrimAgeV1         Mortality Adjusted Age (Years)   \n",
       "GrimAgeV2         Mortality Adjusted Age (Years)   \n",
       "AlcoholMcCartney             Alcohol Consumption   \n",
       "BMI_McCartney                                BMI   \n",
       "DNAmTL                           Telomere Length   \n",
       "HRSInCHPhenoAge                      Age (Years)   \n",
       "Knight                           Gestational Age   \n",
       "LeeControl                       Gestational Age   \n",
       "SexEstimation                                Sex   \n",
       "LeeRefinedRobust                 Gestational Age   \n",
       "LeeRobust                        Gestational Age   \n",
       "SmokingMcCartney                  Smoking Status   \n",
       "DownSyndrome            Down Syndrome Prediction   \n",
       "\n",
       "                                                              model  \n",
       "Horvathv1         {'type': 'LinearMethylationModel', 'file': 'Ho...  \n",
       "Hannum            {'type': 'LinearMethylationModel', 'file': 'Ha...  \n",
       "Lin               {'type': 'LinearMethylationModel', 'file': 'Li...  \n",
       "PhenoAge          {'type': 'LinearMethylationModel', 'file': 'Ph...  \n",
       "YingCausAge       {'type': 'LinearMethylationModel', 'file': 'Yi...  \n",
       "YingDamAge        {'type': 'LinearMethylationModel', 'file': 'Yi...  \n",
       "YingAdaptAge      {'type': 'LinearMethylationModel', 'file': 'Yi...  \n",
       "Horvathv2         {'type': 'LinearMethylationModel', 'file': 'Ho...  \n",
       "PEDBE             {'type': 'LinearMethylationModel', 'file': 'PE...  \n",
       "Zhang_10          {'type': 'LinearMethylationModel', 'file': 'Zh...  \n",
       "DunedinPoAm38     {'type': 'LinearMethylationModel', 'file': 'Du...  \n",
       "DunedinPACE       {'type': 'LinearMethylationModel', 'file': 'Du...  \n",
       "GrimAgeV1         {'type': 'GrimageModel', 'file': 'GrimAgeV1.csv'}  \n",
       "GrimAgeV2         {'type': 'GrimageModel', 'file': 'GrimAgeV2.csv'}  \n",
       "AlcoholMcCartney  {'type': 'LinearMethylationModel', 'file': 'Al...  \n",
       "BMI_McCartney     {'type': 'LinearMethylationModel', 'file': 'BM...  \n",
       "DNAmTL            {'type': 'LinearMethylationModel', 'file': 'DN...  \n",
       "HRSInCHPhenoAge   {'type': 'LinearMethylationModel', 'file': 'HR...  \n",
       "Knight            {'type': 'LinearMethylationModel', 'file': 'Kn...  \n",
       "LeeControl        {'type': 'LinearMethylationModel', 'file': 'Le...  \n",
       "SexEstimation     {'type': 'SexEstimationModel', 'file': 'estima...  \n",
       "LeeRefinedRobust  {'type': 'LinearMethylationModel', 'file': 'Le...  \n",
       "LeeRobust         {'type': 'LinearMethylationModel', 'file': 'Le...  \n",
       "SmokingMcCartney  {'type': 'LinearMethylationModel', 'file': 'Sm...  \n",
       "DownSyndrome      {'type': 'LinearMethylationModel', 'file': 'do...  "
      ]
     },
     "execution_count": 49,
     "metadata": {},
     "output_type": "execute_result"
    }
   ],
   "source": [
    "#look up at all models\n",
    "pd.DataFrame(gallery.model_definitions).T"
   ]
  },
  {
   "cell_type": "code",
   "execution_count": null,
   "metadata": {},
   "outputs": [],
   "source": []
  },
  {
   "cell_type": "code",
   "execution_count": null,
   "metadata": {},
   "outputs": [],
   "source": []
  }
 ],
 "metadata": {
  "kernelspec": {
   "display_name": "clocks",
   "language": "python",
   "name": "python3"
  },
  "language_info": {
   "codemirror_mode": {
    "name": "ipython",
    "version": 3
   },
   "file_extension": ".py",
   "mimetype": "text/x-python",
   "name": "python",
   "nbconvert_exporter": "python",
   "pygments_lexer": "ipython3",
   "version": "3.10.13"
  }
 },
 "nbformat": 4,
 "nbformat_minor": 2
}
