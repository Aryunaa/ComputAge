{
 "cells": [
  {
   "cell_type": "markdown",
   "metadata": {},
   "source": [
    "## Download modules and data"
   ]
  },
  {
   "cell_type": "code",
   "execution_count": null,
   "metadata": {},
   "outputs": [],
   "source": [
    "import pandas as pd\n",
    "import numpy as np\n",
    "from sklearn.metrics import r2_score, median_absolute_error\n",
    "from computage.utils.data_utils import download_meta, download_dataset\n",
    "from computage.models_library.model import LinearMethylationModel\n",
    "\n",
    "meta = download_meta('./meta_table_datasets.xlsx')\n",
    "download_dataset(meta, 'GSE56581', '.')\n",
    "df = pd.read_pickle('GSE56581.pkl')"
   ]
  },
  {
   "cell_type": "markdown",
   "metadata": {},
   "source": [
    "## Example with `phenoage` model, imputation by `average`\n",
    "\n",
    "Case with GSEID `GSE132203` from GEO database"
   ]
  },
  {
   "cell_type": "code",
   "execution_count": null,
   "metadata": {},
   "outputs": [],
   "source": [
    "X = pd.DataFrame(df['data'])\n",
    "meta = pd.DataFrame(df['meta'])\n",
    "y = pd.DataFrame(meta['Age'])\n",
    "y_test = y.rename(columns={'Age': 'age'})\n",
    "\n",
    "\n",
    "model_phenoage = LinearMethylationModel(name='phenoage2018', imputation='average')\n",
    "y_pred_test = model_phenoage.predict(X)\n",
    "       \n",
    "print(median_absolute_error(y_test, y_pred_test))\n",
    "print(r2_score(y_test, y_pred_test))"
   ]
  }
 ],
 "metadata": {
  "language_info": {
   "name": "python"
  }
 },
 "nbformat": 4,
 "nbformat_minor": 2
}
