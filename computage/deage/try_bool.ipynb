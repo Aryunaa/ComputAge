{
 "cells": [
  {
   "cell_type": "code",
   "execution_count": 3,
   "metadata": {},
   "outputs": [
    {
     "name": "stdout",
     "output_type": "stream",
     "text": [
      "DunedinPoAm.csv\t\t\t McCartneyBlood_2018_BMI.csv\n",
      "EpiTOC2.csv\t\t\t McCartneyBlood_2018_Education.csv\n",
      "HannumBlood_2013.csv\t\t McCartneyBlood_2018_HDL.csv\n",
      "HannumBreast_2013.csv\t\t McCartneyBlood_2018_LDL.csv\n",
      "HannumKidney_2013.csv\t\t McCartneyBlood_2018_Smoking.csv\n",
      "HannumLung_2013.csv\t\t McCartneyBlood_2018_TC.csv\n",
      "HorvathMultiShrunken_2013.csv\t McCartneyBlood_2018_TotalFat.csv\n",
      "HorvathMulti_2013.csv\t\t McCartneyBlood_2018_WaistTipRatio.csv\n",
      "KnightBlood_2016.csv\t\t PhenoAge.csv\n",
      "LinBlood3CpG_2016.csv\t\t YingAdaptAge.csv\n",
      "LinBlood99CpG_2016.csv\t\t YingCausAge.csv\n",
      "McCartneyBlood_2018_Alcohol.csv  YingDamAge.csv\n"
     ]
    }
   ],
   "source": [
    "!ls ../models_library/raw_models/"
   ]
  },
  {
   "cell_type": "code",
   "execution_count": 2,
   "metadata": {},
   "outputs": [
    {
     "ename": "ModuleNotFoundError",
     "evalue": "No module named 'data_library'",
     "output_type": "error",
     "traceback": [
      "\u001b[0;31m---------------------------------------------------------------------------\u001b[0m",
      "\u001b[0;31mModuleNotFoundError\u001b[0m                       Traceback (most recent call last)",
      "Cell \u001b[0;32mIn[2], line 9\u001b[0m\n\u001b[1;32m      6\u001b[0m data_directory \u001b[38;5;241m=\u001b[39m os\u001b[38;5;241m.\u001b[39mpath\u001b[38;5;241m.\u001b[39mabspath(\u001b[38;5;124m'\u001b[39m\u001b[38;5;124m../data_library\u001b[39m\u001b[38;5;124m'\u001b[39m)\n\u001b[1;32m      7\u001b[0m sys\u001b[38;5;241m.\u001b[39mpath\u001b[38;5;241m.\u001b[39mappend(data_directory)\n\u001b[0;32m----> 9\u001b[0m \u001b[38;5;28;01mfrom\u001b[39;00m \u001b[38;5;21;01mdata_library\u001b[39;00m\u001b[38;5;21;01m.\u001b[39;00m\u001b[38;5;21;01mdata_repository\u001b[39;00m \u001b[38;5;28;01mimport\u001b[39;00m import_data\n",
      "\u001b[0;31mModuleNotFoundError\u001b[0m: No module named 'data_library'"
     ]
    }
   ],
   "source": [
    "import sys\n",
    "import os\n",
    "import pandas as pd \n",
    "import numpy as numpy\n",
    "\n",
    "data_directory = os.path.abspath('../data_library')\n",
    "sys.path.append(data_directory)\n",
    "\n",
    "from data_library.data_repository import import_data\n",
    "\n",
    "\n"
   ]
  },
  {
   "cell_type": "code",
   "execution_count": 1,
   "metadata": {},
   "outputs": [
    {
     "name": "stdout",
     "output_type": "stream",
     "text": [
      "__init__.py  data_repository.py\n"
     ]
    }
   ],
   "source": [
    "! ls ../data_library/"
   ]
  },
  {
   "cell_type": "code",
   "execution_count": null,
   "metadata": {},
   "outputs": [],
   "source": [
    "# SAMPLE_ID = 'GSE41169_series_matrix.txt'\n",
    "# URL = 'https://drive.google.com/file/d/1cZca-FHnfeUerXJOzqhnH34mUYjNOgba/view?usp=sharing'\n",
    "# data_test = import_data(SAMPLE_ID, URL)"
   ]
  },
  {
   "cell_type": "code",
   "execution_count": null,
   "metadata": {},
   "outputs": [],
   "source": [
    "model_filepath = '../models_library/raw_models/HannumLung_2013.csv'\n",
    "\n",
    "model_data = pd.read_csv(model_file_path)\n",
    "features = model_data[['Feature_ID']]\n",
    "coefficients = model_data[['Coef']]"
   ]
  }
 ],
 "metadata": {
  "kernelspec": {
   "display_name": "Python 3",
   "language": "python",
   "name": "python3"
  },
  "language_info": {
   "codemirror_mode": {
    "name": "ipython",
    "version": 3
   },
   "file_extension": ".py",
   "mimetype": "text/x-python",
   "name": "python",
   "nbconvert_exporter": "python",
   "pygments_lexer": "ipython3",
   "version": "3.12.2"
  }
 },
 "nbformat": 4,
 "nbformat_minor": 2
}
