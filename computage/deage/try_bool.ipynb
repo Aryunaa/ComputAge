{
 "cells": [
  {
   "cell_type": "code",
   "execution_count": 1,
   "metadata": {},
   "outputs": [
    {
     "name": "stdout",
     "output_type": "stream",
     "text": [
      "DunedinPoAm.csv\t\t\t McCartneyBlood_2018_BMI.csv\n",
      "EpiTOC2.csv\t\t\t McCartneyBlood_2018_Education.csv\n",
      "HannumBlood_2013.csv\t\t McCartneyBlood_2018_HDL.csv\n",
      "HannumBreast_2013.csv\t\t McCartneyBlood_2018_LDL.csv\n",
      "HannumKidney_2013.csv\t\t McCartneyBlood_2018_Smoking.csv\n",
      "HannumLung_2013.csv\t\t McCartneyBlood_2018_TC.csv\n",
      "HorvathMultiShrunken_2013.csv\t McCartneyBlood_2018_TotalFat.csv\n",
      "HorvathMulti_2013.csv\t\t McCartneyBlood_2018_WaistTipRatio.csv\n",
      "KnightBlood_2016.csv\t\t PhenoAge.csv\n",
      "LinBlood3CpG_2016.csv\t\t YingAdaptAge.csv\n",
      "LinBlood99CpG_2016.csv\t\t YingCausAge.csv\n",
      "McCartneyBlood_2018_Alcohol.csv  YingDamAge.csv\n"
     ]
    }
   ],
   "source": [
    "!ls ../models_library/raw_models/"
   ]
  },
  {
   "cell_type": "code",
   "execution_count": 1,
   "metadata": {},
   "outputs": [],
   "source": [
    "import numpy as numpy\n",
    "import pandas as pd \n"
   ]
  },
  {
   "cell_type": "code",
   "execution_count": 2,
   "metadata": {},
   "outputs": [],
   "source": [
    "import sys\n",
    "import os\n",
    "\n",
    "\n",
    "data_library = os.path.abspath('../data_library')\n",
    "sys.path.append(data_library)\n",
    "\n",
    "from data_repository import import_data\n",
    "\n",
    "\n"
   ]
  },
  {
   "cell_type": "code",
   "execution_count": 3,
   "metadata": {},
   "outputs": [
    {
     "name": "stdout",
     "output_type": "stream",
     "text": [
      "__init__.py  __pycache__  data_repository.py\n"
     ]
    }
   ],
   "source": [
    "! ls ../data_library/"
   ]
  },
  {
   "cell_type": "code",
   "execution_count": 4,
   "metadata": {},
   "outputs": [
    {
     "name": "stderr",
     "output_type": "stream",
     "text": [
      "Downloading...\n",
      "From (original): https://drive.google.com/uc?id=1cZca-FHnfeUerXJOzqhnH34mUYjNOgba\n",
      "From (redirected): https://drive.google.com/uc?id=1cZca-FHnfeUerXJOzqhnH34mUYjNOgba&confirm=t&uuid=f158dd4f-dbdb-4828-8b51-c6450a5612c9\n",
      "To: /home/aryuna/bioinf_inst/project/ComputAge/computage/deage/GSE41169_series_matrix.txt\n",
      "100%|██████████| 477M/477M [00:41<00:00, 11.5MB/s] \n"
     ]
    }
   ],
   "source": [
    "SAMPLE_ID = 'GSE41169_series_matrix.txt'\n",
    "URL = 'https://drive.google.com/file/d/1cZca-FHnfeUerXJOzqhnH34mUYjNOgba/view?usp=sharing'\n",
    "data_test = import_data(SAMPLE_ID, URL)\n"
   ]
  },
  {
   "cell_type": "code",
   "execution_count": 5,
   "metadata": {},
   "outputs": [],
   "source": [
    "data_test.to_csv('../data_library/data_test.csv', sep = '\\t', index=False)\n"
   ]
  },
  {
   "cell_type": "code",
   "execution_count": 7,
   "metadata": {},
   "outputs": [],
   "source": [
    "model_filepath = '../models_library/raw_models/HannumLung_2013.csv'\n",
    "\n",
    "model_data = pd.read_csv(model_filepath)\n",
    "features = model_data[['Feature_ID']]\n",
    "coefficients = model_data[['Coef']]\n"
   ]
  },
  {
   "cell_type": "code",
   "execution_count": 12,
   "metadata": {},
   "outputs": [
    {
     "data": {
      "text/html": [
       "<div>\n",
       "<style scoped>\n",
       "    .dataframe tbody tr th:only-of-type {\n",
       "        vertical-align: middle;\n",
       "    }\n",
       "\n",
       "    .dataframe tbody tr th {\n",
       "        vertical-align: top;\n",
       "    }\n",
       "\n",
       "    .dataframe thead th {\n",
       "        text-align: right;\n",
       "    }\n",
       "</style>\n",
       "<table border=\"1\" class=\"dataframe\">\n",
       "  <thead>\n",
       "    <tr style=\"text-align: right;\">\n",
       "      <th></th>\n",
       "      <th>0</th>\n",
       "      <th>1</th>\n",
       "      <th>2</th>\n",
       "    </tr>\n",
       "  </thead>\n",
       "  <tbody>\n",
       "    <tr>\n",
       "      <th>0</th>\n",
       "      <td>\"ID_REF\"</td>\n",
       "      <td>\"GSM1009660\"</td>\n",
       "      <td>\"GSM1009661\"</td>\n",
       "    </tr>\n",
       "    <tr>\n",
       "      <th>1</th>\n",
       "      <td>\"cg00000029\"</td>\n",
       "      <td>0.4549308</td>\n",
       "      <td>0.4102866</td>\n",
       "    </tr>\n",
       "    <tr>\n",
       "      <th>2</th>\n",
       "      <td>\"cg00000108\"</td>\n",
       "      <td>0.9078832</td>\n",
       "      <td>0.9158939</td>\n",
       "    </tr>\n",
       "    <tr>\n",
       "      <th>3</th>\n",
       "      <td>\"cg00000109\"</td>\n",
       "      <td>0.8627719</td>\n",
       "      <td>0.8809996</td>\n",
       "    </tr>\n",
       "    <tr>\n",
       "      <th>4</th>\n",
       "      <td>\"cg00000165\"</td>\n",
       "      <td>0.1604464</td>\n",
       "      <td>0.1375998</td>\n",
       "    </tr>\n",
       "    <tr>\n",
       "      <th>...</th>\n",
       "      <td>...</td>\n",
       "      <td>...</td>\n",
       "      <td>...</td>\n",
       "    </tr>\n",
       "    <tr>\n",
       "      <th>485573</th>\n",
       "      <td>\"rs9363764\"</td>\n",
       "      <td>0.530962</td>\n",
       "      <td>0.9453855</td>\n",
       "    </tr>\n",
       "    <tr>\n",
       "      <th>485574</th>\n",
       "      <td>\"rs939290\"</td>\n",
       "      <td>0.5073323</td>\n",
       "      <td>0.4720046</td>\n",
       "    </tr>\n",
       "    <tr>\n",
       "      <th>485575</th>\n",
       "      <td>\"rs951295\"</td>\n",
       "      <td>0.04051992</td>\n",
       "      <td>0.03988533</td>\n",
       "    </tr>\n",
       "    <tr>\n",
       "      <th>485576</th>\n",
       "      <td>\"rs966367\"</td>\n",
       "      <td>0.9235626</td>\n",
       "      <td>0.03282508</td>\n",
       "    </tr>\n",
       "    <tr>\n",
       "      <th>485577</th>\n",
       "      <td>\"rs9839873\"</td>\n",
       "      <td>0.9575415</td>\n",
       "      <td>0.9462185</td>\n",
       "    </tr>\n",
       "  </tbody>\n",
       "</table>\n",
       "<p>485578 rows × 3 columns</p>\n",
       "</div>"
      ],
      "text/plain": [
       "                   0             1             2\n",
       "0           \"ID_REF\"  \"GSM1009660\"  \"GSM1009661\"\n",
       "1       \"cg00000029\"     0.4549308     0.4102866\n",
       "2       \"cg00000108\"     0.9078832     0.9158939\n",
       "3       \"cg00000109\"     0.8627719     0.8809996\n",
       "4       \"cg00000165\"     0.1604464     0.1375998\n",
       "...              ...           ...           ...\n",
       "485573   \"rs9363764\"      0.530962     0.9453855\n",
       "485574    \"rs939290\"     0.5073323     0.4720046\n",
       "485575    \"rs951295\"    0.04051992    0.03988533\n",
       "485576    \"rs966367\"     0.9235626    0.03282508\n",
       "485577   \"rs9839873\"     0.9575415     0.9462185\n",
       "\n",
       "[485578 rows x 3 columns]"
      ]
     },
     "execution_count": 12,
     "metadata": {},
     "output_type": "execute_result"
    }
   ],
   "source": [
    "data_test"
   ]
  },
  {
   "cell_type": "code",
   "execution_count": 28,
   "metadata": {},
   "outputs": [],
   "source": [
    "df = data_test.copy()\n",
    "df.columns = df.iloc[0]\n",
    "df.columns = df.columns.str.replace('\"', '')\n",
    "df = df[1:]\n",
    "df = df.reset_index(drop=True)\n",
    "df.ID_REF = df.ID_REF.str.replace('\"', '')\n"
   ]
  },
  {
   "cell_type": "code",
   "execution_count": 29,
   "metadata": {},
   "outputs": [
    {
     "data": {
      "text/html": [
       "<div>\n",
       "<style scoped>\n",
       "    .dataframe tbody tr th:only-of-type {\n",
       "        vertical-align: middle;\n",
       "    }\n",
       "\n",
       "    .dataframe tbody tr th {\n",
       "        vertical-align: top;\n",
       "    }\n",
       "\n",
       "    .dataframe thead th {\n",
       "        text-align: right;\n",
       "    }\n",
       "</style>\n",
       "<table border=\"1\" class=\"dataframe\">\n",
       "  <thead>\n",
       "    <tr style=\"text-align: right;\">\n",
       "      <th></th>\n",
       "      <th>ID_REF</th>\n",
       "      <th>GSM1009660</th>\n",
       "      <th>GSM1009661</th>\n",
       "    </tr>\n",
       "  </thead>\n",
       "  <tbody>\n",
       "    <tr>\n",
       "      <th>0</th>\n",
       "      <td>cg00000029</td>\n",
       "      <td>0.4549308</td>\n",
       "      <td>0.4102866</td>\n",
       "    </tr>\n",
       "    <tr>\n",
       "      <th>1</th>\n",
       "      <td>cg00000108</td>\n",
       "      <td>0.9078832</td>\n",
       "      <td>0.9158939</td>\n",
       "    </tr>\n",
       "    <tr>\n",
       "      <th>2</th>\n",
       "      <td>cg00000109</td>\n",
       "      <td>0.8627719</td>\n",
       "      <td>0.8809996</td>\n",
       "    </tr>\n",
       "    <tr>\n",
       "      <th>3</th>\n",
       "      <td>cg00000165</td>\n",
       "      <td>0.1604464</td>\n",
       "      <td>0.1375998</td>\n",
       "    </tr>\n",
       "    <tr>\n",
       "      <th>4</th>\n",
       "      <td>cg00000236</td>\n",
       "      <td>0.7281801</td>\n",
       "      <td>0.7367078</td>\n",
       "    </tr>\n",
       "  </tbody>\n",
       "</table>\n",
       "</div>"
      ],
      "text/plain": [
       "0      ID_REF GSM1009660 GSM1009661\n",
       "0  cg00000029  0.4549308  0.4102866\n",
       "1  cg00000108  0.9078832  0.9158939\n",
       "2  cg00000109  0.8627719  0.8809996\n",
       "3  cg00000165  0.1604464  0.1375998\n",
       "4  cg00000236  0.7281801  0.7367078"
      ]
     },
     "execution_count": 29,
     "metadata": {},
     "output_type": "execute_result"
    }
   ],
   "source": [
    "df.head()"
   ]
  },
  {
   "cell_type": "code",
   "execution_count": 11,
   "metadata": {},
   "outputs": [
    {
     "data": {
      "text/html": [
       "<div>\n",
       "<style scoped>\n",
       "    .dataframe tbody tr th:only-of-type {\n",
       "        vertical-align: middle;\n",
       "    }\n",
       "\n",
       "    .dataframe tbody tr th {\n",
       "        vertical-align: top;\n",
       "    }\n",
       "\n",
       "    .dataframe thead th {\n",
       "        text-align: right;\n",
       "    }\n",
       "</style>\n",
       "<table border=\"1\" class=\"dataframe\">\n",
       "  <thead>\n",
       "    <tr style=\"text-align: right;\">\n",
       "      <th></th>\n",
       "      <th>Feature_ID</th>\n",
       "    </tr>\n",
       "  </thead>\n",
       "  <tbody>\n",
       "    <tr>\n",
       "      <th>0</th>\n",
       "      <td>cg23606718</td>\n",
       "    </tr>\n",
       "    <tr>\n",
       "      <th>1</th>\n",
       "      <td>cg10470891</td>\n",
       "    </tr>\n",
       "    <tr>\n",
       "      <th>2</th>\n",
       "      <td>cg16867657</td>\n",
       "    </tr>\n",
       "    <tr>\n",
       "      <th>3</th>\n",
       "      <td>cg24724428</td>\n",
       "    </tr>\n",
       "    <tr>\n",
       "      <th>4</th>\n",
       "      <td>cg20442599</td>\n",
       "    </tr>\n",
       "    <tr>\n",
       "      <th>5</th>\n",
       "      <td>cg21186299</td>\n",
       "    </tr>\n",
       "    <tr>\n",
       "      <th>6</th>\n",
       "      <td>cg21205222</td>\n",
       "    </tr>\n",
       "    <tr>\n",
       "      <th>7</th>\n",
       "      <td>cg08715791</td>\n",
       "    </tr>\n",
       "    <tr>\n",
       "      <th>8</th>\n",
       "      <td>cg11354629</td>\n",
       "    </tr>\n",
       "    <tr>\n",
       "      <th>9</th>\n",
       "      <td>cg03036557</td>\n",
       "    </tr>\n",
       "    <tr>\n",
       "      <th>10</th>\n",
       "      <td>cg12678562</td>\n",
       "    </tr>\n",
       "    <tr>\n",
       "      <th>11</th>\n",
       "      <td>cg17497271</td>\n",
       "    </tr>\n",
       "    <tr>\n",
       "      <th>12</th>\n",
       "      <td>cg11071401</td>\n",
       "    </tr>\n",
       "    <tr>\n",
       "      <th>13</th>\n",
       "      <td>cg21483700</td>\n",
       "    </tr>\n",
       "  </tbody>\n",
       "</table>\n",
       "</div>"
      ],
      "text/plain": [
       "    Feature_ID\n",
       "0   cg23606718\n",
       "1   cg10470891\n",
       "2   cg16867657\n",
       "3   cg24724428\n",
       "4   cg20442599\n",
       "5   cg21186299\n",
       "6   cg21205222\n",
       "7   cg08715791\n",
       "8   cg11354629\n",
       "9   cg03036557\n",
       "10  cg12678562\n",
       "11  cg17497271\n",
       "12  cg11071401\n",
       "13  cg21483700"
      ]
     },
     "execution_count": 11,
     "metadata": {},
     "output_type": "execute_result"
    }
   ],
   "source": [
    "features"
   ]
  }
 ],
 "metadata": {
  "kernelspec": {
   "display_name": "Python 3",
   "language": "python",
   "name": "python3"
  },
  "language_info": {
   "codemirror_mode": {
    "name": "ipython",
    "version": 3
   },
   "file_extension": ".py",
   "mimetype": "text/x-python",
   "name": "python",
   "nbconvert_exporter": "python",
   "pygments_lexer": "ipython3",
   "version": "3.11.8"
  }
 },
 "nbformat": 4,
 "nbformat_minor": 2
}
