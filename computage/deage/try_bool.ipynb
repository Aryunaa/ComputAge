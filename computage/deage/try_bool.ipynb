{
 "cells": [
  {
   "cell_type": "code",
   "execution_count": 3,
   "metadata": {},
   "outputs": [
    {
     "name": "stdout",
     "output_type": "stream",
     "text": [
      "DunedinPoAm.csv\t\t\t McCartneyBlood_2018_BMI.csv\n",
      "EpiTOC2.csv\t\t\t McCartneyBlood_2018_Education.csv\n",
      "HannumBlood_2013.csv\t\t McCartneyBlood_2018_HDL.csv\n",
      "HannumBreast_2013.csv\t\t McCartneyBlood_2018_LDL.csv\n",
      "HannumKidney_2013.csv\t\t McCartneyBlood_2018_Smoking.csv\n",
      "HannumLung_2013.csv\t\t McCartneyBlood_2018_TC.csv\n",
      "HorvathMultiShrunken_2013.csv\t McCartneyBlood_2018_TotalFat.csv\n",
      "HorvathMulti_2013.csv\t\t McCartneyBlood_2018_WaistTipRatio.csv\n",
      "KnightBlood_2016.csv\t\t PhenoAge.csv\n",
      "LinBlood3CpG_2016.csv\t\t YingAdaptAge.csv\n",
      "LinBlood99CpG_2016.csv\t\t YingCausAge.csv\n",
      "McCartneyBlood_2018_Alcohol.csv  YingDamAge.csv\n"
     ]
    }
   ],
   "source": [
    "!ls ../models_library/raw_models/"
   ]
  },
  {
   "cell_type": "code",
   "execution_count": null,
   "metadata": {},
   "outputs": [],
   "source": [
    "import pandas as pd \n",
    "import numpy as numpy"
   ]
  },
  {
   "cell_type": "code",
   "execution_count": null,
   "metadata": {},
   "outputs": [],
   "source": [
    "model_filepath = '../models_library/raw_models/HannumLung_2013.csv'\n",
    "\n"
   ]
  }
 ],
 "metadata": {
  "kernelspec": {
   "display_name": "Python 3",
   "language": "python",
   "name": "python3"
  },
  "language_info": {
   "codemirror_mode": {
    "name": "ipython",
    "version": 3
   },
   "file_extension": ".py",
   "mimetype": "text/x-python",
   "name": "python",
   "nbconvert_exporter": "python",
   "pygments_lexer": "ipython3",
   "version": "3.12.2"
  }
 },
 "nbformat": 4,
 "nbformat_minor": 2
}
