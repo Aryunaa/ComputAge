{
 "cells": [
  {
   "cell_type": "code",
   "execution_count": 1,
   "metadata": {},
   "outputs": [
    {
     "name": "stdout",
     "output_type": "stream",
     "text": [
      "DunedinPoAm.csv\t\t\t McCartneyBlood_2018_BMI.csv\n",
      "EpiTOC2.csv\t\t\t McCartneyBlood_2018_Education.csv\n",
      "HannumBlood_2013.csv\t\t McCartneyBlood_2018_HDL.csv\n",
      "HannumBreast_2013.csv\t\t McCartneyBlood_2018_LDL.csv\n",
      "HannumKidney_2013.csv\t\t McCartneyBlood_2018_Smoking.csv\n",
      "HannumLung_2013.csv\t\t McCartneyBlood_2018_TC.csv\n",
      "HorvathMultiShrunken_2013.csv\t McCartneyBlood_2018_TotalFat.csv\n",
      "HorvathMulti_2013.csv\t\t McCartneyBlood_2018_WaistTipRatio.csv\n",
      "KnightBlood_2016.csv\t\t PhenoAge.csv\n",
      "LinBlood3CpG_2016.csv\t\t YingAdaptAge.csv\n",
      "LinBlood99CpG_2016.csv\t\t YingCausAge.csv\n",
      "McCartneyBlood_2018_Alcohol.csv  YingDamAge.csv\n"
     ]
    }
   ],
   "source": [
    "!ls ../models_library/raw_models/"
   ]
  },
  {
   "cell_type": "code",
   "execution_count": 1,
   "metadata": {},
   "outputs": [],
   "source": [
    "import numpy as np\n",
    "import pandas as pd \n"
   ]
  },
  {
   "cell_type": "code",
   "execution_count": 4,
   "metadata": {},
   "outputs": [],
   "source": [
    "import sys\n",
    "import os\n",
    "\n",
    "\n",
    "data_library = os.path.abspath('../data_library')\n",
    "sys.path.append(data_library)\n",
    "\n",
    "from data_repository import import_data\n",
    "\n",
    "\n"
   ]
  },
  {
   "cell_type": "code",
   "execution_count": 3,
   "metadata": {},
   "outputs": [
    {
     "name": "stdout",
     "output_type": "stream",
     "text": [
      "__init__.py  __pycache__  data_repository.py  data_test.csv\n"
     ]
    }
   ],
   "source": [
    "! ls ../data_library/"
   ]
  },
  {
   "cell_type": "code",
   "execution_count": 4,
   "metadata": {},
   "outputs": [
    {
     "name": "stderr",
     "output_type": "stream",
     "text": [
      "Downloading...\n",
      "From (original): https://drive.google.com/uc?id=1cZca-FHnfeUerXJOzqhnH34mUYjNOgba\n",
      "From (redirected): https://drive.google.com/uc?id=1cZca-FHnfeUerXJOzqhnH34mUYjNOgba&confirm=t&uuid=f158dd4f-dbdb-4828-8b51-c6450a5612c9\n",
      "To: /home/aryuna/bioinf_inst/project/ComputAge/computage/deage/GSE41169_series_matrix.txt\n",
      "100%|██████████| 477M/477M [00:41<00:00, 11.5MB/s] \n"
     ]
    }
   ],
   "source": [
    "SAMPLE_ID = 'GSE41169_series_matrix.txt'\n",
    "URL = 'https://drive.google.com/file/d/1cZca-FHnfeUerXJOzqhnH34mUYjNOgba/view?usp=sharing'\n",
    "data_test = import_data(SAMPLE_ID, URL)\n"
   ]
  },
  {
   "cell_type": "code",
   "execution_count": 5,
   "metadata": {},
   "outputs": [],
   "source": [
    "data_test.to_csv('../data_library/data_test.csv', sep = '\\t', index=False)\n"
   ]
  },
  {
   "cell_type": "code",
   "execution_count": 7,
   "metadata": {},
   "outputs": [],
   "source": [
    "model_filepath = '../models_library/raw_models/HannumLung_2013.csv'\n",
    "\n",
    "model_data = pd.read_csv(model_filepath)\n",
    "features = model_data[['Feature_ID']]\n",
    "coefficients = model_data[['Coef']]\n"
   ]
  },
  {
   "cell_type": "code",
   "execution_count": 28,
   "metadata": {},
   "outputs": [],
   "source": [
    "df = data_test.copy()\n",
    "df.columns = df.iloc[0]\n",
    "df.columns = df.columns.str.replace('\"', '')\n",
    "df = df[1:]\n",
    "df = df.reset_index(drop=True)\n",
    "df.ID_REF = df.ID_REF.str.replace('\"', '')\n"
   ]
  },
  {
   "cell_type": "code",
   "execution_count": 38,
   "metadata": {},
   "outputs": [],
   "source": [
    "samples = list(df.columns)[1:]"
   ]
  },
  {
   "cell_type": "code",
   "execution_count": 42,
   "metadata": {},
   "outputs": [],
   "source": [
    "df[samples] = df[samples].apply(pd.to_numeric)"
   ]
  },
  {
   "cell_type": "code",
   "execution_count": 43,
   "metadata": {},
   "outputs": [
    {
     "name": "stdout",
     "output_type": "stream",
     "text": [
      "<class 'pandas.core.frame.DataFrame'>\n",
      "RangeIndex: 485577 entries, 0 to 485576\n",
      "Data columns (total 3 columns):\n",
      " #   Column      Non-Null Count   Dtype  \n",
      "---  ------      --------------   -----  \n",
      " 0   ID_REF      485577 non-null  object \n",
      " 1   GSM1009660  485577 non-null  float64\n",
      " 2   GSM1009661  485577 non-null  float64\n",
      "dtypes: float64(2), object(1)\n",
      "memory usage: 11.1+ MB\n"
     ]
    }
   ],
   "source": [
    "df.info()"
   ]
  },
  {
   "cell_type": "code",
   "execution_count": 44,
   "metadata": {},
   "outputs": [],
   "source": [
    "df_merged = df.merge(model_data, left_on='ID_REF', right_on='Feature_ID', how='right')"
   ]
  },
  {
   "cell_type": "code",
   "execution_count": 45,
   "metadata": {},
   "outputs": [
    {
     "name": "stdout",
     "output_type": "stream",
     "text": [
      "<class 'pandas.core.frame.DataFrame'>\n",
      "RangeIndex: 14 entries, 0 to 13\n",
      "Data columns (total 6 columns):\n",
      " #   Column      Non-Null Count  Dtype  \n",
      "---  ------      --------------  -----  \n",
      " 0   ID_REF      14 non-null     object \n",
      " 1   GSM1009660  14 non-null     float64\n",
      " 2   GSM1009661  14 non-null     float64\n",
      " 3   Feature_ID  14 non-null     object \n",
      " 4   Coef        14 non-null     float64\n",
      " 5   Coord_hg19  14 non-null     object \n",
      "dtypes: float64(3), object(3)\n",
      "memory usage: 804.0+ bytes\n"
     ]
    }
   ],
   "source": [
    "df_merged.info()"
   ]
  },
  {
   "cell_type": "code",
   "execution_count": 49,
   "metadata": {},
   "outputs": [],
   "source": [
    "vectors = np.array(df_merged[samples].to_numpy())"
   ]
  },
  {
   "cell_type": "code",
   "execution_count": 71,
   "metadata": {},
   "outputs": [
    {
     "data": {
      "text/html": [
       "<div>\n",
       "<style scoped>\n",
       "    .dataframe tbody tr th:only-of-type {\n",
       "        vertical-align: middle;\n",
       "    }\n",
       "\n",
       "    .dataframe tbody tr th {\n",
       "        vertical-align: top;\n",
       "    }\n",
       "\n",
       "    .dataframe thead th {\n",
       "        text-align: right;\n",
       "    }\n",
       "</style>\n",
       "<table border=\"1\" class=\"dataframe\">\n",
       "  <thead>\n",
       "    <tr style=\"text-align: right;\">\n",
       "      <th></th>\n",
       "      <th>Coef</th>\n",
       "    </tr>\n",
       "  </thead>\n",
       "  <tbody>\n",
       "    <tr>\n",
       "      <th>0</th>\n",
       "      <td>-3.440</td>\n",
       "    </tr>\n",
       "    <tr>\n",
       "      <th>1</th>\n",
       "      <td>-22.800</td>\n",
       "    </tr>\n",
       "    <tr>\n",
       "      <th>2</th>\n",
       "      <td>48.800</td>\n",
       "    </tr>\n",
       "    <tr>\n",
       "      <th>3</th>\n",
       "      <td>8.500</td>\n",
       "    </tr>\n",
       "    <tr>\n",
       "      <th>4</th>\n",
       "      <td>3.950</td>\n",
       "    </tr>\n",
       "    <tr>\n",
       "      <th>5</th>\n",
       "      <td>40.300</td>\n",
       "    </tr>\n",
       "    <tr>\n",
       "      <th>6</th>\n",
       "      <td>-63.500</td>\n",
       "    </tr>\n",
       "    <tr>\n",
       "      <th>7</th>\n",
       "      <td>22.700</td>\n",
       "    </tr>\n",
       "    <tr>\n",
       "      <th>8</th>\n",
       "      <td>-0.885</td>\n",
       "    </tr>\n",
       "    <tr>\n",
       "      <th>9</th>\n",
       "      <td>24.800</td>\n",
       "    </tr>\n",
       "    <tr>\n",
       "      <th>10</th>\n",
       "      <td>-0.863</td>\n",
       "    </tr>\n",
       "    <tr>\n",
       "      <th>11</th>\n",
       "      <td>50.900</td>\n",
       "    </tr>\n",
       "    <tr>\n",
       "      <th>12</th>\n",
       "      <td>-3.750</td>\n",
       "    </tr>\n",
       "    <tr>\n",
       "      <th>13</th>\n",
       "      <td>44.000</td>\n",
       "    </tr>\n",
       "  </tbody>\n",
       "</table>\n",
       "</div>"
      ],
      "text/plain": [
       "      Coef\n",
       "0   -3.440\n",
       "1  -22.800\n",
       "2   48.800\n",
       "3    8.500\n",
       "4    3.950\n",
       "5   40.300\n",
       "6  -63.500\n",
       "7   22.700\n",
       "8   -0.885\n",
       "9   24.800\n",
       "10  -0.863\n",
       "11  50.900\n",
       "12  -3.750\n",
       "13  44.000"
      ]
     },
     "execution_count": 71,
     "metadata": {},
     "output_type": "execute_result"
    }
   ],
   "source": [
    "coefficients"
   ]
  },
  {
   "cell_type": "code",
   "execution_count": 65,
   "metadata": {},
   "outputs": [],
   "source": [
    "features_array = np.array(coefficients)"
   ]
  },
  {
   "cell_type": "code",
   "execution_count": 55,
   "metadata": {},
   "outputs": [
    {
     "data": {
      "text/plain": [
       "(14, 2)"
      ]
     },
     "execution_count": 55,
     "metadata": {},
     "output_type": "execute_result"
    }
   ],
   "source": [
    "vectors.shape"
   ]
  },
  {
   "cell_type": "code",
   "execution_count": 60,
   "metadata": {},
   "outputs": [
    {
     "data": {
      "text/plain": [
       "array([0.09197747, 0.3159195 , 0.5040356 , 0.05984634, 0.1030878 ,\n",
       "       0.01129568, 0.7679211 , 0.07017164, 0.04656127, 0.01154639,\n",
       "       0.05297833, 0.158752  , 0.2492757 , 0.03991627])"
      ]
     },
     "execution_count": 60,
     "metadata": {},
     "output_type": "execute_result"
    }
   ],
   "source": [
    "vectors[:, 0]"
   ]
  },
  {
   "cell_type": "code",
   "execution_count": 58,
   "metadata": {},
   "outputs": [
    {
     "data": {
      "text/plain": [
       "array([[0.09197747, 0.3159195 , 0.5040356 , 0.05984634, 0.1030878 ,\n",
       "        0.01129568, 0.7679211 , 0.07017164, 0.04656127, 0.01154639,\n",
       "        0.05297833, 0.158752  , 0.2492757 , 0.03991627],\n",
       "       [0.06034835, 0.2680101 , 0.4410885 , 0.05883182, 0.07369265,\n",
       "        0.00422823, 0.9013712 , 0.04339134, 0.02392316, 0.00620221,\n",
       "        0.03814023, 0.1065092 , 0.1649368 , 0.02257136]])"
      ]
     },
     "execution_count": 58,
     "metadata": {},
     "output_type": "execute_result"
    }
   ],
   "source": [
    "vectors.transpose()"
   ]
  },
  {
   "cell_type": "code",
   "execution_count": 68,
   "metadata": {},
   "outputs": [
    {
     "data": {
      "text/plain": [
       "array([[ -3.44 , -22.8  ,  48.8  ,   8.5  ,   3.95 ,  40.3  , -63.5  ,\n",
       "         22.7  ,  -0.885,  24.8  ,  -0.863,  50.9  ,  -3.75 ,  44.   ]])"
      ]
     },
     "execution_count": 68,
     "metadata": {},
     "output_type": "execute_result"
    }
   ],
   "source": [
    "features_array.transpose()"
   ]
  },
  {
   "cell_type": "code",
   "execution_count": 61,
   "metadata": {},
   "outputs": [
    {
     "data": {
      "text/plain": [
       "array([[0.09197747, 0.06034835],\n",
       "       [0.3159195 , 0.2680101 ],\n",
       "       [0.5040356 , 0.4410885 ],\n",
       "       [0.05984634, 0.05883182],\n",
       "       [0.1030878 , 0.07369265],\n",
       "       [0.01129568, 0.00422823],\n",
       "       [0.7679211 , 0.9013712 ],\n",
       "       [0.07017164, 0.04339134],\n",
       "       [0.04656127, 0.02392316],\n",
       "       [0.01154639, 0.00620221],\n",
       "       [0.05297833, 0.03814023],\n",
       "       [0.158752  , 0.1065092 ],\n",
       "       [0.2492757 , 0.1649368 ],\n",
       "       [0.03991627, 0.02257136]])"
      ]
     },
     "execution_count": 61,
     "metadata": {},
     "output_type": "execute_result"
    }
   ],
   "source": [
    "vectors"
   ]
  },
  {
   "cell_type": "code",
   "execution_count": 113,
   "metadata": {},
   "outputs": [],
   "source": [
    "prediction = np.matmul( features_array.transpose(), vectors)"
   ]
  },
  {
   "cell_type": "code",
   "execution_count": 86,
   "metadata": {},
   "outputs": [
    {
     "data": {
      "text/plain": [
       "(2,)"
      ]
     },
     "execution_count": 86,
     "metadata": {},
     "output_type": "execute_result"
    }
   ],
   "source": [
    "np.array(samples).shape"
   ]
  },
  {
   "cell_type": "code",
   "execution_count": 89,
   "metadata": {},
   "outputs": [
    {
     "data": {
      "text/plain": [
       "{'GSM1009660': array([-19.61998458, -34.18797063])}"
      ]
     },
     "execution_count": 89,
     "metadata": {},
     "output_type": "execute_result"
    }
   ],
   "source": [
    "dict(zip(samples, list(prediction)))"
   ]
  },
  {
   "cell_type": "code",
   "execution_count": 102,
   "metadata": {},
   "outputs": [
    {
     "name": "stdout",
     "output_type": "stream",
     "text": [
      "GSM1009660\n",
      "-19.619984580540006\n",
      "GSM1009661\n",
      "-34.187970631690014\n"
     ]
    }
   ],
   "source": [
    "for a, b in zip(samples, np.transpose(prediction)):\n",
    "    print(a)\n",
    "    l = b.item()\n",
    "    print(l)"
   ]
  },
  {
   "cell_type": "code",
   "execution_count": 82,
   "metadata": {},
   "outputs": [
    {
     "data": {
      "text/plain": [
       "{'GSM1009660': array([-19.61998458, -34.18797063])}"
      ]
     },
     "execution_count": 82,
     "metadata": {},
     "output_type": "execute_result"
    }
   ],
   "source": [
    "{A: B for A, B in zip(np.array(samples), prediction)}"
   ]
  },
  {
   "cell_type": "code",
   "execution_count": 108,
   "metadata": {},
   "outputs": [
    {
     "data": {
      "text/html": [
       "<div>\n",
       "<style scoped>\n",
       "    .dataframe tbody tr th:only-of-type {\n",
       "        vertical-align: middle;\n",
       "    }\n",
       "\n",
       "    .dataframe tbody tr th {\n",
       "        vertical-align: top;\n",
       "    }\n",
       "\n",
       "    .dataframe thead th {\n",
       "        text-align: right;\n",
       "    }\n",
       "</style>\n",
       "<table border=\"1\" class=\"dataframe\">\n",
       "  <thead>\n",
       "    <tr style=\"text-align: right;\">\n",
       "      <th></th>\n",
       "      <th>prediction</th>\n",
       "    </tr>\n",
       "  </thead>\n",
       "  <tbody>\n",
       "    <tr>\n",
       "      <th>GSM1009660</th>\n",
       "      <td>-19.619985</td>\n",
       "    </tr>\n",
       "    <tr>\n",
       "      <th>GSM1009661</th>\n",
       "      <td>-34.187971</td>\n",
       "    </tr>\n",
       "  </tbody>\n",
       "</table>\n",
       "</div>"
      ],
      "text/plain": [
       "            prediction\n",
       "GSM1009660  -19.619985\n",
       "GSM1009661  -34.187971"
      ]
     },
     "execution_count": 108,
     "metadata": {},
     "output_type": "execute_result"
    }
   ],
   "source": [
    "pred_dict = {}\n",
    "for a, b in zip(samples, np.transpose(prediction)):\n",
    "    pred_dict.update({a:b.item()})\n",
    "\n",
    "pd.DataFrame.from_dict(pred_dict, orient='index', columns = ['prediction'])\n"
   ]
  },
  {
   "cell_type": "code",
   "execution_count": 114,
   "metadata": {},
   "outputs": [
    {
     "data": {
      "text/html": [
       "<div>\n",
       "<style scoped>\n",
       "    .dataframe tbody tr th:only-of-type {\n",
       "        vertical-align: middle;\n",
       "    }\n",
       "\n",
       "    .dataframe tbody tr th {\n",
       "        vertical-align: top;\n",
       "    }\n",
       "\n",
       "    .dataframe thead th {\n",
       "        text-align: right;\n",
       "    }\n",
       "</style>\n",
       "<table border=\"1\" class=\"dataframe\">\n",
       "  <thead>\n",
       "    <tr style=\"text-align: right;\">\n",
       "      <th></th>\n",
       "      <th>sample</th>\n",
       "      <th>predictions</th>\n",
       "    </tr>\n",
       "  </thead>\n",
       "  <tbody>\n",
       "    <tr>\n",
       "      <th>0</th>\n",
       "      <td>GSM1009660</td>\n",
       "      <td>-19.619985</td>\n",
       "    </tr>\n",
       "    <tr>\n",
       "      <th>1</th>\n",
       "      <td>GSM1009661</td>\n",
       "      <td>-34.187971</td>\n",
       "    </tr>\n",
       "  </tbody>\n",
       "</table>\n",
       "</div>"
      ],
      "text/plain": [
       "       sample  predictions\n",
       "0  GSM1009660   -19.619985\n",
       "1  GSM1009661   -34.187971"
      ]
     },
     "execution_count": 114,
     "metadata": {},
     "output_type": "execute_result"
    }
   ],
   "source": [
    "pd_prediction = pd.DataFrame()\n",
    "pd_prediction['sample'] = samples\n",
    "pd_prediction['predictions'] = prediction.transpose()\n",
    "\n",
    "pd_prediction"
   ]
  },
  {
   "cell_type": "code",
   "execution_count": 122,
   "metadata": {},
   "outputs": [],
   "source": [
    "df.to_csv('../data_library/data_test.csv', sep='\\t', index=False)"
   ]
  },
  {
   "cell_type": "code",
   "execution_count": 5,
   "metadata": {},
   "outputs": [],
   "source": [
    "df = pd.read_csv('../data_library/data_test.csv', sep = '\\t')"
   ]
  },
  {
   "cell_type": "code",
   "execution_count": 7,
   "metadata": {},
   "outputs": [
    {
     "data": {
      "text/html": [
       "<div>\n",
       "<style scoped>\n",
       "    .dataframe tbody tr th:only-of-type {\n",
       "        vertical-align: middle;\n",
       "    }\n",
       "\n",
       "    .dataframe tbody tr th {\n",
       "        vertical-align: top;\n",
       "    }\n",
       "\n",
       "    .dataframe thead th {\n",
       "        text-align: right;\n",
       "    }\n",
       "</style>\n",
       "<table border=\"1\" class=\"dataframe\">\n",
       "  <thead>\n",
       "    <tr style=\"text-align: right;\">\n",
       "      <th></th>\n",
       "      <th>ID_REF</th>\n",
       "      <th>GSM1009660</th>\n",
       "      <th>GSM1009661</th>\n",
       "    </tr>\n",
       "  </thead>\n",
       "  <tbody>\n",
       "    <tr>\n",
       "      <th>0</th>\n",
       "      <td>cg00000029</td>\n",
       "      <td>0.454931</td>\n",
       "      <td>0.410287</td>\n",
       "    </tr>\n",
       "    <tr>\n",
       "      <th>1</th>\n",
       "      <td>cg00000108</td>\n",
       "      <td>0.907883</td>\n",
       "      <td>0.915894</td>\n",
       "    </tr>\n",
       "    <tr>\n",
       "      <th>2</th>\n",
       "      <td>cg00000109</td>\n",
       "      <td>0.862772</td>\n",
       "      <td>0.881000</td>\n",
       "    </tr>\n",
       "    <tr>\n",
       "      <th>3</th>\n",
       "      <td>cg00000165</td>\n",
       "      <td>0.160446</td>\n",
       "      <td>0.137600</td>\n",
       "    </tr>\n",
       "    <tr>\n",
       "      <th>4</th>\n",
       "      <td>cg00000236</td>\n",
       "      <td>0.728180</td>\n",
       "      <td>0.736708</td>\n",
       "    </tr>\n",
       "  </tbody>\n",
       "</table>\n",
       "</div>"
      ],
      "text/plain": [
       "       ID_REF  GSM1009660  GSM1009661\n",
       "0  cg00000029    0.454931    0.410287\n",
       "1  cg00000108    0.907883    0.915894\n",
       "2  cg00000109    0.862772    0.881000\n",
       "3  cg00000165    0.160446    0.137600\n",
       "4  cg00000236    0.728180    0.736708"
      ]
     },
     "execution_count": 7,
     "metadata": {},
     "output_type": "execute_result"
    }
   ],
   "source": [
    "df.head()"
   ]
  },
  {
   "cell_type": "code",
   "execution_count": 8,
   "metadata": {},
   "outputs": [],
   "source": [
    "from base import LinearMethylationModel"
   ]
  },
  {
   "cell_type": "code",
   "execution_count": 10,
   "metadata": {},
   "outputs": [],
   "source": [
    "model_filepath = '../models_library/raw_models/HannumLung_2013.csv'"
   ]
  },
  {
   "cell_type": "code",
   "execution_count": 11,
   "metadata": {},
   "outputs": [],
   "source": [
    "my_model = LinearMethylationModel(model_file_path=model_filepath)\n",
    "\n",
    "predictions = my_model.predict(df)"
   ]
  },
  {
   "cell_type": "code",
   "execution_count": 12,
   "metadata": {},
   "outputs": [
    {
     "data": {
      "text/html": [
       "<div>\n",
       "<style scoped>\n",
       "    .dataframe tbody tr th:only-of-type {\n",
       "        vertical-align: middle;\n",
       "    }\n",
       "\n",
       "    .dataframe tbody tr th {\n",
       "        vertical-align: top;\n",
       "    }\n",
       "\n",
       "    .dataframe thead th {\n",
       "        text-align: right;\n",
       "    }\n",
       "</style>\n",
       "<table border=\"1\" class=\"dataframe\">\n",
       "  <thead>\n",
       "    <tr style=\"text-align: right;\">\n",
       "      <th></th>\n",
       "      <th>sample</th>\n",
       "      <th>predictions</th>\n",
       "    </tr>\n",
       "  </thead>\n",
       "  <tbody>\n",
       "    <tr>\n",
       "      <th>0</th>\n",
       "      <td>GSM1009660</td>\n",
       "      <td>-19.619985</td>\n",
       "    </tr>\n",
       "    <tr>\n",
       "      <th>1</th>\n",
       "      <td>GSM1009661</td>\n",
       "      <td>-34.187971</td>\n",
       "    </tr>\n",
       "  </tbody>\n",
       "</table>\n",
       "</div>"
      ],
      "text/plain": [
       "       sample  predictions\n",
       "0  GSM1009660   -19.619985\n",
       "1  GSM1009661   -34.187971"
      ]
     },
     "execution_count": 12,
     "metadata": {},
     "output_type": "execute_result"
    }
   ],
   "source": [
    "predictions"
   ]
  }
 ],
 "metadata": {
  "kernelspec": {
   "display_name": "Python 3",
   "language": "python",
   "name": "python3"
  },
  "language_info": {
   "codemirror_mode": {
    "name": "ipython",
    "version": 3
   },
   "file_extension": ".py",
   "mimetype": "text/x-python",
   "name": "python",
   "nbconvert_exporter": "python",
   "pygments_lexer": "ipython3",
   "version": "3.11.8"
  }
 },
 "nbformat": 4,
 "nbformat_minor": 2
}
