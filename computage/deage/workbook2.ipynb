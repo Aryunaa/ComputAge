{
 "cells": [
  {
   "cell_type": "code",
   "execution_count": 1,
   "metadata": {},
   "outputs": [
    {
     "name": "stdout",
     "output_type": "stream",
     "text": [
      "README.md    data_library  dev_clocks.yml  requirements.txt\n",
      "__init__.py  deage\t   models_library\n"
     ]
    }
   ],
   "source": [
    "!ls ../"
   ]
  },
  {
   "cell_type": "markdown",
   "metadata": {},
   "source": [
    "List of available models:\n",
    "- Linear : 'dunedinpoam', 'mccartneyblood_2018_alcohol', 'mccartneyblood_2018_education', 'linblood99cpg_2016', 'linblood3cpg_2016', 'hannumlung_2013', 'horvathmultishrunken_2013', 'hannumblood_2013', 'horvathmulti_2013', 'mccartneyblood_2018_bmi', 'mccartneyblood_2018_hdl', 'mccartneyblood_2018_ldl', 'hannumbreast_2013', 'knightblood_2016', 'yingdamage', 'mccartneyblood_2018_waisttipratio', 'hannumkidney_2013', 'mccartneyblood_2018_totalfat', 'yingcausage', 'mccartneyblood_2018_tc', 'mccartneyblood_2018_smoking', 'yingadaptage', 'phenoage'\n",
    "- Nonlinear : 'epitoc2'"
   ]
  },
  {
   "cell_type": "code",
   "execution_count": 1,
   "metadata": {},
   "outputs": [],
   "source": [
    "import sys\n",
    "import os\n",
    "\n",
    "import numpy as np\n",
    "import pandas as pd \n",
    "\n",
    "import pickle"
   ]
  },
  {
   "cell_type": "code",
   "execution_count": 2,
   "metadata": {},
   "outputs": [],
   "source": [
    "models_path = '../models_library/raw_models/'\n",
    "model_files = os.listdir(models_path)\n",
    "model_mames = list(map(lambda a: a.replace('.csv','').lower(), model_files))\n",
    "\n",
    "dict_model_names_paths = dict([(key, value)\n",
    "          for i, (key, value) in enumerate(zip(model_mames, model_files))])"
   ]
  },
  {
   "cell_type": "code",
   "execution_count": 3,
   "metadata": {},
   "outputs": [],
   "source": [
    "name= 'phenoage'\n",
    "model_file_path = os.path.join(models_path,dict_model_names_paths[name])\n",
    "model_data = pd.read_csv(model_file_path)"
   ]
  },
  {
   "cell_type": "code",
   "execution_count": 4,
   "metadata": {},
   "outputs": [
    {
     "data": {
      "text/html": [
       "<div>\n",
       "<style scoped>\n",
       "    .dataframe tbody tr th:only-of-type {\n",
       "        vertical-align: middle;\n",
       "    }\n",
       "\n",
       "    .dataframe tbody tr th {\n",
       "        vertical-align: top;\n",
       "    }\n",
       "\n",
       "    .dataframe thead th {\n",
       "        text-align: right;\n",
       "    }\n",
       "</style>\n",
       "<table border=\"1\" class=\"dataframe\">\n",
       "  <thead>\n",
       "    <tr style=\"text-align: right;\">\n",
       "      <th></th>\n",
       "      <th>sample</th>\n",
       "      <th>prediction</th>\n",
       "    </tr>\n",
       "  </thead>\n",
       "  <tbody>\n",
       "    <tr>\n",
       "      <th>0</th>\n",
       "      <td>GSM1009660</td>\n",
       "      <td>28.115610</td>\n",
       "    </tr>\n",
       "    <tr>\n",
       "      <th>1</th>\n",
       "      <td>GSM1009661</td>\n",
       "      <td>19.577701</td>\n",
       "    </tr>\n",
       "    <tr>\n",
       "      <th>2</th>\n",
       "      <td>GSM1009662</td>\n",
       "      <td>60.543320</td>\n",
       "    </tr>\n",
       "    <tr>\n",
       "      <th>3</th>\n",
       "      <td>GSM1009663</td>\n",
       "      <td>11.328455</td>\n",
       "    </tr>\n",
       "    <tr>\n",
       "      <th>4</th>\n",
       "      <td>GSM1009664</td>\n",
       "      <td>27.627108</td>\n",
       "    </tr>\n",
       "  </tbody>\n",
       "</table>\n",
       "</div>"
      ],
      "text/plain": [
       "       sample  prediction\n",
       "0  GSM1009660   28.115610\n",
       "1  GSM1009661   19.577701\n",
       "2  GSM1009662   60.543320\n",
       "3  GSM1009663   11.328455\n",
       "4  GSM1009664   27.627108"
      ]
     },
     "execution_count": 4,
     "metadata": {},
     "output_type": "execute_result"
    }
   ],
   "source": [
    "\n",
    "\n",
    "data_library = os.path.abspath('../data_library')\n",
    "sys.path.append(data_library)\n",
    "\n",
    "#from data_repository import import_data\n",
    "from base import LinearMethylationModel\n",
    "\n",
    "df = pd.read_csv('../data_library/data_test2.csv', sep='\\t')\n",
    "my_model = LinearMethylationModel(name='phenoage')\n",
    "\n",
    "X = df.iloc[:-1,:].copy()\n",
    "y = df.iloc[-1,:].copy()\n",
    "predictions = my_model.predict(X)\n",
    "predictions.head()"
   ]
  },
  {
   "cell_type": "code",
   "execution_count": 6,
   "metadata": {},
   "outputs": [
    {
     "data": {
      "text/plain": [
       "'/home/aryuna/bioinf_inst/project/ComputAge/computage/deage/../models_library/raw_models/PhenoAge.csv'"
      ]
     },
     "execution_count": 6,
     "metadata": {},
     "output_type": "execute_result"
    }
   ],
   "source": [
    "my_model.model_file_path"
   ]
  },
  {
   "cell_type": "code",
   "execution_count": 7,
   "metadata": {},
   "outputs": [],
   "source": [
    "my_filename = '../models_library/updated_models/PhenoAge.pkl'\n",
    "\n",
    "pickle.dump(my_model, open(my_filename, 'wb') )"
   ]
  },
  {
   "cell_type": "code",
   "execution_count": 8,
   "metadata": {},
   "outputs": [],
   "source": [
    "\n",
    "loaded_model = pickle.load(open(my_filename, 'rb'))"
   ]
  },
  {
   "cell_type": "code",
   "execution_count": 9,
   "metadata": {},
   "outputs": [
    {
     "data": {
      "text/html": [
       "<div>\n",
       "<style scoped>\n",
       "    .dataframe tbody tr th:only-of-type {\n",
       "        vertical-align: middle;\n",
       "    }\n",
       "\n",
       "    .dataframe tbody tr th {\n",
       "        vertical-align: top;\n",
       "    }\n",
       "\n",
       "    .dataframe thead th {\n",
       "        text-align: right;\n",
       "    }\n",
       "</style>\n",
       "<table border=\"1\" class=\"dataframe\">\n",
       "  <thead>\n",
       "    <tr style=\"text-align: right;\">\n",
       "      <th></th>\n",
       "      <th>sample</th>\n",
       "      <th>prediction</th>\n",
       "    </tr>\n",
       "  </thead>\n",
       "  <tbody>\n",
       "    <tr>\n",
       "      <th>0</th>\n",
       "      <td>GSM1009660</td>\n",
       "      <td>28.115610</td>\n",
       "    </tr>\n",
       "    <tr>\n",
       "      <th>1</th>\n",
       "      <td>GSM1009661</td>\n",
       "      <td>19.577701</td>\n",
       "    </tr>\n",
       "    <tr>\n",
       "      <th>2</th>\n",
       "      <td>GSM1009662</td>\n",
       "      <td>60.543320</td>\n",
       "    </tr>\n",
       "    <tr>\n",
       "      <th>3</th>\n",
       "      <td>GSM1009663</td>\n",
       "      <td>11.328455</td>\n",
       "    </tr>\n",
       "    <tr>\n",
       "      <th>4</th>\n",
       "      <td>GSM1009664</td>\n",
       "      <td>27.627108</td>\n",
       "    </tr>\n",
       "    <tr>\n",
       "      <th>5</th>\n",
       "      <td>GSM1009665</td>\n",
       "      <td>28.216666</td>\n",
       "    </tr>\n",
       "    <tr>\n",
       "      <th>6</th>\n",
       "      <td>GSM1009666</td>\n",
       "      <td>14.677186</td>\n",
       "    </tr>\n",
       "    <tr>\n",
       "      <th>7</th>\n",
       "      <td>GSM1009667</td>\n",
       "      <td>17.246441</td>\n",
       "    </tr>\n",
       "    <tr>\n",
       "      <th>8</th>\n",
       "      <td>GSM1009668</td>\n",
       "      <td>15.718556</td>\n",
       "    </tr>\n",
       "    <tr>\n",
       "      <th>9</th>\n",
       "      <td>GSM1009669</td>\n",
       "      <td>17.488224</td>\n",
       "    </tr>\n",
       "    <tr>\n",
       "      <th>10</th>\n",
       "      <td>GSM1009670</td>\n",
       "      <td>11.277529</td>\n",
       "    </tr>\n",
       "    <tr>\n",
       "      <th>11</th>\n",
       "      <td>GSM1009671</td>\n",
       "      <td>33.802999</td>\n",
       "    </tr>\n",
       "    <tr>\n",
       "      <th>12</th>\n",
       "      <td>GSM1009672</td>\n",
       "      <td>27.112573</td>\n",
       "    </tr>\n",
       "    <tr>\n",
       "      <th>13</th>\n",
       "      <td>GSM1009673</td>\n",
       "      <td>62.243611</td>\n",
       "    </tr>\n",
       "    <tr>\n",
       "      <th>14</th>\n",
       "      <td>GSM1009674</td>\n",
       "      <td>46.265256</td>\n",
       "    </tr>\n",
       "    <tr>\n",
       "      <th>15</th>\n",
       "      <td>GSM1009675</td>\n",
       "      <td>15.439655</td>\n",
       "    </tr>\n",
       "    <tr>\n",
       "      <th>16</th>\n",
       "      <td>GSM1009676</td>\n",
       "      <td>25.165443</td>\n",
       "    </tr>\n",
       "    <tr>\n",
       "      <th>17</th>\n",
       "      <td>GSM1009677</td>\n",
       "      <td>25.431926</td>\n",
       "    </tr>\n",
       "    <tr>\n",
       "      <th>18</th>\n",
       "      <td>GSM1009678</td>\n",
       "      <td>14.699016</td>\n",
       "    </tr>\n",
       "    <tr>\n",
       "      <th>19</th>\n",
       "      <td>GSM1009679</td>\n",
       "      <td>32.892040</td>\n",
       "    </tr>\n",
       "    <tr>\n",
       "      <th>20</th>\n",
       "      <td>GSM1009680</td>\n",
       "      <td>37.209681</td>\n",
       "    </tr>\n",
       "    <tr>\n",
       "      <th>21</th>\n",
       "      <td>GSM1009681</td>\n",
       "      <td>25.996411</td>\n",
       "    </tr>\n",
       "    <tr>\n",
       "      <th>22</th>\n",
       "      <td>GSM1009682</td>\n",
       "      <td>27.527728</td>\n",
       "    </tr>\n",
       "    <tr>\n",
       "      <th>23</th>\n",
       "      <td>GSM1009683</td>\n",
       "      <td>30.355873</td>\n",
       "    </tr>\n",
       "    <tr>\n",
       "      <th>24</th>\n",
       "      <td>GSM1009684</td>\n",
       "      <td>47.692917</td>\n",
       "    </tr>\n",
       "    <tr>\n",
       "      <th>25</th>\n",
       "      <td>GSM1009685</td>\n",
       "      <td>29.330433</td>\n",
       "    </tr>\n",
       "    <tr>\n",
       "      <th>26</th>\n",
       "      <td>GSM1009686</td>\n",
       "      <td>29.321832</td>\n",
       "    </tr>\n",
       "    <tr>\n",
       "      <th>27</th>\n",
       "      <td>GSM1009687</td>\n",
       "      <td>18.016039</td>\n",
       "    </tr>\n",
       "    <tr>\n",
       "      <th>28</th>\n",
       "      <td>GSM1009688</td>\n",
       "      <td>16.858560</td>\n",
       "    </tr>\n",
       "  </tbody>\n",
       "</table>\n",
       "</div>"
      ],
      "text/plain": [
       "        sample  prediction\n",
       "0   GSM1009660   28.115610\n",
       "1   GSM1009661   19.577701\n",
       "2   GSM1009662   60.543320\n",
       "3   GSM1009663   11.328455\n",
       "4   GSM1009664   27.627108\n",
       "5   GSM1009665   28.216666\n",
       "6   GSM1009666   14.677186\n",
       "7   GSM1009667   17.246441\n",
       "8   GSM1009668   15.718556\n",
       "9   GSM1009669   17.488224\n",
       "10  GSM1009670   11.277529\n",
       "11  GSM1009671   33.802999\n",
       "12  GSM1009672   27.112573\n",
       "13  GSM1009673   62.243611\n",
       "14  GSM1009674   46.265256\n",
       "15  GSM1009675   15.439655\n",
       "16  GSM1009676   25.165443\n",
       "17  GSM1009677   25.431926\n",
       "18  GSM1009678   14.699016\n",
       "19  GSM1009679   32.892040\n",
       "20  GSM1009680   37.209681\n",
       "21  GSM1009681   25.996411\n",
       "22  GSM1009682   27.527728\n",
       "23  GSM1009683   30.355873\n",
       "24  GSM1009684   47.692917\n",
       "25  GSM1009685   29.330433\n",
       "26  GSM1009686   29.321832\n",
       "27  GSM1009687   18.016039\n",
       "28  GSM1009688   16.858560"
      ]
     },
     "execution_count": 9,
     "metadata": {},
     "output_type": "execute_result"
    }
   ],
   "source": [
    "loaded_model.predict(X)"
   ]
  },
  {
   "cell_type": "code",
   "execution_count": 10,
   "metadata": {},
   "outputs": [
    {
     "name": "stdout",
     "output_type": "stream",
     "text": [
      "README.md    data_library  dev_clocks.yml  requirements.txt\n",
      "__init__.py  deage\t   models_library\n"
     ]
    }
   ],
   "source": [
    "!ls ../\n"
   ]
  },
  {
   "cell_type": "code",
   "execution_count": 11,
   "metadata": {},
   "outputs": [
    {
     "name": "stdout",
     "output_type": "stream",
     "text": [
      "{'epitoc2': 'EpiTOC2.pkl', 'dunedinpoam': 'DunedinPoAm.pkl', 'mccartneyblood_2018_alcohol': 'McCartneyBlood_2018_Alcohol.pkl', 'mccartneyblood_2018_education': 'McCartneyBlood_2018_Education.pkl', 'linblood99cpg_2016': 'LinBlood99CpG_2016.pkl', 'linblood3cpg_2016': 'LinBlood3CpG_2016.pkl', 'hannumlung_2013': 'HannumLung_2013.pkl', 'horvathmultishrunken_2013': 'HorvathMultiShrunken_2013.pkl', 'hannumblood_2013': 'HannumBlood_2013.pkl', 'horvathmulti_2013': 'HorvathMulti_2013.pkl', 'mccartneyblood_2018_bmi': 'McCartneyBlood_2018_BMI.pkl', 'mccartneyblood_2018_hdl': 'McCartneyBlood_2018_HDL.pkl', 'mccartneyblood_2018_ldl': 'McCartneyBlood_2018_LDL.pkl', 'hannumbreast_2013': 'HannumBreast_2013.pkl', 'knightblood_2016': 'KnightBlood_2016.pkl', 'yingdamage': 'YingDamAge.pkl', 'mccartneyblood_2018_waisttipratio': 'McCartneyBlood_2018_WaistTipRatio.pkl', 'hannumkidney_2013': 'HannumKidney_2013.pkl', 'mccartneyblood_2018_totalfat': 'McCartneyBlood_2018_TotalFat.pkl', 'yingcausage': 'YingCausAge.pkl', 'mccartneyblood_2018_tc': 'McCartneyBlood_2018_TC.pkl', 'mccartneyblood_2018_smoking': 'McCartneyBlood_2018_Smoking.pkl', 'yingadaptage': 'YingAdaptAge.pkl', 'phenoage': 'PhenoAge.pkl'}\n"
     ]
    }
   ],
   "source": [
    "models_path = '../models_library/raw_models/'\n",
    "updated_modelspath = '../models_library/updated_models'\n",
    "model_files = os.listdir(models_path)\n",
    "model_mames = list(map(lambda a: a.replace('.csv','').lower(), model_files))\n",
    "updated_model_files = list(map(lambda a: a.replace('.csv', '.pkl'), model_files))\n",
    "\n",
    "dict_model_names_paths = dict([(key, value)\n",
    "          for i, (key, value) in enumerate(zip(model_mames, model_files))])\n",
    "'''\n",
    "{'epitoc2': 'EpiTOC2.csv', 'dunedinpoam': 'DunedinPoAm.csv', \n",
    "'mccartneyblood_2018_alcohol': 'McCartneyBlood_2018_Alcohol.csv', \n",
    "'mccartneyblood_2018_education': 'McCartneyBlood_2018_Education.csv', \n",
    "'linblood99cpg_2016': 'LinBlood99CpG_2016.csv', 'linblood3cpg_2016': 'LinBlood3CpG_2016.csv', \n",
    "'hannumlung_2013': 'HannumLung_2013.csv', \n",
    "'horvathmultishrunken_2013': 'HorvathMultiShrunken_2013.csv', 'hannumblood_2013': 'HannumBlood_2013.csv', \n",
    "'horvathmulti_2013': 'HorvathMulti_2013.csv', 'mccartneyblood_2018_bmi': 'McCartneyBlood_2018_BMI.csv', \n",
    "'mccartneyblood_2018_hdl': 'McCartneyBlood_2018_HDL.csv', 'mccartneyblood_2018_ldl': 'McCartneyBlood_2018_LDL.csv', \n",
    "'hannumbreast_2013': 'HannumBreast_2013.csv', 'knightblood_2016': 'KnightBlood_2016.csv', 'yingdamage': 'YingDamAge.csv', \n",
    "'mccartneyblood_2018_waisttipratio': 'McCartneyBlood_2018_WaistTipRatio.csv', 'hannumkidney_2013': 'HannumKidney_2013.csv',\n",
    " 'mccartneyblood_2018_totalfat': 'McCartneyBlood_2018_TotalFat.csv', 'yingcausage': 'YingCausAge.csv', \n",
    " 'mccartneyblood_2018_tc': 'McCartneyBlood_2018_TC.csv', 'mccartneyblood_2018_smoking': 'McCartneyBlood_2018_Smoking.csv', \n",
    " 'yingadaptage': 'YingAdaptAge.csv', 'phenoage': 'PhenoAge.csv'}\n",
    "'''\n",
    "\n",
    "updated_dict_model_names_paths = dict([(key, value)\n",
    "          for i, (key, value) in enumerate(zip(model_mames, updated_model_files))])\n",
    "\n",
    "print(updated_dict_model_names_paths)\n",
    "\n",
    "\n"
   ]
  },
  {
   "cell_type": "code",
   "execution_count": 12,
   "metadata": {},
   "outputs": [
    {
     "name": "stdout",
     "output_type": "stream",
     "text": [
      "dunedinpoam\n",
      "../models_library/updated_models/DunedinPoAm.pkl\n",
      "mccartneyblood_2018_alcohol\n",
      "../models_library/updated_models/McCartneyBlood_2018_Alcohol.pkl\n",
      "mccartneyblood_2018_education\n",
      "../models_library/updated_models/McCartneyBlood_2018_Education.pkl\n",
      "linblood99cpg_2016\n",
      "../models_library/updated_models/LinBlood99CpG_2016.pkl\n",
      "linblood3cpg_2016\n",
      "../models_library/updated_models/LinBlood3CpG_2016.pkl\n",
      "hannumlung_2013\n",
      "../models_library/updated_models/HannumLung_2013.pkl\n",
      "horvathmultishrunken_2013\n",
      "../models_library/updated_models/HorvathMultiShrunken_2013.pkl\n",
      "hannumblood_2013\n",
      "../models_library/updated_models/HannumBlood_2013.pkl\n",
      "horvathmulti_2013\n",
      "../models_library/updated_models/HorvathMulti_2013.pkl\n",
      "mccartneyblood_2018_bmi\n",
      "../models_library/updated_models/McCartneyBlood_2018_BMI.pkl\n",
      "mccartneyblood_2018_hdl\n",
      "../models_library/updated_models/McCartneyBlood_2018_HDL.pkl\n",
      "mccartneyblood_2018_ldl\n",
      "../models_library/updated_models/McCartneyBlood_2018_LDL.pkl\n",
      "hannumbreast_2013\n",
      "../models_library/updated_models/HannumBreast_2013.pkl\n",
      "knightblood_2016\n",
      "../models_library/updated_models/KnightBlood_2016.pkl\n",
      "yingdamage\n",
      "../models_library/updated_models/YingDamAge.pkl\n",
      "mccartneyblood_2018_waisttipratio\n",
      "../models_library/updated_models/McCartneyBlood_2018_WaistTipRatio.pkl\n",
      "hannumkidney_2013\n",
      "../models_library/updated_models/HannumKidney_2013.pkl\n",
      "mccartneyblood_2018_totalfat\n",
      "../models_library/updated_models/McCartneyBlood_2018_TotalFat.pkl\n",
      "yingcausage\n",
      "../models_library/updated_models/YingCausAge.pkl\n",
      "mccartneyblood_2018_tc\n",
      "../models_library/updated_models/McCartneyBlood_2018_TC.pkl\n",
      "mccartneyblood_2018_smoking\n",
      "../models_library/updated_models/McCartneyBlood_2018_Smoking.pkl\n",
      "yingadaptage\n",
      "../models_library/updated_models/YingAdaptAge.pkl\n",
      "phenoage\n",
      "../models_library/updated_models/PhenoAge.pkl\n"
     ]
    }
   ],
   "source": [
    "#перевод их всех в пикл\n",
    "for model_name in model_mames[1:]:\n",
    "    print(model_name)\n",
    "    model = LinearMethylationModel(name=model_name)\n",
    "    \n",
    "    filename = os.path.join(updated_modelspath, updated_dict_model_names_paths[model_name])\n",
    "\n",
    "    pickle.dump(model, open(filename, 'wb') )\n",
    "    print(filename)\n",
    "    "
   ]
  },
  {
   "cell_type": "code",
   "execution_count": 13,
   "metadata": {},
   "outputs": [
    {
     "data": {
      "text/plain": [
       "{'epitoc2': 'EpiTOC2.pkl',\n",
       " 'dunedinpoam': 'DunedinPoAm.pkl',\n",
       " 'mccartneyblood_2018_alcohol': 'McCartneyBlood_2018_Alcohol.pkl',\n",
       " 'mccartneyblood_2018_education': 'McCartneyBlood_2018_Education.pkl',\n",
       " 'linblood99cpg_2016': 'LinBlood99CpG_2016.pkl',\n",
       " 'linblood3cpg_2016': 'LinBlood3CpG_2016.pkl',\n",
       " 'hannumlung_2013': 'HannumLung_2013.pkl',\n",
       " 'horvathmultishrunken_2013': 'HorvathMultiShrunken_2013.pkl',\n",
       " 'hannumblood_2013': 'HannumBlood_2013.pkl',\n",
       " 'horvathmulti_2013': 'HorvathMulti_2013.pkl',\n",
       " 'mccartneyblood_2018_bmi': 'McCartneyBlood_2018_BMI.pkl',\n",
       " 'mccartneyblood_2018_hdl': 'McCartneyBlood_2018_HDL.pkl',\n",
       " 'mccartneyblood_2018_ldl': 'McCartneyBlood_2018_LDL.pkl',\n",
       " 'hannumbreast_2013': 'HannumBreast_2013.pkl',\n",
       " 'knightblood_2016': 'KnightBlood_2016.pkl',\n",
       " 'yingdamage': 'YingDamAge.pkl',\n",
       " 'mccartneyblood_2018_waisttipratio': 'McCartneyBlood_2018_WaistTipRatio.pkl',\n",
       " 'hannumkidney_2013': 'HannumKidney_2013.pkl',\n",
       " 'mccartneyblood_2018_totalfat': 'McCartneyBlood_2018_TotalFat.pkl',\n",
       " 'yingcausage': 'YingCausAge.pkl',\n",
       " 'mccartneyblood_2018_tc': 'McCartneyBlood_2018_TC.pkl',\n",
       " 'mccartneyblood_2018_smoking': 'McCartneyBlood_2018_Smoking.pkl',\n",
       " 'yingadaptage': 'YingAdaptAge.pkl',\n",
       " 'phenoage': 'PhenoAge.pkl'}"
      ]
     },
     "execution_count": 13,
     "metadata": {},
     "output_type": "execute_result"
    }
   ],
   "source": [
    "updated_dict_model_names_paths"
   ]
  },
  {
   "cell_type": "code",
   "execution_count": 5,
   "metadata": {},
   "outputs": [
    {
     "name": "stdout",
     "output_type": "stream",
     "text": [
      "yingadaptage\n"
     ]
    },
    {
     "ename": "NameError",
     "evalue": "name 'LinearMethylationModel' is not defined",
     "output_type": "error",
     "traceback": [
      "\u001b[0;31m---------------------------------------------------------------------------\u001b[0m",
      "\u001b[0;31mNameError\u001b[0m                                 Traceback (most recent call last)",
      "Cell \u001b[0;32mIn[5], line 10\u001b[0m\n\u001b[1;32m      8\u001b[0m \u001b[38;5;28;01mfor\u001b[39;00m model_name \u001b[38;5;129;01min\u001b[39;00m model_mames[\u001b[38;5;241m1\u001b[39m:]:\n\u001b[1;32m      9\u001b[0m     \u001b[38;5;28mprint\u001b[39m(model_name)\n\u001b[0;32m---> 10\u001b[0m     model \u001b[38;5;241m=\u001b[39m \u001b[43mLinearMethylationModel\u001b[49m(name\u001b[38;5;241m=\u001b[39mmodel_name)\n\u001b[1;32m     12\u001b[0m     filename \u001b[38;5;241m=\u001b[39m os\u001b[38;5;241m.\u001b[39mpath\u001b[38;5;241m.\u001b[39mjoin(models_path, dict_model_names_paths[model_name])\n\u001b[1;32m     14\u001b[0m     pickle\u001b[38;5;241m.\u001b[39mdump(model, \u001b[38;5;28mopen\u001b[39m(filename, \u001b[38;5;124m'\u001b[39m\u001b[38;5;124mwb\u001b[39m\u001b[38;5;124m'\u001b[39m) )\n",
      "\u001b[0;31mNameError\u001b[0m: name 'LinearMethylationModel' is not defined"
     ]
    }
   ],
   "source": [
    "models_path = '../models_library/updated_models/'\n",
    "model_files = os.listdir(models_path)\n",
    "model_mames = list(map(lambda a: a.replace('.pkl','').lower(), model_files))\n",
    "dict_model_names_paths = dict([(key, value)\n",
    "          for i, (key, value) in enumerate(zip(model_mames, model_files))])\n",
    "\n",
    "#перевод их всех в пикл 2\n",
    "for model_name in model_mames[1:]:\n",
    "    print(model_name)\n",
    "    model = LinearMethylationModel(name=model_name)\n",
    "    \n",
    "    filename = os.path.join(models_path, dict_model_names_paths[model_name])\n",
    "\n",
    "    pickle.dump(model, open(filename, 'wb') )\n",
    "    print(filename)"
   ]
  }
 ],
 "metadata": {
  "kernelspec": {
   "display_name": "Python 3",
   "language": "python",
   "name": "python3"
  },
  "language_info": {
   "codemirror_mode": {
    "name": "ipython",
    "version": 3
   },
   "file_extension": ".py",
   "mimetype": "text/x-python",
   "name": "python",
   "nbconvert_exporter": "python",
   "pygments_lexer": "ipython3",
   "version": "3.11.8"
  }
 },
 "nbformat": 4,
 "nbformat_minor": 2
}
