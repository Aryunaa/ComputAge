{
 "cells": [
  {
   "cell_type": "code",
   "execution_count": 1,
   "metadata": {},
   "outputs": [
    {
     "name": "stdout",
     "output_type": "stream",
     "text": [
      "README.md    data_library  dev_clocks.yml  requirements.txt\n",
      "__init__.py  deage\t   models_library\n"
     ]
    }
   ],
   "source": [
    "!ls ../"
   ]
  },
  {
   "cell_type": "markdown",
   "metadata": {},
   "source": [
    "List of available models:\n",
    "- Linear : 'dunedinpoam', 'mccartneyblood_2018_alcohol', 'mccartneyblood_2018_education', 'linblood99cpg_2016', 'linblood3cpg_2016', 'hannumlung_2013', 'horvathmultishrunken_2013', 'hannumblood_2013', 'horvathmulti_2013', 'mccartneyblood_2018_bmi', 'mccartneyblood_2018_hdl', 'mccartneyblood_2018_ldl', 'hannumbreast_2013', 'knightblood_2016', 'yingdamage', 'mccartneyblood_2018_waisttipratio', 'hannumkidney_2013', 'mccartneyblood_2018_totalfat', 'yingcausage', 'mccartneyblood_2018_tc', 'mccartneyblood_2018_smoking', 'yingadaptage', 'phenoage'\n",
    "- Nonlinear : 'epitoc2'"
   ]
  },
  {
   "cell_type": "code",
   "execution_count": 11,
   "metadata": {},
   "outputs": [],
   "source": [
    "import sys\n",
    "import os\n",
    "\n",
    "import numpy as np\n",
    "import pandas as pd \n",
    "\n",
    "import pickle"
   ]
  },
  {
   "cell_type": "code",
   "execution_count": 3,
   "metadata": {},
   "outputs": [],
   "source": [
    "models_path = '../models_library/raw_models/'\n",
    "model_files = os.listdir(models_path)\n",
    "model_mames = list(map(lambda a: a.replace('.csv','').lower(), model_files))\n",
    "\n",
    "dict_model_names_paths = dict([(key, value)\n",
    "          for i, (key, value) in enumerate(zip(model_mames, model_files))])"
   ]
  },
  {
   "cell_type": "code",
   "execution_count": 4,
   "metadata": {},
   "outputs": [],
   "source": [
    "name= 'phenoage'\n",
    "model_file_path = os.path.join(models_path,dict_model_names_paths[name])\n",
    "model_data = pd.read_csv(model_file_path)"
   ]
  },
  {
   "cell_type": "code",
   "execution_count": 10,
   "metadata": {},
   "outputs": [
    {
     "data": {
      "text/html": [
       "<div>\n",
       "<style scoped>\n",
       "    .dataframe tbody tr th:only-of-type {\n",
       "        vertical-align: middle;\n",
       "    }\n",
       "\n",
       "    .dataframe tbody tr th {\n",
       "        vertical-align: top;\n",
       "    }\n",
       "\n",
       "    .dataframe thead th {\n",
       "        text-align: right;\n",
       "    }\n",
       "</style>\n",
       "<table border=\"1\" class=\"dataframe\">\n",
       "  <thead>\n",
       "    <tr style=\"text-align: right;\">\n",
       "      <th></th>\n",
       "      <th>sample</th>\n",
       "      <th>prediction</th>\n",
       "    </tr>\n",
       "  </thead>\n",
       "  <tbody>\n",
       "    <tr>\n",
       "      <th>0</th>\n",
       "      <td>GSM1009660</td>\n",
       "      <td>28.115610</td>\n",
       "    </tr>\n",
       "    <tr>\n",
       "      <th>1</th>\n",
       "      <td>GSM1009661</td>\n",
       "      <td>19.577701</td>\n",
       "    </tr>\n",
       "    <tr>\n",
       "      <th>2</th>\n",
       "      <td>GSM1009662</td>\n",
       "      <td>60.543320</td>\n",
       "    </tr>\n",
       "    <tr>\n",
       "      <th>3</th>\n",
       "      <td>GSM1009663</td>\n",
       "      <td>11.328455</td>\n",
       "    </tr>\n",
       "    <tr>\n",
       "      <th>4</th>\n",
       "      <td>GSM1009664</td>\n",
       "      <td>27.627108</td>\n",
       "    </tr>\n",
       "  </tbody>\n",
       "</table>\n",
       "</div>"
      ],
      "text/plain": [
       "       sample  prediction\n",
       "0  GSM1009660   28.115610\n",
       "1  GSM1009661   19.577701\n",
       "2  GSM1009662   60.543320\n",
       "3  GSM1009663   11.328455\n",
       "4  GSM1009664   27.627108"
      ]
     },
     "execution_count": 10,
     "metadata": {},
     "output_type": "execute_result"
    }
   ],
   "source": [
    "\n",
    "\n",
    "data_library = os.path.abspath('../data_library')\n",
    "sys.path.append(data_library)\n",
    "\n",
    "#from data_repository import import_data\n",
    "from base import LinearMethylationModel\n",
    "\n",
    "df = pd.read_csv('../data_library/data_test2.csv', sep='\\t')\n",
    "my_model = LinearMethylationModel(name='phenoage')\n",
    "\n",
    "X = df.iloc[:-1,:].copy()\n",
    "y = df.iloc[-1,:].copy()\n",
    "predictions = my_model.predict(X)\n",
    "predictions.head()"
   ]
  },
  {
   "cell_type": "code",
   "execution_count": 13,
   "metadata": {},
   "outputs": [
    {
     "data": {
      "text/plain": [
       "'/home/aryuna/bioinf_inst/project/ComputAge/computage/deage/../models_library/raw_models/PhenoAge.csv'"
      ]
     },
     "execution_count": 13,
     "metadata": {},
     "output_type": "execute_result"
    }
   ],
   "source": [
    "my_model.model_file_path"
   ]
  },
  {
   "cell_type": "code",
   "execution_count": 15,
   "metadata": {},
   "outputs": [],
   "source": [
    "my_filename = '../models_library/updated_models/PhenoAge.pkl'\n",
    "\n",
    "pickle.dump(my_model, open(my_filename, 'wb') )"
   ]
  },
  {
   "cell_type": "code",
   "execution_count": 16,
   "metadata": {},
   "outputs": [],
   "source": [
    "\n",
    "loaded_model = pickle.load(open(my_filename, 'rb'))"
   ]
  }
 ],
 "metadata": {
  "kernelspec": {
   "display_name": "Python 3",
   "language": "python",
   "name": "python3"
  },
  "language_info": {
   "codemirror_mode": {
    "name": "ipython",
    "version": 3
   },
   "file_extension": ".py",
   "mimetype": "text/x-python",
   "name": "python",
   "nbconvert_exporter": "python",
   "pygments_lexer": "ipython3",
   "version": "3.11.8"
  }
 },
 "nbformat": 4,
 "nbformat_minor": 2
}
