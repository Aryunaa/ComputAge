{
 "cells": [
  {
   "cell_type": "markdown",
   "metadata": {},
   "source": [
    "## Testing import_data and working with data"
   ]
  },
  {
   "cell_type": "code",
   "execution_count": 13,
   "metadata": {},
   "outputs": [
    {
     "name": "stdout",
     "output_type": "stream",
     "text": [
      "DunedinPoAm.csv\t\t\t McCartneyBlood_2018_BMI.csv\n",
      "EpiTOC2.csv\t\t\t McCartneyBlood_2018_Education.csv\n",
      "HannumBlood_2013.csv\t\t McCartneyBlood_2018_HDL.csv\n",
      "HannumBreast_2013.csv\t\t McCartneyBlood_2018_LDL.csv\n",
      "HannumKidney_2013.csv\t\t McCartneyBlood_2018_Smoking.csv\n",
      "HannumLung_2013.csv\t\t McCartneyBlood_2018_TC.csv\n",
      "HorvathMultiShrunken_2013.csv\t McCartneyBlood_2018_TotalFat.csv\n",
      "HorvathMulti_2013.csv\t\t McCartneyBlood_2018_WaistTipRatio.csv\n",
      "KnightBlood_2016.csv\t\t PhenoAge.csv\n",
      "LinBlood3CpG_2016.csv\t\t YingAdaptAge.csv\n",
      "LinBlood99CpG_2016.csv\t\t YingCausAge.csv\n",
      "McCartneyBlood_2018_Alcohol.csv  YingDamAge.csv\n"
     ]
    }
   ],
   "source": [
    "!ls ../models_library/raw_models/"
   ]
  },
  {
   "cell_type": "code",
   "execution_count": 1,
   "metadata": {},
   "outputs": [],
   "source": [
    "import numpy as np\n",
    "import pandas as pd \n"
   ]
  },
  {
   "cell_type": "code",
   "execution_count": 2,
   "metadata": {},
   "outputs": [],
   "source": [
    "import sys\n",
    "import os\n",
    "\n",
    "\n",
    "data_library = os.path.abspath('../data_library')\n",
    "sys.path.append(data_library)\n",
    "\n",
    "from data_repository import import_data\n",
    "\n",
    "\n"
   ]
  },
  {
   "cell_type": "code",
   "execution_count": 3,
   "metadata": {},
   "outputs": [
    {
     "name": "stdout",
     "output_type": "stream",
     "text": [
      "__init__.py  __pycache__  data_repository.py  data_test.csv\n"
     ]
    }
   ],
   "source": [
    "! ls ../data_library/"
   ]
  },
  {
   "cell_type": "code",
   "execution_count": 4,
   "metadata": {},
   "outputs": [
    {
     "name": "stdout",
     "output_type": "stream",
     "text": [
      "485579 30\n"
     ]
    }
   ],
   "source": [
    "SAMPLE_ID = 'GSE41169_series_matrix.txt'\n",
    "URL = 'https://drive.google.com/file/d/1cZca-FHnfeUerXJOzqhnH34mUYjNOgba/view?usp=sharing'\n",
    "data_test = import_data(SAMPLE_ID, URL)\n"
   ]
  },
  {
   "cell_type": "code",
   "execution_count": 7,
   "metadata": {},
   "outputs": [],
   "source": [
    "model_filepath = '../models_library/raw_models/HannumLung_2013.csv'\n",
    "\n",
    "model_data = pd.read_csv(model_filepath)\n",
    "features = model_data[['Feature_ID']]\n",
    "coefficients = model_data[['Coef']]\n"
   ]
  },
  {
   "cell_type": "code",
   "execution_count": 5,
   "metadata": {},
   "outputs": [
    {
     "data": {
      "text/html": [
       "<div>\n",
       "<style scoped>\n",
       "    .dataframe tbody tr th:only-of-type {\n",
       "        vertical-align: middle;\n",
       "    }\n",
       "\n",
       "    .dataframe tbody tr th {\n",
       "        vertical-align: top;\n",
       "    }\n",
       "\n",
       "    .dataframe thead th {\n",
       "        text-align: right;\n",
       "    }\n",
       "</style>\n",
       "<table border=\"1\" class=\"dataframe\">\n",
       "  <thead>\n",
       "    <tr style=\"text-align: right;\">\n",
       "      <th></th>\n",
       "      <th>ID_REF</th>\n",
       "      <th>GSM1009660</th>\n",
       "      <th>GSM1009661</th>\n",
       "      <th>GSM1009662</th>\n",
       "      <th>GSM1009663</th>\n",
       "      <th>GSM1009664</th>\n",
       "      <th>GSM1009665</th>\n",
       "      <th>GSM1009666</th>\n",
       "      <th>GSM1009667</th>\n",
       "      <th>GSM1009668</th>\n",
       "      <th>...</th>\n",
       "      <th>GSM1009679</th>\n",
       "      <th>GSM1009680</th>\n",
       "      <th>GSM1009681</th>\n",
       "      <th>GSM1009682</th>\n",
       "      <th>GSM1009683</th>\n",
       "      <th>GSM1009684</th>\n",
       "      <th>GSM1009685</th>\n",
       "      <th>GSM1009686</th>\n",
       "      <th>GSM1009687</th>\n",
       "      <th>GSM1009688</th>\n",
       "    </tr>\n",
       "  </thead>\n",
       "  <tbody>\n",
       "    <tr>\n",
       "      <th>0</th>\n",
       "      <td>cg00000029</td>\n",
       "      <td>0.454931</td>\n",
       "      <td>0.410287</td>\n",
       "      <td>0.375603</td>\n",
       "      <td>0.487200</td>\n",
       "      <td>0.380866</td>\n",
       "      <td>0.319248</td>\n",
       "      <td>0.364079</td>\n",
       "      <td>0.419343</td>\n",
       "      <td>0.423544</td>\n",
       "      <td>...</td>\n",
       "      <td>0.428755</td>\n",
       "      <td>0.210384</td>\n",
       "      <td>0.449569</td>\n",
       "      <td>0.400480</td>\n",
       "      <td>0.435775</td>\n",
       "      <td>0.338569</td>\n",
       "      <td>0.396737</td>\n",
       "      <td>0.356990</td>\n",
       "      <td>0.462454</td>\n",
       "      <td>0.429430</td>\n",
       "    </tr>\n",
       "    <tr>\n",
       "      <th>1</th>\n",
       "      <td>cg00000108</td>\n",
       "      <td>0.907883</td>\n",
       "      <td>0.915894</td>\n",
       "      <td>0.939018</td>\n",
       "      <td>0.933975</td>\n",
       "      <td>0.939008</td>\n",
       "      <td>0.951529</td>\n",
       "      <td>0.924580</td>\n",
       "      <td>0.915472</td>\n",
       "      <td>0.934989</td>\n",
       "      <td>...</td>\n",
       "      <td>0.935265</td>\n",
       "      <td>0.924555</td>\n",
       "      <td>0.955041</td>\n",
       "      <td>0.928616</td>\n",
       "      <td>0.937925</td>\n",
       "      <td>0.941029</td>\n",
       "      <td>0.940394</td>\n",
       "      <td>0.937423</td>\n",
       "      <td>0.932180</td>\n",
       "      <td>0.925551</td>\n",
       "    </tr>\n",
       "    <tr>\n",
       "      <th>2</th>\n",
       "      <td>cg00000109</td>\n",
       "      <td>0.862772</td>\n",
       "      <td>0.881000</td>\n",
       "      <td>0.889573</td>\n",
       "      <td>0.852267</td>\n",
       "      <td>0.844250</td>\n",
       "      <td>0.863024</td>\n",
       "      <td>0.909848</td>\n",
       "      <td>0.826795</td>\n",
       "      <td>0.910052</td>\n",
       "      <td>...</td>\n",
       "      <td>0.887857</td>\n",
       "      <td>0.766215</td>\n",
       "      <td>0.880007</td>\n",
       "      <td>0.871054</td>\n",
       "      <td>0.860864</td>\n",
       "      <td>0.880107</td>\n",
       "      <td>0.822451</td>\n",
       "      <td>0.888035</td>\n",
       "      <td>0.890643</td>\n",
       "      <td>0.889616</td>\n",
       "    </tr>\n",
       "    <tr>\n",
       "      <th>3</th>\n",
       "      <td>cg00000165</td>\n",
       "      <td>0.160446</td>\n",
       "      <td>0.137600</td>\n",
       "      <td>0.188573</td>\n",
       "      <td>0.112618</td>\n",
       "      <td>0.119975</td>\n",
       "      <td>0.131921</td>\n",
       "      <td>0.108218</td>\n",
       "      <td>0.132647</td>\n",
       "      <td>0.165771</td>\n",
       "      <td>...</td>\n",
       "      <td>0.159710</td>\n",
       "      <td>0.120410</td>\n",
       "      <td>0.146467</td>\n",
       "      <td>0.132461</td>\n",
       "      <td>0.131419</td>\n",
       "      <td>0.102774</td>\n",
       "      <td>0.121714</td>\n",
       "      <td>0.129066</td>\n",
       "      <td>0.129448</td>\n",
       "      <td>0.155817</td>\n",
       "    </tr>\n",
       "    <tr>\n",
       "      <th>4</th>\n",
       "      <td>cg00000236</td>\n",
       "      <td>0.728180</td>\n",
       "      <td>0.736708</td>\n",
       "      <td>0.601186</td>\n",
       "      <td>0.659397</td>\n",
       "      <td>0.669548</td>\n",
       "      <td>0.632081</td>\n",
       "      <td>0.660207</td>\n",
       "      <td>0.693360</td>\n",
       "      <td>0.712032</td>\n",
       "      <td>...</td>\n",
       "      <td>0.744013</td>\n",
       "      <td>0.671896</td>\n",
       "      <td>0.691565</td>\n",
       "      <td>0.691004</td>\n",
       "      <td>0.685555</td>\n",
       "      <td>0.646149</td>\n",
       "      <td>0.645442</td>\n",
       "      <td>0.721664</td>\n",
       "      <td>0.674724</td>\n",
       "      <td>0.724572</td>\n",
       "    </tr>\n",
       "    <tr>\n",
       "      <th>...</th>\n",
       "      <td>...</td>\n",
       "      <td>...</td>\n",
       "      <td>...</td>\n",
       "      <td>...</td>\n",
       "      <td>...</td>\n",
       "      <td>...</td>\n",
       "      <td>...</td>\n",
       "      <td>...</td>\n",
       "      <td>...</td>\n",
       "      <td>...</td>\n",
       "      <td>...</td>\n",
       "      <td>...</td>\n",
       "      <td>...</td>\n",
       "      <td>...</td>\n",
       "      <td>...</td>\n",
       "      <td>...</td>\n",
       "      <td>...</td>\n",
       "      <td>...</td>\n",
       "      <td>...</td>\n",
       "      <td>...</td>\n",
       "      <td>...</td>\n",
       "    </tr>\n",
       "    <tr>\n",
       "      <th>485572</th>\n",
       "      <td>rs9363764</td>\n",
       "      <td>0.530962</td>\n",
       "      <td>0.945385</td>\n",
       "      <td>0.962389</td>\n",
       "      <td>0.503054</td>\n",
       "      <td>0.509715</td>\n",
       "      <td>0.945157</td>\n",
       "      <td>0.536737</td>\n",
       "      <td>0.044024</td>\n",
       "      <td>0.954359</td>\n",
       "      <td>...</td>\n",
       "      <td>0.953008</td>\n",
       "      <td>0.101359</td>\n",
       "      <td>0.479536</td>\n",
       "      <td>0.956382</td>\n",
       "      <td>0.045505</td>\n",
       "      <td>0.944528</td>\n",
       "      <td>0.510115</td>\n",
       "      <td>0.538455</td>\n",
       "      <td>0.513300</td>\n",
       "      <td>0.506395</td>\n",
       "    </tr>\n",
       "    <tr>\n",
       "      <th>485573</th>\n",
       "      <td>rs939290</td>\n",
       "      <td>0.507332</td>\n",
       "      <td>0.472005</td>\n",
       "      <td>0.507533</td>\n",
       "      <td>0.974193</td>\n",
       "      <td>0.963453</td>\n",
       "      <td>0.534800</td>\n",
       "      <td>0.969639</td>\n",
       "      <td>0.494921</td>\n",
       "      <td>0.965082</td>\n",
       "      <td>...</td>\n",
       "      <td>0.973186</td>\n",
       "      <td>0.963486</td>\n",
       "      <td>0.020040</td>\n",
       "      <td>0.026232</td>\n",
       "      <td>0.022622</td>\n",
       "      <td>0.498687</td>\n",
       "      <td>0.505080</td>\n",
       "      <td>0.973046</td>\n",
       "      <td>0.483865</td>\n",
       "      <td>0.966675</td>\n",
       "    </tr>\n",
       "    <tr>\n",
       "      <th>485574</th>\n",
       "      <td>rs951295</td>\n",
       "      <td>0.040520</td>\n",
       "      <td>0.039885</td>\n",
       "      <td>0.040025</td>\n",
       "      <td>0.549087</td>\n",
       "      <td>0.540715</td>\n",
       "      <td>0.939570</td>\n",
       "      <td>0.532317</td>\n",
       "      <td>0.522733</td>\n",
       "      <td>0.534477</td>\n",
       "      <td>...</td>\n",
       "      <td>0.534097</td>\n",
       "      <td>0.509521</td>\n",
       "      <td>0.536320</td>\n",
       "      <td>0.955842</td>\n",
       "      <td>0.537719</td>\n",
       "      <td>0.044697</td>\n",
       "      <td>0.963377</td>\n",
       "      <td>0.532193</td>\n",
       "      <td>0.040547</td>\n",
       "      <td>0.036465</td>\n",
       "    </tr>\n",
       "    <tr>\n",
       "      <th>485575</th>\n",
       "      <td>rs966367</td>\n",
       "      <td>0.923563</td>\n",
       "      <td>0.032825</td>\n",
       "      <td>0.477915</td>\n",
       "      <td>0.945543</td>\n",
       "      <td>0.449110</td>\n",
       "      <td>0.492202</td>\n",
       "      <td>0.478855</td>\n",
       "      <td>0.446961</td>\n",
       "      <td>0.443287</td>\n",
       "      <td>...</td>\n",
       "      <td>0.951256</td>\n",
       "      <td>0.049607</td>\n",
       "      <td>0.952887</td>\n",
       "      <td>0.476839</td>\n",
       "      <td>0.935937</td>\n",
       "      <td>0.460778</td>\n",
       "      <td>0.032539</td>\n",
       "      <td>0.498351</td>\n",
       "      <td>0.441584</td>\n",
       "      <td>0.467843</td>\n",
       "    </tr>\n",
       "    <tr>\n",
       "      <th>485576</th>\n",
       "      <td>rs9839873</td>\n",
       "      <td>0.957542</td>\n",
       "      <td>0.946218</td>\n",
       "      <td>0.953063</td>\n",
       "      <td>0.965296</td>\n",
       "      <td>0.952256</td>\n",
       "      <td>0.955124</td>\n",
       "      <td>0.963843</td>\n",
       "      <td>0.545342</td>\n",
       "      <td>0.951037</td>\n",
       "      <td>...</td>\n",
       "      <td>0.974480</td>\n",
       "      <td>0.852730</td>\n",
       "      <td>0.972530</td>\n",
       "      <td>0.560841</td>\n",
       "      <td>0.041672</td>\n",
       "      <td>0.567387</td>\n",
       "      <td>0.944412</td>\n",
       "      <td>0.966149</td>\n",
       "      <td>0.957415</td>\n",
       "      <td>0.949605</td>\n",
       "    </tr>\n",
       "  </tbody>\n",
       "</table>\n",
       "<p>485577 rows × 30 columns</p>\n",
       "</div>"
      ],
      "text/plain": [
       "0           ID_REF  GSM1009660  GSM1009661  GSM1009662  GSM1009663  \\\n",
       "0       cg00000029    0.454931    0.410287    0.375603    0.487200   \n",
       "1       cg00000108    0.907883    0.915894    0.939018    0.933975   \n",
       "2       cg00000109    0.862772    0.881000    0.889573    0.852267   \n",
       "3       cg00000165    0.160446    0.137600    0.188573    0.112618   \n",
       "4       cg00000236    0.728180    0.736708    0.601186    0.659397   \n",
       "...            ...         ...         ...         ...         ...   \n",
       "485572   rs9363764    0.530962    0.945385    0.962389    0.503054   \n",
       "485573    rs939290    0.507332    0.472005    0.507533    0.974193   \n",
       "485574    rs951295    0.040520    0.039885    0.040025    0.549087   \n",
       "485575    rs966367    0.923563    0.032825    0.477915    0.945543   \n",
       "485576   rs9839873    0.957542    0.946218    0.953063    0.965296   \n",
       "\n",
       "0       GSM1009664  GSM1009665  GSM1009666  GSM1009667  GSM1009668  ...  \\\n",
       "0         0.380866    0.319248    0.364079    0.419343    0.423544  ...   \n",
       "1         0.939008    0.951529    0.924580    0.915472    0.934989  ...   \n",
       "2         0.844250    0.863024    0.909848    0.826795    0.910052  ...   \n",
       "3         0.119975    0.131921    0.108218    0.132647    0.165771  ...   \n",
       "4         0.669548    0.632081    0.660207    0.693360    0.712032  ...   \n",
       "...            ...         ...         ...         ...         ...  ...   \n",
       "485572    0.509715    0.945157    0.536737    0.044024    0.954359  ...   \n",
       "485573    0.963453    0.534800    0.969639    0.494921    0.965082  ...   \n",
       "485574    0.540715    0.939570    0.532317    0.522733    0.534477  ...   \n",
       "485575    0.449110    0.492202    0.478855    0.446961    0.443287  ...   \n",
       "485576    0.952256    0.955124    0.963843    0.545342    0.951037  ...   \n",
       "\n",
       "0       GSM1009679  GSM1009680  GSM1009681  GSM1009682  GSM1009683  \\\n",
       "0         0.428755    0.210384    0.449569    0.400480    0.435775   \n",
       "1         0.935265    0.924555    0.955041    0.928616    0.937925   \n",
       "2         0.887857    0.766215    0.880007    0.871054    0.860864   \n",
       "3         0.159710    0.120410    0.146467    0.132461    0.131419   \n",
       "4         0.744013    0.671896    0.691565    0.691004    0.685555   \n",
       "...            ...         ...         ...         ...         ...   \n",
       "485572    0.953008    0.101359    0.479536    0.956382    0.045505   \n",
       "485573    0.973186    0.963486    0.020040    0.026232    0.022622   \n",
       "485574    0.534097    0.509521    0.536320    0.955842    0.537719   \n",
       "485575    0.951256    0.049607    0.952887    0.476839    0.935937   \n",
       "485576    0.974480    0.852730    0.972530    0.560841    0.041672   \n",
       "\n",
       "0       GSM1009684  GSM1009685  GSM1009686  GSM1009687  GSM1009688  \n",
       "0         0.338569    0.396737    0.356990    0.462454    0.429430  \n",
       "1         0.941029    0.940394    0.937423    0.932180    0.925551  \n",
       "2         0.880107    0.822451    0.888035    0.890643    0.889616  \n",
       "3         0.102774    0.121714    0.129066    0.129448    0.155817  \n",
       "4         0.646149    0.645442    0.721664    0.674724    0.724572  \n",
       "...            ...         ...         ...         ...         ...  \n",
       "485572    0.944528    0.510115    0.538455    0.513300    0.506395  \n",
       "485573    0.498687    0.505080    0.973046    0.483865    0.966675  \n",
       "485574    0.044697    0.963377    0.532193    0.040547    0.036465  \n",
       "485575    0.460778    0.032539    0.498351    0.441584    0.467843  \n",
       "485576    0.567387    0.944412    0.966149    0.957415    0.949605  \n",
       "\n",
       "[485577 rows x 30 columns]"
      ]
     },
     "execution_count": 5,
     "metadata": {},
     "output_type": "execute_result"
    }
   ],
   "source": [
    "data_test"
   ]
  },
  {
   "cell_type": "code",
   "execution_count": 28,
   "metadata": {},
   "outputs": [],
   "source": [
    "df = data_test.copy()\n",
    "df.columns = df.iloc[0]\n",
    "df.columns = df.columns.str.replace('\"', '')\n",
    "df = df[1:]\n",
    "df = df.reset_index(drop=True)\n",
    "df.ID_REF = df.ID_REF.str.replace('\"', '')\n"
   ]
  },
  {
   "cell_type": "code",
   "execution_count": 38,
   "metadata": {},
   "outputs": [],
   "source": [
    "samples = list(df.columns)[1:]"
   ]
  },
  {
   "cell_type": "code",
   "execution_count": 42,
   "metadata": {},
   "outputs": [],
   "source": [
    "df[samples] = df[samples].apply(pd.to_numeric)"
   ]
  },
  {
   "cell_type": "code",
   "execution_count": 43,
   "metadata": {},
   "outputs": [
    {
     "name": "stdout",
     "output_type": "stream",
     "text": [
      "<class 'pandas.core.frame.DataFrame'>\n",
      "RangeIndex: 485577 entries, 0 to 485576\n",
      "Data columns (total 3 columns):\n",
      " #   Column      Non-Null Count   Dtype  \n",
      "---  ------      --------------   -----  \n",
      " 0   ID_REF      485577 non-null  object \n",
      " 1   GSM1009660  485577 non-null  float64\n",
      " 2   GSM1009661  485577 non-null  float64\n",
      "dtypes: float64(2), object(1)\n",
      "memory usage: 11.1+ MB\n"
     ]
    }
   ],
   "source": [
    "df.info()"
   ]
  },
  {
   "cell_type": "code",
   "execution_count": 44,
   "metadata": {},
   "outputs": [],
   "source": [
    "df_merged = df.merge(model_data, left_on='ID_REF', right_on='Feature_ID', how='right')"
   ]
  },
  {
   "cell_type": "code",
   "execution_count": 45,
   "metadata": {},
   "outputs": [
    {
     "name": "stdout",
     "output_type": "stream",
     "text": [
      "<class 'pandas.core.frame.DataFrame'>\n",
      "RangeIndex: 14 entries, 0 to 13\n",
      "Data columns (total 6 columns):\n",
      " #   Column      Non-Null Count  Dtype  \n",
      "---  ------      --------------  -----  \n",
      " 0   ID_REF      14 non-null     object \n",
      " 1   GSM1009660  14 non-null     float64\n",
      " 2   GSM1009661  14 non-null     float64\n",
      " 3   Feature_ID  14 non-null     object \n",
      " 4   Coef        14 non-null     float64\n",
      " 5   Coord_hg19  14 non-null     object \n",
      "dtypes: float64(3), object(3)\n",
      "memory usage: 804.0+ bytes\n"
     ]
    }
   ],
   "source": [
    "df_merged.info()"
   ]
  },
  {
   "cell_type": "code",
   "execution_count": 49,
   "metadata": {},
   "outputs": [],
   "source": [
    "vectors = np.array(df_merged[samples].to_numpy())"
   ]
  },
  {
   "cell_type": "code",
   "execution_count": 71,
   "metadata": {},
   "outputs": [
    {
     "data": {
      "text/html": [
       "<div>\n",
       "<style scoped>\n",
       "    .dataframe tbody tr th:only-of-type {\n",
       "        vertical-align: middle;\n",
       "    }\n",
       "\n",
       "    .dataframe tbody tr th {\n",
       "        vertical-align: top;\n",
       "    }\n",
       "\n",
       "    .dataframe thead th {\n",
       "        text-align: right;\n",
       "    }\n",
       "</style>\n",
       "<table border=\"1\" class=\"dataframe\">\n",
       "  <thead>\n",
       "    <tr style=\"text-align: right;\">\n",
       "      <th></th>\n",
       "      <th>Coef</th>\n",
       "    </tr>\n",
       "  </thead>\n",
       "  <tbody>\n",
       "    <tr>\n",
       "      <th>0</th>\n",
       "      <td>-3.440</td>\n",
       "    </tr>\n",
       "    <tr>\n",
       "      <th>1</th>\n",
       "      <td>-22.800</td>\n",
       "    </tr>\n",
       "    <tr>\n",
       "      <th>2</th>\n",
       "      <td>48.800</td>\n",
       "    </tr>\n",
       "    <tr>\n",
       "      <th>3</th>\n",
       "      <td>8.500</td>\n",
       "    </tr>\n",
       "    <tr>\n",
       "      <th>4</th>\n",
       "      <td>3.950</td>\n",
       "    </tr>\n",
       "    <tr>\n",
       "      <th>5</th>\n",
       "      <td>40.300</td>\n",
       "    </tr>\n",
       "    <tr>\n",
       "      <th>6</th>\n",
       "      <td>-63.500</td>\n",
       "    </tr>\n",
       "    <tr>\n",
       "      <th>7</th>\n",
       "      <td>22.700</td>\n",
       "    </tr>\n",
       "    <tr>\n",
       "      <th>8</th>\n",
       "      <td>-0.885</td>\n",
       "    </tr>\n",
       "    <tr>\n",
       "      <th>9</th>\n",
       "      <td>24.800</td>\n",
       "    </tr>\n",
       "    <tr>\n",
       "      <th>10</th>\n",
       "      <td>-0.863</td>\n",
       "    </tr>\n",
       "    <tr>\n",
       "      <th>11</th>\n",
       "      <td>50.900</td>\n",
       "    </tr>\n",
       "    <tr>\n",
       "      <th>12</th>\n",
       "      <td>-3.750</td>\n",
       "    </tr>\n",
       "    <tr>\n",
       "      <th>13</th>\n",
       "      <td>44.000</td>\n",
       "    </tr>\n",
       "  </tbody>\n",
       "</table>\n",
       "</div>"
      ],
      "text/plain": [
       "      Coef\n",
       "0   -3.440\n",
       "1  -22.800\n",
       "2   48.800\n",
       "3    8.500\n",
       "4    3.950\n",
       "5   40.300\n",
       "6  -63.500\n",
       "7   22.700\n",
       "8   -0.885\n",
       "9   24.800\n",
       "10  -0.863\n",
       "11  50.900\n",
       "12  -3.750\n",
       "13  44.000"
      ]
     },
     "execution_count": 71,
     "metadata": {},
     "output_type": "execute_result"
    }
   ],
   "source": [
    "coefficients"
   ]
  },
  {
   "cell_type": "code",
   "execution_count": 65,
   "metadata": {},
   "outputs": [],
   "source": [
    "features_array = np.array(coefficients)"
   ]
  },
  {
   "cell_type": "code",
   "execution_count": 55,
   "metadata": {},
   "outputs": [
    {
     "data": {
      "text/plain": [
       "(14, 2)"
      ]
     },
     "execution_count": 55,
     "metadata": {},
     "output_type": "execute_result"
    }
   ],
   "source": [
    "vectors.shape"
   ]
  },
  {
   "cell_type": "code",
   "execution_count": 60,
   "metadata": {},
   "outputs": [
    {
     "data": {
      "text/plain": [
       "array([0.09197747, 0.3159195 , 0.5040356 , 0.05984634, 0.1030878 ,\n",
       "       0.01129568, 0.7679211 , 0.07017164, 0.04656127, 0.01154639,\n",
       "       0.05297833, 0.158752  , 0.2492757 , 0.03991627])"
      ]
     },
     "execution_count": 60,
     "metadata": {},
     "output_type": "execute_result"
    }
   ],
   "source": [
    "vectors[:, 0]"
   ]
  },
  {
   "cell_type": "code",
   "execution_count": 58,
   "metadata": {},
   "outputs": [
    {
     "data": {
      "text/plain": [
       "array([[0.09197747, 0.3159195 , 0.5040356 , 0.05984634, 0.1030878 ,\n",
       "        0.01129568, 0.7679211 , 0.07017164, 0.04656127, 0.01154639,\n",
       "        0.05297833, 0.158752  , 0.2492757 , 0.03991627],\n",
       "       [0.06034835, 0.2680101 , 0.4410885 , 0.05883182, 0.07369265,\n",
       "        0.00422823, 0.9013712 , 0.04339134, 0.02392316, 0.00620221,\n",
       "        0.03814023, 0.1065092 , 0.1649368 , 0.02257136]])"
      ]
     },
     "execution_count": 58,
     "metadata": {},
     "output_type": "execute_result"
    }
   ],
   "source": [
    "vectors.transpose()"
   ]
  },
  {
   "cell_type": "code",
   "execution_count": 68,
   "metadata": {},
   "outputs": [
    {
     "data": {
      "text/plain": [
       "array([[ -3.44 , -22.8  ,  48.8  ,   8.5  ,   3.95 ,  40.3  , -63.5  ,\n",
       "         22.7  ,  -0.885,  24.8  ,  -0.863,  50.9  ,  -3.75 ,  44.   ]])"
      ]
     },
     "execution_count": 68,
     "metadata": {},
     "output_type": "execute_result"
    }
   ],
   "source": [
    "features_array.transpose()"
   ]
  },
  {
   "cell_type": "code",
   "execution_count": 61,
   "metadata": {},
   "outputs": [
    {
     "data": {
      "text/plain": [
       "array([[0.09197747, 0.06034835],\n",
       "       [0.3159195 , 0.2680101 ],\n",
       "       [0.5040356 , 0.4410885 ],\n",
       "       [0.05984634, 0.05883182],\n",
       "       [0.1030878 , 0.07369265],\n",
       "       [0.01129568, 0.00422823],\n",
       "       [0.7679211 , 0.9013712 ],\n",
       "       [0.07017164, 0.04339134],\n",
       "       [0.04656127, 0.02392316],\n",
       "       [0.01154639, 0.00620221],\n",
       "       [0.05297833, 0.03814023],\n",
       "       [0.158752  , 0.1065092 ],\n",
       "       [0.2492757 , 0.1649368 ],\n",
       "       [0.03991627, 0.02257136]])"
      ]
     },
     "execution_count": 61,
     "metadata": {},
     "output_type": "execute_result"
    }
   ],
   "source": [
    "vectors"
   ]
  },
  {
   "cell_type": "code",
   "execution_count": 113,
   "metadata": {},
   "outputs": [],
   "source": [
    "prediction = np.matmul( features_array.transpose(), vectors)"
   ]
  },
  {
   "cell_type": "code",
   "execution_count": 86,
   "metadata": {},
   "outputs": [
    {
     "data": {
      "text/plain": [
       "(2,)"
      ]
     },
     "execution_count": 86,
     "metadata": {},
     "output_type": "execute_result"
    }
   ],
   "source": [
    "np.array(samples).shape"
   ]
  },
  {
   "cell_type": "code",
   "execution_count": 89,
   "metadata": {},
   "outputs": [
    {
     "data": {
      "text/plain": [
       "{'GSM1009660': array([-19.61998458, -34.18797063])}"
      ]
     },
     "execution_count": 89,
     "metadata": {},
     "output_type": "execute_result"
    }
   ],
   "source": [
    "dict(zip(samples, list(prediction)))"
   ]
  },
  {
   "cell_type": "code",
   "execution_count": 102,
   "metadata": {},
   "outputs": [
    {
     "name": "stdout",
     "output_type": "stream",
     "text": [
      "GSM1009660\n",
      "-19.619984580540006\n",
      "GSM1009661\n",
      "-34.187970631690014\n"
     ]
    }
   ],
   "source": [
    "for a, b in zip(samples, np.transpose(prediction)):\n",
    "    print(a)\n",
    "    l = b.item()\n",
    "    print(l)"
   ]
  },
  {
   "cell_type": "code",
   "execution_count": 82,
   "metadata": {},
   "outputs": [
    {
     "data": {
      "text/plain": [
       "{'GSM1009660': array([-19.61998458, -34.18797063])}"
      ]
     },
     "execution_count": 82,
     "metadata": {},
     "output_type": "execute_result"
    }
   ],
   "source": [
    "{A: B for A, B in zip(np.array(samples), prediction)}"
   ]
  },
  {
   "cell_type": "code",
   "execution_count": 108,
   "metadata": {},
   "outputs": [
    {
     "data": {
      "text/html": [
       "<div>\n",
       "<style scoped>\n",
       "    .dataframe tbody tr th:only-of-type {\n",
       "        vertical-align: middle;\n",
       "    }\n",
       "\n",
       "    .dataframe tbody tr th {\n",
       "        vertical-align: top;\n",
       "    }\n",
       "\n",
       "    .dataframe thead th {\n",
       "        text-align: right;\n",
       "    }\n",
       "</style>\n",
       "<table border=\"1\" class=\"dataframe\">\n",
       "  <thead>\n",
       "    <tr style=\"text-align: right;\">\n",
       "      <th></th>\n",
       "      <th>prediction</th>\n",
       "    </tr>\n",
       "  </thead>\n",
       "  <tbody>\n",
       "    <tr>\n",
       "      <th>GSM1009660</th>\n",
       "      <td>-19.619985</td>\n",
       "    </tr>\n",
       "    <tr>\n",
       "      <th>GSM1009661</th>\n",
       "      <td>-34.187971</td>\n",
       "    </tr>\n",
       "  </tbody>\n",
       "</table>\n",
       "</div>"
      ],
      "text/plain": [
       "            prediction\n",
       "GSM1009660  -19.619985\n",
       "GSM1009661  -34.187971"
      ]
     },
     "execution_count": 108,
     "metadata": {},
     "output_type": "execute_result"
    }
   ],
   "source": [
    "pred_dict = {}\n",
    "for a, b in zip(samples, np.transpose(prediction)):\n",
    "    pred_dict.update({a:b.item()})\n",
    "\n",
    "pd.DataFrame.from_dict(pred_dict, orient='index', columns = ['prediction'])\n"
   ]
  },
  {
   "cell_type": "code",
   "execution_count": 114,
   "metadata": {},
   "outputs": [
    {
     "data": {
      "text/html": [
       "<div>\n",
       "<style scoped>\n",
       "    .dataframe tbody tr th:only-of-type {\n",
       "        vertical-align: middle;\n",
       "    }\n",
       "\n",
       "    .dataframe tbody tr th {\n",
       "        vertical-align: top;\n",
       "    }\n",
       "\n",
       "    .dataframe thead th {\n",
       "        text-align: right;\n",
       "    }\n",
       "</style>\n",
       "<table border=\"1\" class=\"dataframe\">\n",
       "  <thead>\n",
       "    <tr style=\"text-align: right;\">\n",
       "      <th></th>\n",
       "      <th>sample</th>\n",
       "      <th>predictions</th>\n",
       "    </tr>\n",
       "  </thead>\n",
       "  <tbody>\n",
       "    <tr>\n",
       "      <th>0</th>\n",
       "      <td>GSM1009660</td>\n",
       "      <td>-19.619985</td>\n",
       "    </tr>\n",
       "    <tr>\n",
       "      <th>1</th>\n",
       "      <td>GSM1009661</td>\n",
       "      <td>-34.187971</td>\n",
       "    </tr>\n",
       "  </tbody>\n",
       "</table>\n",
       "</div>"
      ],
      "text/plain": [
       "       sample  predictions\n",
       "0  GSM1009660   -19.619985\n",
       "1  GSM1009661   -34.187971"
      ]
     },
     "execution_count": 114,
     "metadata": {},
     "output_type": "execute_result"
    }
   ],
   "source": [
    "pd_prediction = pd.DataFrame()\n",
    "pd_prediction['sample'] = samples\n",
    "pd_prediction['predictions'] = prediction.transpose()\n",
    "\n",
    "pd_prediction"
   ]
  },
  {
   "cell_type": "code",
   "execution_count": 122,
   "metadata": {},
   "outputs": [],
   "source": [
    "df.to_csv('../data_library/data_test.csv', sep='\\t', index=False)"
   ]
  },
  {
   "cell_type": "code",
   "execution_count": 5,
   "metadata": {},
   "outputs": [],
   "source": [
    "df = pd.read_csv('../data_library/data_test.csv', sep = '\\t')"
   ]
  },
  {
   "cell_type": "code",
   "execution_count": 7,
   "metadata": {},
   "outputs": [
    {
     "data": {
      "text/html": [
       "<div>\n",
       "<style scoped>\n",
       "    .dataframe tbody tr th:only-of-type {\n",
       "        vertical-align: middle;\n",
       "    }\n",
       "\n",
       "    .dataframe tbody tr th {\n",
       "        vertical-align: top;\n",
       "    }\n",
       "\n",
       "    .dataframe thead th {\n",
       "        text-align: right;\n",
       "    }\n",
       "</style>\n",
       "<table border=\"1\" class=\"dataframe\">\n",
       "  <thead>\n",
       "    <tr style=\"text-align: right;\">\n",
       "      <th></th>\n",
       "      <th>ID_REF</th>\n",
       "      <th>GSM1009660</th>\n",
       "      <th>GSM1009661</th>\n",
       "    </tr>\n",
       "  </thead>\n",
       "  <tbody>\n",
       "    <tr>\n",
       "      <th>0</th>\n",
       "      <td>cg00000029</td>\n",
       "      <td>0.454931</td>\n",
       "      <td>0.410287</td>\n",
       "    </tr>\n",
       "    <tr>\n",
       "      <th>1</th>\n",
       "      <td>cg00000108</td>\n",
       "      <td>0.907883</td>\n",
       "      <td>0.915894</td>\n",
       "    </tr>\n",
       "    <tr>\n",
       "      <th>2</th>\n",
       "      <td>cg00000109</td>\n",
       "      <td>0.862772</td>\n",
       "      <td>0.881000</td>\n",
       "    </tr>\n",
       "    <tr>\n",
       "      <th>3</th>\n",
       "      <td>cg00000165</td>\n",
       "      <td>0.160446</td>\n",
       "      <td>0.137600</td>\n",
       "    </tr>\n",
       "    <tr>\n",
       "      <th>4</th>\n",
       "      <td>cg00000236</td>\n",
       "      <td>0.728180</td>\n",
       "      <td>0.736708</td>\n",
       "    </tr>\n",
       "  </tbody>\n",
       "</table>\n",
       "</div>"
      ],
      "text/plain": [
       "       ID_REF  GSM1009660  GSM1009661\n",
       "0  cg00000029    0.454931    0.410287\n",
       "1  cg00000108    0.907883    0.915894\n",
       "2  cg00000109    0.862772    0.881000\n",
       "3  cg00000165    0.160446    0.137600\n",
       "4  cg00000236    0.728180    0.736708"
      ]
     },
     "execution_count": 7,
     "metadata": {},
     "output_type": "execute_result"
    }
   ],
   "source": [
    "df.head()"
   ]
  },
  {
   "cell_type": "markdown",
   "metadata": {},
   "source": [
    "## PART, that may become an example "
   ]
  },
  {
   "cell_type": "code",
   "execution_count": 1,
   "metadata": {},
   "outputs": [],
   "source": [
    "import sys\n",
    "import os\n",
    "\n",
    "import numpy as np\n",
    "import pandas as pd \n",
    "\n",
    "data_library = os.path.abspath('../data_library')\n",
    "sys.path.append(data_library)\n",
    "\n",
    "from data_repository import import_data\n",
    "from base import LinearMethylationModel\n"
   ]
  },
  {
   "cell_type": "code",
   "execution_count": 2,
   "metadata": {},
   "outputs": [],
   "source": [
    "#SAMPLE_ID = 'GSE41169_series_matrix.txt'\n",
    "#URL = 'https://drive.google.com/file/d/1cZca-FHnfeUerXJOzqhnH34mUYjNOgba/view?usp=sharing'\n",
    "#data_test = import_data(SAMPLE_ID, URL)\n",
    "#df = data_test.copy()\n",
    "#df.to_csv('../data_library/data_test1.csv', sep='\\t', index=False)\n",
    "df = pd.read_csv('../data_library/data_test1.csv', sep='\\t')"
   ]
  },
  {
   "cell_type": "code",
   "execution_count": 4,
   "metadata": {},
   "outputs": [],
   "source": [
    "model_filepath = '../models_library/raw_models/HannumLung_2013.csv'\n",
    "hannum_blood = '../models_library/raw_models/HannumBlood_2013.csv'"
   ]
  },
  {
   "cell_type": "code",
   "execution_count": 5,
   "metadata": {},
   "outputs": [
    {
     "data": {
      "text/html": [
       "<div>\n",
       "<style scoped>\n",
       "    .dataframe tbody tr th:only-of-type {\n",
       "        vertical-align: middle;\n",
       "    }\n",
       "\n",
       "    .dataframe tbody tr th {\n",
       "        vertical-align: top;\n",
       "    }\n",
       "\n",
       "    .dataframe thead th {\n",
       "        text-align: right;\n",
       "    }\n",
       "</style>\n",
       "<table border=\"1\" class=\"dataframe\">\n",
       "  <thead>\n",
       "    <tr style=\"text-align: right;\">\n",
       "      <th></th>\n",
       "      <th>sample</th>\n",
       "      <th>prediction</th>\n",
       "    </tr>\n",
       "  </thead>\n",
       "  <tbody>\n",
       "    <tr>\n",
       "      <th>0</th>\n",
       "      <td>GSM1009660</td>\n",
       "      <td>-19.619985</td>\n",
       "    </tr>\n",
       "    <tr>\n",
       "      <th>1</th>\n",
       "      <td>GSM1009661</td>\n",
       "      <td>-34.187971</td>\n",
       "    </tr>\n",
       "    <tr>\n",
       "      <th>2</th>\n",
       "      <td>GSM1009662</td>\n",
       "      <td>-8.146963</td>\n",
       "    </tr>\n",
       "    <tr>\n",
       "      <th>3</th>\n",
       "      <td>GSM1009663</td>\n",
       "      <td>-37.836931</td>\n",
       "    </tr>\n",
       "    <tr>\n",
       "      <th>4</th>\n",
       "      <td>GSM1009664</td>\n",
       "      <td>-24.487007</td>\n",
       "    </tr>\n",
       "  </tbody>\n",
       "</table>\n",
       "</div>"
      ],
      "text/plain": [
       "       sample  prediction\n",
       "0  GSM1009660  -19.619985\n",
       "1  GSM1009661  -34.187971\n",
       "2  GSM1009662   -8.146963\n",
       "3  GSM1009663  -37.836931\n",
       "4  GSM1009664  -24.487007"
      ]
     },
     "execution_count": 5,
     "metadata": {},
     "output_type": "execute_result"
    }
   ],
   "source": [
    "my_model = LinearMethylationModel(model_file_path=model_filepath)\n",
    "\n",
    "predictions = my_model.predict(df)\n",
    "predictions.head()"
   ]
  },
  {
   "cell_type": "code",
   "execution_count": 6,
   "metadata": {},
   "outputs": [
    {
     "data": {
      "text/html": [
       "<div>\n",
       "<style scoped>\n",
       "    .dataframe tbody tr th:only-of-type {\n",
       "        vertical-align: middle;\n",
       "    }\n",
       "\n",
       "    .dataframe tbody tr th {\n",
       "        vertical-align: top;\n",
       "    }\n",
       "\n",
       "    .dataframe thead th {\n",
       "        text-align: right;\n",
       "    }\n",
       "</style>\n",
       "<table border=\"1\" class=\"dataframe\">\n",
       "  <thead>\n",
       "    <tr style=\"text-align: right;\">\n",
       "      <th></th>\n",
       "      <th>sample</th>\n",
       "      <th>prediction</th>\n",
       "    </tr>\n",
       "  </thead>\n",
       "  <tbody>\n",
       "    <tr>\n",
       "      <th>0</th>\n",
       "      <td>GSM1009660</td>\n",
       "      <td>35.009794</td>\n",
       "    </tr>\n",
       "    <tr>\n",
       "      <th>1</th>\n",
       "      <td>GSM1009661</td>\n",
       "      <td>25.911236</td>\n",
       "    </tr>\n",
       "    <tr>\n",
       "      <th>2</th>\n",
       "      <td>GSM1009662</td>\n",
       "      <td>65.536941</td>\n",
       "    </tr>\n",
       "    <tr>\n",
       "      <th>3</th>\n",
       "      <td>GSM1009663</td>\n",
       "      <td>15.512122</td>\n",
       "    </tr>\n",
       "    <tr>\n",
       "      <th>4</th>\n",
       "      <td>GSM1009664</td>\n",
       "      <td>31.191178</td>\n",
       "    </tr>\n",
       "  </tbody>\n",
       "</table>\n",
       "</div>"
      ],
      "text/plain": [
       "       sample  prediction\n",
       "0  GSM1009660   35.009794\n",
       "1  GSM1009661   25.911236\n",
       "2  GSM1009662   65.536941\n",
       "3  GSM1009663   15.512122\n",
       "4  GSM1009664   31.191178"
      ]
     },
     "execution_count": 6,
     "metadata": {},
     "output_type": "execute_result"
    }
   ],
   "source": [
    "hannum_blood_model = LinearMethylationModel(model_file_path=hannum_blood)\n",
    "predictions = hannum_blood_model.predict(df)\n",
    "predictions.head()"
   ]
  }
 ],
 "metadata": {
  "kernelspec": {
   "display_name": "Python 3",
   "language": "python",
   "name": "python3"
  },
  "language_info": {
   "codemirror_mode": {
    "name": "ipython",
    "version": 3
   },
   "file_extension": ".py",
   "mimetype": "text/x-python",
   "name": "python",
   "nbconvert_exporter": "python",
   "pygments_lexer": "ipython3",
   "version": "3.11.8"
  }
 },
 "nbformat": 4,
 "nbformat_minor": 2
}
