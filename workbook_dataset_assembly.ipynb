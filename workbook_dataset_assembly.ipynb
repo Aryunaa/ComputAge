{
 "cells": [
  {
   "cell_type": "code",
   "execution_count": 1,
   "metadata": {},
   "outputs": [],
   "source": [
    "import os\n",
    "import sys\n",
    "import pandas as pd\n",
    "import gzip\n",
    "\n",
    "from computage.utils.data_utils import download_meta, download_dataset"
   ]
  },
  {
   "cell_type": "code",
   "execution_count": 3,
   "metadata": {},
   "outputs": [
    {
     "name": "stdout",
     "output_type": "stream",
     "text": [
      "['GSE69138', 'GSE59685', 'GSE203399', 'GSE32148', 'GSE87640', 'GSE42861', 'GSE62867', 'GSE56581', 'GSE107143', 'GSE62003', 'GSE53840', 'GSE87648', 'GSE49909', 'GSE56046']\n",
      "14\n"
     ]
    }
   ],
   "source": [
    "datasets_needed = ['GSE56046', 'GSE56581', 'GSE62867', 'GSE69138', \n",
    "             'GSE107143', 'GSE203399', 'GSE32148', 'GSE53840',\n",
    "              'GSE53841', 'GSE67705', 'GSE67751', 'GSE77696', \n",
    "              'GSE81961', 'GSE87640', 'GSE87648', 'GSE100264', \n",
    "              'GSE107080', 'GSE117859', 'GSE117860', 'GSE140800', \n",
    "              'GSE143942', 'GSE145714', 'GSE185389', 'GSE185390', \n",
    "              'GSE217633', 'GSE49909', 'GSE56606', 'GSE62003', \n",
    "              'GSE131461', 'GSE166611', 'GSE193836', 'GSE42861', \n",
    "              'GSE71841', 'GSE99624', 'GSE131989', 'GSE134429', \n",
    "              'GSE137593', 'GSE137594', 'GSE138653', 'GSE175364', \n",
    "              'GSE176168', 'GSE228104', 'GSE43976', 'GSE59685', \n",
    "              'GSE72774', 'GSE72776', 'GSE103929', 'GSE106648', \n",
    "              'GSE111223', 'GSE111629', 'GSE112596', 'GSE122244', \n",
    "              'GSE130029', 'GSE130030', 'GSE130491', 'GSE144858', \n",
    "              'GSE151355', 'GSE156994', 'GSE219293', 'GSE72338', \n",
    "              'GSE118468', 'GSE118469', 'GSE145714', 'GSE131752', \n",
    "              'GSE182991', 'GSE214297']\n",
    "\n",
    "datasets_present = ['GSE107143', 'GSE109096', 'GSE157131', 'GSE197670',\n",
    "                     'GSE203399', 'GSE222595', 'GSE32148', 'GSE38291', \n",
    "                     'GSE42861', 'GSE46394', 'GSE48325', 'GSE49909', \n",
    "                     'GSE50498', 'GSE52588', 'GSE53840', 'GSE56046', \n",
    "                     'GSE56581', 'GSE59685', 'GSE61256', 'GSE62003', \n",
    "                     'GSE62867', 'GSE69138', 'GSE73103', 'GSE80970', \n",
    "                     'GSE84395', 'GSE87640', 'GSE87648', 'GSE132203', \n",
    "                     'GSE30870', 'GSE36054', 'GSE40279', 'GSE41169', \n",
    "                     'GSE51032', 'GSE55763', 'GSE64495', 'GSE69270', \n",
    "                     'GSE72775', 'GSE87571']\n",
    "\n",
    "datasets_load = list(set(datasets_needed)&set(datasets_present))\n",
    "print(datasets_load)\n",
    "print(len(datasets_load))"
   ]
  },
  {
   "cell_type": "markdown",
   "metadata": {},
   "source": [
    "## Variant 1. Downloading and saving table with all data"
   ]
  },
  {
   "cell_type": "code",
   "execution_count": 4,
   "metadata": {},
   "outputs": [
    {
     "name": "stdout",
     "output_type": "stream",
     "text": [
      "Dataset GSE69138 saved to computage/temp_loaded_files\n",
      "GSE69138 dataframe df was created:  data: (185, 456344)  meta_data: (185, 8)\n",
      "GSE69138 dataframe was filtered rows: 0\n",
      "computage/temp_loaded_files/GSE69138.pkl is saved\n",
      "Dataset GSE59685 saved to computage/temp_loaded_files\n",
      "GSE59685 dataframe df was created:  data: (531, 485577)  meta_data: (531, 10)\n",
      "GSE59685 dataframe was filtered rows: 9\n"
     ]
    },
    {
     "name": "stderr",
     "output_type": "stream",
     "text": [
      "/tmp/ipykernel_1401667/3183931068.py:31: SettingWithCopyWarning: \n",
      "A value is trying to be set on a copy of a slice from a DataFrame.\n",
      "Try using .loc[row_indexer,col_indexer] = value instead\n",
      "\n",
      "See the caveats in the documentation: https://pandas.pydata.org/pandas-docs/stable/user_guide/indexing.html#returning-a-view-versus-a-copy\n",
      "  meta_data_tissue['SourceGSE'] = filename\n"
     ]
    },
    {
     "name": "stdout",
     "output_type": "stream",
     "text": [
      "computage/temp_loaded_files/GSE59685.pkl is saved\n",
      "Dataset GSE203399 saved to computage/temp_loaded_files\n",
      "GSE203399 dataframe df was created:  data: (121, 394205)  meta_data: (121, 8)\n",
      "GSE203399 dataframe was filtered rows: 0\n",
      "computage/temp_loaded_files/GSE203399.pkl is saved\n",
      "Dataset GSE32148 saved to computage/temp_loaded_files\n",
      "GSE32148 dataframe df was created:  data: (48, 485577)  meta_data: (48, 10)\n",
      "GSE32148 dataframe was filtered rows: 20\n"
     ]
    },
    {
     "name": "stderr",
     "output_type": "stream",
     "text": [
      "/tmp/ipykernel_1401667/3183931068.py:31: SettingWithCopyWarning: \n",
      "A value is trying to be set on a copy of a slice from a DataFrame.\n",
      "Try using .loc[row_indexer,col_indexer] = value instead\n",
      "\n",
      "See the caveats in the documentation: https://pandas.pydata.org/pandas-docs/stable/user_guide/indexing.html#returning-a-view-versus-a-copy\n",
      "  meta_data_tissue['SourceGSE'] = filename\n"
     ]
    },
    {
     "name": "stdout",
     "output_type": "stream",
     "text": [
      "computage/temp_loaded_files/GSE32148.pkl is saved\n",
      "Dataset GSE87640 saved to computage/temp_loaded_files\n",
      "GSE87640 dataframe df was created:  data: (240, 485577)  meta_data: (240, 10)\n",
      "GSE87640 dataframe was filtered rows: 84\n"
     ]
    },
    {
     "name": "stderr",
     "output_type": "stream",
     "text": [
      "/tmp/ipykernel_1401667/3183931068.py:31: SettingWithCopyWarning: \n",
      "A value is trying to be set on a copy of a slice from a DataFrame.\n",
      "Try using .loc[row_indexer,col_indexer] = value instead\n",
      "\n",
      "See the caveats in the documentation: https://pandas.pydata.org/pandas-docs/stable/user_guide/indexing.html#returning-a-view-versus-a-copy\n",
      "  meta_data_tissue['SourceGSE'] = filename\n"
     ]
    },
    {
     "name": "stdout",
     "output_type": "stream",
     "text": [
      "computage/temp_loaded_files/GSE87640.pkl is saved\n",
      "Dataset GSE42861 saved to computage/temp_loaded_files\n",
      "GSE42861 dataframe df was created:  data: (689, 485577)  meta_data: (689, 8)\n",
      "GSE42861 dataframe was filtered rows: 335\n"
     ]
    },
    {
     "name": "stderr",
     "output_type": "stream",
     "text": [
      "/tmp/ipykernel_1401667/3183931068.py:31: SettingWithCopyWarning: \n",
      "A value is trying to be set on a copy of a slice from a DataFrame.\n",
      "Try using .loc[row_indexer,col_indexer] = value instead\n",
      "\n",
      "See the caveats in the documentation: https://pandas.pydata.org/pandas-docs/stable/user_guide/indexing.html#returning-a-view-versus-a-copy\n",
      "  meta_data_tissue['SourceGSE'] = filename\n"
     ]
    },
    {
     "name": "stdout",
     "output_type": "stream",
     "text": [
      "computage/temp_loaded_files/GSE42861.pkl is saved\n",
      "Dataset GSE62867 saved to computage/temp_loaded_files\n",
      "GSE62867 dataframe df was created:  data: (24, 27578)  meta_data: (24, 8)\n",
      "GSE62867 dataframe was filtered rows: 0\n",
      "computage/temp_loaded_files/GSE62867.pkl is saved\n",
      "Dataset GSE56581 saved to computage/temp_loaded_files\n",
      "GSE56581 dataframe df was created:  data: (214, 485577)  meta_data: (214, 14)\n",
      "GSE56581 dataframe was filtered rows: 66\n"
     ]
    },
    {
     "name": "stderr",
     "output_type": "stream",
     "text": [
      "/tmp/ipykernel_1401667/3183931068.py:31: SettingWithCopyWarning: \n",
      "A value is trying to be set on a copy of a slice from a DataFrame.\n",
      "Try using .loc[row_indexer,col_indexer] = value instead\n",
      "\n",
      "See the caveats in the documentation: https://pandas.pydata.org/pandas-docs/stable/user_guide/indexing.html#returning-a-view-versus-a-copy\n",
      "  meta_data_tissue['SourceGSE'] = filename\n"
     ]
    },
    {
     "name": "stdout",
     "output_type": "stream",
     "text": [
      "computage/temp_loaded_files/GSE56581.pkl is saved\n",
      "Dataset GSE107143 saved to computage/temp_loaded_files\n",
      "GSE107143 dataframe df was created:  data: (16, 460295)  meta_data: (16, 7)\n",
      "GSE107143 dataframe was filtered rows: 8\n"
     ]
    },
    {
     "name": "stderr",
     "output_type": "stream",
     "text": [
      "/tmp/ipykernel_1401667/3183931068.py:31: SettingWithCopyWarning: \n",
      "A value is trying to be set on a copy of a slice from a DataFrame.\n",
      "Try using .loc[row_indexer,col_indexer] = value instead\n",
      "\n",
      "See the caveats in the documentation: https://pandas.pydata.org/pandas-docs/stable/user_guide/indexing.html#returning-a-view-versus-a-copy\n",
      "  meta_data_tissue['SourceGSE'] = filename\n"
     ]
    },
    {
     "name": "stdout",
     "output_type": "stream",
     "text": [
      "computage/temp_loaded_files/GSE107143.pkl is saved\n",
      "Dataset GSE62003 saved to computage/temp_loaded_files\n",
      "GSE62003 dataframe df was created:  data: (70, 485577)  meta_data: (70, 10)\n",
      "GSE62003 dataframe was filtered rows: 0\n",
      "computage/temp_loaded_files/GSE62003.pkl is saved\n",
      "Dataset GSE53840 saved to computage/temp_loaded_files\n",
      "GSE53840 dataframe df was created:  data: (120, 485577)  meta_data: (120, 26)\n",
      "GSE53840 dataframe was filtered rows: 0\n",
      "computage/temp_loaded_files/GSE53840.pkl is saved\n",
      "Dataset GSE87648 saved to computage/temp_loaded_files\n",
      "GSE87648 dataframe df was created:  data: (382, 460398)  meta_data: (382, 10)\n",
      "GSE87648 dataframe was filtered rows: 178\n"
     ]
    },
    {
     "name": "stderr",
     "output_type": "stream",
     "text": [
      "/tmp/ipykernel_1401667/3183931068.py:31: SettingWithCopyWarning: \n",
      "A value is trying to be set on a copy of a slice from a DataFrame.\n",
      "Try using .loc[row_indexer,col_indexer] = value instead\n",
      "\n",
      "See the caveats in the documentation: https://pandas.pydata.org/pandas-docs/stable/user_guide/indexing.html#returning-a-view-versus-a-copy\n",
      "  meta_data_tissue['SourceGSE'] = filename\n"
     ]
    },
    {
     "name": "stdout",
     "output_type": "stream",
     "text": [
      "computage/temp_loaded_files/GSE87648.pkl is saved\n",
      "Dataset GSE49909 saved to computage/temp_loaded_files\n",
      "GSE49909 dataframe df was created:  data: (283, 27578)  meta_data: (283, 17)\n",
      "GSE49909 dataframe was filtered rows: 40\n"
     ]
    },
    {
     "name": "stderr",
     "output_type": "stream",
     "text": [
      "/tmp/ipykernel_1401667/3183931068.py:31: SettingWithCopyWarning: \n",
      "A value is trying to be set on a copy of a slice from a DataFrame.\n",
      "Try using .loc[row_indexer,col_indexer] = value instead\n",
      "\n",
      "See the caveats in the documentation: https://pandas.pydata.org/pandas-docs/stable/user_guide/indexing.html#returning-a-view-versus-a-copy\n",
      "  meta_data_tissue['SourceGSE'] = filename\n"
     ]
    },
    {
     "name": "stdout",
     "output_type": "stream",
     "text": [
      "computage/temp_loaded_files/GSE49909.pkl is saved\n",
      "Dataset GSE56046 saved to computage/temp_loaded_files\n",
      "GSE56046 dataframe df was created:  data: (1202, 485577)  meta_data: (1202, 14)\n"
     ]
    },
    {
     "name": "stderr",
     "output_type": "stream",
     "text": [
      "/tmp/ipykernel_1401667/3183931068.py:31: SettingWithCopyWarning: \n",
      "A value is trying to be set on a copy of a slice from a DataFrame.\n",
      "Try using .loc[row_indexer,col_indexer] = value instead\n",
      "\n",
      "See the caveats in the documentation: https://pandas.pydata.org/pandas-docs/stable/user_guide/indexing.html#returning-a-view-versus-a-copy\n",
      "  meta_data_tissue['SourceGSE'] = filename\n"
     ]
    },
    {
     "name": "stdout",
     "output_type": "stream",
     "text": [
      "GSE56046 dataframe was filtered rows: 339\n",
      "computage/temp_loaded_files/GSE56046.pkl is saved\n"
     ]
    }
   ],
   "source": [
    "dir = \"computage/temp_loaded_files\"\n",
    "tissue = 'Blood'\n",
    "dfs_tissue_list = []\n",
    "dfs_tissue_meta_list = []\n",
    "df_tissue = pd.DataFrame()\n",
    "df_tissue_meta = pd.DataFrame()\n",
    "\n",
    "for filename in datasets_load:\n",
    "    #loading\n",
    "    meta = download_meta('./meta_table_datasets.xlsx')\n",
    "    download_dataset(meta, filename, dir)\n",
    "\n",
    "    #reading -> saving\n",
    "    filepath_pklgz = dir + '/' + filename + '.pkl.gz'\n",
    "    filepath_pkl = dir + '/' + filename + '.pkl'\n",
    "    \n",
    "    df = pd.read_pickle(filepath_pklgz)\n",
    "\n",
    "    #reading pkl\n",
    "    meta_data = df.get('meta')\n",
    "    data = df.get('data')\n",
    "    print(filename, 'dataframe df was created:', ' data:', data.shape, ' meta_data:', meta_data.shape) ##\n",
    "\n",
    "    #filtering, creating data_tissue, meta_data_tissue\n",
    "    meta_data_tissue = meta_data[(meta_data['Condition'] == 'HC')&(meta_data['Tissue'] == tissue)]\n",
    "    # meta_data_tissue.loc[:, 'SourceGSE'] = filename\n",
    "    meta_data_tissue['SourceGSE'] = filename\n",
    "    data_tissue = data.loc[data.index.isin(meta_data_tissue.index)]\n",
    "    print(filename, 'dataframe was filtered', 'rows:', data_tissue.shape[0]) ##\n",
    "\n",
    "    #saving tmp_csvs\n",
    "    data_tissue.to_csv(dir + '/temp_csv/' + filename + '.csv')\n",
    "    meta_data_tissue.to_csv(dir + '/temp_csv/' + filename +'_meta' + '.csv')\n",
    "    print(filepath_pkl, 'is saved')\n",
    "\n",
    "    #merging\n",
    "    dfs_tissue_list.append(data_tissue)\n",
    "    #ЗАБАГОВАНО!!! ИСПРАВЬ НА dfs_tissue_meta_list.append(meta_data_tissue)\n",
    "    #dfs_tissue_meta_list.append(data_tissue) #забаговано у меня, но заново прогонять не хочу. исправить на \n",
    "    # dfs_tissue_meta_list.append(meta_data_tissue)\n",
    "\n",
    "df_tissue = pd.concat(dfs_tissue_list)\n",
    "#df_tissue_meta = pd.concat(dfs_tissue_meta_list)\n",
    "\n",
    "df_tissue.to_csv(dir + '/temp_csv/' + 'combined' + '.csv')\n",
    "#df_tissue_meta.to_csv(dir + '/temp_csv/' + 'combined' +'_meta' + '.csv')"
   ]
  },
  {
   "cell_type": "code",
   "execution_count": 5,
   "metadata": {},
   "outputs": [
    {
     "name": "stderr",
     "output_type": "stream",
     "text": [
      "/tmp/ipykernel_1401667/1119155174.py:12: FutureWarning: The behavior of DataFrame concatenation with empty or all-NA entries is deprecated. In a future version, this will no longer exclude empty or all-NA columns when determining the result dtypes. To retain the old behavior, exclude the relevant entries before the concat operation.\n",
      "  df_tissue_meta = pd.concat(dfs_tissue_meta_list)\n"
     ]
    }
   ],
   "source": [
    "df_tissue_meta = pd.DataFrame()\n",
    "dfs_tissue_meta_list = []\n",
    "for filename in datasets_load:\n",
    "    #loading\n",
    "    \n",
    "    meta_data_tissue = pd.read_csv(dir + '/temp_csv/' + filename +'_meta' + '.csv')\n",
    "\n",
    "\n",
    "    \n",
    "    dfs_tissue_meta_list.append(meta_data_tissue)\n",
    "\n",
    "df_tissue_meta = pd.concat(dfs_tissue_meta_list)\n",
    "\n",
    "df_tissue_meta.to_csv(dir + '/temp_csv/' + 'combined' +'_meta' + '.csv')"
   ]
  },
  {
   "cell_type": "code",
   "execution_count": null,
   "metadata": {},
   "outputs": [],
   "source": []
  }
 ],
 "metadata": {
  "kernelspec": {
   "display_name": "base",
   "language": "python",
   "name": "python3"
  },
  "language_info": {
   "codemirror_mode": {
    "name": "ipython",
    "version": 3
   },
   "file_extension": ".py",
   "mimetype": "text/x-python",
   "name": "python",
   "nbconvert_exporter": "python",
   "pygments_lexer": "ipython3",
   "version": "3.11.9"
  }
 },
 "nbformat": 4,
 "nbformat_minor": 2
}
