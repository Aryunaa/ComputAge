{
 "cells": [
  {
   "cell_type": "markdown",
   "metadata": {},
   "source": [
    "# Linear models estimation workbook"
   ]
  },
  {
   "cell_type": "code",
   "execution_count": 9,
   "metadata": {},
   "outputs": [],
   "source": [
    "%load_ext autoreload\n",
    "%autoreload 1\n"
   ]
  },
  {
   "cell_type": "code",
   "execution_count": 10,
   "metadata": {},
   "outputs": [],
   "source": [
    "import os\n",
    "import sys\n",
    "import numpy as np\n",
    "import matplotlib.pyplot as plt\n",
    "import pandas as pd\n",
    "from sklearn.model_selection import train_test_split as tts\n",
    "from sklearn.metrics import r2_score, median_absolute_error\n",
    "import warnings\n",
    "\n",
    "from computage.utils.data_utils import download_meta, download_dataset\n",
    "from computage.utils.nan_utils import EN_nan_row_predict,introduce_nans\n",
    "\n",
    "from computage.models_library.model import LinearMethylationModel"
   ]
  },
  {
   "cell_type": "code",
   "execution_count": 15,
   "metadata": {},
   "outputs": [],
   "source": [
    "#modelsnames = list(dict_model_names_paths.keys())\n",
    "modelsnames = ['hrsinchphenoage',\n",
    " 'lin2016blood_99cpgs',\n",
    " 'yingdamage',\n",
    " 'yingadaptage',\n",
    " 'hannum2013blood',\n",
    " 'dec2023encen100',\n",
    " 'yingcausage',\n",
    " 'horvath2018',\n",
    " 'vidal-bralo2016blood',\n",
    " 'lin2016blood_3cpgs',\n",
    " 'zhangblup2019',\n",
    " 'zhangenclock2019',\n",
    " 'phenoage2018',\n",
    " 'dec2023encen40']"
   ]
  },
  {
   "cell_type": "code",
   "execution_count": 16,
   "metadata": {},
   "outputs": [],
   "source": [
    "from multiprocessing import Pool\n",
    "\n",
    "def read_psv_all (file_name):\n",
    "    return pd.read_csv(file_name,\n",
    "                       #delimiter='',  # change this as needed                              \n",
    "                       low_memory=False, index_col = ['Unnamed: 0']\n",
    "                      ) \n",
    "\n",
    "pool = Pool(processes=3) # can change 3 to number of processors you want to utilize\n",
    "data = read_psv_all('full_blood_HC.csv')\n",
    "data.head()\n",
    "\n",
    "meta = pd.read_csv('full_blood_HC_meta.csv',index_col = ['Unnamed: 0'])\n",
    "meta.shape\n",
    "\n",
    "y = pd.DataFrame(meta['Age'])\n",
    "y = y.rename(columns={'Age': 'age'})\n",
    "data = data.drop(y[y['age'].isnull()].index.tolist())\n",
    "y = y.dropna()"
   ]
  },
  {
   "cell_type": "code",
   "execution_count": null,
   "metadata": {},
   "outputs": [],
   "source": [
    "def medae_r2(X,y,model):\n",
    "    #nan_pct = [0.1]\n",
    "    X_test = X.reindex(columns=model.features)\n",
    "    y_test = y\n",
    "    y_pred_test = model.predict(X_test)\n",
    "    return median_absolute_error(y_test, y_pred_test),r2_score(y_test, y_pred_test) "
   ]
  }
 ],
 "metadata": {
  "kernelspec": {
   "display_name": "computage_devclocks",
   "language": "python",
   "name": "python3"
  },
  "language_info": {
   "codemirror_mode": {
    "name": "ipython",
    "version": 3
   },
   "file_extension": ".py",
   "mimetype": "text/x-python",
   "name": "python",
   "nbconvert_exporter": "python",
   "pygments_lexer": "ipython3",
   "version": "3.11.9"
  }
 },
 "nbformat": 4,
 "nbformat_minor": 2
}
