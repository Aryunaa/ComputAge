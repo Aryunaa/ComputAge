{
 "cells": [
  {
   "cell_type": "markdown",
   "metadata": {},
   "source": [
    "# Linear models estimation workbook"
   ]
  },
  {
   "cell_type": "code",
   "execution_count": 1,
   "metadata": {},
   "outputs": [],
   "source": [
    "%load_ext autoreload\n",
    "%autoreload 1\n"
   ]
  },
  {
   "cell_type": "code",
   "execution_count": 2,
   "metadata": {},
   "outputs": [],
   "source": [
    "import os\n",
    "import sys\n",
    "import numpy as np\n",
    "import matplotlib.pyplot as plt\n",
    "import pandas as pd\n",
    "from sklearn.model_selection import train_test_split as tts\n",
    "from sklearn.metrics import r2_score, median_absolute_error\n",
    "import warnings\n",
    "\n",
    "from computage.utils.data_utils import download_meta, download_dataset\n",
    "from computage.utils.nan_utils import EN_nan_row_predict,introduce_nans\n",
    "\n",
    "from computage.models_library.model import LinearMethylationModel"
   ]
  },
  {
   "cell_type": "code",
   "execution_count": 3,
   "metadata": {},
   "outputs": [],
   "source": [
    "#modelsnames = list(dict_model_names_paths.keys())\n",
    "modelsnames = ['hrsinchphenoage',\n",
    " 'lin2016blood_99cpgs',\n",
    " 'yingdamage',\n",
    " 'yingadaptage',\n",
    " 'hannum2013blood',\n",
    " 'dec2023encen100',\n",
    " 'yingcausage',\n",
    " 'horvath2018',\n",
    " 'vidal-bralo2016blood',\n",
    " 'lin2016blood_3cpgs',\n",
    " 'zhangblup2019',\n",
    " 'zhangenclock2019',\n",
    " 'phenoage2018',\n",
    " 'dec2023encen40']"
   ]
  },
  {
   "cell_type": "code",
   "execution_count": 4,
   "metadata": {},
   "outputs": [],
   "source": [
    "from multiprocessing import Pool\n",
    "\n",
    "def read_psv_all (file_name):\n",
    "    return pd.read_csv(file_name,\n",
    "                       #delimiter='',  # change this as needed                              \n",
    "                       low_memory=False, index_col = ['Unnamed: 0']\n",
    "                      ) \n",
    "\n",
    "pool = Pool(processes=3) # can change 3 to number of processors you want to utilize\n",
    "data = read_psv_all('full_blood_HC.csv')\n",
    "data.head()\n",
    "\n",
    "meta = pd.read_csv('full_blood_HC_meta.csv',index_col = ['Unnamed: 0'])\n",
    "meta.shape\n",
    "\n",
    "y = pd.DataFrame(meta['Age'])\n",
    "y = y.rename(columns={'Age': 'age'})\n",
    "data = data.drop(y[y['age'].isnull()].index.tolist())\n",
    "y = y.dropna()"
   ]
  },
  {
   "cell_type": "code",
   "execution_count": 5,
   "metadata": {},
   "outputs": [],
   "source": [
    "def medae_r2(X,y,model):\n",
    "    #nan_pct = [0.1]\n",
    "    X_test = X.reindex(columns=model.features)\n",
    "    y_test = y\n",
    "    y_pred_test = model.predict(X_test)\n",
    "    return median_absolute_error(y_test, y_pred_test),r2_score(y_test, y_pred_test) "
   ]
  },
  {
   "cell_type": "code",
   "execution_count": 6,
   "metadata": {},
   "outputs": [
    {
     "ename": "TypeError",
     "evalue": "can't multiply sequence by non-int of type 'float'",
     "output_type": "error",
     "traceback": [
      "\u001b[0;31m---------------------------------------------------------------------------\u001b[0m",
      "\u001b[0;31mTypeError\u001b[0m                                 Traceback (most recent call last)",
      "Cell \u001b[0;32mIn[6], line 5\u001b[0m\n\u001b[1;32m      2\u001b[0m r2s \u001b[38;5;241m=\u001b[39m []\n\u001b[1;32m      3\u001b[0m \u001b[38;5;28;01mfor\u001b[39;00m mymodel \u001b[38;5;129;01min\u001b[39;00m modelsnames:\n\u001b[0;32m----> 5\u001b[0m     medae, r2 \u001b[38;5;241m=\u001b[39m \u001b[43mmedae_r2\u001b[49m\u001b[43m(\u001b[49m\u001b[43mdata\u001b[49m\u001b[43m,\u001b[49m\u001b[43m \u001b[49m\u001b[43my\u001b[49m\u001b[43m,\u001b[49m\u001b[43m \u001b[49m\u001b[43mLinearMethylationModel\u001b[49m\u001b[43m(\u001b[49m\u001b[43mmymodel\u001b[49m\u001b[43m,\u001b[49m\u001b[43m \u001b[49m\u001b[43mimputation\u001b[49m\u001b[38;5;241;43m=\u001b[39;49m\u001b[38;5;124;43m'\u001b[39;49m\u001b[38;5;124;43maverage\u001b[39;49m\u001b[38;5;124;43m'\u001b[39;49m\u001b[43m)\u001b[49m\u001b[43m)\u001b[49m\n\u001b[1;32m      6\u001b[0m     \u001b[38;5;66;03m# except Exception:\u001b[39;00m\n\u001b[1;32m      7\u001b[0m     \u001b[38;5;66;03m#     print(Exception)\u001b[39;00m\n\u001b[1;32m      8\u001b[0m     \u001b[38;5;66;03m#     medae, r2 = None, None \u001b[39;00m\n\u001b[1;32m      9\u001b[0m     medaes\u001b[38;5;241m.\u001b[39mappend(medae)\n",
      "Cell \u001b[0;32mIn[5], line 5\u001b[0m, in \u001b[0;36mmedae_r2\u001b[0;34m(X, y, model)\u001b[0m\n\u001b[1;32m      3\u001b[0m X_test \u001b[38;5;241m=\u001b[39m X\u001b[38;5;241m.\u001b[39mreindex(columns\u001b[38;5;241m=\u001b[39mmodel\u001b[38;5;241m.\u001b[39mfeatures)\n\u001b[1;32m      4\u001b[0m y_test \u001b[38;5;241m=\u001b[39m y\n\u001b[0;32m----> 5\u001b[0m y_pred_test \u001b[38;5;241m=\u001b[39m \u001b[43mmodel\u001b[49m\u001b[38;5;241;43m.\u001b[39;49m\u001b[43mpredict\u001b[49m\u001b[43m(\u001b[49m\u001b[43mX_test\u001b[49m\u001b[43m)\u001b[49m\n\u001b[1;32m      6\u001b[0m \u001b[38;5;28;01mreturn\u001b[39;00m median_absolute_error(y_test, y_pred_test),r2_score(y_test, y_pred_test)\n",
      "File \u001b[0;32m~/bioinf_inst/bi_project/ComputAge/computage/models_library/model.py:73\u001b[0m, in \u001b[0;36mLinearMethylationModel.predict\u001b[0;34m(self, X, imputation)\u001b[0m\n\u001b[1;32m     66\u001b[0m     X_ \u001b[38;5;241m=\u001b[39m X_\u001b[38;5;241m.\u001b[39mfillna(averages)\n\u001b[1;32m     68\u001b[0m \u001b[38;5;66;03m#preprocess block (currently we don't have preprocess functions)\u001b[39;00m\n\u001b[1;32m     69\u001b[0m \u001b[38;5;66;03m#X_ = self.preprocess(X_)\u001b[39;00m\n\u001b[1;32m     70\u001b[0m \n\u001b[1;32m     71\u001b[0m \u001b[38;5;66;03m# Vectorized multiplication: multiply CoefficientTraining with all columns of dnam_data\u001b[39;00m\n\u001b[1;32m     72\u001b[0m \u001b[38;5;66;03m#wsum = X_.multiply(self.coefficients).sum(axis=1)\u001b[39;00m\n\u001b[0;32m---> 73\u001b[0m wsum \u001b[38;5;241m=\u001b[39m \u001b[43mnp\u001b[49m\u001b[38;5;241;43m.\u001b[39;49m\u001b[43mmatmul\u001b[49m\u001b[43m(\u001b[49m\u001b[43m \u001b[49m\u001b[43mnp\u001b[49m\u001b[38;5;241;43m.\u001b[39;49m\u001b[43marray\u001b[49m\u001b[43m(\u001b[49m\u001b[43mX_\u001b[49m\u001b[43m)\u001b[49m\u001b[43m,\u001b[49m\u001b[43m \u001b[49m\u001b[38;5;28;43mself\u001b[39;49m\u001b[38;5;241;43m.\u001b[39;49m\u001b[43mcoefficients\u001b[49m\u001b[43m)\u001b[49m\n\u001b[1;32m     74\u001b[0m wsum \u001b[38;5;241m+\u001b[39m\u001b[38;5;241m=\u001b[39m \u001b[38;5;28mself\u001b[39m\u001b[38;5;241m.\u001b[39mintercept\n\u001b[1;32m     76\u001b[0m \u001b[38;5;66;03m# Return as a DataFrame\u001b[39;00m\n",
      "\u001b[0;31mTypeError\u001b[0m: can't multiply sequence by non-int of type 'float'"
     ]
    }
   ],
   "source": [
    "medaes = []\n",
    "r2s = []\n",
    "for mymodel in modelsnames:\n",
    "    try:\n",
    "        medae, r2 = medae_r2(data, y, LinearMethylationModel(mymodel, imputation='average'))\n",
    "    except Exception:\n",
    "        print(Exception)\n",
    "        medae, r2 = None, None \n",
    "    medaes.append(medae)\n",
    "    r2s.append(r2)       \n",
    "\n",
    "fig, ax = plt.subplots()\n",
    "\n",
    "ax.bar(modelsnames, medaes)\n",
    "\n",
    "ax.set_ylabel('fruit supply')\n",
    "ax.set_title('Fruit supply by kind and color')\n",
    "ax.legend(title='Fruit color')\n",
    "\n",
    "plt.show()\n"
   ]
  }
 ],
 "metadata": {
  "kernelspec": {
   "display_name": "computage_devclocks",
   "language": "python",
   "name": "python3"
  },
  "language_info": {
   "codemirror_mode": {
    "name": "ipython",
    "version": 3
   },
   "file_extension": ".py",
   "mimetype": "text/x-python",
   "name": "python",
   "nbconvert_exporter": "python",
   "pygments_lexer": "ipython3",
   "version": "3.11.9"
  }
 },
 "nbformat": 4,
 "nbformat_minor": 2
}
