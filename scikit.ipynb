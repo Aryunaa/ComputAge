{
 "cells": [
  {
   "cell_type": "code",
   "execution_count": 7,
   "metadata": {},
   "outputs": [
    {
     "data": {
      "text/plain": [
       "-0.33727333443648866"
      ]
     },
     "execution_count": 7,
     "metadata": {},
     "output_type": "execute_result"
    }
   ],
   "source": [
    "from sklearn.cross_decomposition import PLSRegression\n",
    "from sklearn.datasets import make_regression\n",
    "from sklearn.linear_model import LinearRegression\n",
    "from sklearn.metrics import r2_score, mean_absolute_error\n",
    "from sklearn.model_selection import train_test_split\n",
    "import numpy as np\n",
    "from scipy.stats import linregress\n",
    "from typing import Union\n",
    "import pandas as pd\n",
    "\n",
    "X, y, tcoef = make_regression(n_samples=100, n_features=1000, n_informative=2, noise=30.0,\n",
    "                              coef=True, \n",
    "                              random_state=10)\n",
    "X_train, X_test, y_train, y_test = train_test_split(X, y, test_size=0.25, random_state=10)\n",
    "\n",
    "basemodel = LinearRegression()\n",
    "basemodel.fit(X_train, y_train)\n",
    "\n",
    "r2_score(y_test, basemodel.predict(X_test))"
   ]
  },
  {
   "cell_type": "code",
   "execution_count": 18,
   "metadata": {},
   "outputs": [],
   "source": [
    "def linear_time_analysis1(data: pd.DataFrame, age: Union[np.ndarray, pd.Series]) -> pd.DataFrame:\n",
    "    def _fit_feature(y, x):\n",
    "        idx = np.isfinite(x) #y should always be finite\n",
    "        y = y[idx] \n",
    "        x = x[idx]\n",
    "        s, i, r, p, serr = linregress(y, x)\n",
    "        x_cap = y * s + i\n",
    "        r2 = r2_score(x, x_cap)\n",
    "        rss = (np.square(x_cap - x)).sum()\n",
    "        rse = np.sqrt(rss / (x.shape[0] - 2))\n",
    "        #secondary analysis\n",
    "        residuals = np.abs(x - x_cap)\n",
    "        s_res, i_res, r_res, p_res, _ = linregress(y, residuals)\n",
    "        return s, i, r, p, serr, rse, r2, s_res, i_res, r_res, p_res\n",
    "    \n",
    "    #TODO: solve problem with mapply\n",
    "    # mapply.init(n_workers=self.n_jobs, chunk_size=100, max_chunks_per_worker=10, progressbar=False)\n",
    "    return data.apply(lambda x: _fit_feature(age, x), result_type='expand').reset_index(drop=True).rename(index={\n",
    "                                                                                        0: 'slope', \n",
    "                                                                                        1: 'intercept', \n",
    "                                                                                        2: 'rvalue', \n",
    "                                                                                        3: 'p-value', \n",
    "                                                                                        4: 'stderr', \n",
    "                                                                                        5: 'rse',\n",
    "                                                                                        6: 'r2',\n",
    "                                                                                        7: 's_res',\n",
    "                                                                                        8: 'i_res',\n",
    "                                                                                        9: 'r_res',\n",
    "                                                                                        10: 'p_res'\n",
    "                                                                                        }).T\n",
    "\n",
    "\n",
    "def linear_time_analysis2(data: pd.DataFrame, age: Union[np.ndarray, pd.Series]) -> pd.DataFrame:\n",
    "    def _fit_feature(x):\n",
    "        y = age.copy()\n",
    "        idx = np.isfinite(x) #y should always be finite\n",
    "        y = y[idx] \n",
    "        x = x[idx]\n",
    "        s, i, r, p, serr = linregress(y, x)\n",
    "        x_cap = y * s + i\n",
    "        r2 = r2_score(x, x_cap)\n",
    "        rss = (np.square(x_cap - x)).sum()\n",
    "        rse = np.sqrt(rss / (x.shape[0] - 2))\n",
    "        #secondary analysis\n",
    "        residuals = np.abs(x - x_cap)\n",
    "        s_res, i_res, r_res, p_res, _ = linregress(y, residuals)\n",
    "        return s, i, r, p, serr, rse, r2, s_res, i_res, r_res, p_res\n",
    "    \n",
    "    #TODO: solve problem with mapply\n",
    "    # mapply.init(n_workers=self.n_jobs, chunk_size=100, max_chunks_per_worker=10, progressbar=False)\n",
    "    return data.apply(_fit_feature, result_type='expand').reset_index(drop=True).rename(index={\n",
    "                                                                                        0: 'slope', \n",
    "                                                                                        1: 'intercept', \n",
    "                                                                                        2: 'rvalue', \n",
    "                                                                                        3: 'p-value', \n",
    "                                                                                        4: 'stderr', \n",
    "                                                                                        5: 'rse',\n",
    "                                                                                        6: 'r2',\n",
    "                                                                                        7: 's_res',\n",
    "                                                                                        8: 'i_res',\n",
    "                                                                                        9: 'r_res',\n",
    "                                                                                        10: 'p_res'\n",
    "                                                                                        }).T"
   ]
  },
  {
   "cell_type": "code",
   "execution_count": 9,
   "metadata": {},
   "outputs": [
    {
     "ename": "KeyError",
     "evalue": "'Red'",
     "output_type": "error",
     "traceback": [
      "\u001b[0;31m---------------------------------------------------------------------------\u001b[0m",
      "\u001b[0;31mKeyError\u001b[0m                                  Traceback (most recent call last)",
      "Cell \u001b[0;32mIn[9], line 4\u001b[0m\n\u001b[1;32m      1\u001b[0m \u001b[38;5;28;01mfrom\u001b[39;00m \u001b[38;5;21;01menum\u001b[39;00m \u001b[38;5;28;01mimport\u001b[39;00m Enum\n\u001b[1;32m      2\u001b[0m Color \u001b[38;5;241m=\u001b[39m Enum(\u001b[38;5;124m'\u001b[39m\u001b[38;5;124mColor\u001b[39m\u001b[38;5;124m'\u001b[39m, [\u001b[38;5;124m'\u001b[39m\u001b[38;5;124mRED\u001b[39m\u001b[38;5;124m'\u001b[39m, \u001b[38;5;124m'\u001b[39m\u001b[38;5;124mGREEN\u001b[39m\u001b[38;5;124m'\u001b[39m, \u001b[38;5;124m'\u001b[39m\u001b[38;5;124mBLUE\u001b[39m\u001b[38;5;124m'\u001b[39m])\n\u001b[0;32m----> 4\u001b[0m \u001b[43mColor\u001b[49m\u001b[43m[\u001b[49m\u001b[38;5;124;43m'\u001b[39;49m\u001b[38;5;124;43mRed\u001b[39;49m\u001b[38;5;124;43m'\u001b[39;49m\u001b[43m]\u001b[49m\n",
      "File \u001b[0;32m~/.conda/envs/computage/lib/python3.10/enum.py:440\u001b[0m, in \u001b[0;36mEnumMeta.__getitem__\u001b[0;34m(cls, name)\u001b[0m\n\u001b[1;32m    439\u001b[0m \u001b[38;5;28;01mdef\u001b[39;00m \u001b[38;5;21m__getitem__\u001b[39m(\u001b[38;5;28mcls\u001b[39m, name):\n\u001b[0;32m--> 440\u001b[0m     \u001b[38;5;28;01mreturn\u001b[39;00m \u001b[38;5;28;43mcls\u001b[39;49m\u001b[38;5;241;43m.\u001b[39;49m\u001b[43m_member_map_\u001b[49m\u001b[43m[\u001b[49m\u001b[43mname\u001b[49m\u001b[43m]\u001b[49m\n",
      "\u001b[0;31mKeyError\u001b[0m: 'Red'"
     ]
    }
   ],
   "source": [
    "from enum import Enum\n",
    "Color = Enum('Color', ['RED', 'GREEN', 'BLUE'])\n",
    "\n",
    "Color['Red']"
   ]
  },
  {
   "cell_type": "code",
   "execution_count": 21,
   "metadata": {},
   "outputs": [
    {
     "name": "stdout",
     "output_type": "stream",
     "text": [
      "1.44 s ± 22.2 ms per loop (mean ± std. dev. of 7 runs, 1 loop each)\n"
     ]
    }
   ],
   "source": [
    "import pandas as pd\n",
    "\n",
    "data = pd.DataFrame(X)\n",
    "\n",
    "%timeit linear_time_analysis2(data, y)"
   ]
  },
  {
   "cell_type": "code",
   "execution_count": 24,
   "metadata": {},
   "outputs": [
    {
     "data": {
      "text/plain": [
       "slope        True\n",
       "intercept    True\n",
       "rvalue       True\n",
       "p-value      True\n",
       "stderr       True\n",
       "rse          True\n",
       "r2           True\n",
       "s_res        True\n",
       "i_res        True\n",
       "r_res        True\n",
       "p_res        True\n",
       "dtype: bool"
      ]
     },
     "execution_count": 24,
     "metadata": {},
     "output_type": "execute_result"
    }
   ],
   "source": [
    "(linear_time_analysis2(data, y) == linear_time_analysis1(data, y)).all()"
   ]
  },
  {
   "cell_type": "code",
   "execution_count": 22,
   "metadata": {},
   "outputs": [
    {
     "name": "stdout",
     "output_type": "stream",
     "text": [
      "1.44 s ± 24 ms per loop (mean ± std. dev. of 7 runs, 1 loop each)\n"
     ]
    }
   ],
   "source": [
    "%timeit linear_time_analysis1(data, y)"
   ]
  },
  {
   "cell_type": "code",
   "execution_count": 101,
   "metadata": {},
   "outputs": [
    {
     "data": {
      "text/plain": [
       "array([1., 1.])"
      ]
     },
     "execution_count": 101,
     "metadata": {},
     "output_type": "execute_result"
    }
   ],
   "source": [
    "np.linalg.norm(V, axis=0)"
   ]
  },
  {
   "cell_type": "code",
   "execution_count": 99,
   "metadata": {},
   "outputs": [
    {
     "data": {
      "text/plain": [
       "array([[ 1.00000000e+00, -2.38076261e-01],\n",
       "       [ 1.06685494e-16,  1.00000000e+00]])"
      ]
     },
     "execution_count": 99,
     "metadata": {},
     "output_type": "execute_result"
    }
   ],
   "source": [
    "L.T @ V"
   ]
  },
  {
   "cell_type": "code",
   "execution_count": 98,
   "metadata": {},
   "outputs": [],
   "source": [
    "X_test_scaled = (X_test - model._x_mean) / model._x_std \n",
    "V = model.x_weights_\n",
    "L = model.x_loadings_\n",
    "R = V @ np.linalg.pinv(L.T @ V)\n",
    "\n",
    "y_pred_test_untr = X_test_scaled @ R # PLS prediction\n",
    "# y_pred_test_kdm = X_test_scaled @ V / (V.T @ V) # KDM prediction"
   ]
  },
  {
   "cell_type": "code",
   "execution_count": 86,
   "metadata": {},
   "outputs": [],
   "source": [
    "# np.isclose(y_pred_test_untr.ravel(), y_pred_test_kdm.ravel())"
   ]
  },
  {
   "cell_type": "code",
   "execution_count": 88,
   "metadata": {},
   "outputs": [],
   "source": [
    "# np.corrcoef(y_pred_test_untr.ravel(), model.predict(X_test).ravel() )"
   ]
  },
  {
   "cell_type": "code",
   "execution_count": 43,
   "metadata": {},
   "outputs": [
    {
     "data": {
      "text/plain": [
       "array([[1., 1.],\n",
       "       [1., 1.]])"
      ]
     },
     "execution_count": 43,
     "metadata": {},
     "output_type": "execute_result"
    }
   ],
   "source": [
    "np.corrcoef(y_pred_test_2.ravel(), y_pred_test_untr.ravel())"
   ]
  },
  {
   "cell_type": "code",
   "execution_count": 33,
   "metadata": {},
   "outputs": [
    {
     "data": {
      "text/plain": [
       "array([[1.        , 0.96908728],\n",
       "       [0.96908728, 1.        ]])"
      ]
     },
     "execution_count": 33,
     "metadata": {},
     "output_type": "execute_result"
    }
   ],
   "source": [
    "np.corrcoef(V.ravel(), L.ravel())"
   ]
  },
  {
   "cell_type": "code",
   "execution_count": 30,
   "metadata": {},
   "outputs": [
    {
     "data": {
      "text/plain": [
       "array([[1., 1.],\n",
       "       [1., 1.]])"
      ]
     },
     "execution_count": 30,
     "metadata": {},
     "output_type": "execute_result"
    }
   ],
   "source": []
  },
  {
   "cell_type": "code",
   "execution_count": 14,
   "metadata": {},
   "outputs": [
    {
     "data": {
      "text/plain": [
       "array([[ 0.05364706],\n",
       "       [ 0.0033299 ],\n",
       "       [ 0.60336176],\n",
       "       [ 0.07792432],\n",
       "       [ 0.00109431],\n",
       "       [ 0.7887291 ],\n",
       "       [ 0.02793724],\n",
       "       [-0.01935501],\n",
       "       [-0.00765809],\n",
       "       [ 0.06070222]])"
      ]
     },
     "execution_count": 14,
     "metadata": {},
     "output_type": "execute_result"
    }
   ],
   "source": [
    "model.x_weights_"
   ]
  },
  {
   "cell_type": "code",
   "execution_count": 15,
   "metadata": {},
   "outputs": [
    {
     "data": {
      "text/plain": [
       "array([[ 0.09381422],\n",
       "       [ 0.01737908],\n",
       "       [ 0.59791032],\n",
       "       [ 0.13438696],\n",
       "       [ 0.00802706],\n",
       "       [ 0.77580919],\n",
       "       [ 0.08062372],\n",
       "       [-0.03558635],\n",
       "       [-0.0427291 ],\n",
       "       [ 0.1400372 ]])"
      ]
     },
     "execution_count": 15,
     "metadata": {},
     "output_type": "execute_result"
    }
   ],
   "source": [
    "model.x_loadings_"
   ]
  },
  {
   "cell_type": "code",
   "execution_count": null,
   "metadata": {},
   "outputs": [],
   "source": []
  },
  {
   "cell_type": "code",
   "execution_count": null,
   "metadata": {},
   "outputs": [],
   "source": []
  }
 ],
 "metadata": {
  "kernelspec": {
   "display_name": "play",
   "language": "python",
   "name": "python3"
  },
  "language_info": {
   "codemirror_mode": {
    "name": "ipython",
    "version": 3
   },
   "file_extension": ".py",
   "mimetype": "text/x-python",
   "name": "python",
   "nbconvert_exporter": "python",
   "pygments_lexer": "ipython3",
   "version": "3.10.13"
  }
 },
 "nbformat": 4,
 "nbformat_minor": 2
}
